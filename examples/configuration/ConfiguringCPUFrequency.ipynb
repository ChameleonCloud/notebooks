{
 "cells": [
  {
   "cell_type": "markdown",
   "source": [
    "# Configuring CPU frequency scaling\n",
    "\n",
    "This Notebook demonstrates how to set [CPU frequency](https://wiki.archlinux.org/index.php/CPU_frequency_scaling#Setting_maximum_and_minimum_frequencies) manually. This also illustrates how you can adjust kernel boot parameters to enable/disable certain non-default features of the underlying Linux kernel within your disk image."
   ],
   "metadata": {}
  },
  {
   "cell_type": "markdown",
   "source": [
    "## Variables used in this notebook"
   ],
   "metadata": {}
  },
  {
   "cell_type": "code",
   "execution_count": null,
   "source": [
    "OS_PROJECT_NAME=\"$OS_PROJECT_NAME\"\n",
    "OS_REGION_NAME=\"$OS_REGION_NAME\"\n",
    "NODE_TYPE=compute_skylake\n",
    "IMAGE=CC-CentOS7\n",
    "\n",
    "# A unique name for most provisioned resources to avoid collisions\n",
    "RESOURCE_NAME=\"${USER}-cpufreq-$(date +%b%d)\""
   ],
   "outputs": [],
   "metadata": {}
  },
  {
   "cell_type": "markdown",
   "source": [
    "## Reserve resources\n",
    "\n",
    "The following script will create a reservation for one node of type `$NODE_TYPE`, plus a public IP address."
   ],
   "metadata": {}
  },
  {
   "cell_type": "code",
   "execution_count": null,
   "source": [
    "lease_name=\"$RESOURCE_NAME\"\n",
    "network_name=\"$RESOURCE_NAME\"\n",
    "public_network_id=$(openstack network show public -f value -c id)\n",
    "\n",
    "blazar lease-create \\\n",
    "  --physical-reservation min=1,max=1,resource_properties=\"[\\\"=\\\", \\\"\\$node_type\\\", \\\"$NODE_TYPE\\\"]\" \\\n",
    "  --reservation resource_type=virtual:floatingip,network_id=\"$public_network_id\",amount=1 \\\n",
    "  --start-date \"$(date +'%Y-%m-%d %H:%M')\" \\\n",
    "  --end-date \"$(date +'%Y-%m-%d %H:%M' -d'+1 day')\" \\\n",
    "  \"$lease_name\"\n",
    "\n",
    "# Wait for lease to start\n",
    "timeout 300 bash -c 'until [[ $(blazar lease-show $0 -f value -c status) == \"ACTIVE\" ]]; do sleep 1; done' \"$lease_name\" \\\n",
    "    && echo \"Lease started successfully!\"\n",
    "\n",
    "#\n",
    "# Fetch information about which resources were reserved for later use\n",
    "#\n",
    "\n",
    "reservations=$(blazar lease-show \"$lease_name\" -f json \\\n",
    "  | jq -r '.reservations')\n",
    "host_reservation_id=$(jq -rs 'map(select(.resource_type==\"physical:host\"))[].id' <<<\"$reservations\")\n",
    "fip_reservation_id=$(jq -rs 'map(select(.resource_type==\"virtual:floatingip\"))[].id' <<<\"$reservations\")\n",
    "\n",
    "fip=$(openstack floating ip list --tags \"reservation:$fip_reservation_id\" -f json)\n",
    "fip_id=$(jq -r 'map(.ID)[0]' <<<\"$fip\")\n",
    "fip_addr=$(jq -r 'map(.[\"Floating IP Address\"])[0]' <<<\"$fip\")"
   ],
   "outputs": [],
   "metadata": {}
  },
  {
   "cell_type": "markdown",
   "source": [
    "### Provision resources"
   ],
   "metadata": {}
  },
  {
   "cell_type": "code",
   "execution_count": null,
   "source": [
    "key_pair_upload\n",
    "\n",
    "# Create the server instance\n",
    "openstack server create --wait \\\n",
    " --flavor baremetal \\\n",
    " --image \"$IMAGE\" \\\n",
    " --hint reservation=\"$host_reservation_id\" \\\n",
    " --nic net-id=$(openstack network show sharednet1 -f value -c id) \\\n",
    " --key-name \"$USER-jupyter\" \\\n",
    " \"$RESOURCE_NAME\"\n",
    " \n",
    "# Assign a public IP\n",
    "openstack server add floating ip \"$RESOURCE_NAME\" \"$fip_addr\"\n",
    "\n",
    "# Wait for public IP connectivity\n",
    "wait_ssh \"$fip_addr\"\n",
    "\n",
    "# Create a helper function to run commands remotely\n",
    "server() {\n",
    "  quoted=\"$(printf \"%q \" \"$@\")\"\n",
    "  ssh cc@\"$fip_addr\" bash -c \"'$quoted'\"\n",
    "}\n",
    "export -f server"
   ],
   "outputs": [],
   "metadata": {}
  },
  {
   "cell_type": "markdown",
   "source": [
    "## Introduction to CPU frequency interface\n",
    "\n",
    "The [`cpupower`](https://wiki.archlinux.org/index.php/CPU_frequency_scaling#cpupower) binary can be used to influence the state of the CPU frequency scaling. Notice that by default the `driver` is set to `intel_pstate`."
   ],
   "metadata": {}
  },
  {
   "cell_type": "code",
   "execution_count": null,
   "source": [
    "# Get current (stock) CPU frequency configuration\n",
    "server cpupower frequency-info"
   ],
   "outputs": [],
   "metadata": {}
  },
  {
   "cell_type": "markdown",
   "source": [
    "This is actually a problem for us, because we want to set the CPU frequency to a fixed value defined by us. The `intel_pstate` driver only supports two [governors](https://www.kernel.org/doc/Documentation/cpu-freq/governors.txt): `performance` and `powersave`. In order to proceed, we need to update our kernel configuration to disable the `intel_pstate` driver. We can do this by [modifying the Grub2 configuration](https://chameleoncloud.readthedocs.io/en/latest/technical/baremetal.html#customizing-the-kernel)."
   ],
   "metadata": {}
  },
  {
   "cell_type": "code",
   "execution_count": null,
   "source": [
    "server sudo sed -i.bak 's/\\(GRUB_CMDLINE_LINUX_DEFAULT=.*\\)\"$/\\1 intel_pstate=disable\"/g' /etc/default/grub\n",
    "server sudo grub2-mkconfig -o /boot/grub2/grub.cfg"
   ],
   "outputs": [],
   "metadata": {}
  },
  {
   "cell_type": "markdown",
   "source": [
    "We now need to reboot the server for the kernel change to take effect."
   ],
   "metadata": {}
  },
  {
   "cell_type": "code",
   "execution_count": null,
   "source": [
    "openstack server reboot \"$RESOURCE_NAME\" --wait\n",
    "# Wait for boot to complete\n",
    "wait_ssh \"$fip_addr\""
   ],
   "outputs": [],
   "metadata": {}
  },
  {
   "cell_type": "markdown",
   "source": [
    "After a reboot, we should (hopefully) see that the driver has now defaulted to `acpi-cpufreq`. Notice also that the `userspace` governor is now available."
   ],
   "metadata": {}
  },
  {
   "cell_type": "code",
   "execution_count": null,
   "source": [
    "server cpupower frequency-info"
   ],
   "outputs": [],
   "metadata": {}
  },
  {
   "cell_type": "markdown",
   "source": [
    "## Set fixed CPU frequency\n",
    "\n",
    "First, enable the \"userspace\" governor, which allows us to specify a fixed value."
   ],
   "metadata": {}
  },
  {
   "cell_type": "code",
   "execution_count": null,
   "source": [
    "server sudo cpupower frequency-set -g userspace >/dev/null"
   ],
   "outputs": [],
   "metadata": {}
  },
  {
   "cell_type": "markdown",
   "source": [
    "Then, set the fixed value."
   ],
   "metadata": {}
  },
  {
   "cell_type": "code",
   "execution_count": null,
   "source": [
    "server sudo cpupower frequency-set -f \"2.10GHz\" >/dev/null\n",
    "server cpupower frequency-info"
   ],
   "outputs": [],
   "metadata": {}
  },
  {
   "cell_type": "markdown",
   "source": [
    "The CPU frequency has now been set to a fixed value. You can make further changes to the value using the `cpupower` tool."
   ],
   "metadata": {}
  },
  {
   "cell_type": "code",
   "execution_count": null,
   "source": [],
   "outputs": [],
   "metadata": {}
  }
 ],
 "metadata": {
  "kernelspec": {
   "display_name": "Bash",
   "language": "bash",
   "name": "bash"
  },
  "language_info": {
   "codemirror_mode": "shell",
   "file_extension": ".sh",
   "mimetype": "text/x-sh",
   "name": "bash"
  }
 },
 "nbformat": 4,
 "nbformat_minor": 4
}