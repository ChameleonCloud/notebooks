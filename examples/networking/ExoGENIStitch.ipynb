{
 "cells": [
  {
   "cell_type": "markdown",
   "metadata": {},
   "source": [
    "# Adding an ExoGENI Stitched VLAN to an Existing Network  \n",
    "\n",
    "## Overview:\n",
    "\n",
    "This tutorial will guide you through setting up a stitched a network to an ExoGENI slice. \n",
    "\n",
    "After completing this tutorial you should be able to:\n",
    "\n",
    "1. Stitch Chameleon networks to ExoGENI\n",
    "\n",
    "## Prerequisites:\n",
    "\n",
    "This tutorial assumes you have a Chameleon account and basic experience logging into and using Chameleon and basic use of Chameleon networks and isolated VLANs. \n",
    "\n",
    "Additional information:\n",
    "\n",
    "- Getting started tutorial: https://chameleoncloud.readthedocs.io/en/latest/getting-started/index.html\n",
    "- Networks and Isolated VLANs:  https://chameleoncloud.readthedocs.io/en/latest/technical/networks.html\n",
    "- Setting up the CLI: https://chameleoncloud.readthedocs.io/en/latest/technical/cli.html\n",
    "\n",
    "## Background:\n",
    "\n",
    "### Tutorial:\n",
    "\n",
    "#### Setup Environment:"
   ]
  },
  {
   "cell_type": "code",
   "execution_count": 2,
   "metadata": {},
   "outputs": [],
   "source": [
    "# Set up user's project (user's can be multiple ones, so there is no default currently)\n",
    "export OS_PROJECT_NAME='CH-816532'\n",
    "\n",
    "# Set region (again, no default currently)\n",
    "export OS_REGION_NAME='CHI@UC'\n",
    "\n",
    "# Set chameleon keypair name and path to the private ssh key\n",
    "export SSH_KEY_NAME=${USERNAME}-chameleon-jupyter\n",
    "export SSH_PRIVATE_KEY=${HOME}/work/${SSH_KEY_NAME}\n",
    "\n",
    "\n",
    "# Add Chameleon custom blazar client\n",
    "#sudo pip install -e git+https://github.com/ChameleonCloud/python-blazarclient.git@allocatable-vlans#egg=python-blazarclient\n"
   ]
  },
  {
   "cell_type": "markdown",
   "metadata": {},
   "source": [
    "#### Set/Find the Existing Network Attributes  "
   ]
  },
  {
   "cell_type": "code",
   "execution_count": 3,
   "metadata": {},
   "outputs": [
    {
     "name": "stdout",
     "output_type": "stream",
     "text": [
      "NEW_NETWORK_NAME: pruthNetworkEG1\n",
      "EXISTING_NETWORK_DESCRIPTION: OFController=192.5.87.108:6653,VSwitchName=pruthSwtich\n"
     ]
    }
   ],
   "source": [
    "# Set the existing network name. \n",
    "EXISTING_NETWORK_NAME=${USERNAME}\"Network\"\n",
    "\n",
    "# Set the additional VLAN's OpenStack network name\n",
    "NEW_NETWORK_NAME=${EXISTING_NETWORK_NAME}EG1\n",
    "\n",
    "# Set the additional VLAN's lease name \n",
    "NEW_NETWORK_LEASE_NAME=${NEW_NETWORK_NAME}-lease\n",
    "\n",
    "# Get existing network's description\n",
    "EXISTING_NETWORK_DESCRIPTION=`openstack network show  --format value -c description ${EXISTING_NETWORK_NAME}`\n",
    "\n",
    "echo NEW_NETWORK_NAME: $NEW_NETWORK_NAME\n",
    "echo EXISTING_NETWORK_DESCRIPTION: $EXISTING_NETWORK_DESCRIPTION"
   ]
  },
  {
   "cell_type": "markdown",
   "metadata": {},
   "source": [
    "#### Add the ExoGENI VLAN Switch"
   ]
  },
  {
   "cell_type": "code",
   "execution_count": 4,
   "metadata": {},
   "outputs": [
    {
     "name": "stdout",
     "output_type": "stream",
     "text": [
      "Creating network pruthNetworkEG1\n",
      "Matches: (None, 'resource_type', 'network,')\n",
      "ERROR: network,\n",
      "Finding Uplink VLAN\n",
      "Error while executing command: No Network found for pruthNetworkEG1\n",
      "Primary uplink VLAN and port ID:\n"
     ]
    }
   ],
   "source": [
    "echo Creating network ${NEW_NETWORK_NAME}\n",
    "blazar lease-create \\\n",
    "   --reservation resource_type=network, \\\n",
    "                 network_name=\"${NEW_NETWORK_NAME}\", \\\n",
    "                 network_description=\"${EXISTING_NETWORK_DESCRIPTION}\" \\\n",
    "                 --start-date \"2019-02-10 17:55\" \\\n",
    "                 --end-date \"2019-02-11 12:00\" \\\n",
    "   ${NEW_NETWORK_LEASE_NAME}\n",
    "\n",
    "# --start-date \"2019-02-10 17:50\" \\\n",
    "#   --end-date \"2019-02-11 12:00\" \\\n",
    "\n",
    "echo Finding Uplink VLAN\n",
    "NEW_UPLINK_VLAN=`openstack network show -c provider:segmentation_id -f value ${NEW_NETWORK_NAME}`\n",
    "echo Primary uplink VLAN and port ID: $NEW_UPLINK_VLAN "
   ]
  },
  {
   "cell_type": "markdown",
   "metadata": {},
   "source": [
    "#### Observe the controller log file \n",
    "\n",
    "You should see that a port was added with the ID of the primary uplink VLAN tag."
   ]
  },
  {
   "cell_type": "code",
   "execution_count": 19,
   "metadata": {},
   "outputs": [
    {
     "name": "stdout",
     "output_type": "stream",
     "text": [
      "Warning: Permanently added '192.5.87.105' (ECDSA) to the list of known hosts.\n",
      "loading app /opt/ryu/simple_switch_13_custom_chameleon.py\n",
      "loading app ryu.controller.ofp_handler\n",
      "instantiating app /opt/ryu/simple_switch_13_custom_chameleon.py of SimpleSwitch13\n",
      "instantiating app ryu.controller.ofp_handler of OFPHandler\n",
      "port added 3128\n"
     ]
    }
   ],
   "source": [
    "CONTROLLER_PUBLIC_IP=`openstack server show --format value -c addresses ${OPENFLOW_CONTROLLER_NODE_NAME} | cut -d \" \" -f 2`\n",
    "\n",
    "ssh -i ${SSH_PRIVATE_KEY} \\\n",
    "    -o UserKnownHostsFile=/dev/null \\\n",
    "    -o StrictHostKeyChecking=no \\\n",
    "    cc@${CONTROLLER_PUBLIC_IP} \\\n",
    "    tail -n 20 /var/log/ryu/ryu-manager.log \n"
   ]
  },
  {
   "cell_type": "markdown",
   "metadata": {},
   "source": [
    "#### Add a subnet and router to the network"
   ]
  },
  {
   "cell_type": "code",
   "execution_count": 20,
   "metadata": {},
   "outputs": [
    {
     "name": "stdout",
     "output_type": "stream",
     "text": [
      "Creating Subnet\n",
      "+-------------------+----------------------------------------------------------+\n",
      "| Field             | Value                                                    |\n",
      "+-------------------+----------------------------------------------------------+\n",
      "| allocation_pools  | 192.168.100.2-192.168.100.254                            |\n",
      "| cidr              | 192.168.100.0/24                                         |\n",
      "| created_at        | 2019-02-10T16:39:26Z                                     |\n",
      "| description       |                                                          |\n",
      "| dns_nameservers   |                                                          |\n",
      "| enable_dhcp       | True                                                     |\n",
      "| gateway_ip        | 192.168.100.1                                            |\n",
      "| host_routes       |                                                          |\n",
      "| id                | 997da530-02bd-4e7b-adec-edebf7c00f97                     |\n",
      "| ip_version        | 4                                                        |\n",
      "| ipv6_address_mode | None                                                     |\n",
      "| ipv6_ra_mode      | None                                                     |\n",
      "| location          | Munch({'cloud': '', 'region_name': 'CHI@UC', 'zone':     |\n",
      "|                   | None, 'project': Munch({'id':                            |\n",
      "|                   | 'd9faac3973a847f1b718fa765fe312e2', 'name': 'CH-816532', |\n",
      "|                   | 'domain_id': None, 'domain_name': 'default'})})          |\n",
      "| name              | pruthSubnet                                              |\n",
      "| network_id        | ad1d8411-c067-45b5-a5a9-5a6288e76432                     |\n",
      "| prefix_length     | None                                                     |\n",
      "| project_id        | d9faac3973a847f1b718fa765fe312e2                         |\n",
      "| revision_number   | 2                                                        |\n",
      "| segment_id        | None                                                     |\n",
      "| service_types     |                                                          |\n",
      "| subnetpool_id     | None                                                     |\n",
      "| tags              |                                                          |\n",
      "| updated_at        | 2019-02-10T16:39:26Z                                     |\n",
      "+-------------------+----------------------------------------------------------+\n",
      "Creating Router\n",
      "+-------------------------+----------------------------------------------------+\n",
      "| Field                   | Value                                              |\n",
      "+-------------------------+----------------------------------------------------+\n",
      "| admin_state_up          | UP                                                 |\n",
      "| availability_zone_hints |                                                    |\n",
      "| availability_zones      |                                                    |\n",
      "| created_at              | 2019-02-10T16:39:30Z                               |\n",
      "| description             |                                                    |\n",
      "| distributed             | None                                               |\n",
      "| external_gateway_info   | None                                               |\n",
      "| flavor_id               | None                                               |\n",
      "| ha                      | None                                               |\n",
      "| id                      | 990645c7-9006-46a8-b628-4e4aef1e2bd5               |\n",
      "| location                | Munch({'cloud': '', 'region_name': 'CHI@UC',       |\n",
      "|                         | 'zone': None, 'project': Munch({'id':              |\n",
      "|                         | 'd9faac3973a847f1b718fa765fe312e2', 'name':        |\n",
      "|                         | 'CH-816532', 'domain_id': None, 'domain_name':     |\n",
      "|                         | 'default'})})                                      |\n",
      "| name                    | pruthRouter                                        |\n",
      "| project_id              | d9faac3973a847f1b718fa765fe312e2                   |\n",
      "| revision_number         | 5                                                  |\n",
      "| routes                  |                                                    |\n",
      "| status                  | ACTIVE                                             |\n",
      "| tags                    |                                                    |\n",
      "| updated_at              | 2019-02-10T16:39:30Z                               |\n",
      "+-------------------------+----------------------------------------------------+\n",
      "Linking router to subnet\n",
      "Linking router to external gateway\n",
      "Network pruthNetwork is ready for nodes!\n"
     ]
    }
   ],
   "source": [
    "echo Creating Subnet\n",
    "openstack subnet create --max-width 80 \\\n",
    "                        --subnet-range ${OPENFLOW_NETWORK_SUBNET_CIDR} \\\n",
    "                        --dhcp \\\n",
    "                        --network ${OPENFLOW_NETWORK_NAME} \\\n",
    "                        ${OPENFLOW_SUBNET_NAME}\n",
    "                        \n",
    "echo Creating Router\n",
    "openstack router create --max-width 80 ${OPENFLOW_ROUTER_NAME}\n",
    "\n",
    "echo Linking router to subnet\n",
    "openstack router add subnet ${OPENFLOW_ROUTER_NAME} ${OPENFLOW_SUBNET_NAME}\n",
    "\n",
    "echo Linking router to external gateway\n",
    "openstack router set --external-gateway public ${OPENFLOW_ROUTER_NAME}\n",
    "\n",
    "echo Network ${OPENFLOW_NETWORK_NAME} is ready for nodes!"
   ]
  },
  {
   "cell_type": "markdown",
   "metadata": {},
   "source": [
    "#### Launch servers connected to the new network\n",
    "\n",
    "At this point your OpenFlow network is ready for compute nodes. You can add nodes using the CLI commands below or by any other method you are comfortable with. "
   ]
  },
  {
   "cell_type": "code",
   "execution_count": null,
   "metadata": {},
   "outputs": [
    {
     "name": "stdout",
     "output_type": "stream",
     "text": [
      "Creating servers... This will take several minutes!\n"
     ]
    }
   ],
   "source": [
    "echo Creating servers... This will take several minutes! \n",
    "openstack server create --flavor \"baremetal\" \\\n",
    "                        --image \"CC-CentOS7\" \\\n",
    "                        --key-name ${SSH_KEY_NAME} \\\n",
    "                        --hint reservation=${NODE_RESERVATION_ID} \\\n",
    "                        --security-group default  \\\n",
    "                        --nic net-id=${OPENFLOW_NETWORK_NAME} \\\n",
    "                        --min 2 \\\n",
    "                        --max 2 \\\n",
    "                        --wait \\\n",
    "                        ${USERNAME}-node\n",
    "\n",
    "echo Server creation complete! \n",
    "echo ${USERNAME}-node-1 is `openstack server show --format value -c status ${USERNAME}-node-1`\n",
    "echo ${USERNAME}-node-2 is `openstack server show --format value -c status ${USERNAME}-node-2`"
   ]
  },
  {
   "cell_type": "markdown",
   "metadata": {},
   "source": [
    "### Experiment with you new OpenFlow controller and switch\n",
    "\n",
    "Check the controller log to see when the nodes of added to the swtich. \n",
    "\n",
    "Add public IPs, login to the nodes, ping, eachother, etc..  While experimenting with the nodes, continue to  watch the controller log and see all the packet_in calls."
   ]
  },
  {
   "cell_type": "markdown",
   "metadata": {},
   "source": [
    "NOTE ABOUT DESIGNING THE TUTORIAL\":  From here we should have the tutorial do something in the nodes.  Maybe have them edit the controller to do something interesting"
   ]
  },
  {
   "cell_type": "markdown",
   "metadata": {},
   "source": [
    "# Please Cleanup Your Resources!!!\n",
    "\n",
    "Delete your nodes.\n",
    "\n",
    "If you added more nodes outside of this notebook you will need to delete them as well.  You will not beable to delete the network if there are nodes still attached to it."
   ]
  },
  {
   "cell_type": "code",
   "execution_count": null,
   "metadata": {},
   "outputs": [],
   "source": [
    "echo Deleting servers ${USERNAME}-node-1 and ${USERNAME}-node-2\n",
    "openstack server delete --wait ${USERNAME}-node-1 ${USERNAME}-node-2\n",
    "\n",
    "echo Servers deleted!"
   ]
  },
  {
   "cell_type": "markdown",
   "metadata": {},
   "source": [
    "Unlink and delete all pieces of the OpenFlow network."
   ]
  },
  {
   "cell_type": "code",
   "execution_count": null,
   "metadata": {},
   "outputs": [],
   "source": [
    "echo Unlinking router from gateway\n",
    "openstack router unset --external-gateway ${OPENFLOW_ROUTER_NAME}\n",
    "\n",
    "echo Unlinking router from subnet\n",
    "openstack router remove subnet ${OPENFLOW_ROUTER_NAME} ${OPENFLOW_SUBNET_NAME}\n",
    "\n",
    "echo Deleting router\n",
    "openstack router delete ${OPENFLOW_ROUTER_NAME}\n",
    "\n",
    "echo Deleting network\n",
    "openstack network delete ${OPENFLOW_NETWORK_NAME}\n",
    "\n",
    "echo All routers, subnets, and networks are deleted!"
   ]
  },
  {
   "cell_type": "markdown",
   "metadata": {},
   "source": [
    "Delete your OpenFlow controller and stack"
   ]
  },
  {
   "cell_type": "code",
   "execution_count": null,
   "metadata": {},
   "outputs": [],
   "source": [
    "echo Deleting stack ${OPENFLOW_CONTROLLER_STACK_NAME}\n",
    "openstack stack delete -y --wait ${OPENFLOW_CONTROLLER_STACK_NAME}\n",
    "echo Stack ${OPENFLOW_CONTROLLER_STACK_NAME} deleted"
   ]
  }
 ],
 "metadata": {
  "kernelspec": {
   "display_name": "Bash",
   "language": "bash",
   "name": "bash"
  },
  "language_info": {
   "codemirror_mode": "shell",
   "file_extension": ".sh",
   "mimetype": "text/x-sh",
   "name": "bash"
  }
 },
 "nbformat": 4,
 "nbformat_minor": 2
}
