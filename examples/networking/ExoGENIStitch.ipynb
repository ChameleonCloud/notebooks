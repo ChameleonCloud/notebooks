{
 "cells": [
  {
   "cell_type": "markdown",
   "metadata": {},
   "source": [
    "# Adding an ExoGENI Stitched VLAN to an Existing Network  \n",
    "\n",
    "## Overview:\n",
    "\n",
    "This tutorial will guide you through setting up a stitched a network to an ExoGENI slice. \n",
    "\n",
    "After completing this tutorial you should be able to:\n",
    "\n",
    "1. Stitch Chameleon networks to ExoGENI\n",
    "\n",
    "## Prerequisites:\n",
    "\n",
    "This tutorial assumes you have a Chameleon account and basic experience logging into and using Chameleon and basic use of Chameleon networks and isolated VLANs. \n",
    "\n",
    "Additional information:\n",
    "\n",
    "- Getting started tutorial: https://chameleoncloud.readthedocs.io/en/latest/getting-started/index.html\n",
    "- Networks and Isolated VLANs:  https://chameleoncloud.readthedocs.io/en/latest/technical/networks.html\n",
    "- Setting up the CLI: https://chameleoncloud.readthedocs.io/en/latest/technical/cli.html\n",
    "\n",
    "## Background:\n",
    "\n",
    "### Tutorial:\n",
    "\n",
    "#### Setup Environment:"
   ]
  },
  {
   "cell_type": "code",
   "execution_count": 15,
   "metadata": {},
   "outputs": [],
   "source": [
    "# Set up user's project (user's can be multiple ones, so there is no default currently)\n",
    "export OS_PROJECT_NAME='CH-816532'\n",
    "\n",
    "# Set region (again, no default currently)\n",
    "export OS_REGION_NAME='CHI@UC'\n",
    "\n",
    "# Set chameleon keypair name and path to the private ssh key\n",
    "export SSH_KEY_NAME=${USERNAME}-chameleon-jupyter\n",
    "export SSH_PRIVATE_KEY=${HOME}/work/${SSH_KEY_NAME}\n",
    "\n",
    "\n",
    "# Add Chameleon custom blazar client\n",
    "#sudo pip install -e git+https://github.com/ChameleonCloud/python-blazarclient.git@allocatable-vlans#egg=python-blazarclient\n"
   ]
  },
  {
   "cell_type": "markdown",
   "metadata": {},
   "source": [
    "#### Set/Find the Existing Network Attributes  "
   ]
  },
  {
   "cell_type": "code",
   "execution_count": 16,
   "metadata": {},
   "outputs": [
    {
     "name": "stdout",
     "output_type": "stream",
     "text": [
      "NEW_NETWORK_NAME: pruthNetworkEG1\n",
      "EXISTING_NETWORK_DESCRIPTION: OFController=192.5.87.113:6653,VSwitchName=pruthSwitch\n"
     ]
    }
   ],
   "source": [
    "# Set the existing network name. \n",
    "EXISTING_NETWORK_NAME=${USERNAME}\"Network\"\n",
    "\n",
    "# Set the additional VLAN's OpenStack network name\n",
    "NEW_NETWORK_NAME=${EXISTING_NETWORK_NAME}EG1\n",
    "\n",
    "# Set the additional VLAN's lease name \n",
    "NEW_NETWORK_LEASE_NAME=${NEW_NETWORK_NAME}-lease\n",
    "\n",
    "# Get existing network's description\n",
    "EXISTING_NETWORK_DESCRIPTION=`openstack network show  --format value -c description ${EXISTING_NETWORK_NAME}`\n",
    "\n",
    "echo NEW_NETWORK_NAME: $NEW_NETWORK_NAME\n",
    "echo EXISTING_NETWORK_DESCRIPTION: $EXISTING_NETWORK_DESCRIPTION"
   ]
  },
  {
   "cell_type": "markdown",
   "metadata": {},
   "source": [
    "#### Add the ExoGENI VLAN Switch"
   ]
  },
  {
   "cell_type": "code",
   "execution_count": 18,
   "metadata": {},
   "outputs": [
    {
     "name": "stdout",
     "output_type": "stream",
     "text": [
      "Creating network pruthNetworkEG1\n",
      "Matches: ('resource_type=network,network_name=pruthNetworkEG1', 'network_description', 'OFController=192.5.87.113:6653,VSwitchName=pruthSwitch')\n",
      "Matches: ('resource_type=network', 'network_name', 'pruthNetworkEG1')\n",
      "Matches: (None, 'resource_type', 'network')\n",
      "Created a new lease:\n",
      "+--------------+------------------------------------------------------------+\n",
      "| Field        | Value                                                      |\n",
      "+--------------+------------------------------------------------------------+\n",
      "| created_at   | 2019-02-11 16:41:33                                        |\n",
      "| degraded     | False                                                      |\n",
      "| end_date     | 2019-02-12T12:00:00.000000                                 |\n",
      "| events       | {                                                          |\n",
      "|              |     \"status\": \"UNDONE\",                                    |\n",
      "|              |     \"lease_id\": \"7e45d130-7a6b-470d-adbb-07d5bdac926b\",    |\n",
      "|              |     \"event_type\": \"start_lease\",                           |\n",
      "|              |     \"created_at\": \"2019-02-11 16:41:33\",                   |\n",
      "|              |     \"updated_at\": null,                                    |\n",
      "|              |     \"time\": \"2019-02-11T16:43:00.000000\",                  |\n",
      "|              |     \"id\": \"6b9b828c-ca2c-491e-9552-ccc2ab779916\"           |\n",
      "|              | }                                                          |\n",
      "|              | {                                                          |\n",
      "|              |     \"status\": \"UNDONE\",                                    |\n",
      "|              |     \"lease_id\": \"7e45d130-7a6b-470d-adbb-07d5bdac926b\",    |\n",
      "|              |     \"event_type\": \"before_end_lease\",                      |\n",
      "|              |     \"created_at\": \"2019-02-11 16:41:33\",                   |\n",
      "|              |     \"updated_at\": null,                                    |\n",
      "|              |     \"time\": \"2019-02-11T16:43:00.000000\",                  |\n",
      "|              |     \"id\": \"8b987f9b-cae6-4c1d-8ddf-3393a52ba578\"           |\n",
      "|              | }                                                          |\n",
      "|              | {                                                          |\n",
      "|              |     \"status\": \"UNDONE\",                                    |\n",
      "|              |     \"lease_id\": \"7e45d130-7a6b-470d-adbb-07d5bdac926b\",    |\n",
      "|              |     \"event_type\": \"end_lease\",                             |\n",
      "|              |     \"created_at\": \"2019-02-11 16:41:33\",                   |\n",
      "|              |     \"updated_at\": null,                                    |\n",
      "|              |     \"time\": \"2019-02-12T12:00:00.000000\",                  |\n",
      "|              |     \"id\": \"8f5284e1-4ad8-4bff-afa7-4bd844c6fc04\"           |\n",
      "|              | }                                                          |\n",
      "| id           | 7e45d130-7a6b-470d-adbb-07d5bdac926b                       |\n",
      "| name         | pruthNetworkEG1-lease                                      |\n",
      "| project_id   | d9faac3973a847f1b718fa765fe312e2                           |\n",
      "| reservations | {                                                          |\n",
      "|              |     \"status\": \"pending\",                                   |\n",
      "|              |     \"lease_id\": \"7e45d130-7a6b-470d-adbb-07d5bdac926b\",    |\n",
      "|              |     \"resource_id\": \"854c21e4-6c0b-4331-977e-c80da223eb8c\", |\n",
      "|              |     \"created_at\": \"2019-02-11 16:41:33\",                   |\n",
      "|              |     \"updated_at\": \"2019-02-11 16:41:33\",                   |\n",
      "|              |     \"missing_resources\": false,                            |\n",
      "|              |     \"id\": \"10eaa16b-4548-463f-8cfa-7cc2c9ccfbde\",          |\n",
      "|              |     \"resource_type\": \"network\",                            |\n",
      "|              |     \"resources_changed\": false                             |\n",
      "|              | }                                                          |\n",
      "| start_date   | 2019-02-11T16:43:00.000000                                 |\n",
      "| status       | PENDING                                                    |\n",
      "| trust_id     | 2602b039e16d49808e9648ef9ebd3fe6                           |\n",
      "| updated_at   | 2019-02-11 16:41:33                                        |\n",
      "| user_id      | f3a422ce5a4442e3a7a247ddfd98bfc3                           |\n",
      "+--------------+------------------------------------------------------------+\n"
     ]
    }
   ],
   "source": [
    "echo Creating network ${NEW_NETWORK_NAME}\n",
    "blazar lease-create \\\n",
    "   --reservation resource_type=\"network\",network_name=\"${NEW_NETWORK_NAME}\",network_description=\"${EXISTING_NETWORK_DESCRIPTION}\" \\\n",
    "   --start-date \"2019-02-11 16:43\" \\\n",
    "   --end-date \"2019-02-12 12:00\" \\\n",
    "   ${NEW_NETWORK_LEASE_NAME}"
   ]
  },
  {
   "cell_type": "markdown",
   "metadata": {},
   "source": [
    "After the reservation has started you can get the new uplink vlan tag"
   ]
  },
  {
   "cell_type": "code",
   "execution_count": 19,
   "metadata": {},
   "outputs": [
    {
     "name": "stdout",
     "output_type": "stream",
     "text": [
      "Finding Uplink VLAN\n",
      "Error while executing command: No Network found for pruthNetworkEG1\n",
      "Primary uplink VLAN and port ID:\n"
     ]
    }
   ],
   "source": [
    "echo Finding Uplink VLAN\n",
    "NEW_UPLINK_VLAN=`openstack network show -c provider:segmentation_id -f value ${NEW_NETWORK_NAME}`\n",
    "echo Primary uplink VLAN and port ID: $NEW_UPLINK_VLAN "
   ]
  },
  {
   "cell_type": "markdown",
   "metadata": {},
   "source": [
    "# Please Cleanup Your Resources!!!\n",
    "\n",
    "Unlink and delete all pieces of the OpenFlow network."
   ]
  },
  {
   "cell_type": "code",
   "execution_count": 14,
   "metadata": {},
   "outputs": [
    {
     "name": "stdout",
     "output_type": "stream",
     "text": [
      "Deleting network pruthNetworkEG1\n",
      "There are more than one appropriate resources for the name 'pruthNetworkEG1-lease' and type 'lease'\n"
     ]
    },
    {
     "ename": "",
     "evalue": "1",
     "execution_count": 14,
     "output_type": "error",
     "traceback": []
    }
   ],
   "source": [
    "echo Deleting network ${NEW_NETWORK_NAME}\n",
    "blazar lease-delete ${NEW_NETWORK_LEASE_NAME}"
   ]
  },
  {
   "cell_type": "code",
   "execution_count": null,
   "metadata": {},
   "outputs": [],
   "source": []
  }
 ],
 "metadata": {
  "kernelspec": {
   "display_name": "Bash",
   "language": "bash",
   "name": "bash"
  },
  "language_info": {
   "codemirror_mode": "shell",
   "file_extension": ".sh",
   "mimetype": "text/x-sh",
   "name": "bash"
  }
 },
 "nbformat": 4,
 "nbformat_minor": 2
}
