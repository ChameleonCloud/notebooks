{
 "cells": [
  {
   "cell_type": "markdown",
   "metadata": {},
   "source": [
    "# Power Experiment Analysis\n",
    "\n",
    "This Notebook analyses the results obtained from the RunExperiment Notebook. It uses the pandas and matplot libraries to parse and visualize the data for display."
   ]
  },
  {
   "cell_type": "code",
   "execution_count": null,
   "metadata": {},
   "outputs": [],
   "source": [
    "import glob\n",
    "import pandas as pd\n",
    "import matplotlib.pyplot as plt\n",
    "import re\n",
    "\n",
    "fig = plt.figure(figsize=(12,4))\n",
    "power_plt = fig.add_subplot(1,2,1, title=\"Median power consumption for CPU utilization %\", \n",
    "                            ylabel=\"Power (W)\", xlabel=\"Time (s)\")\n",
    "energy_plt = fig.add_subplot(1,2,2, title=\"Median energy consumption for CPU utilization %\", \n",
    "                             ylabel=\"Energy (J)\", xlabel=\"Time (s)\")\n",
    "\n",
    "power_runs = {}\n",
    "energy_runs = {}\n",
    "\n",
    "def add_run(runs, label, data):\n",
    "    \"\"\"\n",
    "    Helper function for adding test run data under a given label.\n",
    "    Userful because it allows us to process multiple runs at once\n",
    "    (so we can take median etc. later)\n",
    "    \"\"\"\n",
    "    if label not in runs:\n",
    "        runs[label] = data\n",
    "    else:\n",
    "        runs[label] = pd.concat((runs[label], data))\n",
    "    \n",
    "def plot_runs(runs, plot):\n",
    "    \"\"\"\n",
    "    Helper function for plotting the median test data, since it\n",
    "    is basically the same graph for both measurements.\n",
    "    \"\"\"\n",
    "    for label in runs:\n",
    "        by_index = runs[label].groupby(runs[label].index)\n",
    "        plot.plot(by_index.median(), label=label)\n",
    "    plot.legend(loc='best')\n",
    "\n",
    "# Process all test runs\n",
    "for file in glob.glob(\"./out/run-*.out\"):\n",
    "    # Parse out which condition is which from filename\n",
    "    label = re.sub(r\"^.*-([a-z0-9]+)\\.out$\", r\"\\1\", file)\n",
    "    # Read table via pandas; parse into 3 columns\n",
    "    df = pd.read_csv(file, delim_whitespace=True, skiprows=2, names=['Time', 'Power [W]', 'Energy [J]'])\n",
    "    add_run(power_runs, label, df['Power [W]'])\n",
    "    add_run(energy_runs, label, df['Energy [J]'])\n",
    "    \n",
    "plot_runs(power_runs, power_plt)\n",
    "plot_runs(energy_runs, energy_plt)\n",
    "\n",
    "# Placeholder so no output other than plot is printed ;)\n",
    "pass"
   ]
  },
  {
   "cell_type": "code",
   "execution_count": null,
   "metadata": {},
   "outputs": [],
   "source": []
  }
 ],
 "metadata": {
  "kernelspec": {
   "display_name": "Python 3",
   "language": "python",
   "name": "python3"
  },
  "language_info": {
   "codemirror_mode": {
    "name": "ipython",
    "version": 3
   },
   "file_extension": ".py",
   "mimetype": "text/x-python",
   "name": "python",
   "nbconvert_exporter": "python",
   "pygments_lexer": "ipython3",
   "version": "3.7.3"
  }
 },
 "nbformat": 4,
 "nbformat_minor": 2
}
