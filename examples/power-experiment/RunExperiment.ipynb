{
 "cells": [
  {
   "cell_type": "markdown",
   "metadata": {},
   "source": [
    "# Power Experiment\n",
    "\n",
    "This experiment is to see how stressing a varying % of total CPUs on a node affects its power consumption.\n",
    "\n",
    "This Notebook performs the experiment, first initializing the environment of the remote server with any required packages. The script to actually run the experiment is located at `./run_experiment.sh`; this is only a runner.\n",
    "\n",
    "> **Note**: this should not be taken as an example of a _good_ experiment! There are a few methodological problems, namely that it always runs the CPU tests in the same order, which can bias the results.\n",
    "\n",
    "### Variables used in this example"
   ]
  },
  {
   "cell_type": "code",
   "execution_count": null,
   "metadata": {},
   "outputs": [],
   "source": [
    "FLOATING_IP=\"\" # Required"
   ]
  },
  {
   "cell_type": "markdown",
   "metadata": {},
   "source": [
    "## Set up experimental environment"
   ]
  },
  {
   "cell_type": "code",
   "execution_count": null,
   "metadata": {},
   "outputs": [],
   "source": [
    "# Run experiment setup; install packages etc. \n",
    "# This has been moved to an external script for cleanliness.\n",
    "wait_ssh \"$FLOATING_IP\" && ssh cc@\"$FLOATING_IP\" <setup.sh"
   ]
  },
  {
   "cell_type": "markdown",
   "metadata": {},
   "source": [
    "## Run the experiment\n",
    "\n",
    "This copies the experiment runner script to the server, then runs the experiment with some arguments we define. After the experiment completes, we download the data back to our Notebook server for analysis."
   ]
  },
  {
   "cell_type": "code",
   "execution_count": null,
   "metadata": {},
   "outputs": [],
   "source": [
    "# Ensure we always run the latest version of our script\n",
    "scp run_experiment.sh cc@\"$FLOATING_IP\":\n",
    "\n",
    "# Run the experiment\n",
    "ssh cc@\"$FLOATING_IP\" bash ./run_experiment.sh 10 0.5 5\n",
    "\n",
    "# Download + extract the latest results\n",
    "scp cc@\"$FLOATING_IP\":./out/latest.tar.gz latest.tar.gz \\\n",
    "  && tar -xf latest.tar.gz \\\n",
    "  && rm -f latest.tar.gz"
   ]
  },
  {
   "cell_type": "code",
   "execution_count": null,
   "metadata": {},
   "outputs": [],
   "source": []
  }
 ],
 "metadata": {
  "kernelspec": {
   "display_name": "Bash",
   "language": "bash",
   "name": "bash"
  },
  "language_info": {
   "codemirror_mode": "shell",
   "file_extension": ".sh",
   "mimetype": "text/x-sh",
   "name": "bash"
  }
 },
 "nbformat": 4,
 "nbformat_minor": 2
}
