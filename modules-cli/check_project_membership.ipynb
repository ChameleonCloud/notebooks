{
 "cells": [
  {
   "cell_type": "markdown",
   "metadata": {},
   "source": [
    "# Check and set your project membership\n",
    "\n",
    "- **Estimated time**: 1 minute\n",
    "- **Requirements**:\n",
    "  - None\n",
    "\n",
    "Run these commands to get projects that include you as a member and set one of them across all notebooks."
   ]
  },
  {
   "cell_type": "markdown",
   "metadata": {},
   "source": [
    "### List all projects"
   ]
  },
  {
   "cell_type": "code",
   "execution_count": 2,
   "metadata": {},
   "outputs": [
    {
     "name": "stdout",
     "output_type": "stream",
     "text": [
      "+----------------------------------+------------------+\n",
      "| ID                               | Name             |\n",
      "+----------------------------------+------------------+\n",
      "| 14eb22ff371243ed9f3096953df6c92a | CH-820096        |\n",
      "| 2df0c2e33ade4139b685d5c9dc2640f0 | Tutorials        |\n",
      "| 5f0b4b2dc12248c7bf7e2c8812ec4daa | CH-819993        |\n",
      "| 60dcb10e845d44f4820c240e80606998 | CH-818954        |\n",
      "| 76e40c74deb74d6b9681b03fd4e28e86 | FABRIC@Chameleon |\n",
      "| 962b36ac117d4d1189c62f9c7936a001 | CH-820687        |\n",
      "| 975c0a94b784483a885f4503f70af655 | Chameleon Ops    |\n",
      "| b1b46a5b1bc44ceebacd660fcd54683a | CH-820235        |\n",
      "| d9faac3973a847f1b718fa765fe312e2 | CH-816532        |\n",
      "| da74b16ab58343bfb29ad68e5247be1f | CH-820156        |\n",
      "| eccf0339bdeb4b3c8a8342fea1e872f4 | CH-817201        |\n",
      "+----------------------------------+------------------+\n"
     ]
    }
   ],
   "source": [
    "openstack project list"
   ]
  },
  {
   "cell_type": "markdown",
   "metadata": {},
   "source": [
    "### Automatically pick the \"first\" project listed and set for all shared environment notebooks. "
   ]
  },
  {
   "cell_type": "code",
   "execution_count": 1,
   "metadata": {},
   "outputs": [
    {
     "name": "stdout",
     "output_type": "stream",
     "text": [
      "Successfully authenticated to project CH-820096\n"
     ]
    }
   ],
   "source": [
    "if [[ \"${OS_PROJECT_NAME:+x}\" != \"x\" ]]; then\n",
    "  echo \"No project could automatically be detected. Overriding in Notebook.\"\n",
    "  # For example...\n",
    "  setvar OS_PROJECT_NAME 'CH-000000'\n",
    "fi\n",
    "\n",
    "# Test that you can authenticate\n",
    "openstack token issue >/dev/null && echo \"Successfully authenticated to project $OS_PROJECT_NAME\""
   ]
  },
  {
   "cell_type": "markdown",
   "metadata": {},
   "source": [
    "### ALTERNATIVLY: Manyally set a specific project "
   ]
  },
  {
   "cell_type": "code",
   "execution_count": null,
   "metadata": {},
   "outputs": [],
   "source": [
    "#Cut/paste a project name to the line below\n",
    "setvar OS_PROJECT_NAME 'CH-XXXXXXX'"
   ]
  },
  {
   "cell_type": "code",
   "execution_count": null,
   "metadata": {},
   "outputs": [],
   "source": []
  }
 ],
 "metadata": {
  "kernelspec": {
   "display_name": "Bash",
   "language": "bash",
   "name": "bash"
  },
  "language_info": {
   "codemirror_mode": "shell",
   "file_extension": ".sh",
   "mimetype": "text/x-sh",
   "name": "bash"
  }
 },
 "nbformat": 4,
 "nbformat_minor": 4
}
