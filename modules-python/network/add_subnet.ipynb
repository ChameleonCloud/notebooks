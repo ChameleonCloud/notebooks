{
 "cells": [
  {
   "cell_type": "markdown",
   "metadata": {},
   "source": [
    "## Python Module: Add a Subnet to a Network\n",
    "\n",
    "This notebook demonstrates how to use the OpenStack python API to add a subnet to a network. \n",
    "\n",
    "The method below is included can be used in any notebook by importing the chi library using \"import chi\". \n",
    "\n",
    "#### Related Modules\n",
    "\n",
    "- [Delete Subnet](./delete_subnet.ipynb)\n",
    "- [Get Subnet by Name](./get_subnet_by_name.ipynb)\n",
    "- [Get Network by Name](./get_network_by_name.ipynb)\n",
    "- [Create Network](./create_network.ipynb)\n",
    "\n",
    "#### Arguments\n",
    "\n",
    "Most networks will only requrie one argument which names the network:\n",
    "\n",
    "- network_name: The desired name for the new network\n",
    "\n",
    "OpenFlow, stitched, and multi-vlan networks require additional arguments: \n",
    "\n",
    "- of_controller_ip (optional): OpenFlow controller IP. Only required for OpenFlow networks.\n",
    "- of_controller_port (optional): OpenFlow controller network port. Only required for OpenFlow networks.\n",
    "- vswitch_name (optional): The name of the vswtich to attach additional VLANs to the a single swtich.\n",
    "- provider (optional): OpenStack provider network. Defaults to 'physnet1', stitched networks need to specifiy the appopriate stitching provider.\n",
    "\n",
    "#### OpenStack API Method "
   ]
  },
  {
   "cell_type": "code",
   "execution_count": null,
   "metadata": {},
   "outputs": [],
   "source": [
    "import json\n",
    "import os\n",
    "import chi\n",
    "\n",
    "neutron = chi.neutron()\n",
    "    \n",
    "def add_subnet(subnet_name, network_name, cidr='192.168.1.0/24'):\n",
    "    network=get_network_by_name(name=network_name)\n",
    "    network_id=network['id']\n",
    "\n",
    "    #Add Subnet\n",
    "    body_create_subnet = {'subnets': [{'cidr': cidr,\n",
    "                                       'ip_version': 4, \n",
    "                                       'network_id': network_id,\n",
    "                                       'name': subnet_name,\n",
    "                                      }]\n",
    "                          }\n",
    "    subnets = neutron.create_subnet(body=body_create_subnet)\n",
    "    \n",
    "    subnet = get_subnet_by_name(subnet_name)\n",
    "    return subnet\n",
    "\n",
    "def get_network_by_name(name):\n",
    "    nets = neutron.list_networks()['networks']\n",
    "    for net in nets:\n",
    "        if net['name'] == name:\n",
    "            return net\n",
    "    raise RuntimeError(\"couldn't find net with name '{}'\".format(name))\n",
    "    \n",
    "def get_subnet_by_name(name):\n",
    "    subnet=None\n",
    "    for s in neutron.list_subnets()['subnets']:\n",
    "        if s['name'] == name:\n",
    "            if subnet != None:\n",
    "                print(\"Found multiple subnets with name \" + str(name))\n",
    "                return\n",
    "            subnet = s\n",
    "    \n",
    "    return subnet\n",
    "\n"
   ]
  },
  {
   "cell_type": "markdown",
   "metadata": {},
   "source": [
    "#### Example"
   ]
  },
  {
   "cell_type": "code",
   "execution_count": null,
   "metadata": {},
   "outputs": [],
   "source": [
    "import chi\n",
    "\n",
    "#Config with your project and site\n",
    "chi.set('project_name', 'CH-816532') # Replace with your project name\n",
    "chi.set('region_name', 'CHI@UC')     # Optional, defaults to 'CHI@UC'\n",
    "\n",
    "# Get your username to uniquely label your resources and reservations\n",
    "username = os.getenv(\"USER\")\n",
    "\n",
    "#Set the network name to \"<username>Network1\" \n",
    "network_name = username+'Network1'\n",
    "subnet_name = username+'Subnet1'\n",
    "\n",
    "#Get a network by name\n",
    "subnet = add_subnet(subnet_name, network_name, cidr='192.168.100.0/24')\n",
    "    \n",
    "#Print the network info\n",
    "print(json.dumps(subnet, indent=2))\n",
    "\n",
    "#Get the network's ID\n",
    "subnet_id = subnet['id']\n",
    "print('Subnet ID: ' + subnet_id)\n"
   ]
  },
  {
   "cell_type": "code",
   "execution_count": null,
   "metadata": {},
   "outputs": [],
   "source": []
  }
 ],
 "metadata": {
  "kernelspec": {
   "display_name": "Python 3",
   "language": "python",
   "name": "python3"
  },
  "language_info": {
   "codemirror_mode": {
    "name": "ipython",
    "version": 3
   },
   "file_extension": ".py",
   "mimetype": "text/x-python",
   "name": "python",
   "nbconvert_exporter": "python",
   "pygments_lexer": "ipython3",
   "version": "3.7.3"
  }
 },
 "nbformat": 4,
 "nbformat_minor": 4
}
