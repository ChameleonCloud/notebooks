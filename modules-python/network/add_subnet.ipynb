{
 "cells": [
  {
   "cell_type": "markdown",
   "metadata": {},
   "source": [
    "## Python Module: Add a Subnet to a Network\n",
    "\n",
    "This notebook demonstrates how to use the OpenStack python API to add a subnet to a network. \n",
    "\n",
    "#### Related Modules\n",
    "\n",
    "- [Delete Subnet](../../modules-python/network/delete_subnet.ipynb)\n",
    "- [Get Subnet by Name](../../modules-python/network/get_subnet_by_name.ipynb)\n",
    "- [Get Network by Name](../../modules-python/network/get_network_by_name.ipynb)\n",
    "- [Create Network](../../modules-python/network/create_network.ipynb)\n",
    "\n",
    "#### Import Library\n",
    "\n",
    "```\n",
    "import chi\n",
    "from chi.networking_api_examples import *\n",
    "```\n",
    "\n",
    "#### Arguments\n",
    "\n",
    "Required:\n",
    "\n",
    "- subnet_name: The name to be used for the new subnet. \n",
    "- network_name: The name of the exsiting network to which the new subnet will be added.\n",
    "\n",
    "Optional:\n",
    "\n",
    "- cidr: The IP subnet to be used in cidr notation. Default: '192.168.1.0/24'\n",
    "\n",
    "#### OpenStack API Method "
   ]
  },
  {
   "cell_type": "code",
   "execution_count": 2,
   "metadata": {},
   "outputs": [],
   "source": [
    "import json\n",
    "import os\n",
    "import chi\n",
    "    \n",
    "def add_subnet(subnet_name, network_name, cidr='192.168.1.0/24'):\n",
    "    network=get_network_by_name(name=network_name)\n",
    "    network_id=network['id']\n",
    "\n",
    "    #Add Subnet\n",
    "    body_create_subnet = {'subnets': [{'cidr': cidr,\n",
    "                                       'ip_version': 4, \n",
    "                                       'network_id': network_id,\n",
    "                                       'name': subnet_name,\n",
    "                                      }]\n",
    "                          }\n",
    "    subnet = chi.neutron().create_subnet(body=body_create_subnet)\n",
    "    return subnet\n",
    "\n",
    "def get_network_by_name(name):\n",
    "    network=None\n",
    "    for n in chi.neutron().list_networks()['networks']:\n",
    "        if n['name'] == name:\n",
    "            if network != None:\n",
    "                raise RuntimeError('Found multiple networks with name ' + str(name))\n",
    "            network = n\n",
    "            \n",
    "    if network == None:\n",
    "        raise RuntimeError('Network not found. name: ' + str(name))\n",
    "        \n",
    "    return network\n",
    "    "
   ]
  },
  {
   "cell_type": "markdown",
   "metadata": {},
   "source": [
    "#### Example"
   ]
  },
  {
   "cell_type": "code",
   "execution_count": null,
   "metadata": {},
   "outputs": [],
   "source": [
    "import chi\n",
    "from chi.networking_api_examples import *\n",
    "\n",
    "#Config with your project and site\n",
    "chi.set('project_name', 'CH-XXXXXX') # Replace with your project name\n",
    "chi.set('region_name', 'CHI@UC')     # Optional, defaults to 'CHI@UC'\n",
    "\n",
    "#Get a network by name\n",
    "subnet = add_subnet(\"myNewSubnetName\", \"MyExistingNetworkName\", cidr='192.168.100.0/24')\n",
    "    \n",
    "#Print the network info\n",
    "print(json.dumps(subnet, indent=2))\n",
    "\n",
    "#Get the network's ID\n",
    "subnet_id = subnet['id']\n",
    "print('Subnet ID: ' + subnet_id)\n"
   ]
  },
  {
   "cell_type": "code",
   "execution_count": null,
   "metadata": {},
   "outputs": [],
   "source": []
  }
 ],
 "metadata": {
  "kernelspec": {
   "display_name": "Python 3",
   "language": "python",
   "name": "python3"
  },
  "language_info": {
   "codemirror_mode": {
    "name": "ipython",
    "version": 3
   },
   "file_extension": ".py",
   "mimetype": "text/x-python",
   "name": "python",
   "nbconvert_exporter": "python",
   "pygments_lexer": "ipython3",
   "version": "3.7.3"
  }
 },
 "nbformat": 4,
 "nbformat_minor": 4
}
