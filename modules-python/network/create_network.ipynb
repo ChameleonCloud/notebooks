{
 "cells": [
  {
   "cell_type": "markdown",
   "metadata": {},
   "source": [
    "## Python Module: Create an Isloated VLAN Network\n",
    "\n",
    "This notebook demonstrates how to use the OpenStack python API to create an isolated network using a VLAN. \n",
    "\n",
    "The method below is included can be used in any notebook by importing the chi library using \"import chi\". \n",
    "\n",
    "#### Related Modules\n",
    "\n",
    "- [Delete Network](./delete_network.ipynb)\n",
    "\n",
    "\n",
    "#### Arguments\n",
    "\n",
    "Most networks will only requrie one argument which names the network:\n",
    "\n",
    "- network_name: The desired name for the new network\n",
    "\n",
    "OpenFlow, stitched, and multi-vlan networks require additional arguments: \n",
    "\n",
    "- of_controller_ip (optional): OpenFlow controller IP. Only required for OpenFlow networks.\n",
    "- of_controller_port (optional): OpenFlow controller network port. Only required for OpenFlow networks.\n",
    "- vswitch_name (optional): The name of the vswtich to attach additional VLANs to the a single swtich.\n",
    "- provider (optional): OpenStack provider network. Defaults to 'physnet1', stitched networks need to specifiy the appopriate stitching provider.\n",
    "\n",
    "#### OpenStack API Method"
   ]
  },
  {
   "cell_type": "code",
   "execution_count": 13,
   "metadata": {},
   "outputs": [],
   "source": [
    "import json\n",
    "import os\n",
    "import chi\n",
    "\n",
    "neutron = chi.neutron()\n",
    "    \n",
    "def create_network(network_name, of_controller_ip=None, of_controller_port=None, vswitch_name=None, provider='physnet1'):\n",
    "    description=''\n",
    "    if of_controller_ip != None and of_controller_port != None:\n",
    "        description = description + 'OFController=' + of_controller_ip + ':' + of_controller_port \n",
    "        \n",
    "    if vswitch_name != None and of_controller_ip != None and of_controller_port != None:\n",
    "        description = description + ','\n",
    "    \n",
    "    if vswitch_name != None:\n",
    "        description = description + 'VSwitchName=' + vswitch_name\n",
    "    \n",
    "    body_sample = {'network': {'name': network_name,\n",
    "                               \"provider:physical_network\": provider,\n",
    "                               \"provider:network_type\": \"vlan\",\n",
    "                               \"description\": description,\n",
    "                              }}\n",
    "\n",
    "    network = neutron.create_network(body=body_sample)\n",
    "    return network['network']\n"
   ]
  },
  {
   "cell_type": "markdown",
   "metadata": {},
   "source": [
    "#### Example"
   ]
  },
  {
   "cell_type": "code",
   "execution_count": 14,
   "metadata": {},
   "outputs": [
    {
     "name": "stdout",
     "output_type": "stream",
     "text": [
      "{\n",
      "  \"provider:physical_network\": \"physnet1\",\n",
      "  \"ipv6_address_scope\": null,\n",
      "  \"revision_number\": 1,\n",
      "  \"port_security_enabled\": true,\n",
      "  \"provider:network_type\": \"vlan\",\n",
      "  \"id\": \"c71298aa-00f7-4aed-8272-ae16f303da8e\",\n",
      "  \"router:external\": false,\n",
      "  \"availability_zone_hints\": [],\n",
      "  \"availability_zones\": [],\n",
      "  \"ipv4_address_scope\": null,\n",
      "  \"shared\": false,\n",
      "  \"project_id\": \"d9faac3973a847f1b718fa765fe312e2\",\n",
      "  \"status\": \"ACTIVE\",\n",
      "  \"subnets\": [],\n",
      "  \"description\": \"\",\n",
      "  \"tags\": [],\n",
      "  \"updated_at\": \"2020-05-04T20:04:35Z\",\n",
      "  \"is_default\": false,\n",
      "  \"provider:segmentation_id\": 3025,\n",
      "  \"name\": \"pruthNetwork1\",\n",
      "  \"admin_state_up\": true,\n",
      "  \"tenant_id\": \"d9faac3973a847f1b718fa765fe312e2\",\n",
      "  \"created_at\": \"2020-05-04T20:04:35Z\",\n",
      "  \"mtu\": 1500\n",
      "}\n",
      "Network ID: c71298aa-00f7-4aed-8272-ae16f303da8e\n"
     ]
    }
   ],
   "source": [
    "import chi\n",
    "\n",
    "#Config with your project and site\n",
    "chi.set('project_name', 'CH-816532') # Replace with your project name\n",
    "chi.set('region_name', 'CHI@UC')     # Optional, defaults to 'CHI@UC'\n",
    "\n",
    "# Get your username to uniquely label your resources and reservations\n",
    "username = os.getenv(\"USER\")\n",
    "\n",
    "#Set the network name to \"<username>Network1\" \n",
    "network_name = username+'Network1'\n",
    "\n",
    "#Get a network by name\n",
    "network = create_network(network_name)\n",
    "    \n",
    "#Print the network info\n",
    "print(json.dumps(network, indent=2))\n",
    "\n",
    "#Get the network's ID\n",
    "network_id = network['id']\n",
    "print('Network ID: ' + network_id)\n"
   ]
  },
  {
   "cell_type": "code",
   "execution_count": null,
   "metadata": {},
   "outputs": [],
   "source": []
  }
 ],
 "metadata": {
  "kernelspec": {
   "display_name": "Python 3",
   "language": "python",
   "name": "python3"
  },
  "language_info": {
   "codemirror_mode": {
    "name": "ipython",
    "version": 3
   },
   "file_extension": ".py",
   "mimetype": "text/x-python",
   "name": "python",
   "nbconvert_exporter": "python",
   "pygments_lexer": "ipython3",
   "version": "3.7.3"
  }
 },
 "nbformat": 4,
 "nbformat_minor": 4
}
