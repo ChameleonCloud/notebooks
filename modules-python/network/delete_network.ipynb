{
 "cells": [
  {
   "cell_type": "markdown",
   "metadata": {},
   "source": [
    "## Python Module: Delete an  VLAN Network\n",
    "\n",
    "This notebook demonstrates how to use the OpenStack python API to delete an isolated network using a VLAN. \n",
    "\n",
    "#### Related Modules\n",
    "\n",
    "- [Create Network](../../modules-python/network/create_network.ipynb)\n",
    "- [Get Network by Name](../../modules-python/network/get_network_by_name.ipynb)\n",
    "\n",
    "#### Import Library\n",
    "\n",
    "```\n",
    "import chi\n",
    "from chi.networking_api_examples import *\n",
    "```\n",
    "\n",
    "\n",
    "#### Arguments\n",
    "\n",
    "Required:\n",
    "\n",
    "- network_name: The name of the network to delete.\n",
    "\n",
    "\n",
    "#### OpenStack API Method"
   ]
  },
  {
   "cell_type": "code",
   "execution_count": null,
   "metadata": {},
   "outputs": [],
   "source": [
    "import json\n",
    "import os\n",
    "import chi\n",
    "    \n",
    "def delete_network_by_name(network_name):\n",
    "    network = get_network_by_name(network_name)\n",
    "    network_id = network['id']\n",
    "\n",
    "    neutron.delete_network(network_id)\n",
    "    \n",
    "def get_network_by_name(name):\n",
    "    nets = neutron.list_networks()['networks']\n",
    "    for net in nets:\n",
    "        if net['name'] == name:\n",
    "            return net\n",
    "    raise RuntimeError(\"couldn't find net with name '{}'\".format(name))\n"
   ]
  },
  {
   "cell_type": "markdown",
   "metadata": {},
   "source": [
    "#### Example"
   ]
  },
  {
   "cell_type": "code",
   "execution_count": null,
   "metadata": {},
   "outputs": [],
   "source": [
    "import chi\n",
    "from chi.networking_api_examples import *\n",
    "\n",
    "#Config with your project and site\n",
    "chi.set('project_name', 'CH-XXXXXXXX') # Replace with your project name\n",
    "chi.set('region_name', 'CHI@UC')     # Optional, defaults to 'CHI@UC'\n",
    "\n",
    "#Delete network by name\n",
    "network = delete_network_by_name('myNetworkName')"
   ]
  },
  {
   "cell_type": "code",
   "execution_count": null,
   "metadata": {},
   "outputs": [],
   "source": []
  }
 ],
 "metadata": {
  "kernelspec": {
   "display_name": "Python 3",
   "language": "python",
   "name": "python3"
  },
  "language_info": {
   "codemirror_mode": {
    "name": "ipython",
    "version": 3
   },
   "file_extension": ".py",
   "mimetype": "text/x-python",
   "name": "python",
   "nbconvert_exporter": "python",
   "pygments_lexer": "ipython3",
   "version": "3.7.3"
  }
 },
 "nbformat": 4,
 "nbformat_minor": 4
}
