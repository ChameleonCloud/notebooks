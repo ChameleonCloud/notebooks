{
 "cells": [
  {
   "cell_type": "markdown",
   "metadata": {},
   "source": [
    "## Python Module: Delete an  VLAN Network\n",
    "\n",
    "This notebook demonstrates how to use the OpenStack python API to delete an isolated network using a VLAN. \n",
    "\n",
    "The method below is included can be used in any notebook by importing the chi library using \"import chi\". \n",
    "\n",
    "#### Related Modules\n",
    "\n",
    "- [Create Network](./create_network.ipynb)\n",
    "- [Get Network by Name](./get_network_by_name.ipynb)\n",
    "\n",
    "#### Arguments\n",
    "\n",
    "Most networks will only requrie one argument which names the network:\n",
    "\n",
    "- network_name: The desired name for the new network\n",
    "\n",
    "\n",
    "#### OpenStack API Method"
   ]
  },
  {
   "cell_type": "code",
   "execution_count": 5,
   "metadata": {},
   "outputs": [],
   "source": [
    "import json\n",
    "import os\n",
    "import chi\n",
    "\n",
    "neutron = chi.neutron()\n",
    "    \n",
    "def delete_network_by_name(network_name):\n",
    "    network = get_network_by_name(network_name)\n",
    "    network_id = network['id']\n",
    "\n",
    "    neutron.delete_network(network_id)\n",
    "    \n",
    "def get_network_by_name(name):\n",
    "    nets = neutron.list_networks()['networks']\n",
    "    for net in nets:\n",
    "        if net['name'] == name:\n",
    "            return net\n",
    "    raise RuntimeError(\"couldn't find net with name '{}'\".format(name))\n"
   ]
  },
  {
   "cell_type": "markdown",
   "metadata": {},
   "source": [
    "#### Example"
   ]
  },
  {
   "cell_type": "code",
   "execution_count": 6,
   "metadata": {},
   "outputs": [
    {
     "name": "stdout",
     "output_type": "stream",
     "text": [
      "null\n"
     ]
    }
   ],
   "source": [
    "import chi\n",
    "\n",
    "#Config with your project and site\n",
    "chi.set('project_name', 'CH-816532') # Replace with your project name\n",
    "chi.set('region_name', 'CHI@UC')     # Optional, defaults to 'CHI@UC'\n",
    "\n",
    "# Get your username to uniquely label your resources and reservations\n",
    "username = os.getenv(\"USER\")\n",
    "\n",
    "#Set the network name to \"<username>Network1\" \n",
    "network_name = username+'Network1'\n",
    "\n",
    "#Delete network by name\n",
    "network = delete_network_by_name(network_name)"
   ]
  },
  {
   "cell_type": "code",
   "execution_count": null,
   "metadata": {},
   "outputs": [],
   "source": []
  }
 ],
 "metadata": {
  "kernelspec": {
   "display_name": "Python 3",
   "language": "python",
   "name": "python3"
  },
  "language_info": {
   "codemirror_mode": {
    "name": "ipython",
    "version": 3
   },
   "file_extension": ".py",
   "mimetype": "text/x-python",
   "name": "python",
   "nbconvert_exporter": "python",
   "pygments_lexer": "ipython3",
   "version": "3.7.3"
  }
 },
 "nbformat": 4,
 "nbformat_minor": 4
}
