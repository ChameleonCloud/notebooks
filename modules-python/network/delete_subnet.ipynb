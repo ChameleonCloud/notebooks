{
 "cells": [
  {
   "cell_type": "markdown",
   "metadata": {},
   "source": [
    "## Python Module: Delete a Subnet\n",
    "\n",
    "This notebook demonstrates how to use the OpenStack python API to delete an subnet from a network. \n",
    "\n",
    "The method below is included can be used in any notebook by importing the chi library using \"import chi\". \n",
    "\n",
    "#### Related Modules\n",
    "\n",
    "- [Delete Network](./delete_network.ipynb)\n",
    "- [Get Subnet by Name](./get_subnet_by_name.ipynb)\n",
    "\n",
    "#### Arguments\n",
    "\n",
    "Most subnets will only require one argument which names the network:\n",
    "\n",
    "- subnet_name: The desired name for the new subnet\n",
    "\n",
    "\n",
    "#### OpenStack API Method"
   ]
  },
  {
   "cell_type": "code",
   "execution_count": 3,
   "metadata": {},
   "outputs": [],
   "source": [
    "import json\n",
    "import os\n",
    "import chi\n",
    "\n",
    "neutron = chi.neutron()\n",
    "    \n",
    "def delete_subnet_by_id(subnet_id):\n",
    "    neutron.delete_subnet(subnet_id)\n",
    "\n",
    "def delete_subnet_by_name(subnet_name):\n",
    "\n",
    "    subnet = get_subnet_by_name(subnet_name)\n",
    "    subnet_id = subnet['id']\n",
    "    neutron.delete_subnet(subnet_id)\n",
    "    \n",
    "def get_subnet_by_name(name):\n",
    "    subnet=None\n",
    "    for s in neutron.list_subnets()['subnets']:\n",
    "        if s['name'] == name:\n",
    "            if subnet != None:\n",
    "                print(\"Found multiple subnets with name \" + str(name))\n",
    "                return\n",
    "            subnet = s\n",
    "    \n",
    "    return subnet\n",
    "\n"
   ]
  },
  {
   "cell_type": "markdown",
   "metadata": {},
   "source": [
    "#### Example"
   ]
  },
  {
   "cell_type": "code",
   "execution_count": 4,
   "metadata": {},
   "outputs": [],
   "source": [
    "import chi\n",
    "\n",
    "#Config with your project and site\n",
    "chi.set('project_name', 'CH-816532') # Replace with your project name\n",
    "chi.set('region_name', 'CHI@UC')     # Optional, defaults to 'CHI@UC'\n",
    "\n",
    "# Get your username to uniquely label your resources and reservations\n",
    "username = os.getenv(\"USER\")\n",
    "\n",
    "#Set the Subnet name to \"<username>Subnet1\" \n",
    "network_name = username+'Subnet1'\n",
    "\n",
    "#Delete network by name\n",
    "network = delete_subnet_by_name(network_name)"
   ]
  },
  {
   "cell_type": "code",
   "execution_count": null,
   "metadata": {},
   "outputs": [],
   "source": []
  }
 ],
 "metadata": {
  "kernelspec": {
   "display_name": "Python 3",
   "language": "python",
   "name": "python3"
  },
  "language_info": {
   "codemirror_mode": {
    "name": "ipython",
    "version": 3
   },
   "file_extension": ".py",
   "mimetype": "text/x-python",
   "name": "python",
   "nbconvert_exporter": "python",
   "pygments_lexer": "ipython3",
   "version": "3.7.3"
  }
 },
 "nbformat": 4,
 "nbformat_minor": 4
}
