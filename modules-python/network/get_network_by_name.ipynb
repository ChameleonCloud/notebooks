{
 "cells": [
  {
   "cell_type": "markdown",
   "metadata": {},
   "source": [
    "## Python Module: Get Network by Name\n",
    "\n",
    "This notebook demonstrates how to use the OpenStack python API to get a network using its name. \n",
    "\n",
    "The method below is included can be used in any notebook by importing the chi library using \"import chi\".\n",
    "\n",
    "#### Related Modules\n",
    "\n",
    "- [Get Subnet by Name](./get_subnet_by_name.ipynb)\n",
    "- [Get Router by Name](./get_router_by_name.ipynb)\n",
    "\n",
    "\n",
    "#### OpenStack API Method"
   ]
  },
  {
   "cell_type": "code",
   "execution_count": 1,
   "metadata": {},
   "outputs": [],
   "source": [
    "import json\n",
    "import os\n",
    "import chi\n",
    "\n",
    "neutron = chi.neutron()\n",
    "    \n",
    "def get_network_by_name(name):\n",
    "    nets = neutron.list_networks()['networks']\n",
    "    for net in nets:\n",
    "        if net['name'] == name:\n",
    "            return net\n",
    "    raise RuntimeError(\"couldn't find net with name '{}'\".format(name))"
   ]
  },
  {
   "cell_type": "markdown",
   "metadata": {},
   "source": [
    "#### Example"
   ]
  },
  {
   "cell_type": "code",
   "execution_count": 1,
   "metadata": {},
   "outputs": [
    {
     "name": "stdout",
     "output_type": "stream",
     "text": [
      "{\n",
      "  \"provider:physical_network\": \"physnet1\",\n",
      "  \"ipv6_address_scope\": null,\n",
      "  \"revision_number\": 5,\n",
      "  \"port_security_enabled\": true,\n",
      "  \"mtu\": 1500,\n",
      "  \"id\": \"a772a899-ff3d-420b-8b31-1c485092481a\",\n",
      "  \"router:external\": false,\n",
      "  \"availability_zone_hints\": [],\n",
      "  \"availability_zones\": [\n",
      "    \"nova\"\n",
      "  ],\n",
      "  \"ipv4_address_scope\": null,\n",
      "  \"shared\": true,\n",
      "  \"project_id\": \"570aad8999f7499db99eae22fe9b29bb\",\n",
      "  \"status\": \"ACTIVE\",\n",
      "  \"subnets\": [\n",
      "    \"b872f0eb-8367-4865-a34e-409cdf34f159\"\n",
      "  ],\n",
      "  \"description\": \"\",\n",
      "  \"tags\": [],\n",
      "  \"updated_at\": \"2019-04-15T16:42:29Z\",\n",
      "  \"provider:segmentation_id\": 3011,\n",
      "  \"name\": \"sharednet1\",\n",
      "  \"admin_state_up\": true,\n",
      "  \"tenant_id\": \"570aad8999f7499db99eae22fe9b29bb\",\n",
      "  \"created_at\": \"2017-12-12T21:06:59Z\",\n",
      "  \"provider:network_type\": \"vlan\"\n",
      "}\n",
      "Network ID: a772a899-ff3d-420b-8b31-1c485092481a\n"
     ]
    }
   ],
   "source": [
    "import json\n",
    "import os\n",
    "import chi\n",
    "\n",
    "from chi.networking_api_examples import *\n",
    "\n",
    "#Config with your project and site\n",
    "chi.set('project_name', 'CH-816532') # Replace with your project name\n",
    "chi.set('region_name', 'CHI@UC')     # Optional, defaults to 'CHI@UC'\n",
    "\n",
    "#Get a network by name\n",
    "network = get_network_by_name(\"sharednet1\")\n",
    "\n",
    "#Print the network info\n",
    "print(json.dumps(network, indent=2))\n",
    "\n",
    "#Get the network's ID\n",
    "network_id = network['id']\n",
    "print('Network ID: ' + network_id)\n"
   ]
  },
  {
   "cell_type": "code",
   "execution_count": null,
   "metadata": {},
   "outputs": [],
   "source": []
  }
 ],
 "metadata": {
  "kernelspec": {
   "display_name": "Python 3",
   "language": "python",
   "name": "python3"
  },
  "language_info": {
   "codemirror_mode": {
    "name": "ipython",
    "version": 3
   },
   "file_extension": ".py",
   "mimetype": "text/x-python",
   "name": "python",
   "nbconvert_exporter": "python",
   "pygments_lexer": "ipython3",
   "version": "3.7.3"
  }
 },
 "nbformat": 4,
 "nbformat_minor": 4
}
