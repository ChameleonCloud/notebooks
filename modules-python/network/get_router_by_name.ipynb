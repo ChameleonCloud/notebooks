{
 "cells": [
  {
   "cell_type": "markdown",
   "metadata": {},
   "source": [
    "## Python Module: Get Subnet by Name\n",
    "\n",
    "This notebook demonstrates how to use the OpenStack python API to get a subnet using its name. \n",
    "\n",
    "The method below is included can be used in any notebook by importing the chi library using \"import chi\".\n",
    "\n",
    "#### Related Modules\n",
    "\n",
    "- [Get Subnet by Name](./get_subnet_by_name.ipynb)\n",
    "- [Get Network by Name](./get_network_by_name.ipynb)\n",
    "\n",
    "#### OpenStack API Method"
   ]
  },
  {
   "cell_type": "code",
   "execution_count": 2,
   "metadata": {},
   "outputs": [],
   "source": [
    "import json\n",
    "import os\n",
    "import chi\n",
    "\n",
    "neutron = chi.neutron()\n",
    "    \n",
    "def get_router_by_name(name):\n",
    "    router=None\n",
    "    for r in neutron.list_routers()['routers']:\n",
    "        if r['name'] == name:\n",
    "            if router != None:\n",
    "                print(\"Found multiple routers with name \" + str(name))\n",
    "                return\n",
    "            router = r\n",
    "            \n",
    "    return router\n"
   ]
  },
  {
   "cell_type": "markdown",
   "metadata": {},
   "source": [
    "#### Example"
   ]
  },
  {
   "cell_type": "code",
   "execution_count": 4,
   "metadata": {},
   "outputs": [
    {
     "name": "stdout",
     "output_type": "stream",
     "text": [
      "null\n"
     ]
    }
   ],
   "source": [
    "import chi\n",
    "\n",
    "#Config with your project and site\n",
    "chi.set('project_name', 'CH-816532') # Replace with your project name\n",
    "chi.set('region_name', 'CHI@UC')     # Optional, defaults to 'CHI@UC'\n",
    "\n",
    "#Get a subnet by name\n",
    "router = get_router_by_name(\"myRouter\")\n",
    "\n",
    "#Print the router info\n",
    "print(json.dumps(router, indent=2))\n",
    "\n",
    "#Get the router's ID\n",
    "router_id = router['id']\n",
    "print('Router ID: ' + router_id)\n"
   ]
  },
  {
   "cell_type": "code",
   "execution_count": null,
   "metadata": {},
   "outputs": [],
   "source": []
  }
 ],
 "metadata": {
  "kernelspec": {
   "display_name": "Python 3",
   "language": "python",
   "name": "python3"
  },
  "language_info": {
   "codemirror_mode": {
    "name": "ipython",
    "version": 3
   },
   "file_extension": ".py",
   "mimetype": "text/x-python",
   "name": "python",
   "nbconvert_exporter": "python",
   "pygments_lexer": "ipython3",
   "version": "3.7.3"
  }
 },
 "nbformat": 4,
 "nbformat_minor": 4
}
