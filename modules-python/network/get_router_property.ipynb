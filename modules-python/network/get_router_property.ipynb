{
 "cells": [
  {
   "cell_type": "markdown",
   "metadata": {},
   "source": [
    "## Python Module: Get Router Property\n",
    "\n",
    "This notebook demonstrates how to use the OpenStack python API to...\n",
    "\n",
    "#### Related Modules\n",
    "\n",
    "- [Module Name](../../path/to/module.ipynb)\n",
    "\n",
    "#### Import Library\n",
    "\n",
    "```\n",
    "import chi\n",
    "from chi.networking_api_examples import *\n",
    "```\n",
    "\n",
    "#### Arguments\n",
    "\n",
    "Required:\n",
    "\n",
    "- arg1: arg1 description\n",
    "\n",
    "Optional:\n",
    "\n",
    "- arg2: arg2 description: default: 'XYZ'\n",
    "\n",
    "#### OpenStack API Method"
   ]
  },
  {
   "cell_type": "code",
   "execution_count": 2,
   "metadata": {},
   "outputs": [],
   "source": [
    "\n",
    "def library_function(arg1, arg2=None):\n",
    "    return None\n",
    "\n"
   ]
  },
  {
   "cell_type": "markdown",
   "metadata": {},
   "source": [
    "#### Example"
   ]
  },
  {
   "cell_type": "code",
   "execution_count": null,
   "metadata": {},
   "outputs": [],
   "source": [
    "import chi\n",
    "from chi.networking_api_examples import *\n",
    "from chi.servers_api_examples import *\n",
    "from chi.reservations_api_examples import *\n",
    "\n",
    "\n",
    "#Config with your project and site\n",
    "chi.set('project_name', 'CH-XXXXXXX') # Replace with your project name\n",
    "chi.set('region_name', 'CHI@UC')     # Optional, defaults to 'CHI@UC'\n",
    "\n",
    "#de some stuff\n"
   ]
  },
  {
   "cell_type": "code",
   "execution_count": null,
   "metadata": {},
   "outputs": [],
   "source": []
  }
 ],
 "metadata": {
  "kernelspec": {
   "display_name": "Python 3",
   "language": "python",
   "name": "python3"
  },
  "language_info": {
   "codemirror_mode": {
    "name": "ipython",
    "version": 3
   },
   "file_extension": ".py",
   "mimetype": "text/x-python",
   "name": "python",
   "nbconvert_exporter": "python",
   "pygments_lexer": "ipython3",
   "version": "3.7.3"
  }
 },
 "nbformat": 4,
 "nbformat_minor": 4
}
