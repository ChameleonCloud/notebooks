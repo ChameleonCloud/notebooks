{
 "cells": [
  {
   "cell_type": "markdown",
   "metadata": {},
   "source": [
    "## Python Module: Get Subnet by Name\n",
    "\n",
    "This notebook demonstrates how to use the OpenStack python API to get a subnet using its name. \n",
    "\n",
    "#### Related Modules\n",
    "\n",
    "- [Get Router by Name](../../modules-python/network/get_router_by_name.ipynb)\n",
    "- [Get Network by Name](../../modules-python/network/get_network_by_name.ipynb)\n",
    "\n",
    "#### Import Library\n",
    "\n",
    "```\n",
    "import chi\n",
    "from chi.networking_api_examples import *\n",
    "```\n",
    "\n",
    "\n",
    "#### Arguments\n",
    "\n",
    "Required:\n",
    "\n",
    "- name: The name of the subnet to delete\n",
    "\n",
    "#### OpenStack API Method"
   ]
  },
  {
   "cell_type": "code",
   "execution_count": null,
   "metadata": {},
   "outputs": [],
   "source": [
    "    \n",
    "def get_subnet_by_name(name):\n",
    "    subnet=None\n",
    "    for s in neutron.list_subnets()['subnets']:\n",
    "        if s['name'] == name:\n",
    "            if subnet != None:\n",
    "                print(\"Found multiple subnets with name \" + str(name))\n",
    "                return\n",
    "            subnet = s\n",
    "    \n",
    "    return subnet\n"
   ]
  },
  {
   "cell_type": "markdown",
   "metadata": {},
   "source": [
    "#### Example"
   ]
  },
  {
   "cell_type": "code",
   "execution_count": null,
   "metadata": {},
   "outputs": [],
   "source": [
    "import chi\n",
    "from chi.networking_api_examples import *\n",
    "\n",
    "\n",
    "#Config with your project and site\n",
    "chi.set('project_name', 'CH-XXXXXX') # Replace with your project name\n",
    "chi.set('region_name', 'CHI@UC')     # Optional, defaults to 'CHI@UC'\n",
    "\n",
    "#Get a subnet by name\n",
    "subnet = get_subnet_by_name(\"sharednet1-subnet\")\n",
    "\n",
    "#Print the network info\n",
    "print(json.dumps(subnet, indent=2))\n",
    "\n",
    "#Get the network's ID\n",
    "subnet_id = subnet['id']\n",
    "print('Subnet ID: ' + subnet_id)\n"
   ]
  },
  {
   "cell_type": "code",
   "execution_count": null,
   "metadata": {},
   "outputs": [],
   "source": []
  }
 ],
 "metadata": {
  "kernelspec": {
   "display_name": "Python 3",
   "language": "python",
   "name": "python3"
  },
  "language_info": {
   "codemirror_mode": {
    "name": "ipython",
    "version": 3
   },
   "file_extension": ".py",
   "mimetype": "text/x-python",
   "name": "python",
   "nbconvert_exporter": "python",
   "pygments_lexer": "ipython3",
   "version": "3.7.3"
  }
 },
 "nbformat": 4,
 "nbformat_minor": 4
}
