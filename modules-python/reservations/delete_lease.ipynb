{
 "cells": [
  {
   "cell_type": "markdown",
   "metadata": {},
   "source": [
    "## Python Module: Delete a Lease\n",
    "\n",
    "This notebook demonstrates how to use the OpenStack python API to delete a lease.\n",
    "\n",
    "Chameleon requires most resources to be reserved before they can be used. Reservations can not be created independently. Instead, all reservatons must be part of a *Lease*.  Leases are composed of a group of one or more reservations that, typically, include all reservations required for an experiment.  \n",
    "\n",
    "#### Related Modules\n",
    "\n",
    "- [Reservere Node Simple](./reserver_node_simple.ipynb)\n",
    "- [Get Lease by Name](./get_lease_by_name.ipynb)\n",
    "\n",
    "#### Import Library\n",
    "\n",
    "```\n",
    "import chi\n",
    "from chi.reservation_api_examples import *\n",
    "```\n",
    "\n",
    "#### Arguments\n",
    "\n",
    "Required:\n",
    "\n",
    "- `lease_name`: The name of the targeted lease\n",
    "\n",
    "Optional:\n",
    "\n",
    "- None\n",
    "\n",
    "#### Imported Methods used by Example(s) "
   ]
  },
  {
   "cell_type": "code",
   "execution_count": null,
   "metadata": {},
   "outputs": [],
   "source": [
    "\n",
    "def delete_lease_by_id(lease_id):\n",
    "    chi.blazar().lease.delete(lease_id)\n",
    "        \n",
    "def delete_lease_by_name(lease_name):\n",
    "    lease = list(filter(lambda lease: lease['name'] == lease_name, chi.blazar().lease.list()))\n",
    "    if len(lease) == 1:\n",
    "        lease_id = lease[0]['id']\n",
    "        chi.blazar().lease.delete(lease_id)\n",
    "\n",
    "        print(\"Deleted lease \" + str(lease_name) + \" with id \" + str(lease_id))\n",
    "    else:\n",
    "        print(\"Error: Found \" + str(len(lease)) + \" leases with name \" + str(lease_name) + \". Expected 1\")"
   ]
  },
  {
   "cell_type": "markdown",
   "metadata": {},
   "source": [
    "## Examples: \n",
    "**Important**: Examples below import API methods from chi library and does not use refernece code above!\n",
    "\n",
    "#### Delete Lease"
   ]
  },
  {
   "cell_type": "code",
   "execution_count": 1,
   "metadata": {},
   "outputs": [
    {
     "name": "stdout",
     "output_type": "stream",
     "text": [
      "Deleted lease pruthLease with id ff32eef4-de73-4f7b-b5f5-249d887921bf\n"
     ]
    }
   ],
   "source": [
    "import json\n",
    "import os\n",
    "import chi\n",
    "\n",
    "from chi.reservation_api_examples import *\n",
    "\n",
    "#Config with your project and site\n",
    "chi.set('project_name', 'CH-816532') # Replace with your project name\n",
    "chi.set('region_name', 'CHI@UC')     # Optional, defaults to 'CHI@UC'\n",
    "\n",
    "\n",
    "# Tip: Name resources with your username for easier identification\n",
    "username = os.getenv(\"USER\")\n",
    "lease_name = username+'Lease'\n",
    "\n",
    "#Delete the lease\n",
    "lease = delete_lease_by_name(lease_name)\n",
    "    \n",
    "\n"
   ]
  },
  {
   "cell_type": "code",
   "execution_count": null,
   "metadata": {},
   "outputs": [],
   "source": []
  }
 ],
 "metadata": {
  "kernelspec": {
   "display_name": "Python 3",
   "language": "python",
   "name": "python3"
  },
  "language_info": {
   "codemirror_mode": {
    "name": "ipython",
    "version": 3
   },
   "file_extension": ".py",
   "mimetype": "text/x-python",
   "name": "python",
   "nbconvert_exporter": "python",
   "pygments_lexer": "ipython3",
   "version": "3.7.3"
  }
 },
 "nbformat": 4,
 "nbformat_minor": 4
}
