{
 "cells": [
  {
   "cell_type": "markdown",
   "metadata": {},
   "source": [
    "## Python Module: Get a Lease by Name\n",
    "\n",
    "This notebook demonstrates how to use the OpenStack python API to get a lease by name.\n",
    "\n",
    "Chameleon requires most resources to be reserved before they can be used. Reservations can not be created independently. Instead, all reservatons must be part of a *Lease*.  Leases are composed of a group of one or more reservations that, typically, include all reservations required for an experiment.  \n",
    "\n",
    "#### Related Modules\n",
    "\n",
    "- [Reserve Server](../../modules-python/reservations/reserve_server.ipynb)\n",
    "- [Reserve Network](../../modules-python/reservations/reserve_network.ipynb)\n",
    "- [Reserve Floating IP](../../modules-python/reservations/reserve_floating_ip.ipynb)\n",
    "- [Reserve Multiple Resources](../../modules-python/reservations/reserve_multiple_resources.ipynb)\n",
    "- [Get Reservation](../../modules-python/reservations/get_reservation_from_lease.ipynb)\n",
    "- [Get Lease](../../modules-python/reservations/get_lease_by_name.ipynb)\n",
    "\n",
    "#### Import Library\n",
    "\n",
    "```\n",
    "import chi\n",
    "from chi.reservation_api_examples import *\n",
    "```\n",
    "\n",
    "#### Arguments\n",
    "\n",
    "Required:\n",
    "\n",
    "- `lease_name`: The name of the targeted lease\n",
    "\n",
    "Optional:\n",
    "\n",
    "- None\n",
    "\n",
    "#### Imported Methods used by Example(s) "
   ]
  },
  {
   "cell_type": "code",
   "execution_count": null,
   "metadata": {},
   "outputs": [],
   "source": [
    "\n",
    "def get_lease(lease_name):\n",
    "    leases = list(filter(lambda lease: lease['name'] == lease_name, chi.blazar().lease.list()))\n",
    "    if len(leases) == 1:\n",
    "        lease = leases[0]    \n",
    "        return lease\n",
    "    else:\n",
    "        print(\"Error: Found \" + str(len(leases)) + \" leases with name \" + str(lease_name) + \". Expected 1\")\n"
   ]
  },
  {
   "cell_type": "markdown",
   "metadata": {},
   "source": [
    "## Examples: \n",
    "**Important**: Examples below import API methods from chi library and does not use refernece code above!\n",
    "#### Get Lease by Name"
   ]
  },
  {
   "cell_type": "code",
   "execution_count": null,
   "metadata": {},
   "outputs": [],
   "source": [
    "import json\n",
    "import os\n",
    "import chi\n",
    "\n",
    "#import methods from chi examples\n",
    "from chi.reservation_api_examples import *\n",
    "\n",
    "#Config with your project and site\n",
    "chi.set('project_name', 'CH-XXXXXX') # Replace with your project name\n",
    "chi.set('region_name', 'CHI@UC')     # Optional, defaults to 'CHI@UC'\n",
    "\n",
    "#Get a network by name\n",
    "lease = get_lease(\"myLeaseName\")\n",
    "    \n",
    "#Print the network info\n",
    "print(json.dumps(lease, indent=2))\n"
   ]
  },
  {
   "cell_type": "code",
   "execution_count": null,
   "metadata": {},
   "outputs": [],
   "source": []
  }
 ],
 "metadata": {
  "kernelspec": {
   "display_name": "Python 3",
   "language": "python",
   "name": "python3"
  },
  "language_info": {
   "codemirror_mode": {
    "name": "ipython",
    "version": 3
   },
   "file_extension": ".py",
   "mimetype": "text/x-python",
   "name": "python",
   "nbconvert_exporter": "python",
   "pygments_lexer": "ipython3",
   "version": "3.7.3"
  }
 },
 "nbformat": 4,
 "nbformat_minor": 4
}
