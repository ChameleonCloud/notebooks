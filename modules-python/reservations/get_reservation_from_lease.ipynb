{
 "cells": [
  {
   "cell_type": "markdown",
   "metadata": {},
   "source": [
    "## Python Module: Get Reservations from a Lease\n",
    "\n",
    "This notebook demonstrates how to use the OpenStack python API get reaservations from a lease.\n",
    "\n",
    "Chameleon requires most resources to be reserved before they can be used. Reservations can not be created independently. Instead, all reservatons must be part of a *Lease*.  Leases are composed of a group of one or more reservations that, typically, include all reservations required for an experiment.  \n",
    "\n",
    "#### Related Modules\n",
    "\n",
    "- [Get Lease](../../modules-python/reservations/get_lease_by_name.ipynb)\n",
    "\n",
    "#### Import Library\n",
    "\n",
    "```\n",
    "import chi\n",
    "from chi.reservation_api_examples import *\n",
    "```\n",
    "\n",
    "#### Arguments\n",
    "\n",
    "Required:\n",
    "\n",
    "- `lease_name`: The name of the targeted lease\n",
    "\n",
    "Optional:\n",
    "\n",
    "- None\n",
    "\n",
    "#### Imported Methods used by Example(s) "
   ]
  },
  {
   "cell_type": "code",
   "execution_count": null,
   "metadata": {},
   "outputs": [],
   "source": [
    "\n",
    "def get_lease(lease_name):\n",
    "    leases = list(filter(lambda lease: lease['name'] == lease_name, chi.blazar().lease.list()))\n",
    "    if len(leases) == 1:\n",
    "        lease = leases[0]    \n",
    "        return lease\n",
    "    else:\n",
    "        print(\"Error: Found \" + str(len(leases)) + \" leases with name \" + str(lease_name) + \". Expected 1\")\n",
    "        "
   ]
  },
  {
   "cell_type": "markdown",
   "metadata": {},
   "source": [
    "## Examples: \n",
    "**Important**: Examples below import API methods from chi library and does not use refernece code above!\n",
    "\n",
    "#### Get all Reserverations"
   ]
  },
  {
   "cell_type": "code",
   "execution_count": 2,
   "metadata": {},
   "outputs": [
    {
     "name": "stdout",
     "output_type": "stream",
     "text": [
      "[\n",
      "  {\n",
      "    \"status\": \"active\",\n",
      "    \"lease_id\": \"e791b3f3-459e-4af6-a44a-64bf8e0791b2\",\n",
      "    \"resource_id\": \"f18f27dd-b21a-462b-b0c6-58bca46f47b9\",\n",
      "    \"network_id\": \"44b38c44-2a42-4b6d-b129-6c8f1b2a1375\",\n",
      "    \"created_at\": \"2020-05-11 19:12:14\",\n",
      "    \"updated_at\": \"2020-05-11 19:13:05\",\n",
      "    \"required_floatingips\": [],\n",
      "    \"missing_resources\": false,\n",
      "    \"amount\": 1,\n",
      "    \"id\": \"0c5d0b1d-6efe-4dac-a969-198a3ddf446e\",\n",
      "    \"resource_type\": \"virtual:floatingip\",\n",
      "    \"resources_changed\": false\n",
      "  },\n",
      "  {\n",
      "    \"status\": \"active\",\n",
      "    \"before_end\": \"default\",\n",
      "    \"lease_id\": \"e791b3f3-459e-4af6-a44a-64bf8e0791b2\",\n",
      "    \"resource_id\": \"2ab8c4aa-532b-4df2-8e29-b294184d47c0\",\n",
      "    \"max\": 1,\n",
      "    \"created_at\": \"2020-05-11 19:12:06\",\n",
      "    \"min\": 1,\n",
      "    \"updated_at\": \"2020-05-11 19:13:08\",\n",
      "    \"missing_resources\": false,\n",
      "    \"hypervisor_properties\": \"\",\n",
      "    \"on_start\": \"default\",\n",
      "    \"resource_properties\": \"[\\\"==\\\", \\\"$node_type\\\", \\\"compute_haswell\\\"]\",\n",
      "    \"id\": \"95c14141-2720-4d80-b970-19a2834767c9\",\n",
      "    \"resource_type\": \"physical:host\",\n",
      "    \"resources_changed\": false\n",
      "  },\n",
      "  {\n",
      "    \"status\": \"active\",\n",
      "    \"lease_id\": \"e791b3f3-459e-4af6-a44a-64bf8e0791b2\",\n",
      "    \"resource_id\": \"fbb32ea3-f28f-4779-b7c2-8534ebf6375b\",\n",
      "    \"created_at\": \"2020-05-11 19:12:12\",\n",
      "    \"updated_at\": \"2020-05-11 19:13:09\",\n",
      "    \"missing_resources\": false,\n",
      "    \"id\": \"c9a68aae-83d2-44c3-b1dc-64ebe899c64a\",\n",
      "    \"resource_type\": \"network\",\n",
      "    \"resources_changed\": false\n",
      "  }\n",
      "]\n"
     ]
    }
   ],
   "source": [
    "import json\n",
    "import os\n",
    "import chi\n",
    "\n",
    "from chi.reservation_api_examples import *\n",
    "\n",
    "#Config with your project and site\n",
    "chi.set('project_name', 'CH-816532') # Replace with your project name\n",
    "chi.set('region_name', 'CHI@UC')     # Optional, defaults to 'CHI@UC'\n",
    "\n",
    "\n",
    "# Tip: Name resources with your username for easier identification\n",
    "username = os.getenv(\"USER\")\n",
    "lease_name = username+'Lease'\n",
    "\n",
    "#Get a lease by name\n",
    "lease = get_lease_by_name(lease_name)\n",
    "\n",
    "reservation_list = lease['reservations']\n",
    "\n",
    "#Print the network info\n",
    "print(json.dumps(reservation_list, indent=2))"
   ]
  },
  {
   "cell_type": "markdown",
   "metadata": {},
   "source": [
    "#### Get all Server Reservations"
   ]
  },
  {
   "cell_type": "code",
   "execution_count": null,
   "metadata": {},
   "outputs": [],
   "source": [
    "import json\n",
    "import os\n",
    "import chi\n",
    "\n",
    "from chi.reservation_api_examples import *\n",
    "\n",
    "#Config with your project and site\n",
    "chi.set('project_name', 'CH-816532') # Replace with your project name\n",
    "chi.set('region_name', 'CHI@UC')     # Optional, defaults to 'CHI@UC'\n",
    "\n",
    "\n",
    "# Tip: Name resources with your username for easier identification\n",
    "username = os.getenv(\"USER\")\n",
    "lease_name = username+'Lease'\n",
    "\n",
    "#Get a lease by name\n",
    "lease = get_lease(lease_name)\n",
    "\n",
    "reservation_list = lease['reservations']\n",
    "server_reservation_list=[]\n",
    "for reservation in reservation_list:\n",
    "    if reservation['resource_type'] == \"physical:host\":\n",
    "        server_reservation_list.append(reservation)\n",
    "\n",
    "#Print the network info\n",
    "print(json.dumps(server_reservation_list, indent=2))"
   ]
  },
  {
   "cell_type": "markdown",
   "metadata": {},
   "source": [
    "#### Get all Floating IP Reservations"
   ]
  },
  {
   "cell_type": "code",
   "execution_count": 3,
   "metadata": {},
   "outputs": [
    {
     "name": "stdout",
     "output_type": "stream",
     "text": [
      "[\n",
      "  {\n",
      "    \"status\": \"active\",\n",
      "    \"lease_id\": \"e791b3f3-459e-4af6-a44a-64bf8e0791b2\",\n",
      "    \"resource_id\": \"f18f27dd-b21a-462b-b0c6-58bca46f47b9\",\n",
      "    \"network_id\": \"44b38c44-2a42-4b6d-b129-6c8f1b2a1375\",\n",
      "    \"created_at\": \"2020-05-11 19:12:14\",\n",
      "    \"updated_at\": \"2020-05-11 19:13:05\",\n",
      "    \"required_floatingips\": [],\n",
      "    \"missing_resources\": false,\n",
      "    \"amount\": 1,\n",
      "    \"id\": \"0c5d0b1d-6efe-4dac-a969-198a3ddf446e\",\n",
      "    \"resource_type\": \"virtual:floatingip\",\n",
      "    \"resources_changed\": false\n",
      "  }\n",
      "]\n"
     ]
    }
   ],
   "source": [
    "import json\n",
    "import os\n",
    "import chi\n",
    "\n",
    "from chi.reservation_api_examples import *\n",
    "\n",
    "#Config with your project and site\n",
    "chi.set('project_name', 'CH-816532') # Replace with your project name\n",
    "chi.set('region_name', 'CHI@UC')     # Optional, defaults to 'CHI@UC'\n",
    "\n",
    "\n",
    "# Tip: Name resources with your username for easier identification\n",
    "username = os.getenv(\"USER\")\n",
    "lease_name = username+'Lease'\n",
    "\n",
    "#Get a lease by name\n",
    "lease = get_lease_by_name(lease_name)\n",
    "\n",
    "reservation_list = lease['reservations']\n",
    "floating_ip_reservation_list=[]\n",
    "for reservation in reservation_list:\n",
    "    if reservation['resource_type'] == \"virtual:floatingip\":\n",
    "        floating_ip_reservation_list.append(reservation)\n",
    "\n",
    "#Print the  info\n",
    "print(json.dumps(floating_ip_reservation_list, indent=2))"
   ]
  },
  {
   "cell_type": "markdown",
   "metadata": {},
   "source": [
    "#### Get all Network Reservations"
   ]
  },
  {
   "cell_type": "code",
   "execution_count": 4,
   "metadata": {},
   "outputs": [
    {
     "name": "stdout",
     "output_type": "stream",
     "text": [
      "[\n",
      "  {\n",
      "    \"status\": \"active\",\n",
      "    \"lease_id\": \"e791b3f3-459e-4af6-a44a-64bf8e0791b2\",\n",
      "    \"resource_id\": \"fbb32ea3-f28f-4779-b7c2-8534ebf6375b\",\n",
      "    \"created_at\": \"2020-05-11 19:12:12\",\n",
      "    \"updated_at\": \"2020-05-11 19:13:09\",\n",
      "    \"missing_resources\": false,\n",
      "    \"id\": \"c9a68aae-83d2-44c3-b1dc-64ebe899c64a\",\n",
      "    \"resource_type\": \"network\",\n",
      "    \"resources_changed\": false\n",
      "  }\n",
      "]\n"
     ]
    }
   ],
   "source": [
    "import json\n",
    "import os\n",
    "import chi\n",
    "\n",
    "from chi.reservation_api_examples import *\n",
    "\n",
    "#Config with your project and site\n",
    "chi.set('project_name', 'CH-816532') # Replace with your project name\n",
    "chi.set('region_name', 'CHI@UC')     # Optional, defaults to 'CHI@UC'\n",
    "\n",
    "\n",
    "# Tip: Name resources with your username for easier identification\n",
    "username = os.getenv(\"USER\")\n",
    "lease_name = username+'Lease'\n",
    "\n",
    "#Get a lease by name\n",
    "lease = get_lease_by_name(lease_name)\n",
    "\n",
    "reservation_list = lease['reservations']\n",
    "network_reservation_list=[]\n",
    "for reservation in reservation_list:\n",
    "    if reservation['resource_type'] == \"network\":\n",
    "        network_reservation_list.append(reservation)\n",
    "\n",
    "#Print the network info\n",
    "print(json.dumps(network_reservation_list, indent=2))\n"
   ]
  },
  {
   "cell_type": "code",
   "execution_count": null,
   "metadata": {},
   "outputs": [],
   "source": []
  }
 ],
 "metadata": {
  "kernelspec": {
   "display_name": "Python 3",
   "language": "python",
   "name": "python3"
  },
  "language_info": {
   "codemirror_mode": {
    "name": "ipython",
    "version": 3
   },
   "file_extension": ".py",
   "mimetype": "text/x-python",
   "name": "python",
   "nbconvert_exporter": "python",
   "pygments_lexer": "ipython3",
   "version": "3.7.3"
  }
 },
 "nbformat": 4,
 "nbformat_minor": 4
}
