{
 "cells": [
  {
   "cell_type": "markdown",
   "metadata": {},
   "source": [
    "## Python Module: Get Reservations from a Lease\n",
    "\n",
    "This notebook demonstrates how to use the OpenStack python API get reaservations from a lease.\n",
    "\n",
    "Chameleon requires most resources to be reserved before they can be used. Reservations can not be created independently. Instead, all reservatons must be part of a *Lease*.  Leases are composed of a group of one or more reservations that, typically, include all reservations required for an experiment.  \n",
    "\n",
    "#### Related Modules\n",
    "\n",
    "- [Reservere Node Simple](./reserver_node_simple.ipynb)\n",
    "- [Get Lease by Name](./get_lease_by_name.ipynb)\n",
    "\n",
    "#### Import Library\n",
    "\n",
    "```\n",
    "import chi\n",
    "from chi.reservation_api_examples import *\n",
    "```\n",
    "\n",
    "#### Arguments\n",
    "\n",
    "Required:\n",
    "\n",
    "- `lease_name`: The name of the targeted lease\n",
    "\n",
    "Optional:\n",
    "\n",
    "- None\n",
    "\n",
    "#### Imported Methods used by Example(s) "
   ]
  },
  {
   "cell_type": "code",
   "execution_count": null,
   "metadata": {},
   "outputs": [],
   "source": [
    "\n",
    "def get_lease(lease_name):\n",
    "    leases = list(filter(lambda lease: lease['name'] == lease_name, chi.blazar().lease.list()))\n",
    "    if len(leases) == 1:\n",
    "        lease = leases[0]    \n",
    "        return lease\n",
    "    else:\n",
    "        print(\"Error: Found \" + str(len(leases)) + \" leases with name \" + str(lease_name) + \". Expected 1\")\n",
    "        "
   ]
  },
  {
   "cell_type": "markdown",
   "metadata": {},
   "source": [
    "## Examples: \n",
    "**Important**: Examples below import API methods from chi library and does not use refernece code above!\n",
    "\n",
    "#### Get all Reserverations"
   ]
  },
  {
   "cell_type": "code",
   "execution_count": null,
   "metadata": {},
   "outputs": [],
   "source": [
    "import json\n",
    "import os\n",
    "import chi\n",
    "\n",
    "from chi.reservation_api_examples import *\n",
    "\n",
    "#Config with your project and site\n",
    "chi.set('project_name', 'CH-816532') # Replace with your project name\n",
    "chi.set('region_name', 'CHI@UC')     # Optional, defaults to 'CHI@UC'\n",
    "\n",
    "\n",
    "# Tip: Name resources with your username for easier identification\n",
    "username = os.getenv(\"USER\")\n",
    "lease_name = username+'Lease'\n",
    "\n",
    "#Get a lease by name\n",
    "lease = get_lease(lease_name)\n",
    "\n",
    "reservation_list = lease['reservations']\n",
    "\n",
    "#Print the network info\n",
    "print(json.dumps(reservation_list, indent=2))"
   ]
  },
  {
   "cell_type": "markdown",
   "metadata": {},
   "source": [
    "#### Get all Server Reservations"
   ]
  },
  {
   "cell_type": "code",
   "execution_count": 1,
   "metadata": {},
   "outputs": [
    {
     "name": "stdout",
     "output_type": "stream",
     "text": [
      "[\n",
      "  {\n",
      "    \"status\": \"pending\",\n",
      "    \"before_end\": \"default\",\n",
      "    \"lease_id\": \"c67c6fcc-232d-442f-98af-e4d8f3eeb466\",\n",
      "    \"resource_id\": \"0af24761-6ffa-4c14-8582-17f80e1f785c\",\n",
      "    \"max\": 1,\n",
      "    \"created_at\": \"2020-05-05 18:21:15\",\n",
      "    \"min\": 1,\n",
      "    \"updated_at\": \"2020-05-05 18:21:22\",\n",
      "    \"missing_resources\": false,\n",
      "    \"hypervisor_properties\": \"\",\n",
      "    \"on_start\": \"default\",\n",
      "    \"resource_properties\": \"[\\\"==\\\", \\\"$node_type\\\", \\\"compute_haswell\\\"]\",\n",
      "    \"id\": \"e122f84e-dbb2-4435-a83a-f11f1524e03c\",\n",
      "    \"resource_type\": \"physical:host\",\n",
      "    \"resources_changed\": false\n",
      "  }\n",
      "]\n"
     ]
    }
   ],
   "source": [
    "import json\n",
    "import os\n",
    "import chi\n",
    "\n",
    "from chi.reservation_api_examples import *\n",
    "\n",
    "#Config with your project and site\n",
    "chi.set('project_name', 'CH-816532') # Replace with your project name\n",
    "chi.set('region_name', 'CHI@UC')     # Optional, defaults to 'CHI@UC'\n",
    "\n",
    "\n",
    "# Tip: Name resources with your username for easier identification\n",
    "username = os.getenv(\"USER\")\n",
    "lease_name = username+'Lease'\n",
    "\n",
    "#Get a lease by name\n",
    "lease = get_lease(lease_name)\n",
    "\n",
    "reservation_list = lease['reservations']\n",
    "server_reservation_list=[]\n",
    "for reservation in reservation_list:\n",
    "    if reservation['resource_type'] == \"physical:host\":\n",
    "        server_reservation_list.append(reservation)\n",
    "\n",
    "#Print the network info\n",
    "print(json.dumps(server_reservation_list, indent=2))"
   ]
  },
  {
   "cell_type": "markdown",
   "metadata": {},
   "source": [
    "#### Get all Floating IP Reservations"
   ]
  },
  {
   "cell_type": "code",
   "execution_count": null,
   "metadata": {},
   "outputs": [],
   "source": [
    "import json\n",
    "import os\n",
    "import chi\n",
    "\n",
    "from chi.reservation_api_examples import *\n",
    "\n",
    "#Config with your project and site\n",
    "chi.set('project_name', 'CH-816532') # Replace with your project name\n",
    "chi.set('region_name', 'CHI@UC')     # Optional, defaults to 'CHI@UC'\n",
    "\n",
    "\n",
    "# Tip: Name resources with your username for easier identification\n",
    "username = os.getenv(\"USER\")\n",
    "lease_name = username+'Lease'\n",
    "\n",
    "#Get a lease by name\n",
    "lease = get_lease(lease_name)\n",
    "\n",
    "reservation_list = lease['reservations']\n",
    "floating_ip_reservation_list=[]\n",
    "for reservation in reservation_list:\n",
    "    if reservation['resource_type'] == \"virtual:floatingip\":\n",
    "        floating_ip_reservation_list.append(reservation)\n",
    "\n",
    "#Print the  info\n",
    "print(json.dumps(floating_ip_reservation_list, indent=2))"
   ]
  },
  {
   "cell_type": "markdown",
   "metadata": {},
   "source": [
    "#### Get all Network Reservations"
   ]
  },
  {
   "cell_type": "code",
   "execution_count": null,
   "metadata": {},
   "outputs": [],
   "source": [
    "import json\n",
    "import os\n",
    "import chi\n",
    "\n",
    "from chi.reservation_api_examples import *\n",
    "\n",
    "#Config with your project and site\n",
    "chi.set('project_name', 'CH-816532') # Replace with your project name\n",
    "chi.set('region_name', 'CHI@UC')     # Optional, defaults to 'CHI@UC'\n",
    "\n",
    "\n",
    "# Tip: Name resources with your username for easier identification\n",
    "username = os.getenv(\"USER\")\n",
    "lease_name = username+'Lease'\n",
    "\n",
    "#Get a lease by name\n",
    "lease = get_lease(lease_name)\n",
    "\n",
    "reservation_list = lease['reservations']\n",
    "network_reservation_list=[]\n",
    "for reservation in reservation_list:\n",
    "    if reservation['resource_type'] == \"network\":\n",
    "        network_reservation_list.append(reservation)\n",
    "\n",
    "#Print the network info\n",
    "print(json.dumps(network_reservation_list, indent=2))"
   ]
  },
  {
   "cell_type": "code",
   "execution_count": null,
   "metadata": {},
   "outputs": [],
   "source": []
  }
 ],
 "metadata": {
  "kernelspec": {
   "display_name": "Python 3",
   "language": "python",
   "name": "python3"
  },
  "language_info": {
   "codemirror_mode": {
    "name": "ipython",
    "version": 3
   },
   "file_extension": ".py",
   "mimetype": "text/x-python",
   "name": "python",
   "nbconvert_exporter": "python",
   "pygments_lexer": "ipython3",
   "version": "3.7.3"
  }
 },
 "nbformat": 4,
 "nbformat_minor": 4
}
