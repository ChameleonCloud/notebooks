{
 "cells": [
  {
   "cell_type": "markdown",
   "metadata": {},
   "source": [
    "## Python Module: Reserve a Node \n",
    "\n",
    "This notebook demonstrates how to use the OpenStack python API to create a reservation for a node.\n",
    "\n",
    "Chameleon requires most resources to be reserved before they can be used. Reservations can not be created independently. Instead, all reservatons must be part of a *Lease*.  Leases are composed of a group of one or more reservations that, typically, include all reservations required for an experiment.  \n",
    "\n",
    "#### Related Modules\n",
    "\n",
    "- [Reservere Node Simple](./reserver_node_simple.ipynb)\n",
    "- [Get Lease by Name](./get_lease_by_name.ipynb)\n",
    "\n",
    "#### Import Library\n",
    "\n",
    "```\n",
    "import chi\n",
    "from chi.reservation_api_examples import *\n",
    "```\n",
    "\n",
    "#### Arguments\n",
    "\n",
    "Required:\n",
    "\n",
    "- `lease_name`: The name of the targeted lease\n",
    "\n",
    "Optional:\n",
    "\n",
    "- `node_type`: The type of server rquested. Default: 'compute_haswell'. Vaild values: **TODO: insert nodes types**\n",
    "- `count`: The number of requsted servers. Default: 1.\n",
    "\n",
    "#### Imported Methods used by Example(s) "
   ]
  },
  {
   "cell_type": "markdown",
   "metadata": {},
   "source": [
    "#### OpenStack API Method \n",
    "\n",
    "Note: The following code i"
   ]
  },
  {
   "cell_type": "code",
   "execution_count": 3,
   "metadata": {},
   "outputs": [],
   "source": [
    "from datetime import datetime, timedelta\n",
    "from dateutil import tz\n",
    "\n",
    "BLAZAR_TIME_FORMAT = \"%Y-%m-%d %H:%M\"\n",
    "\n",
    "def add_node_reservation(res, count=1, node_type=\"compute_haswell\"):\n",
    "    res.append({\n",
    "        \"resource_type\": \"physical:host\",\n",
    "        \"resource_properties\": json.dumps([\"==\", \"$node_type\", node_type]),\n",
    "        \"hypervisor_properties\": \"\",\n",
    "        \"min\": count,\n",
    "        \"max\": count\n",
    "    })\n",
    "\n",
    "def reserve_node_simple(name,node_type=\"compute_haswell\",count=1):\n",
    "    print('this is the new code')\n",
    "    # Set start/end date for lease\n",
    "    # Start one minute into future to avoid Blazar thinking lease is in past\n",
    "    # due to rounding to closest minute.\n",
    "    start_date = (datetime.now(tz=tz.tzutc()) + timedelta(minutes=1)).strftime(BLAZAR_TIME_FORMAT)\n",
    "    end_date   = (datetime.now(tz=tz.tzutc()) + timedelta(days=1)).strftime(BLAZAR_TIME_FORMAT)\n",
    "    \n",
    "    # Build list of reservations (in this case there is only one reservation)\n",
    "    res = []\n",
    "    add_node_reservation(res, count=count, node_type=node_type)\n",
    "\n",
    "    # Create the lease\n",
    "    lease = chi.blazar().lease.create(name=reservation_name, \n",
    "                                start=start_date,\n",
    "                                end=end_date,\n",
    "                                reservations=res, events=[])"
   ]
  },
  {
   "cell_type": "markdown",
   "metadata": {},
   "source": [
    "## Examples: \n",
    "**Important**: Examples below import API methods from chi library and does not use refernece code above!\n",
    "\n",
    "#### Reserve a Node"
   ]
  },
  {
   "cell_type": "code",
   "execution_count": 2,
   "metadata": {},
   "outputs": [],
   "source": [
    "import json\n",
    "import os\n",
    "import chi\n",
    "\n",
    "from chi.reservation_api_examples import *\n",
    "\n",
    "#Config with your project and site\n",
    "chi.set('project_name', 'CH-816532') # Replace with your project name\n",
    "chi.set('region_name', 'CHI@UC')     # Optional, defaults to 'CHI@UC'\n",
    "\n",
    "\n",
    "# Tip: Name resources with your username for easier identification\n",
    "username = os.getenv(\"USER\")\n",
    "lease_name = username+'Lease'\n",
    "\n",
    "#Create the lease\n",
    "reserve_node_simple(lease_name, node_type=\"compute_haswell\")\n",
    "\n",
    "#Get the lease by name\n",
    "lease = get_lease(lease_name)\n",
    "    \n",
    "#Print the lease info\n",
    "print(json.dumps(lease, indent=2))\n"
   ]
  },
  {
   "cell_type": "code",
   "execution_count": null,
   "metadata": {},
   "outputs": [],
   "source": []
  }
 ],
 "metadata": {
  "kernelspec": {
   "display_name": "Python 3",
   "language": "python",
   "name": "python3"
  },
  "language_info": {
   "codemirror_mode": {
    "name": "ipython",
    "version": 3
   },
   "file_extension": ".py",
   "mimetype": "text/x-python",
   "name": "python",
   "nbconvert_exporter": "python",
   "pygments_lexer": "ipython3",
   "version": "3.7.3"
  }
 },
 "nbformat": 4,
 "nbformat_minor": 4
}
