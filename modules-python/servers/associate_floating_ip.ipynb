{
 "cells": [
  {
   "cell_type": "markdown",
   "metadata": {},
   "source": [
    "## Python Module: Associate Floating IP\n",
    "\n",
    "This notebook demonstrates how to use the OpenStack python API to...\n",
    "\n",
    "#### Related Modules\n",
    "\n",
    "- [Module Name](../../path/to/module.ipynb)\n",
    "\n",
    "#### Arguments\n",
    "\n",
    "Required:\n",
    "\n",
    "- arg1: arg1 description\n",
    "\n",
    "Optional:\n",
    "\n",
    "- arg2: arg2 description: default: 'XYZ'\n",
    "\n",
    "#### OpenStack API Method"
   ]
  },
  {
   "cell_type": "code",
   "execution_count": 1,
   "metadata": {},
   "outputs": [],
   "source": [
    "\n",
    "def associate_floating_ip(server_name, floating_ip_str=None):\n",
    "    server = get_server_by_name(server_name)\n",
    "    \n",
    "    if floating_ip_str == None:\n",
    "        fip = get_free_floating_ip()\n",
    "    else:\n",
    "        fip = get_specific_floating_ip(floating_ip_str)\n",
    "  \n",
    "    if fip == None:\n",
    "        return\n",
    "    ip = fip['floating_ip_address']\n",
    "    \n",
    "    ports = chi.neutron().list_ports(**{'device_id': server.id}).get('ports')\n",
    "    fip_target = {\n",
    "        'port_id': ports[0]['id'],\n",
    "        'ip_addr': ports[0]['fixed_ips'][0]['ip_address']\n",
    "    }\n",
    "\n",
    "    target_id = fip_target['port_id']\n",
    "    chi.neutron().update_floatingip(fip['id'], body={\n",
    "             'floatingip': {\n",
    "                 'port_id': target_id,\n",
    "             }\n",
    "          }\n",
    "    )\n",
    "    return ip\n"
   ]
  },
  {
   "cell_type": "markdown",
   "metadata": {},
   "source": [
    "#### Example"
   ]
  },
  {
   "cell_type": "code",
   "execution_count": null,
   "metadata": {},
   "outputs": [],
   "source": [
    "import chi\n",
    "from chi.networking_api_examples import *\n",
    "from chi.servers_api_examples import *\n",
    "from chi.reservations_api_examples import *\n",
    "\n",
    "\n",
    "#Config with your project and site\n",
    "chi.set('project_name', 'CH-XXXXXXX') # Replace with your project name\n",
    "chi.set('region_name', 'CHI@UC')     # Optional, defaults to 'CHI@UC'\n",
    "\n",
    "#de some stuff\n"
   ]
  },
  {
   "cell_type": "code",
   "execution_count": null,
   "metadata": {},
   "outputs": [],
   "source": []
  }
 ],
 "metadata": {
  "kernelspec": {
   "display_name": "Python 3",
   "language": "python",
   "name": "python3"
  },
  "language_info": {
   "codemirror_mode": {
    "name": "ipython",
    "version": 3
   },
   "file_extension": ".py",
   "mimetype": "text/x-python",
   "name": "python",
   "nbconvert_exporter": "python",
   "pygments_lexer": "ipython3",
   "version": "3.7.3"
  }
 },
 "nbformat": 4,
 "nbformat_minor": 4
}
