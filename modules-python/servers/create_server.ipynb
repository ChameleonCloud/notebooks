{
 "cells": [
  {
   "cell_type": "markdown",
   "metadata": {},
   "source": [
    "## Python Module: Delete a Server\n",
    "\n",
    "This notebook demonstrates how to use the OpenStack python API to create a server  \n",
    "\n",
    "#### Related Modules\n",
    "\n",
    "- [Reserve Server](../../modules-python/reservations/reserve_server.ipynb)\n",
    "- [Get Reservation](../../modules-python/reservations/get_reservation_from_lease.ipynb)\n",
    "\n",
    "#### Import Library\n",
    "\n",
    "```\n",
    "import chi\n",
    "from chi.server_api_examples import *\n",
    "from chi.reservation_api_examples import *\n",
    "```\n",
    "\n",
    "#### Arguments\n",
    "\n",
    "Required:\n",
    "\n",
    "- `server_name`: The name of the new server\n",
    "- `reservation_id`: The compute reservation to use. See modules [Reserve Server](../../modules-python/reservations/reserve_server.ipynb) or [Get Reservation](../../modules-python/reservations/get_reservation_from_lease.ipynb)\n",
    "- `key_name`: The ssh key pair to use.\n",
    "\n",
    "Optional:\n",
    "\n",
    "- `network_name`: The network to connect. Default: 'sharednet1'\n",
    "- `count`: number of servers to create. Default: 1\n",
    "\n",
    "#### Imported Methods used by Example(s) "
   ]
  },
  {
   "cell_type": "code",
   "execution_count": null,
   "metadata": {},
   "outputs": [],
   "source": [
    "def create_server(server_name, reservation_id, key_name, network_name='sharednet1', count=1, image_name='CC-CentOS7', flavor_name='baremetal'):\n",
    "    # Get flavor\n",
    "    flavor = get_flavor_by_name(name=flavor_name)\n",
    "\n",
    "    #Get image\n",
    "    image = get_image_by_name(name=image_name)\n",
    "\n",
    "    #Get network\n",
    "    network = get_network_by_name(name=network_name)\n",
    "\n",
    "    server = nova.servers.create(name=server_name,\n",
    "                       image=image,\n",
    "                       flavor=flavor,\n",
    "                       scheduler_hints={'reservation': reservation_id},\n",
    "                       key_name=key_name,\n",
    "                       nics=[{\"net-id\": network, \"v4-fixed-ip\": \"\"}],\n",
    "                       min_count=count,\n",
    "                       max_count=count \n",
    "                       )\n",
    "    return server"
   ]
  },
  {
   "cell_type": "markdown",
   "metadata": {},
   "source": [
    "## Examples: \n",
    "**Important**: Examples below import API methods from chi library and does not use refernece code above!\n",
    "\n",
    "#### Create a Server"
   ]
  },
  {
   "cell_type": "code",
   "execution_count": 2,
   "metadata": {},
   "outputs": [],
   "source": [
    "import json\n",
    "import os\n",
    "import chi\n",
    "\n",
    "from chi.server_api_examples import *\n",
    "from chi.reservation_api_examples import *\n",
    "\n",
    "#Config with your project and site\n",
    "chi.set('project_name', 'CH-816532') # Replace with your project name\n",
    "chi.set('region_name', 'CHI@UC')     # Optional, defaults to 'CHI@UC'\n",
    "\n",
    "\n",
    "# Tip: Name resources with your username for easier identification\n",
    "username = os.getenv(\"USER\")\n",
    "server_name = username+'Server'\n",
    "\n",
    "network_name='sharednet1'\n",
    "image_name='CC-CentOS7'\n",
    "flavor_name='baremetal'\n",
    "\n",
    "#Insert keypair name and compute reservation ID\n",
    "key_name = 'pruth-jupyter'  # Change to your keypair\n",
    "compute_reservation_id = '95c14141-2720-4d80-b970-19a2834767c9'  #Change to your compute reservation ID\n",
    "\n",
    "#crteat the server\n",
    "server = create_server(server_name, \n",
    "                       reservation_id=compute_reservation_id, \n",
    "                       key_name=key_name, \n",
    "                       network_name=network_name, \n",
    "                       image_name=image_name, \n",
    "                       flavor_name=flavor_name)\n",
    "\n"
   ]
  },
  {
   "cell_type": "code",
   "execution_count": null,
   "metadata": {},
   "outputs": [],
   "source": []
  }
 ],
 "metadata": {
  "kernelspec": {
   "display_name": "Python 3",
   "language": "python",
   "name": "python3"
  },
  "language_info": {
   "codemirror_mode": {
    "name": "ipython",
    "version": 3
   },
   "file_extension": ".py",
   "mimetype": "text/x-python",
   "name": "python",
   "nbconvert_exporter": "python",
   "pygments_lexer": "ipython3",
   "version": "3.7.3"
  }
 },
 "nbformat": 4,
 "nbformat_minor": 4
}
