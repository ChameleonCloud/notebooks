{
 "cells": [
  {
   "cell_type": "markdown",
   "metadata": {},
   "source": [
    "## Python Module: Create a Server\n",
    "\n",
    "This notebook demonstrates how to use the OpenStack python API to delete a server.\n",
    "\n",
    "#### Related Modules\n",
    "\n",
    "- [Reserve a Server](../reservations/reserve_node_simple.ipynb)\n",
    "- [Reserve a Floating IP](../reservations/reserve_floating_ip.ipynb)\n",
    "- [Get Lease by Name](../reservations/get_lease_by_name.ipynb)\n",
    "- [Get Reservation](../reservations/get_reservations_from_lease.ipynb)\n",
    "\n",
    "#### Import Library\n",
    "\n",
    "```\n",
    "import chi\n",
    "from chi.server_api_examples import *\n",
    "from chi.reservation_api_examples import *\n",
    "```\n",
    "\n",
    "#### Arguments\n",
    "\n",
    "Required:\n",
    "\n",
    "- `server_name`: The name of the new server\n",
    "- `reservation_id`: The compute reservation to use. See modules [Reserve a Server](../reservations/reserve_node_simple.ipynb) or [Get Reservation](../reservations/get_reservations_from_lease.ipynb)\n",
    "- `key_name`: The ssh key pair to use.\n",
    "\n",
    "Optional:\n",
    "\n",
    "- `network_name`: The network to connect. Default: 'sharednet1'\n",
    "- `count`: number of servers to create. Default: 1\n",
    "\n",
    "#### Imported Methods used by Example(s) "
   ]
  },
  {
   "cell_type": "code",
   "execution_count": null,
   "metadata": {},
   "outputs": [],
   "source": [
    "def delete_server_by_name(server_name):\n",
    "    server = get_server_by_name(server_name)\n",
    "    return server.delete()\n",
    "    \n",
    "def delete_server(server):\n",
    "    return server.delete()\n"
   ]
  },
  {
   "cell_type": "markdown",
   "metadata": {},
   "source": [
    "## Examples: \n",
    "**Important**: Examples below import API methods from chi library and does not use refernece code above!\n",
    "\n",
    "#### Delete a Server"
   ]
  },
  {
   "cell_type": "code",
   "execution_count": 1,
   "metadata": {},
   "outputs": [
    {
     "data": {
      "text/plain": [
       "()"
      ]
     },
     "execution_count": 1,
     "metadata": {},
     "output_type": "execute_result"
    }
   ],
   "source": [
    "import json\n",
    "import os\n",
    "import chi\n",
    "\n",
    "from chi.server_api_examples import *\n",
    "from chi.reservation_api_examples import *\n",
    "\n",
    "#Config with your project and site\n",
    "chi.set('project_name', 'CH-816532') # Replace with your project name\n",
    "chi.set('region_name', 'CHI@UC')     # Optional, defaults to 'CHI@UC'\n",
    "\n",
    "\n",
    "# Tip: Name resources with your username for easier identification\n",
    "username = os.getenv(\"USER\")\n",
    "server_name = username+'Server'\n",
    "\n",
    "#delete the server\n",
    "delete_server_by_name(server_name)\n"
   ]
  },
  {
   "cell_type": "code",
   "execution_count": null,
   "metadata": {},
   "outputs": [],
   "source": []
  }
 ],
 "metadata": {
  "kernelspec": {
   "display_name": "Python 3",
   "language": "python",
   "name": "python3"
  },
  "language_info": {
   "codemirror_mode": {
    "name": "ipython",
    "version": 3
   },
   "file_extension": ".py",
   "mimetype": "text/x-python",
   "name": "python",
   "nbconvert_exporter": "python",
   "pygments_lexer": "ipython3",
   "version": "3.7.3"
  }
 },
 "nbformat": 4,
 "nbformat_minor": 4
}
