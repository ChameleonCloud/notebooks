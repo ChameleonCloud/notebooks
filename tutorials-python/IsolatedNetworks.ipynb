{
 "cells": [
  {
   "cell_type": "markdown",
   "metadata": {},
   "source": [
    "## Tutorial: Create an Isolated VLAN and Servers\n",
    "\n",
    "This notebook demonstrates how to create isolated VLANs and attach servers.\n",
    "\n",
    "#### Modules \n",
    "\n",
    "- [Reserve Mulitple Resources](../modules-python/reservations/reserve_multiple_resources.ipynb)\n",
    "- [Get Lease by Name](../modules-python/reservations/get_lease_by_name.ipynb)\n",
    "- [Get Reservation](../modules-python/reservations/get_reservations_from_lease.ipynb)\n",
    "- [Create Server](../modules-python/servers/create_server.ipynb)\n",
    "- [Delete Server](../modules-python/servers/delete_server.ipynb)\n",
    "- [Create Network](../modules-python/network/create_network.ipynb)\n",
    "- [Delete Network](../modules-python/network/delete_network.ipynb)\n",
    "- [Create Subnet](../modules-python/network/create_subnet.ipynb)\n",
    "- [Delete Subnet](../modules-python/network/delete_subnet.ipynb)\n",
    "- [Get Network by Name](../modules-python/network/get_network_by_name.ipynb)\n",
    "\n",
    "#### Import Library\n",
    "\n",
    "```\n",
    "import chi\n",
    "from chi.server_api_examples import *\n",
    "from chi.reservation_api_examples import *\n",
    "from chi.networking_api_examples import *\n",
    "```\n",
    "\n",
    "\n"
   ]
  },
  {
   "cell_type": "markdown",
   "metadata": {},
   "source": [
    "## Tutorial: "
   ]
  },
  {
   "cell_type": "markdown",
   "metadata": {},
   "source": [
    "#### Configure the Environment\n",
    "\n",
    "Import the chi example API calls, set the project name and region, and set various names and attributes to use in the tutorial. "
   ]
  },
  {
   "cell_type": "code",
   "execution_count": null,
   "metadata": {},
   "outputs": [],
   "source": [
    "import json\n",
    "import os\n",
    "import chi\n",
    "\n",
    "from chi.server_api_examples import *\n",
    "from chi.reservation_api_examples import *\n",
    "from chi.networking_api_examples import *\n",
    "\n",
    "#Config with your project and site\n",
    "chi.set('project_name', 'CH-816532') # Replace with your project name\n",
    "chi.set('region_name', 'CHI@UC')     # Optional, defaults to 'CHI@UC'\n",
    "\n",
    "#Insert keypair name\n",
    "key_name = 'pruth-jupyter'  # Change to your keypair\n",
    "\n",
    "# Tip: Name resources with your username for easier identification\n",
    "username = os.getenv(\"USER\")\n",
    "server_name = username+'Server'\n",
    "network_name = username+'Net'\n",
    "subnet_name = username+'subnet'\n",
    "router_name = username+'Router'\n",
    "lease_name = username+'Lease'\n",
    "\n",
    "#Server attributes\n",
    "image_name='CC-CentOS7'\n",
    "flavor_name='baremetal'\n",
    "node_type=\"compute_haswell\"\n",
    "server_count=4"
   ]
  },
  {
   "cell_type": "markdown",
   "metadata": {},
   "source": [
    "#### Create a Lease\n",
    "\n",
    "This cell creates a multi-reservation lease with one server, one private network, and one floating IP address. The start date is set to one miniute from now and the end date is set to one day from now.  Then a list of reservations is created by calling one or more chi example funtions as described in this [module](../modules-python/reservations/reserve_multiple_resources.ipynb).  The name, dates, and list of reservations are passed to the OpenStack Blazar API to create the lease. \n",
    "\n",
    "After creating the lease you can view the lease information by [getting the lease](../modules-python/reservations/get_lease_by_name.ipynb) and printing the json object that is returned."
   ]
  },
  {
   "cell_type": "code",
   "execution_count": null,
   "metadata": {},
   "outputs": [],
   "source": [
    "# Set start/end date for lease\n",
    "# Start one minute into future to avoid Blazar thinking lease is in past\n",
    "# due to rounding to closest minute.\n",
    "start_date = (datetime.now(tz=tz.tzutc()) + timedelta(minutes=1)).strftime(BLAZAR_TIME_FORMAT)\n",
    "end_date   = (datetime.now(tz=tz.tzutc()) + timedelta(days=1)).strftime(BLAZAR_TIME_FORMAT)\n",
    "\n",
    "# Build list of reservations (in this case there is only one reservation)\n",
    "reservation_list = []\n",
    "add_node_reservation(reservation_list, count=server_count, node_type=node_type)\n",
    "add_network_reservation(reservation_list, network_name=network_name)\n",
    "add_fip_reservation(reservation_list, count=1)\n",
    "\n",
    "# Create the lease\n",
    "chi.blazar().lease.create(name=lease_name, \n",
    "                            start=start_date,\n",
    "                            end=end_date,\n",
    "                            reservations=reservation_list, events=[])\n",
    "\n",
    "#Get the lease by name\n",
    "lease = get_lease(lease_name)\n",
    "    \n",
    "#Print the lease info\n",
    "print(json.dumps(lease, indent=2))"
   ]
  },
  {
   "cell_type": "markdown",
   "metadata": {},
   "source": [
    "#### Get the Reservations\n",
    "\n",
    "Each lease contains one or more reservations. The individual reservation IDs are required to instantiate resources. You can [get the lease](../modules-python/reservations/get_lease_by_name.ipynb) and separate the reservation IDs for compute, network, and floating IPs using the technique below."
   ]
  },
  {
   "cell_type": "code",
   "execution_count": null,
   "metadata": {},
   "outputs": [],
   "source": [
    "#Get the lease by name\n",
    "lease = get_lease(lease_name)\n",
    "\n",
    "compute_reservation_id = list(filter(lambda reservation: reservation['resource_type'] == 'physical:host', lease['reservations']))[0]['id']\n",
    "network_reservation_id = list(filter(lambda reservation: reservation['resource_type'] == 'network', lease['reservations']))[0]['id']\n",
    "floatingip_reservation_id = list(filter(lambda reservation: reservation['resource_type'] == 'virtual:floatingip', lease['reservations']))[0]['id']\n",
    "\n",
    "print(\"compute_reservation_id: \" + compute_reservation_id)\n",
    "print(\"network_reservation_id: \" + network_reservation_id)\n",
    "print(\"floatingip_reservation_id: \" + floatingip_reservation_id)"
   ]
  },
  {
   "cell_type": "markdown",
   "metadata": {},
   "source": [
    "#### Get the Network\n",
    "\n",
    "Getting the network is not required for the remainder of the tutorial. However, it is a good test to see if your network reservation has become active. The [get_network_by_name](../modules-python/network/get_network_by_name.ipynb) call will fail if a network with that name does not yet exits. It will also fail if a network with the same name already exists (likely from a previous run of this notebook)."
   ]
  },
  {
   "cell_type": "code",
   "execution_count": null,
   "metadata": {},
   "outputs": [],
   "source": [
    "network = get_network_by_name(network_name)\n",
    "network_id = network['id']\n",
    "\n",
    "print('Network ID: ' + str(network_id))"
   ]
  },
  {
   "cell_type": "markdown",
   "metadata": {},
   "source": [
    "#### Add a subnet\n",
    "\n",
    "[Adds a subnet](../modules-python/network/create_subnet.ipynb) to the reserved network. "
   ]
  },
  {
   "cell_type": "code",
   "execution_count": null,
   "metadata": {},
   "outputs": [],
   "source": [
    "subnet = add_subnet(subnet_name, network_name)"
   ]
  },
  {
   "cell_type": "markdown",
   "metadata": {},
   "source": [
    "#### Add a Router\n",
    "\n",
    "TODO: add links here"
   ]
  },
  {
   "cell_type": "code",
   "execution_count": null,
   "metadata": {},
   "outputs": [],
   "source": [
    "router = create_router(router_name, network_name)"
   ]
  },
  {
   "cell_type": "markdown",
   "metadata": {},
   "source": [
    "#### Attach the Router and Subnet\n",
    "\n",
    "TODO: Add links here"
   ]
  },
  {
   "cell_type": "code",
   "execution_count": null,
   "metadata": {},
   "outputs": [],
   "source": [
    "attach_router_to_subnet(router_name=router_name, subnet_name=subnet_name)"
   ]
  },
  {
   "cell_type": "markdown",
   "metadata": {},
   "source": [
    "#### Start the Server\n",
    "\n",
    "Use the compute_reservation_id to [create the server](../modules-python/servers/create_server.ipynb)."
   ]
  },
  {
   "cell_type": "code",
   "execution_count": null,
   "metadata": {},
   "outputs": [],
   "source": [
    "#create the server\n",
    "server = create_server(server_name, \n",
    "                       reservation_id=compute_reservation_id, \n",
    "                       key_name=key_name, \n",
    "                       network_name=network_name, \n",
    "                       image_name=image_name, \n",
    "                       flavor_name=flavor_name)"
   ]
  },
  {
   "cell_type": "markdown",
   "metadata": {},
   "source": [
    "#### Associate the Floating IP   \n",
    "TODO: need to find floating_ip from the reservation that was just made"
   ]
  },
  {
   "cell_type": "code",
   "execution_count": null,
   "metadata": {},
   "outputs": [],
   "source": [
    "floating_ip = associate_floating_ip(server_name)\n",
    "\n",
    "print('Floating IP: ' + str(floating_ip))"
   ]
  },
  {
   "cell_type": "markdown",
   "metadata": {},
   "source": [
    "#### Delete Server\n",
    "\n",
    "[Delete the server](../modules-python/servers/delete_server.ipynb) using its name."
   ]
  },
  {
   "cell_type": "code",
   "execution_count": null,
   "metadata": {},
   "outputs": [],
   "source": [
    "delete_server_by_name(server_name)"
   ]
  },
  {
   "cell_type": "markdown",
   "metadata": {},
   "source": [
    "#### De-configure Network\n",
    "TODO: break up into steps"
   ]
  },
  {
   "cell_type": "code",
   "execution_count": null,
   "metadata": {},
   "outputs": [],
   "source": [
    "try:\n",
    "    result = detach_router_by_name(router_name=router_name, subnet_name=subnet_name)\n",
    "except Exception as e:\n",
    "    print(\"detach_router_by_name error:\" + str(e))\n",
    "    pass\n",
    "\n",
    "try:\n",
    "    result = delete_router_by_name(router_name)\n",
    "except Exception as e:\n",
    "    print(\"delete_router_by_name error: \" + str(e))\n",
    "    pass\n",
    "\n",
    "try:\n",
    "    result = delete_subnet_by_name(subnet_name)\n",
    "except Exception as e:\n",
    "    print(\"delete_subnet_by_name error: \" + str(e))\n",
    "    pass\n",
    "\n",
    "try:\n",
    "    result = delete_network_by_name(network_name)\n",
    "except Exception as e:\n",
    "    print(\"delete_network_by_name error: \" + str(e))\n",
    "    pass"
   ]
  },
  {
   "cell_type": "markdown",
   "metadata": {},
   "source": [
    "#### Release Lease"
   ]
  },
  {
   "cell_type": "code",
   "execution_count": null,
   "metadata": {},
   "outputs": [],
   "source": [
    "delete_lease_by_name(lease_name)"
   ]
  },
  {
   "cell_type": "code",
   "execution_count": null,
   "metadata": {},
   "outputs": [],
   "source": []
  }
 ],
 "metadata": {
  "kernelspec": {
   "display_name": "Python 3",
   "language": "python",
   "name": "python3"
  },
  "language_info": {
   "codemirror_mode": {
    "name": "ipython",
    "version": 3
   },
   "file_extension": ".py",
   "mimetype": "text/x-python",
   "name": "python",
   "nbconvert_exporter": "python",
   "pygments_lexer": "ipython3",
   "version": "3.7.3"
  }
 },
 "nbformat": 4,
 "nbformat_minor": 4
}
