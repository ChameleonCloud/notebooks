{
 "cells": [
  {
   "cell_type": "markdown",
   "metadata": {},
   "source": [
    "## Tutorial: Create an Isolated VLAN and Servers\n",
    "\n",
    "This notebook demonstrates how to create isolated VLANs and attach servers.\n",
    "\n",
    "#### Modules \n",
    "\n",
    "- [Reserve a Mulitple Resources](../modules-python/reservations/reserve_multiple_resources.ipynb)\n",
    "- [Get Lease by Name](../modules-python/reservations/get_lease_by_name.ipynb)\n",
    "- [Get Reservation](../modules-python/reservations/get_reservations_from_lease.ipynb)\n",
    "- [Create Server](../modules-python/servers/create_server.ipynb)\n",
    "- [Delete Server](../modules-python/servers/delete_server.ipynb)\n",
    "- [Create Network](../modules-python/network/create_network.ipynb)\n",
    "- [Delete Network](../modules-python/network/delete_network.ipynb)\n",
    "- [Create Subnet](../modules-python/network/create_subnet.ipynb)\n",
    "- [Delete Subnet](../modules-python/network/delete_subnet.ipynb)\n",
    "\n",
    "#### Import Library\n",
    "\n",
    "```\n",
    "import chi\n",
    "from chi.server_api_examples import *\n",
    "from chi.reservation_api_examples import *\n",
    "from chi.networking_api_examples import *\n",
    "```\n",
    "\n",
    "\n"
   ]
  },
  {
   "cell_type": "markdown",
   "metadata": {},
   "source": [
    "## Tutorial: "
   ]
  },
  {
   "cell_type": "markdown",
   "metadata": {},
   "source": [
    "#### Configure the Environment"
   ]
  },
  {
   "cell_type": "code",
   "execution_count": 1,
   "metadata": {},
   "outputs": [],
   "source": [
    "import json\n",
    "import os\n",
    "import chi\n",
    "\n",
    "from chi.server_api_examples import *\n",
    "from chi.reservation_api_examples import *\n",
    "from chi.networking_api_examples import *\n",
    "\n",
    "#Config with your project and site\n",
    "chi.set('project_name', 'CH-816532') # Replace with your project name\n",
    "chi.set('region_name', 'CHI@UC')     # Optional, defaults to 'CHI@UC'\n",
    "\n",
    "#Insert keypair name\n",
    "key_name = 'pruth-jupyter'  # Change to your keypair\n",
    "\n",
    "# Tip: Name resources with your username for easier identification\n",
    "username = os.getenv(\"USER\")\n",
    "server_name = username+'Server'\n",
    "network_name = username+'Net'\n",
    "subnet_name = username+'subnet'\n",
    "router_name = username+'Router'\n",
    "lease_name = username+'Lease'\n",
    "\n",
    "#Server attributes\n",
    "image_name='CC-CentOS7'\n",
    "flavor_name='baremetal'\n",
    "node_type=\"compute_haswell\"\n",
    "server_count=4\n",
    "physical_network=\"exogeni\""
   ]
  },
  {
   "cell_type": "markdown",
   "metadata": {},
   "source": [
    "#### Create a Lease"
   ]
  },
  {
   "cell_type": "code",
   "execution_count": 2,
   "metadata": {},
   "outputs": [
    {
     "name": "stdout",
     "output_type": "stream",
     "text": [
      "{\n",
      "  \"status\": \"PENDING\",\n",
      "  \"user_id\": \"f3a422ce5a4442e3a7a247ddfd98bfc3\",\n",
      "  \"name\": \"pruthLease\",\n",
      "  \"end_date\": \"2020-05-06T19:51:00.000000\",\n",
      "  \"reservations\": [\n",
      "    {\n",
      "      \"status\": \"pending\",\n",
      "      \"lease_id\": \"8930cdb4-a9b6-4fc0-ac40-b402bfc908fb\",\n",
      "      \"resource_id\": \"2f8561d4-a9de-4ce9-9fec-8851a75746b9\",\n",
      "      \"network_id\": \"44b38c44-2a42-4b6d-b129-6c8f1b2a1375\",\n",
      "      \"created_at\": \"2020-05-05 19:51:52\",\n",
      "      \"updated_at\": \"2020-05-05 19:51:53\",\n",
      "      \"required_floatingips\": [],\n",
      "      \"missing_resources\": false,\n",
      "      \"amount\": 1,\n",
      "      \"id\": \"26912164-3382-4f7e-9d47-2681e56e6642\",\n",
      "      \"resource_type\": \"virtual:floatingip\",\n",
      "      \"resources_changed\": false\n",
      "    },\n",
      "    {\n",
      "      \"status\": \"pending\",\n",
      "      \"before_end\": \"default\",\n",
      "      \"lease_id\": \"8930cdb4-a9b6-4fc0-ac40-b402bfc908fb\",\n",
      "      \"resource_id\": \"a28ca845-a778-4b9a-beb3-ff64d33417f9\",\n",
      "      \"max\": 4,\n",
      "      \"created_at\": \"2020-05-05 19:51:43\",\n",
      "      \"min\": 4,\n",
      "      \"updated_at\": \"2020-05-05 19:51:50\",\n",
      "      \"missing_resources\": false,\n",
      "      \"hypervisor_properties\": \"\",\n",
      "      \"on_start\": \"default\",\n",
      "      \"resource_properties\": \"[\\\"==\\\", \\\"$node_type\\\", \\\"compute_haswell\\\"]\",\n",
      "      \"id\": \"7a7a8f7d-e8af-44ed-b09f-459ece770cbf\",\n",
      "      \"resource_type\": \"physical:host\",\n",
      "      \"resources_changed\": false\n",
      "    },\n",
      "    {\n",
      "      \"status\": \"pending\",\n",
      "      \"lease_id\": \"8930cdb4-a9b6-4fc0-ac40-b402bfc908fb\",\n",
      "      \"resource_id\": \"6ccab9b1-1806-499c-9d9d-b013b8e17aec\",\n",
      "      \"created_at\": \"2020-05-05 19:51:50\",\n",
      "      \"updated_at\": \"2020-05-05 19:51:52\",\n",
      "      \"missing_resources\": false,\n",
      "      \"id\": \"9ddfc970-2249-4e89-8179-f08872462b43\",\n",
      "      \"resource_type\": \"network\",\n",
      "      \"resources_changed\": false\n",
      "    }\n",
      "  ],\n",
      "  \"created_at\": \"2020-05-05 19:51:40\",\n",
      "  \"updated_at\": \"2020-05-05 19:51:53\",\n",
      "  \"events\": [\n",
      "    {\n",
      "      \"status\": \"UNDONE\",\n",
      "      \"lease_id\": \"8930cdb4-a9b6-4fc0-ac40-b402bfc908fb\",\n",
      "      \"event_type\": \"end_lease\",\n",
      "      \"created_at\": \"2020-05-05 19:51:53\",\n",
      "      \"updated_at\": null,\n",
      "      \"time\": \"2020-05-06T19:51:00.000000\",\n",
      "      \"id\": \"1c290ed1-6616-4b73-af5e-9d7931fb5120\"\n",
      "    },\n",
      "    {\n",
      "      \"status\": \"UNDONE\",\n",
      "      \"lease_id\": \"8930cdb4-a9b6-4fc0-ac40-b402bfc908fb\",\n",
      "      \"event_type\": \"before_end_lease\",\n",
      "      \"created_at\": \"2020-05-05 19:51:53\",\n",
      "      \"updated_at\": null,\n",
      "      \"time\": \"2020-05-05T19:52:00.000000\",\n",
      "      \"id\": \"4041672e-aabf-4e74-82ea-48e9e7409654\"\n",
      "    },\n",
      "    {\n",
      "      \"status\": \"UNDONE\",\n",
      "      \"lease_id\": \"8930cdb4-a9b6-4fc0-ac40-b402bfc908fb\",\n",
      "      \"event_type\": \"start_lease\",\n",
      "      \"created_at\": \"2020-05-05 19:51:53\",\n",
      "      \"updated_at\": null,\n",
      "      \"time\": \"2020-05-05T19:52:00.000000\",\n",
      "      \"id\": \"b46a5466-9511-43fa-8d0f-b4641d3b8dce\"\n",
      "    }\n",
      "  ],\n",
      "  \"id\": \"8930cdb4-a9b6-4fc0-ac40-b402bfc908fb\",\n",
      "  \"degraded\": false,\n",
      "  \"project_id\": \"d9faac3973a847f1b718fa765fe312e2\",\n",
      "  \"start_date\": \"2020-05-05T19:52:00.000000\",\n",
      "  \"trust_id\": \"434d605688af4e45a1726e0360d1d0c7\"\n",
      "}\n"
     ]
    }
   ],
   "source": [
    "# Set start/end date for lease\n",
    "# Start one minute into future to avoid Blazar thinking lease is in past\n",
    "# due to rounding to closest minute.\n",
    "start_date = (datetime.now(tz=tz.tzutc()) + timedelta(minutes=1)).strftime(BLAZAR_TIME_FORMAT)\n",
    "end_date   = (datetime.now(tz=tz.tzutc()) + timedelta(days=1)).strftime(BLAZAR_TIME_FORMAT)\n",
    "\n",
    "# Build list of reservations (in this case there is only one reservation)\n",
    "reservation_list = []\n",
    "add_node_reservation(reservation_list, count=server_count, node_type=node_type)\n",
    "add_network_reservation(reservation_list, network_name=network_name, physical_network=physical_network)\n",
    "add_fip_reservation(reservation_list, count=1)\n",
    "\n",
    "# Create the lease\n",
    "chi.blazar().lease.create(name=lease_name, \n",
    "                            start=start_date,\n",
    "                            end=end_date,\n",
    "                            reservations=reservation_list, events=[])\n",
    "\n",
    "#Get the lease by name\n",
    "lease = get_lease(lease_name)\n",
    "    \n",
    "#Print the lease info\n",
    "print(json.dumps(lease, indent=2))"
   ]
  },
  {
   "cell_type": "markdown",
   "metadata": {},
   "source": [
    "#### Get the Reservations"
   ]
  },
  {
   "cell_type": "code",
   "execution_count": 3,
   "metadata": {},
   "outputs": [
    {
     "name": "stdout",
     "output_type": "stream",
     "text": [
      "compute_reservation_id: 7a7a8f7d-e8af-44ed-b09f-459ece770cbf\n",
      "network_reservation_id: 9ddfc970-2249-4e89-8179-f08872462b43\n",
      "floatingip_reservation_id: 26912164-3382-4f7e-9d47-2681e56e6642\n"
     ]
    }
   ],
   "source": [
    "#Get the lease by name\n",
    "lease = get_lease(lease_name)\n",
    "\n",
    "compute_reservation_id = list(filter(lambda reservation: reservation['resource_type'] == 'physical:host', lease['reservations']))[0]['id']\n",
    "network_reservation_id = list(filter(lambda reservation: reservation['resource_type'] == 'network', lease['reservations']))[0]['id']\n",
    "floatingip_reservation_id = list(filter(lambda reservation: reservation['resource_type'] == 'virtual:floatingip', lease['reservations']))[0]['id']\n",
    "\n",
    "print(\"compute_reservation_id: \" + compute_reservation_id)\n",
    "print(\"network_reservation_id: \" + network_reservation_id)\n",
    "print(\"floatingip_reservation_id: \" + floatingip_reservation_id)"
   ]
  },
  {
   "cell_type": "markdown",
   "metadata": {},
   "source": [
    "#### Configute the Network"
   ]
  },
  {
   "cell_type": "code",
   "execution_count": 5,
   "metadata": {},
   "outputs": [
    {
     "name": "stdout",
     "output_type": "stream",
     "text": [
      "Network ID: 2e814389-d160-49cf-9f94-9ab9ba70b784\n"
     ]
    }
   ],
   "source": [
    "network = get_network_by_name(network_name)\n",
    "network_id = network['id']\n",
    "\n",
    "print('Network ID: ' + str(network_id))"
   ]
  },
  {
   "cell_type": "code",
   "execution_count": 6,
   "metadata": {},
   "outputs": [
    {
     "data": {
      "text/plain": [
       "{'network_id': '2e814389-d160-49cf-9f94-9ab9ba70b784',\n",
       " 'tenant_id': 'd9faac3973a847f1b718fa765fe312e2',\n",
       " 'subnet_id': '736482b2-eb5e-40fa-aba5-4d7afcf14a50',\n",
       " 'subnet_ids': ['736482b2-eb5e-40fa-aba5-4d7afcf14a50'],\n",
       " 'port_id': '5b1872f3-609b-4148-9647-b20a84fdd277',\n",
       " 'id': 'b73d8319-8ff1-4a2e-add5-b5fa0982aded'}"
      ]
     },
     "execution_count": 6,
     "metadata": {},
     "output_type": "execute_result"
    }
   ],
   "source": [
    "subnet = add_subnet(subnet_name, network_name)\n",
    "router = create_router(router_name, network_name)\n",
    "attach_router_to_subnet(router_name=router_name, subnet_name=subnet_name)"
   ]
  },
  {
   "cell_type": "markdown",
   "metadata": {},
   "source": [
    "#### Start the Server"
   ]
  },
  {
   "cell_type": "code",
   "execution_count": 7,
   "metadata": {},
   "outputs": [
    {
     "ename": "TypeError",
     "evalue": "Object of type Server is not JSON serializable",
     "output_type": "error",
     "traceback": [
      "\u001b[0;31m---------------------------------------------------------------------------\u001b[0m",
      "\u001b[0;31mTypeError\u001b[0m                                 Traceback (most recent call last)",
      "\u001b[0;32m<ipython-input-7-7a250155d4d5>\u001b[0m in \u001b[0;36m<module>\u001b[0;34m\u001b[0m\n\u001b[1;32m      8\u001b[0m \u001b[0;34m\u001b[0m\u001b[0m\n\u001b[1;32m      9\u001b[0m \u001b[0;31m#Print the lease info\u001b[0m\u001b[0;34m\u001b[0m\u001b[0;34m\u001b[0m\u001b[0;34m\u001b[0m\u001b[0m\n\u001b[0;32m---> 10\u001b[0;31m \u001b[0mprint\u001b[0m\u001b[0;34m(\u001b[0m\u001b[0mjson\u001b[0m\u001b[0;34m.\u001b[0m\u001b[0mdumps\u001b[0m\u001b[0;34m(\u001b[0m\u001b[0mserver\u001b[0m\u001b[0;34m,\u001b[0m \u001b[0mindent\u001b[0m\u001b[0;34m=\u001b[0m\u001b[0;36m2\u001b[0m\u001b[0;34m)\u001b[0m\u001b[0;34m)\u001b[0m\u001b[0;34m\u001b[0m\u001b[0;34m\u001b[0m\u001b[0m\n\u001b[0m",
      "\u001b[0;32m/opt/conda/lib/python3.7/json/__init__.py\u001b[0m in \u001b[0;36mdumps\u001b[0;34m(obj, skipkeys, ensure_ascii, check_circular, allow_nan, cls, indent, separators, default, sort_keys, **kw)\u001b[0m\n\u001b[1;32m    236\u001b[0m         \u001b[0mcheck_circular\u001b[0m\u001b[0;34m=\u001b[0m\u001b[0mcheck_circular\u001b[0m\u001b[0;34m,\u001b[0m \u001b[0mallow_nan\u001b[0m\u001b[0;34m=\u001b[0m\u001b[0mallow_nan\u001b[0m\u001b[0;34m,\u001b[0m \u001b[0mindent\u001b[0m\u001b[0;34m=\u001b[0m\u001b[0mindent\u001b[0m\u001b[0;34m,\u001b[0m\u001b[0;34m\u001b[0m\u001b[0;34m\u001b[0m\u001b[0m\n\u001b[1;32m    237\u001b[0m         \u001b[0mseparators\u001b[0m\u001b[0;34m=\u001b[0m\u001b[0mseparators\u001b[0m\u001b[0;34m,\u001b[0m \u001b[0mdefault\u001b[0m\u001b[0;34m=\u001b[0m\u001b[0mdefault\u001b[0m\u001b[0;34m,\u001b[0m \u001b[0msort_keys\u001b[0m\u001b[0;34m=\u001b[0m\u001b[0msort_keys\u001b[0m\u001b[0;34m,\u001b[0m\u001b[0;34m\u001b[0m\u001b[0;34m\u001b[0m\u001b[0m\n\u001b[0;32m--> 238\u001b[0;31m         **kw).encode(obj)\n\u001b[0m\u001b[1;32m    239\u001b[0m \u001b[0;34m\u001b[0m\u001b[0m\n\u001b[1;32m    240\u001b[0m \u001b[0;34m\u001b[0m\u001b[0m\n",
      "\u001b[0;32m/opt/conda/lib/python3.7/json/encoder.py\u001b[0m in \u001b[0;36mencode\u001b[0;34m(self, o)\u001b[0m\n\u001b[1;32m    199\u001b[0m         \u001b[0mchunks\u001b[0m \u001b[0;34m=\u001b[0m \u001b[0mself\u001b[0m\u001b[0;34m.\u001b[0m\u001b[0miterencode\u001b[0m\u001b[0;34m(\u001b[0m\u001b[0mo\u001b[0m\u001b[0;34m,\u001b[0m \u001b[0m_one_shot\u001b[0m\u001b[0;34m=\u001b[0m\u001b[0;32mTrue\u001b[0m\u001b[0;34m)\u001b[0m\u001b[0;34m\u001b[0m\u001b[0;34m\u001b[0m\u001b[0m\n\u001b[1;32m    200\u001b[0m         \u001b[0;32mif\u001b[0m \u001b[0;32mnot\u001b[0m \u001b[0misinstance\u001b[0m\u001b[0;34m(\u001b[0m\u001b[0mchunks\u001b[0m\u001b[0;34m,\u001b[0m \u001b[0;34m(\u001b[0m\u001b[0mlist\u001b[0m\u001b[0;34m,\u001b[0m \u001b[0mtuple\u001b[0m\u001b[0;34m)\u001b[0m\u001b[0;34m)\u001b[0m\u001b[0;34m:\u001b[0m\u001b[0;34m\u001b[0m\u001b[0;34m\u001b[0m\u001b[0m\n\u001b[0;32m--> 201\u001b[0;31m             \u001b[0mchunks\u001b[0m \u001b[0;34m=\u001b[0m \u001b[0mlist\u001b[0m\u001b[0;34m(\u001b[0m\u001b[0mchunks\u001b[0m\u001b[0;34m)\u001b[0m\u001b[0;34m\u001b[0m\u001b[0;34m\u001b[0m\u001b[0m\n\u001b[0m\u001b[1;32m    202\u001b[0m         \u001b[0;32mreturn\u001b[0m \u001b[0;34m''\u001b[0m\u001b[0;34m.\u001b[0m\u001b[0mjoin\u001b[0m\u001b[0;34m(\u001b[0m\u001b[0mchunks\u001b[0m\u001b[0;34m)\u001b[0m\u001b[0;34m\u001b[0m\u001b[0;34m\u001b[0m\u001b[0m\n\u001b[1;32m    203\u001b[0m \u001b[0;34m\u001b[0m\u001b[0m\n",
      "\u001b[0;32m/opt/conda/lib/python3.7/json/encoder.py\u001b[0m in \u001b[0;36m_iterencode\u001b[0;34m(o, _current_indent_level)\u001b[0m\n\u001b[1;32m    436\u001b[0m                     \u001b[0;32mraise\u001b[0m \u001b[0mValueError\u001b[0m\u001b[0;34m(\u001b[0m\u001b[0;34m\"Circular reference detected\"\u001b[0m\u001b[0;34m)\u001b[0m\u001b[0;34m\u001b[0m\u001b[0;34m\u001b[0m\u001b[0m\n\u001b[1;32m    437\u001b[0m                 \u001b[0mmarkers\u001b[0m\u001b[0;34m[\u001b[0m\u001b[0mmarkerid\u001b[0m\u001b[0;34m]\u001b[0m \u001b[0;34m=\u001b[0m \u001b[0mo\u001b[0m\u001b[0;34m\u001b[0m\u001b[0;34m\u001b[0m\u001b[0m\n\u001b[0;32m--> 438\u001b[0;31m             \u001b[0mo\u001b[0m \u001b[0;34m=\u001b[0m \u001b[0m_default\u001b[0m\u001b[0;34m(\u001b[0m\u001b[0mo\u001b[0m\u001b[0;34m)\u001b[0m\u001b[0;34m\u001b[0m\u001b[0;34m\u001b[0m\u001b[0m\n\u001b[0m\u001b[1;32m    439\u001b[0m             \u001b[0;32myield\u001b[0m \u001b[0;32mfrom\u001b[0m \u001b[0m_iterencode\u001b[0m\u001b[0;34m(\u001b[0m\u001b[0mo\u001b[0m\u001b[0;34m,\u001b[0m \u001b[0m_current_indent_level\u001b[0m\u001b[0;34m)\u001b[0m\u001b[0;34m\u001b[0m\u001b[0;34m\u001b[0m\u001b[0m\n\u001b[1;32m    440\u001b[0m             \u001b[0;32mif\u001b[0m \u001b[0mmarkers\u001b[0m \u001b[0;32mis\u001b[0m \u001b[0;32mnot\u001b[0m \u001b[0;32mNone\u001b[0m\u001b[0;34m:\u001b[0m\u001b[0;34m\u001b[0m\u001b[0;34m\u001b[0m\u001b[0m\n",
      "\u001b[0;32m/opt/conda/lib/python3.7/json/encoder.py\u001b[0m in \u001b[0;36mdefault\u001b[0;34m(self, o)\u001b[0m\n\u001b[1;32m    177\u001b[0m \u001b[0;34m\u001b[0m\u001b[0m\n\u001b[1;32m    178\u001b[0m         \"\"\"\n\u001b[0;32m--> 179\u001b[0;31m         raise TypeError(f'Object of type {o.__class__.__name__} '\n\u001b[0m\u001b[1;32m    180\u001b[0m                         f'is not JSON serializable')\n\u001b[1;32m    181\u001b[0m \u001b[0;34m\u001b[0m\u001b[0m\n",
      "\u001b[0;31mTypeError\u001b[0m: Object of type Server is not JSON serializable"
     ]
    }
   ],
   "source": [
    "#create the server\n",
    "server = create_server(server_name, \n",
    "                       reservation_id=compute_reservation_id, \n",
    "                       key_name=key_name, \n",
    "                       network_name=network_name, \n",
    "                       image_name=image_name, \n",
    "                       flavor_name=flavor_name)"
   ]
  },
  {
   "cell_type": "markdown",
   "metadata": {},
   "source": [
    "#### Associate the Floating IP   (TODO: need to find floating_ip from the reservation that was just made)"
   ]
  },
  {
   "cell_type": "code",
   "execution_count": 2,
   "metadata": {},
   "outputs": [
    {
     "name": "stdout",
     "output_type": "stream",
     "text": [
      "[{'router_id': None, 'status': 'DOWN', 'description': '', 'tags': ['blazar', 'reservation:69b1e298-bdde-4059-a46a-9c4e234fa30e'], 'tenant_id': 'd9faac3973a847f1b718fa765fe312e2', 'created_at': '2020-05-05T16:57:12Z', 'updated_at': '2020-05-05T16:57:13Z', 'floating_network_id': '44b38c44-2a42-4b6d-b129-6c8f1b2a1375', 'port_details': None, 'fixed_ip_address': None, 'floating_ip_address': '192.5.87.218', 'revision_number': 1, 'project_id': 'd9faac3973a847f1b718fa765fe312e2', 'port_id': None, 'id': '24db1b1e-d530-4e03-b872-bc4071a4e927'}, {'router_id': None, 'status': 'DOWN', 'description': '', 'tags': ['blazar', 'reservation:26912164-3382-4f7e-9d47-2681e56e6642'], 'tenant_id': 'd9faac3973a847f1b718fa765fe312e2', 'created_at': '2020-05-05T19:52:06Z', 'updated_at': '2020-05-05T19:52:07Z', 'floating_network_id': '44b38c44-2a42-4b6d-b129-6c8f1b2a1375', 'port_details': None, 'fixed_ip_address': None, 'floating_ip_address': '192.5.87.204', 'revision_number': 1, 'project_id': 'd9faac3973a847f1b718fa765fe312e2', 'port_id': None, 'id': '272a5aad-97de-4dc2-941d-7d726aa6a412'}, {'router_id': None, 'status': 'DOWN', 'description': '', 'tags': ['blazar', 'reservation:0449fc9e-8c70-49b3-832e-bc3a4b7beb57'], 'tenant_id': 'd9faac3973a847f1b718fa765fe312e2', 'created_at': '2020-05-04T20:28:11Z', 'updated_at': '2020-05-04T20:28:12Z', 'floating_network_id': '44b38c44-2a42-4b6d-b129-6c8f1b2a1375', 'port_details': None, 'fixed_ip_address': None, 'floating_ip_address': '192.5.87.214', 'revision_number': 1, 'project_id': 'd9faac3973a847f1b718fa765fe312e2', 'port_id': None, 'id': '28820d3a-0abf-4a3b-91c5-93a2dec073d1'}, {'router_id': None, 'status': 'DOWN', 'description': '', 'tags': [], 'tenant_id': 'd9faac3973a847f1b718fa765fe312e2', 'created_at': '2020-04-21T00:24:34Z', 'updated_at': '2020-04-30T16:45:08Z', 'floating_network_id': '44b38c44-2a42-4b6d-b129-6c8f1b2a1375', 'port_details': None, 'fixed_ip_address': None, 'floating_ip_address': '192.5.87.108', 'revision_number': 16, 'project_id': 'd9faac3973a847f1b718fa765fe312e2', 'port_id': None, 'id': '4765621f-42ff-4c5c-9290-23dbfb5b59a7'}, {'router_id': None, 'status': 'DOWN', 'description': '', 'tags': [], 'tenant_id': 'd9faac3973a847f1b718fa765fe312e2', 'created_at': '2020-04-28T12:12:53Z', 'updated_at': '2020-04-30T15:34:39Z', 'floating_network_id': '44b38c44-2a42-4b6d-b129-6c8f1b2a1375', 'port_details': None, 'fixed_ip_address': None, 'floating_ip_address': '192.5.87.27', 'revision_number': 8, 'project_id': 'd9faac3973a847f1b718fa765fe312e2', 'port_id': None, 'id': '9ccacd13-811c-4f1f-84c3-5847e312d627'}, {'router_id': None, 'status': 'DOWN', 'description': '', 'tags': [], 'tenant_id': 'd9faac3973a847f1b718fa765fe312e2', 'created_at': '2020-04-28T12:12:47Z', 'updated_at': '2020-04-30T14:47:58Z', 'floating_network_id': '44b38c44-2a42-4b6d-b129-6c8f1b2a1375', 'port_details': None, 'fixed_ip_address': None, 'floating_ip_address': '192.5.87.123', 'revision_number': 8, 'project_id': 'd9faac3973a847f1b718fa765fe312e2', 'port_id': None, 'id': 'd0d06db8-e338-4d28-965f-0f8cb48934d3'}]\n",
      "Floating IP: 192.5.87.218\n"
     ]
    }
   ],
   "source": [
    "floating_ip = associate_floating_ip(server_name)\n",
    "\n",
    "print('Floating IP: ' + str(floating_ip))"
   ]
  },
  {
   "cell_type": "markdown",
   "metadata": {},
   "source": [
    "#### Delete Server"
   ]
  },
  {
   "cell_type": "code",
   "execution_count": 3,
   "metadata": {},
   "outputs": [
    {
     "data": {
      "text/plain": [
       "()"
      ]
     },
     "execution_count": 3,
     "metadata": {},
     "output_type": "execute_result"
    }
   ],
   "source": [
    "delete_server_by_name(server_name)"
   ]
  },
  {
   "cell_type": "markdown",
   "metadata": {},
   "source": [
    "#### De-configure Network"
   ]
  },
  {
   "cell_type": "code",
   "execution_count": 4,
   "metadata": {},
   "outputs": [],
   "source": [
    "try:\n",
    "    result = detach_router_by_name(router_name=router_name, subnet_name=subnet_name)\n",
    "except Exception as e:\n",
    "    print(\"detach_router_by_name error:\" + str(e))\n",
    "    pass\n",
    "\n",
    "try:\n",
    "    result = delete_router_by_name(router_name)\n",
    "except Exception as e:\n",
    "    print(\"delete_router_by_name error: \" + str(e))\n",
    "    pass\n",
    "\n",
    "try:\n",
    "    result = delete_subnet_by_name(subnet_name)\n",
    "except Exception as e:\n",
    "    print(\"delete_subnet_by_name error: \" + str(e))\n",
    "    pass\n",
    "\n",
    "try:\n",
    "    result = delete_network_by_name(network_name)\n",
    "except Exception as e:\n",
    "    print(\"delete_network_by_name error: \" + str(e))\n",
    "    pass"
   ]
  },
  {
   "cell_type": "markdown",
   "metadata": {},
   "source": [
    "#### Release Lease"
   ]
  },
  {
   "cell_type": "code",
   "execution_count": 5,
   "metadata": {},
   "outputs": [
    {
     "name": "stdout",
     "output_type": "stream",
     "text": [
      "Deleted lease pruthLease with id 8930cdb4-a9b6-4fc0-ac40-b402bfc908fb\n"
     ]
    }
   ],
   "source": [
    "delete_lease_by_name(lease_name)"
   ]
  },
  {
   "cell_type": "code",
   "execution_count": null,
   "metadata": {},
   "outputs": [],
   "source": []
  }
 ],
 "metadata": {
  "kernelspec": {
   "display_name": "Python 3",
   "language": "python",
   "name": "python3"
  },
  "language_info": {
   "codemirror_mode": {
    "name": "ipython",
    "version": 3
   },
   "file_extension": ".py",
   "mimetype": "text/x-python",
   "name": "python",
   "nbconvert_exporter": "python",
   "pygments_lexer": "ipython3",
   "version": "3.7.3"
  }
 },
 "nbformat": 4,
 "nbformat_minor": 4
}
