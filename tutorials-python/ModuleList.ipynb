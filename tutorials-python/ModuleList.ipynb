{
 "cells": [
  {
   "cell_type": "markdown",
   "metadata": {},
   "source": [
    "## List of all Chameleon Python Tutorials and Modules\n",
    "\n",
    "### Tutorials\n",
    "\n",
    "- [Isolated Network VLANS](../tutorials-python/IsolatedNetworks.ipynb)\n",
    "- [Network Stitching (ExoGENI)](../tutorials-python/NetworkStitching.ipynb)\n",
    "\n",
    "\n",
    "### Modules \n",
    "\n",
    "#### Reservations\n",
    "\n",
    "- [Reserve Server](../modules-python/reservations/reserve_server.ipynb)\n",
    "- [Reserve Network](../modules-python/reservations/reserve_network.ipynb)\n",
    "- [Reserve Floating IP](../modules-python/reservations/reserve_floating_ip.ipynb)\n",
    "- [Reserve Multiple Resources](../modules-python/reservations/reserve_multiple_resources.ipynb)\n",
    "- [Delete Lease](../modules-python/reservations/delete_lease.ipynb)\n",
    "- [Get Lease](../modules-python/reservations/get_lease_by_name.ipynb)\n",
    "- [Get Reservation](../modules-python/reservations/get_reservation_from_lease.ipynb)\n",
    "\n",
    "#### Servers\n",
    "\n",
    "- [Create Server](../modules-python/servers/create_server.ipynb)\n",
    "- [Delete Server](../modules-python/servers/delete_server.ipynb)\n",
    "- [Associate Floating IP](../modules-python/servers/associate_floating_ip.ipynb)\n",
    "- [Detach Floating IP](../modules-python/servers/detach_floating_ip.ipynb)\n",
    "\n",
    "#### Networking\n",
    "\n",
    "- [Add Subnet](../modules-python/network/add_subnet.ipynb)\n",
    "- [Create Network](../modules-python/network/create_network.ipynb)\n",
    "- [Delete Network](../modules-python/network/delete_network.ipynb)\n",
    "- [Delete Subnet](../modules-python/network/delete_subnet.ipynb)\n",
    "- [Delete Router](../modules-python/network/delete_router.ipynb)\n",
    "- [Attach Router](../modules-python/network/attach_router.ipynb)\n",
    "- [Detach Router](../modules-python/network/detach_router.ipynb)\n",
    "- [Get Network by Name](../modules-python/network/get_network_by_name.ipynb)\n",
    "- [Get Subnet by Name](../modules-python/network/get_subnet_by_name.ipynb)\n",
    "- [Get Router by Name](../modules-python/network/get_router_by_name.ipynb)\n",
    "- [Get Network Property](../modules-python/network/get_network_property.ipynb)\n",
    "- [Get Subnet Property](../modules-python/network/get_subnet_property.ipynb)\n",
    "- [Get Router Property](../modules-python/network/get_router_property.ipynb)\n",
    "- [ExoGENI Stitching](../modules-python/network/exogeni_stitching.ipynb)\n",
    "\n",
    "\n",
    "\n",
    "\n"
   ]
  },
  {
   "cell_type": "code",
   "execution_count": null,
   "metadata": {},
   "outputs": [],
   "source": []
  }
 ],
 "metadata": {
  "kernelspec": {
   "display_name": "Python 3",
   "language": "python",
   "name": "python3"
  },
  "language_info": {
   "codemirror_mode": {
    "name": "ipython",
    "version": 3
   },
   "file_extension": ".py",
   "mimetype": "text/x-python",
   "name": "python",
   "nbconvert_exporter": "python",
   "pygments_lexer": "ipython3",
   "version": "3.7.6"
  }
 },
 "nbformat": 4,
 "nbformat_minor": 4
}
