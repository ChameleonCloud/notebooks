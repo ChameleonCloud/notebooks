{
 "cells": [
  {
   "cell_type": "markdown",
   "metadata": {},
   "source": [
    "## Tutorial: Stitching Networks between Chameleon Sites\n",
    "\n",
    "This notebook demonstrates how to use ExoGENI to stitch networks between Chameleon sites. It will walk through reserving and configuring stitchable networks on each Chameleon site and using the xoStitch tool to create a layer2 circuit between the networks. \n",
    "\n",
    "#### Modules \n",
    "\n",
    "- [Reserve Mulitple Resources](../modules-python/reservations/reserve_multiple_resources.ipynb)\n",
    "- [Get Lease by Name](../modules-python/reservations/get_lease_by_name.ipynb)\n",
    "- [Get Reservation](../modules-python/reservations/get_reservations_from_lease.ipynb)\n",
    "- [Create Server](../modules-python/servers/create_server.ipynb)\n",
    "- [Delete Server](../modules-python/servers/delete_server.ipynb)\n",
    "- [Create Network](../modules-python/network/create_network.ipynb)\n",
    "- [Delete Network](../modules-python/network/delete_network.ipynb)\n",
    "- [Create Subnet](../modules-python/network/create_subnet.ipynb)\n",
    "- [Delete Subnet](../modules-python/network/delete_subnet.ipynb)\n",
    "- [Get Network by Name](../modules-python/network/get_network_by_name.ipynb)\n",
    "\n",
    "TODO: add the rest of the module links when they are ready\n",
    "\n",
    "#### Import Library\n",
    "\n",
    "```\n",
    "import chi\n",
    "from chi.server_api_examples import *\n",
    "from chi.reservation_api_examples import *\n",
    "from chi.networking_api_examples import *\n",
    "```\n",
    "\n",
    "\n"
   ]
  },
  {
   "cell_type": "markdown",
   "metadata": {},
   "source": [
    "## Tutorial: "
   ]
  },
  {
   "cell_type": "markdown",
   "metadata": {},
   "source": [
    "#### Configure the Environment\n",
    "\n",
    "Import the chi example API calls, set the project name and region, and set various names and attributes to use in the tutorial. "
   ]
  },
  {
   "cell_type": "code",
   "execution_count": 1,
   "metadata": {},
   "outputs": [],
   "source": [
    "import json\n",
    "import os\n",
    "import chi\n",
    "\n",
    "from chi.server_api_examples import *\n",
    "from chi.reservation_api_examples import *\n",
    "from chi.networking_api_examples import *\n",
    "\n",
    "#Config with your project\n",
    "chi.set('project_name', 'CH-816532') # Replace with your project name\n",
    "\n",
    "#Insert keypair name\n",
    "key_name = 'pruth-jupyter'  # Change to your keypair\n",
    "\n",
    "#GENI Pem file\n",
    "geni_pem_file='/home/pruth/work/geni-pruth.pem'\n",
    "\n",
    "# Tip: Name resources with your username for easier identification\n",
    "username = os.getenv(\"USER\")\n",
    "server_name = username+'Server'\n",
    "network_name = username+'Net'\n",
    "subnet_name = username+'subnet'\n",
    "router_name = username+'Router'\n",
    "lease_name = username+'Lease'\n",
    "\n",
    "#Server Config\n",
    "image_name='CC-CentOS7'\n",
    "flavor_name='baremetal'\n",
    "node_type=\"compute_haswell\"\n",
    "server_count=2\n",
    "\n",
    "#Network Config\n",
    "physical_network='exogeni'\n",
    "cidr='192.168.42.0/24'"
   ]
  },
  {
   "cell_type": "markdown",
   "metadata": {},
   "source": [
    "## Create Chicago Network and Server"
   ]
  },
  {
   "cell_type": "markdown",
   "metadata": {},
   "source": [
    "#### Create a Lease at Chicago"
   ]
  },
  {
   "cell_type": "code",
   "execution_count": 2,
   "metadata": {},
   "outputs": [
    {
     "name": "stdout",
     "output_type": "stream",
     "text": [
      "{\n",
      "  \"status\": \"PENDING\",\n",
      "  \"user_id\": \"f3a422ce5a4442e3a7a247ddfd98bfc3\",\n",
      "  \"name\": \"pruthLease\",\n",
      "  \"end_date\": \"2020-05-13T13:40:00.000000\",\n",
      "  \"reservations\": [\n",
      "    {\n",
      "      \"status\": \"pending\",\n",
      "      \"before_end\": \"default\",\n",
      "      \"lease_id\": \"ef32d8fe-4966-4ce1-b1c8-428032b03151\",\n",
      "      \"resource_id\": \"b8a6a17f-36c0-4802-b68b-30c4cebb8429\",\n",
      "      \"max\": 2,\n",
      "      \"created_at\": \"2020-05-12 13:40:06\",\n",
      "      \"min\": 2,\n",
      "      \"updated_at\": \"2020-05-12 13:40:12\",\n",
      "      \"missing_resources\": false,\n",
      "      \"hypervisor_properties\": \"\",\n",
      "      \"on_start\": \"default\",\n",
      "      \"resource_properties\": \"[\\\"==\\\", \\\"$node_type\\\", \\\"compute_haswell\\\"]\",\n",
      "      \"id\": \"50cc6ca4-1619-4825-8218-371e33b4e815\",\n",
      "      \"resource_type\": \"physical:host\",\n",
      "      \"resources_changed\": false\n",
      "    },\n",
      "    {\n",
      "      \"status\": \"pending\",\n",
      "      \"lease_id\": \"ef32d8fe-4966-4ce1-b1c8-428032b03151\",\n",
      "      \"resource_id\": \"005e6b4e-0775-4f01-82c2-35ed1ba2a740\",\n",
      "      \"created_at\": \"2020-05-12 13:40:12\",\n",
      "      \"updated_at\": \"2020-05-12 13:40:14\",\n",
      "      \"missing_resources\": false,\n",
      "      \"id\": \"9ebf1027-a0d4-44cb-8cda-9bce64e844b5\",\n",
      "      \"resource_type\": \"network\",\n",
      "      \"resources_changed\": false\n",
      "    },\n",
      "    {\n",
      "      \"status\": \"pending\",\n",
      "      \"lease_id\": \"ef32d8fe-4966-4ce1-b1c8-428032b03151\",\n",
      "      \"resource_id\": \"1654b623-8fc1-4e1b-95b8-6a360a55e0fc\",\n",
      "      \"network_id\": \"44b38c44-2a42-4b6d-b129-6c8f1b2a1375\",\n",
      "      \"created_at\": \"2020-05-12 13:40:14\",\n",
      "      \"updated_at\": \"2020-05-12 13:40:15\",\n",
      "      \"required_floatingips\": [],\n",
      "      \"missing_resources\": false,\n",
      "      \"amount\": 1,\n",
      "      \"id\": \"d2f6aba5-2521-402b-95b0-7ccbd2dd4364\",\n",
      "      \"resource_type\": \"virtual:floatingip\",\n",
      "      \"resources_changed\": false\n",
      "    }\n",
      "  ],\n",
      "  \"created_at\": \"2020-05-12 13:40:06\",\n",
      "  \"updated_at\": \"2020-05-12 13:40:15\",\n",
      "  \"events\": [\n",
      "    {\n",
      "      \"status\": \"UNDONE\",\n",
      "      \"lease_id\": \"ef32d8fe-4966-4ce1-b1c8-428032b03151\",\n",
      "      \"event_type\": \"start_lease\",\n",
      "      \"created_at\": \"2020-05-12 13:40:15\",\n",
      "      \"updated_at\": null,\n",
      "      \"time\": \"2020-05-12T13:41:00.000000\",\n",
      "      \"id\": \"32f903d6-fddf-4afd-897c-aa3e371af0a0\"\n",
      "    },\n",
      "    {\n",
      "      \"status\": \"UNDONE\",\n",
      "      \"lease_id\": \"ef32d8fe-4966-4ce1-b1c8-428032b03151\",\n",
      "      \"event_type\": \"before_end_lease\",\n",
      "      \"created_at\": \"2020-05-12 13:40:15\",\n",
      "      \"updated_at\": null,\n",
      "      \"time\": \"2020-05-12T13:41:00.000000\",\n",
      "      \"id\": \"4c3f51bf-1cbe-452a-aad1-c129edc56f3f\"\n",
      "    },\n",
      "    {\n",
      "      \"status\": \"UNDONE\",\n",
      "      \"lease_id\": \"ef32d8fe-4966-4ce1-b1c8-428032b03151\",\n",
      "      \"event_type\": \"end_lease\",\n",
      "      \"created_at\": \"2020-05-12 13:40:15\",\n",
      "      \"updated_at\": null,\n",
      "      \"time\": \"2020-05-13T13:40:00.000000\",\n",
      "      \"id\": \"8d1256d8-8ff6-4d85-b927-1120539dda0b\"\n",
      "    }\n",
      "  ],\n",
      "  \"id\": \"ef32d8fe-4966-4ce1-b1c8-428032b03151\",\n",
      "  \"degraded\": false,\n",
      "  \"project_id\": \"d9faac3973a847f1b718fa765fe312e2\",\n",
      "  \"start_date\": \"2020-05-12T13:41:00.000000\",\n",
      "  \"trust_id\": \"bb096fb05c7a41388db3e4bd79ac2694\"\n",
      "}\n"
     ]
    }
   ],
   "source": [
    "#Set the region\n",
    "chi.set('region_name', 'CHI@UC')     # Optional, defaults to 'CHI@UC'\n",
    "\n",
    "# Set start/end date for lease\n",
    "# Start one minute into future to avoid Blazar thinking lease is in past\n",
    "# due to rounding to closest minute.\n",
    "start_date = (datetime.now(tz=tz.tzutc()) + timedelta(minutes=1)).strftime(BLAZAR_TIME_FORMAT)\n",
    "end_date   = (datetime.now(tz=tz.tzutc()) + timedelta(days=1)).strftime(BLAZAR_TIME_FORMAT)\n",
    "\n",
    "# Build list of reservations (in this case there is only one reservation)\n",
    "reservation_list = []\n",
    "add_node_reservation(reservation_list, count=server_count, node_type=node_type)\n",
    "add_network_reservation(reservation_list, network_name=network_name, physical_network=physical_network)\n",
    "add_fip_reservation(reservation_list, count=1)\n",
    "\n",
    "# Create the lease\n",
    "chi.blazar().lease.create(name=lease_name, \n",
    "                            start=start_date,\n",
    "                            end=end_date,\n",
    "                            reservations=reservation_list, events=[])\n",
    "\n",
    "#Get the lease by name\n",
    "uc_lease = get_lease_by_name(lease_name)\n",
    "    \n",
    "#Print the lease info\n",
    "print(json.dumps(uc_lease, indent=2))"
   ]
  },
  {
   "cell_type": "markdown",
   "metadata": {},
   "source": [
    "#### Get the Reservations\n",
    "\n",
    "Each lease contains one or more reservations. The individual reservation IDs are required to instantiate resources. You can [get the lease](../modules-python/reservations/get_lease_by_name.ipynb) and separate the reservation IDs for compute, network, and floating IPs using the technique below."
   ]
  },
  {
   "cell_type": "code",
   "execution_count": 3,
   "metadata": {},
   "outputs": [
    {
     "name": "stdout",
     "output_type": "stream",
     "text": [
      "uc_compute_reservation_id: 50cc6ca4-1619-4825-8218-371e33b4e815\n",
      "uc_network_reservation_id: 9ebf1027-a0d4-44cb-8cda-9bce64e844b5\n",
      "uc_floatingip_reservation_id: d2f6aba5-2521-402b-95b0-7ccbd2dd4364\n"
     ]
    }
   ],
   "source": [
    "#Get the lease by name\n",
    "uc_lease = get_lease_by_name(lease_name)\n",
    "\n",
    "uc_compute_reservation_id = list(filter(lambda reservation: reservation['resource_type'] == 'physical:host', uc_lease['reservations']))[0]['id']\n",
    "uc_network_reservation_id = list(filter(lambda reservation: reservation['resource_type'] == 'network', uc_lease['reservations']))[0]['id']\n",
    "uc_floatingip_reservation_id = list(filter(lambda reservation: reservation['resource_type'] == 'virtual:floatingip', uc_lease['reservations']))[0]['id']\n",
    "\n",
    "print(\"uc_compute_reservation_id: \" + uc_compute_reservation_id)\n",
    "print(\"uc_network_reservation_id: \" + uc_network_reservation_id)\n",
    "print(\"uc_floatingip_reservation_id: \" + uc_floatingip_reservation_id)"
   ]
  },
  {
   "cell_type": "markdown",
   "metadata": {},
   "source": [
    "#### Get the Network\n",
    "\n",
    "Getting the network is not required for the remainder of the tutorial. However, it is a good test to see if your network reservation has become active. The [get_network_by_name](../modules-python/network/get_network_by_name.ipynb) call will fail if a network with that name does not yet exits. It will also fail if a network with the same name already exists (likely from a previous run of this notebook)."
   ]
  },
  {
   "cell_type": "code",
   "execution_count": 5,
   "metadata": {},
   "outputs": [
    {
     "name": "stdout",
     "output_type": "stream",
     "text": [
      "{\n",
      "  \"provider:physical_network\": \"exogeni\",\n",
      "  \"ipv6_address_scope\": null,\n",
      "  \"revision_number\": 1,\n",
      "  \"port_security_enabled\": true,\n",
      "  \"mtu\": 1500,\n",
      "  \"id\": \"20e66a22-423c-43eb-84c6-9d5b047847d2\",\n",
      "  \"router:external\": false,\n",
      "  \"availability_zone_hints\": [],\n",
      "  \"availability_zones\": [],\n",
      "  \"ipv4_address_scope\": null,\n",
      "  \"shared\": false,\n",
      "  \"project_id\": \"d9faac3973a847f1b718fa765fe312e2\",\n",
      "  \"status\": \"ACTIVE\",\n",
      "  \"subnets\": [],\n",
      "  \"description\": \"\",\n",
      "  \"tags\": [],\n",
      "  \"updated_at\": \"2020-05-12T13:41:14Z\",\n",
      "  \"provider:segmentation_id\": 3295,\n",
      "  \"name\": \"pruthNet\",\n",
      "  \"admin_state_up\": true,\n",
      "  \"tenant_id\": \"d9faac3973a847f1b718fa765fe312e2\",\n",
      "  \"created_at\": \"2020-05-12T13:41:13Z\",\n",
      "  \"provider:network_type\": \"vlan\"\n",
      "}\n",
      "Network ID: 20e66a22-423c-43eb-84c6-9d5b047847d2\n",
      "uc_network_vlan: 3295\n"
     ]
    }
   ],
   "source": [
    "chi.set('region_name', 'CHI@UC')  \n",
    "#Get the network\n",
    "network = get_network_by_name(network_name)\n",
    "print(json.dumps(network, indent=2))\n",
    "\n",
    "#Get the network ID\n",
    "network_id = network['id']\n",
    "print('Network ID: ' + str(network_id))\n",
    "\n",
    "#Get the VLAN tag (needed for ExoGENI stitching)\n",
    "uc_network_vlan = network['provider:segmentation_id']\n",
    "print('uc_network_vlan: ' + str(uc_network_vlan))\n"
   ]
  },
  {
   "cell_type": "markdown",
   "metadata": {},
   "source": [
    "#### Add a subnet\n",
    "\n",
    "[Adds a subnet](../modules-python/network/add_subnet.ipynb) to the reserved network. "
   ]
  },
  {
   "cell_type": "code",
   "execution_count": 6,
   "metadata": {},
   "outputs": [
    {
     "name": "stdout",
     "output_type": "stream",
     "text": [
      "{\n",
      "  \"subnets\": [\n",
      "    {\n",
      "      \"service_types\": [],\n",
      "      \"description\": \"\",\n",
      "      \"enable_dhcp\": true,\n",
      "      \"tags\": [],\n",
      "      \"network_id\": \"20e66a22-423c-43eb-84c6-9d5b047847d2\",\n",
      "      \"tenant_id\": \"d9faac3973a847f1b718fa765fe312e2\",\n",
      "      \"created_at\": \"2020-05-12T13:41:45Z\",\n",
      "      \"dns_nameservers\": [],\n",
      "      \"updated_at\": \"2020-05-12T13:41:45Z\",\n",
      "      \"gateway_ip\": \"192.168.42.1\",\n",
      "      \"ipv6_ra_mode\": null,\n",
      "      \"allocation_pools\": [\n",
      "        {\n",
      "          \"start\": \"192.168.42.2\",\n",
      "          \"end\": \"192.168.42.254\"\n",
      "        }\n",
      "      ],\n",
      "      \"host_routes\": [],\n",
      "      \"revision_number\": 0,\n",
      "      \"ip_version\": 4,\n",
      "      \"ipv6_address_mode\": null,\n",
      "      \"cidr\": \"192.168.42.0/24\",\n",
      "      \"project_id\": \"d9faac3973a847f1b718fa765fe312e2\",\n",
      "      \"id\": \"09ccbffd-f199-44b4-ba97-41d46de294ac\",\n",
      "      \"subnetpool_id\": null,\n",
      "      \"name\": \"pruthsubnet\"\n",
      "    }\n",
      "  ]\n",
      "}\n"
     ]
    }
   ],
   "source": [
    "subnet = add_subnet(subnet_name, network_name, cidr=cidr)\n",
    "\n",
    "print(json.dumps(subnet, indent=2))"
   ]
  },
  {
   "cell_type": "markdown",
   "metadata": {},
   "source": [
    "#### Add a Router\n",
    "\n",
    "TODO: add links here"
   ]
  },
  {
   "cell_type": "code",
   "execution_count": 7,
   "metadata": {},
   "outputs": [
    {
     "name": "stdout",
     "output_type": "stream",
     "text": [
      "{\n",
      "  \"router\": {\n",
      "    \"status\": \"ACTIVE\",\n",
      "    \"external_gateway_info\": {\n",
      "      \"network_id\": \"44b38c44-2a42-4b6d-b129-6c8f1b2a1375\",\n",
      "      \"enable_snat\": true,\n",
      "      \"external_fixed_ips\": [\n",
      "        {\n",
      "          \"subnet_id\": \"c3950603-9e04-4cc5-be8d-1efbfe59fc0a\",\n",
      "          \"ip_address\": \"192.5.87.29\"\n",
      "        }\n",
      "      ]\n",
      "    },\n",
      "    \"availability_zone_hints\": [],\n",
      "    \"availability_zones\": [],\n",
      "    \"description\": \"\",\n",
      "    \"tags\": [],\n",
      "    \"tenant_id\": \"d9faac3973a847f1b718fa765fe312e2\",\n",
      "    \"created_at\": \"2020-05-12T13:41:49Z\",\n",
      "    \"admin_state_up\": true,\n",
      "    \"updated_at\": \"2020-05-12T13:41:50Z\",\n",
      "    \"flavor_id\": null,\n",
      "    \"revision_number\": 3,\n",
      "    \"routes\": [],\n",
      "    \"project_id\": \"d9faac3973a847f1b718fa765fe312e2\",\n",
      "    \"id\": \"2de8e297-be1b-48f2-a008-66d057b18c45\",\n",
      "    \"name\": \"pruthRouter\"\n",
      "  }\n",
      "}\n"
     ]
    }
   ],
   "source": [
    "router = create_router(router_name, network_name)\n",
    "\n",
    "print(json.dumps(router, indent=2))"
   ]
  },
  {
   "cell_type": "markdown",
   "metadata": {},
   "source": [
    "#### Attach the Router and Subnet\n",
    "\n",
    "TODO: Add links here"
   ]
  },
  {
   "cell_type": "code",
   "execution_count": 8,
   "metadata": {},
   "outputs": [
    {
     "data": {
      "text/plain": [
       "{'network_id': '20e66a22-423c-43eb-84c6-9d5b047847d2',\n",
       " 'tenant_id': 'd9faac3973a847f1b718fa765fe312e2',\n",
       " 'subnet_id': '09ccbffd-f199-44b4-ba97-41d46de294ac',\n",
       " 'subnet_ids': ['09ccbffd-f199-44b4-ba97-41d46de294ac'],\n",
       " 'port_id': '3515d18f-db62-458d-82e7-b4cb7dbc6e5f',\n",
       " 'id': '2de8e297-be1b-48f2-a008-66d057b18c45'}"
      ]
     },
     "execution_count": 8,
     "metadata": {},
     "output_type": "execute_result"
    }
   ],
   "source": [
    "attach_router_to_subnet(router_name=router_name, subnet_name=subnet_name)"
   ]
  },
  {
   "cell_type": "markdown",
   "metadata": {},
   "source": [
    "## Create TACC Network and Server"
   ]
  },
  {
   "cell_type": "markdown",
   "metadata": {},
   "source": [
    "#### Create a Lease at TACC"
   ]
  },
  {
   "cell_type": "code",
   "execution_count": 9,
   "metadata": {},
   "outputs": [
    {
     "name": "stdout",
     "output_type": "stream",
     "text": [
      "{\n",
      "  \"status\": \"STARTING\",\n",
      "  \"user_id\": \"f3a422ce5a4442e3a7a247ddfd98bfc3\",\n",
      "  \"name\": \"pruthLease\",\n",
      "  \"end_date\": \"2020-05-13T13:41:00.000000\",\n",
      "  \"reservations\": [\n",
      "    {\n",
      "      \"status\": \"pending\",\n",
      "      \"lease_id\": \"036eef6b-30bd-445f-b721-d2c049f27f60\",\n",
      "      \"resource_id\": \"0da16677-811f-4a04-a063-94108c522aad\",\n",
      "      \"created_at\": \"2020-05-12 13:42:16\",\n",
      "      \"updated_at\": \"2020-05-12 13:42:18\",\n",
      "      \"missing_resources\": false,\n",
      "      \"id\": \"6ee14cef-a737-4b10-89ae-ecf407992d30\",\n",
      "      \"resource_type\": \"network\",\n",
      "      \"resources_changed\": false\n",
      "    },\n",
      "    {\n",
      "      \"status\": \"pending\",\n",
      "      \"lease_id\": \"036eef6b-30bd-445f-b721-d2c049f27f60\",\n",
      "      \"resource_id\": \"474afa18-ac00-484d-b2fb-e4fbc838bd66\",\n",
      "      \"network_id\": \"6189521e-06a0-4c43-b163-16cc11ce675b\",\n",
      "      \"created_at\": \"2020-05-12 13:42:18\",\n",
      "      \"updated_at\": \"2020-05-12 13:42:20\",\n",
      "      \"required_floatingips\": [],\n",
      "      \"missing_resources\": false,\n",
      "      \"amount\": 1,\n",
      "      \"id\": \"cef4b7df-ea56-41d3-a83c-76f87f47cbb6\",\n",
      "      \"resource_type\": \"virtual:floatingip\",\n",
      "      \"resources_changed\": false\n",
      "    },\n",
      "    {\n",
      "      \"status\": \"pending\",\n",
      "      \"before_end\": \"default\",\n",
      "      \"lease_id\": \"036eef6b-30bd-445f-b721-d2c049f27f60\",\n",
      "      \"resource_id\": \"6bdcc85e-3124-40e7-87f0-2165d3c30fcf\",\n",
      "      \"max\": 2,\n",
      "      \"created_at\": \"2020-05-12 13:42:00\",\n",
      "      \"min\": 2,\n",
      "      \"updated_at\": \"2020-05-12 13:42:16\",\n",
      "      \"missing_resources\": false,\n",
      "      \"hypervisor_properties\": \"\",\n",
      "      \"on_start\": \"default\",\n",
      "      \"resource_properties\": \"[\\\"==\\\", \\\"$node_type\\\", \\\"compute_haswell\\\"]\",\n",
      "      \"id\": \"fc2f8ad3-b568-4efd-a93d-beed8ce952e9\",\n",
      "      \"resource_type\": \"physical:host\",\n",
      "      \"resources_changed\": false\n",
      "    }\n",
      "  ],\n",
      "  \"created_at\": \"2020-05-12 13:42:00\",\n",
      "  \"updated_at\": \"2020-05-12 13:42:20\",\n",
      "  \"events\": [\n",
      "    {\n",
      "      \"status\": \"UNDONE\",\n",
      "      \"lease_id\": \"036eef6b-30bd-445f-b721-d2c049f27f60\",\n",
      "      \"event_type\": \"end_lease\",\n",
      "      \"created_at\": \"2020-05-12 13:42:20\",\n",
      "      \"updated_at\": null,\n",
      "      \"time\": \"2020-05-13T13:41:00.000000\",\n",
      "      \"id\": \"3f8ffec2-52c4-4861-870a-e470944e1a08\"\n",
      "    },\n",
      "    {\n",
      "      \"status\": \"IN_PROGRESS\",\n",
      "      \"lease_id\": \"036eef6b-30bd-445f-b721-d2c049f27f60\",\n",
      "      \"event_type\": \"start_lease\",\n",
      "      \"created_at\": \"2020-05-12 13:42:20\",\n",
      "      \"updated_at\": \"2020-05-12 13:42:20\",\n",
      "      \"time\": \"2020-05-12T13:42:00.000000\",\n",
      "      \"id\": \"bac79314-511a-492b-acbf-b51f7fcd2ffb\"\n",
      "    },\n",
      "    {\n",
      "      \"status\": \"UNDONE\",\n",
      "      \"lease_id\": \"036eef6b-30bd-445f-b721-d2c049f27f60\",\n",
      "      \"event_type\": \"before_end_lease\",\n",
      "      \"created_at\": \"2020-05-12 13:42:20\",\n",
      "      \"updated_at\": null,\n",
      "      \"time\": \"2020-05-12T13:42:00.000000\",\n",
      "      \"id\": \"d83aa38f-1cda-474d-bd19-6b0e788b755f\"\n",
      "    }\n",
      "  ],\n",
      "  \"id\": \"036eef6b-30bd-445f-b721-d2c049f27f60\",\n",
      "  \"degraded\": false,\n",
      "  \"project_id\": \"d9faac3973a847f1b718fa765fe312e2\",\n",
      "  \"start_date\": \"2020-05-12T13:42:00.000000\",\n",
      "  \"trust_id\": \"e1d646c5b7744395b84afb63854aa0ce\"\n",
      "}\n"
     ]
    }
   ],
   "source": [
    "#Set the region\n",
    "chi.set('region_name', 'CHI@TACC')     # Optional, defaults to 'CHI@UC'\n",
    "\n",
    "# Set start/end date for lease\n",
    "# Start one minute into future to avoid Blazar thinking lease is in past\n",
    "# due to rounding to closest minute.\n",
    "start_date = (datetime.now(tz=tz.tzutc()) + timedelta(minutes=1)).strftime(BLAZAR_TIME_FORMAT)\n",
    "end_date   = (datetime.now(tz=tz.tzutc()) + timedelta(days=1)).strftime(BLAZAR_TIME_FORMAT)\n",
    "\n",
    "# Build list of reservations (in this case there is only one reservation)\n",
    "reservation_list = []\n",
    "add_node_reservation(reservation_list, count=server_count, node_type=node_type)\n",
    "add_network_reservation(reservation_list, network_name=network_name, physical_network=physical_network)\n",
    "add_fip_reservation(reservation_list, count=1)\n",
    "\n",
    "# Create the lease\n",
    "chi.blazar().lease.create(name=lease_name, \n",
    "                            start=start_date,\n",
    "                            end=end_date,\n",
    "                            reservations=reservation_list, events=[])\n",
    "\n",
    "#Get the lease by name\n",
    "tacc_lease = get_lease_by_name(lease_name)\n",
    "    \n",
    "#Print the lease info\n",
    "print(json.dumps(tacc_lease, indent=2))"
   ]
  },
  {
   "cell_type": "markdown",
   "metadata": {},
   "source": [
    "#### Get the Reservations\n",
    "\n",
    "Each lease contains one or more reservations. The individual reservation IDs are required to instantiate resources. You can [get the lease](../modules-python/reservations/get_lease_by_name.ipynb) and separate the reservation IDs for compute, network, and floating IPs using the technique below."
   ]
  },
  {
   "cell_type": "code",
   "execution_count": 10,
   "metadata": {},
   "outputs": [
    {
     "name": "stdout",
     "output_type": "stream",
     "text": [
      "tacc_compute_reservation_id: fc2f8ad3-b568-4efd-a93d-beed8ce952e9\n",
      "tacc_network_reservation_id: 6ee14cef-a737-4b10-89ae-ecf407992d30\n",
      "tacc_floatingip_reservation_id: cef4b7df-ea56-41d3-a83c-76f87f47cbb6\n"
     ]
    }
   ],
   "source": [
    "#Get the lease by name\n",
    "tacc_lease = get_lease_by_name(lease_name)\n",
    "\n",
    "tacc_compute_reservation_id = list(filter(lambda reservation: reservation['resource_type'] == 'physical:host', tacc_lease['reservations']))[0]['id']\n",
    "tacc_network_reservation_id = list(filter(lambda reservation: reservation['resource_type'] == 'network', tacc_lease['reservations']))[0]['id']\n",
    "tacc_floatingip_reservation_id = list(filter(lambda reservation: reservation['resource_type'] == 'virtual:floatingip', tacc_lease['reservations']))[0]['id']\n",
    "\n",
    "print(\"tacc_compute_reservation_id: \" + tacc_compute_reservation_id)\n",
    "print(\"tacc_network_reservation_id: \" + tacc_network_reservation_id)\n",
    "print(\"tacc_floatingip_reservation_id: \" + tacc_floatingip_reservation_id)"
   ]
  },
  {
   "cell_type": "markdown",
   "metadata": {},
   "source": [
    "#### Get the Network\n",
    "\n",
    "Getting the network is not required for the remainder of the tutorial. However, it is a good test to see if your network reservation has become active. The [get_network_by_name](../modules-python/network/get_network_by_name.ipynb) call will fail if a network with that name does not yet exits. It will also fail if a network with the same name already exists (likely from a previous run of this notebook)."
   ]
  },
  {
   "cell_type": "code",
   "execution_count": 11,
   "metadata": {},
   "outputs": [
    {
     "name": "stdout",
     "output_type": "stream",
     "text": [
      "{\n",
      "  \"provider:physical_network\": \"exogeni\",\n",
      "  \"ipv6_address_scope\": null,\n",
      "  \"revision_number\": 1,\n",
      "  \"port_security_enabled\": true,\n",
      "  \"mtu\": 1500,\n",
      "  \"id\": \"95d69043-5877-401a-8a6c-2530e8e930a2\",\n",
      "  \"router:external\": false,\n",
      "  \"availability_zone_hints\": [],\n",
      "  \"availability_zones\": [],\n",
      "  \"ipv4_address_scope\": null,\n",
      "  \"shared\": false,\n",
      "  \"project_id\": \"d9faac3973a847f1b718fa765fe312e2\",\n",
      "  \"status\": \"ACTIVE\",\n",
      "  \"subnets\": [],\n",
      "  \"description\": \"\",\n",
      "  \"tags\": [],\n",
      "  \"updated_at\": \"2020-05-12T13:42:21Z\",\n",
      "  \"provider:segmentation_id\": 3505,\n",
      "  \"name\": \"pruthNet\",\n",
      "  \"admin_state_up\": true,\n",
      "  \"tenant_id\": \"d9faac3973a847f1b718fa765fe312e2\",\n",
      "  \"created_at\": \"2020-05-12T13:42:21Z\",\n",
      "  \"provider:network_type\": \"vlan\"\n",
      "}\n",
      "Network ID: 95d69043-5877-401a-8a6c-2530e8e930a2\n",
      "tacc_network_vlan: 3505\n"
     ]
    }
   ],
   "source": [
    "chi.set('region_name', 'CHI@TACC')  \n",
    "#Get the network\n",
    "network = get_network_by_name(network_name)\n",
    "print(json.dumps(network, indent=2))\n",
    "\n",
    "#Get the network ID\n",
    "network_id = network['id']\n",
    "print('Network ID: ' + str(network_id))\n",
    "\n",
    "#Get the VLAN tag (needed for ExoGENI stitching)\n",
    "tacc_network_vlan = network['provider:segmentation_id']\n",
    "print('tacc_network_vlan: ' + str(tacc_network_vlan))\n"
   ]
  },
  {
   "cell_type": "markdown",
   "metadata": {},
   "source": [
    "#### Add a subnet\n",
    "\n",
    "[Adds a subnet](../modules-python/network/add_subnet.ipynb) to the reserved network. "
   ]
  },
  {
   "cell_type": "code",
   "execution_count": 12,
   "metadata": {},
   "outputs": [
    {
     "name": "stdout",
     "output_type": "stream",
     "text": [
      "{\n",
      "  \"subnets\": [\n",
      "    {\n",
      "      \"service_types\": [],\n",
      "      \"description\": \"\",\n",
      "      \"enable_dhcp\": true,\n",
      "      \"tags\": [],\n",
      "      \"network_id\": \"95d69043-5877-401a-8a6c-2530e8e930a2\",\n",
      "      \"tenant_id\": \"d9faac3973a847f1b718fa765fe312e2\",\n",
      "      \"created_at\": \"2020-05-12T13:43:04Z\",\n",
      "      \"dns_nameservers\": [],\n",
      "      \"updated_at\": \"2020-05-12T13:43:04Z\",\n",
      "      \"gateway_ip\": \"192.168.42.1\",\n",
      "      \"ipv6_ra_mode\": null,\n",
      "      \"allocation_pools\": [\n",
      "        {\n",
      "          \"start\": \"192.168.42.2\",\n",
      "          \"end\": \"192.168.42.254\"\n",
      "        }\n",
      "      ],\n",
      "      \"host_routes\": [],\n",
      "      \"revision_number\": 0,\n",
      "      \"ip_version\": 4,\n",
      "      \"ipv6_address_mode\": null,\n",
      "      \"cidr\": \"192.168.42.0/24\",\n",
      "      \"project_id\": \"d9faac3973a847f1b718fa765fe312e2\",\n",
      "      \"id\": \"363d1af3-e859-41cc-91c9-85fe25e85b2c\",\n",
      "      \"subnetpool_id\": null,\n",
      "      \"name\": \"pruthsubnet\"\n",
      "    }\n",
      "  ]\n",
      "}\n"
     ]
    }
   ],
   "source": [
    "subnet = add_subnet(subnet_name, network_name, cidr=cidr)\n",
    "\n",
    "print(json.dumps(subnet, indent=2))"
   ]
  },
  {
   "cell_type": "markdown",
   "metadata": {},
   "source": [
    "#### Add a Router\n",
    "\n",
    "TODO: add links here"
   ]
  },
  {
   "cell_type": "code",
   "execution_count": 13,
   "metadata": {},
   "outputs": [
    {
     "name": "stdout",
     "output_type": "stream",
     "text": [
      "{\n",
      "  \"router\": {\n",
      "    \"status\": \"ACTIVE\",\n",
      "    \"external_gateway_info\": {\n",
      "      \"network_id\": \"6189521e-06a0-4c43-b163-16cc11ce675b\",\n",
      "      \"enable_snat\": true,\n",
      "      \"external_fixed_ips\": [\n",
      "        {\n",
      "          \"subnet_id\": \"a58a9684-844d-4424-821a-b1e75ebfc0f7\",\n",
      "          \"ip_address\": \"129.114.109.79\"\n",
      "        }\n",
      "      ]\n",
      "    },\n",
      "    \"availability_zone_hints\": [],\n",
      "    \"availability_zones\": [],\n",
      "    \"description\": \"\",\n",
      "    \"tags\": [],\n",
      "    \"tenant_id\": \"d9faac3973a847f1b718fa765fe312e2\",\n",
      "    \"created_at\": \"2020-05-12T13:43:06Z\",\n",
      "    \"admin_state_up\": true,\n",
      "    \"updated_at\": \"2020-05-12T13:43:07Z\",\n",
      "    \"flavor_id\": null,\n",
      "    \"revision_number\": 3,\n",
      "    \"routes\": [],\n",
      "    \"project_id\": \"d9faac3973a847f1b718fa765fe312e2\",\n",
      "    \"id\": \"60060994-1a76-46e6-84f4-2131000f984f\",\n",
      "    \"name\": \"pruthRouter\"\n",
      "  }\n",
      "}\n"
     ]
    }
   ],
   "source": [
    "router = create_router(router_name, network_name)\n",
    "\n",
    "print(json.dumps(router, indent=2))"
   ]
  },
  {
   "cell_type": "markdown",
   "metadata": {},
   "source": [
    "#### Attach the Router and Subnet\n",
    "\n",
    "TODO: Add links here"
   ]
  },
  {
   "cell_type": "code",
   "execution_count": 14,
   "metadata": {},
   "outputs": [
    {
     "data": {
      "text/plain": [
       "{'network_id': '95d69043-5877-401a-8a6c-2530e8e930a2',\n",
       " 'tenant_id': 'd9faac3973a847f1b718fa765fe312e2',\n",
       " 'subnet_id': '363d1af3-e859-41cc-91c9-85fe25e85b2c',\n",
       " 'subnet_ids': ['363d1af3-e859-41cc-91c9-85fe25e85b2c'],\n",
       " 'port_id': 'afaee6db-dc80-4e54-b33d-c1f90ad900f4',\n",
       " 'id': '60060994-1a76-46e6-84f4-2131000f984f'}"
      ]
     },
     "execution_count": 14,
     "metadata": {},
     "output_type": "execute_result"
    }
   ],
   "source": [
    "attach_router_to_subnet(router_name=router_name, subnet_name=subnet_name)"
   ]
  },
  {
   "cell_type": "markdown",
   "metadata": {},
   "source": [
    "## Start the Servers"
   ]
  },
  {
   "cell_type": "markdown",
   "metadata": {},
   "source": [
    "#### Start the UC Server\n",
    "\n",
    "Use the compute_reservation_id to [create the server](../modules-python/servers/create_server.ipynb)."
   ]
  },
  {
   "cell_type": "code",
   "execution_count": 15,
   "metadata": {},
   "outputs": [],
   "source": [
    "chi.set('region_name', 'CHI@UC')  \n",
    "#create the server\n",
    "server = create_server(server_name, \n",
    "                       reservation_id=uc_compute_reservation_id, \n",
    "                       key_name=key_name, \n",
    "                       network_name=network_name, \n",
    "                       image_name=image_name, \n",
    "                       flavor_name=flavor_name)\n"
   ]
  },
  {
   "cell_type": "markdown",
   "metadata": {},
   "source": [
    "#### Associate the Floating IP   \n",
    "TODO: need to find floating_ip from the reservation that was just made"
   ]
  },
  {
   "cell_type": "code",
   "execution_count": 17,
   "metadata": {},
   "outputs": [
    {
     "name": "stdout",
     "output_type": "stream",
     "text": [
      "Floating IP: 192.5.87.220\n"
     ]
    }
   ],
   "source": [
    "chi.set('region_name', 'CHI@UC')  \n",
    "floating_ip = associate_floating_ip(server_name)\n",
    "\n",
    "print('Floating IP: ' + str(floating_ip))"
   ]
  },
  {
   "cell_type": "markdown",
   "metadata": {},
   "source": [
    "#### Start the TACC Server\n",
    "\n",
    "Use the compute_reservation_id to [create the server](../modules-python/servers/create_server.ipynb)."
   ]
  },
  {
   "cell_type": "code",
   "execution_count": 16,
   "metadata": {},
   "outputs": [
    {
     "name": "stdout",
     "output_type": "stream",
     "text": [
      "server_name pruthServer\n",
      "tacc_compute_reservation_id fc2f8ad3-b568-4efd-a93d-beed8ce952e9\n",
      "key_name pruth-jupyter\n",
      "network_name pruthNet\n",
      "image_name CC-CentOS7\n",
      "flavor_name baremetal\n"
     ]
    }
   ],
   "source": [
    "chi.set('region_name', 'CHI@TACC')\n",
    "\n",
    "print(\"server_name \" + server_name)\n",
    "print(\"tacc_compute_reservation_id \" + tacc_compute_reservation_id)\n",
    "print(\"key_name \" + key_name) \n",
    "print(\"network_name \" + network_name)\n",
    "print(\"image_name \" + image_name)\n",
    "print(\"flavor_name \" + flavor_name)\n",
    "\n",
    "#create the server\n",
    "server = create_server(server_name, \n",
    "                       reservation_id=tacc_compute_reservation_id, \n",
    "                       key_name=key_name, \n",
    "                       network_name=network_name, \n",
    "                       image_name=image_name, \n",
    "                       flavor_name=flavor_name)\n"
   ]
  },
  {
   "cell_type": "markdown",
   "metadata": {},
   "source": [
    "#### Associate the Floating IP   \n",
    "TODO: need to find floating_ip from the reservation that was just made"
   ]
  },
  {
   "cell_type": "code",
   "execution_count": 18,
   "metadata": {},
   "outputs": [
    {
     "name": "stdout",
     "output_type": "stream",
     "text": [
      "Floating IP: 129.114.109.124\n"
     ]
    }
   ],
   "source": [
    "chi.set('region_name', 'CHI@TACC')  \n",
    "\n",
    "floating_ip = associate_floating_ip(server_name)\n",
    "\n",
    "print('Floating IP: ' + str(floating_ip))"
   ]
  },
  {
   "cell_type": "markdown",
   "metadata": {},
   "source": [
    "## Stitch the Circuit using ExoGENI\n",
    "\n",
    "Note: The ExoGENI\n",
    "steps require a valid GENI certificate at the path specified and a public/private keypair in ~/.ssh (run ssh-keygen with default inputs)"
   ]
  },
  {
   "cell_type": "markdown",
   "metadata": {},
   "source": [
    "#### Create the Circuit"
   ]
  },
  {
   "cell_type": "code",
   "execution_count": 24,
   "metadata": {},
   "outputs": [
    {
     "name": "stdout",
     "output_type": "stream",
     "text": [
      "uc_vlan  3295 , tacc_vlan  3505 , geni_pem  /home/pruth/work/geni-pruth.pem\n",
      "Opening certificate /home/pruth/work/geni-pruth.pem and key /home/pruth/work/geni-pruth.pem\n"
     ]
    },
    {
     "name": "stderr",
     "output_type": "stream",
     "text": [
      "log4j:WARN No appenders could be found for logger (org.renci.ahab.libndl.LIBNDL).\n",
      "log4j:WARN Please initialize the log4j system properly.\n"
     ]
    }
   ],
   "source": [
    "%%script env uc_vlan=\"$uc_network_vlan\" tacc_vlan=\"$tacc_network_vlan\" geni_pem=\"$geni_pem_file\" bash\n",
    "\n",
    "echo 'uc_vlan ' $uc_vlan ', tacc_vlan ' $tacc_vlan ', geni_pem ' $geni_pem\n",
    "xoStitch create -sp1 uc -vlan1 $uc_vlan -sp2 tacc -vlan2 $tacc_vlan -c $geni_pem"
   ]
  },
  {
   "cell_type": "markdown",
   "metadata": {},
   "source": [
    "#### Check the Status of the Circuit"
   ]
  },
  {
   "cell_type": "code",
   "execution_count": 25,
   "metadata": {},
   "outputs": [
    {
     "name": "stdout",
     "output_type": "stream",
     "text": [
      "uc_vlan  3295 , tacc_vlan  3505 , geni_pem  /home/pruth/work/geni-pruth.pem\n",
      "Opening certificate /home/pruth/work/geni-pruth.pem and key /home/pruth/work/geni-pruth.pem\n",
      "statusSlice: uc-3295-tacc-3505\n",
      "Resource=sp2 State=Active\n",
      "Resource=sp2-sp1-net State=Active\n",
      "Resource=sp2 State=Active\n",
      "state: STABLE\n"
     ]
    },
    {
     "name": "stderr",
     "output_type": "stream",
     "text": [
      "log4j:WARN No appenders could be found for logger (org.apache.commons.httpclient.HttpClient).\n",
      "log4j:WARN Please initialize the log4j system properly.\n"
     ]
    }
   ],
   "source": [
    "%%script env uc_vlan=\"$uc_network_vlan\" tacc_vlan=\"$tacc_network_vlan\" geni_pem=\"$geni_pem_file\" bash\n",
    "\n",
    "echo 'uc_vlan ' $uc_vlan ', tacc_vlan ' $tacc_vlan ', geni_pem ' $geni_pem\n",
    "xoStitch status -sp1 uc -vlan1 $uc_vlan -sp2 tacc -vlan2 $tacc_vlan -c $geni_pem"
   ]
  },
  {
   "cell_type": "markdown",
   "metadata": {},
   "source": [
    "## Clean Up Resources"
   ]
  },
  {
   "cell_type": "markdown",
   "metadata": {},
   "source": [
    "### Delete Stitched Circuit using ExoGENI"
   ]
  },
  {
   "cell_type": "code",
   "execution_count": 26,
   "metadata": {},
   "outputs": [
    {
     "name": "stdout",
     "output_type": "stream",
     "text": [
      "uc_vlan  3295 , tacc_vlan  3505 , geni_pem  /home/pruth/work/geni-pruth.pem\n",
      "Opening certificate /home/pruth/work/geni-pruth.pem and key /home/pruth/work/geni-pruth.pem\n",
      "deleteSlice: uc-3295-tacc-3505"
     ]
    },
    {
     "name": "stderr",
     "output_type": "stream",
     "text": [
      "log4j:WARN No appenders could be found for logger (org.apache.commons.httpclient.HttpClient).\n",
      "log4j:WARN Please initialize the log4j system properly.\n"
     ]
    }
   ],
   "source": [
    "%%script env uc_vlan=\"$uc_network_vlan\" tacc_vlan=\"$tacc_network_vlan\" geni_pem=\"$geni_pem_file\" bash\n",
    "\n",
    "echo 'uc_vlan ' $uc_vlan ', tacc_vlan ' $tacc_vlan ', geni_pem ' $geni_pem\n",
    "xoStitch delete -sp1 uc -vlan1 $uc_vlan -sp2 tacc -vlan2 $tacc_vlan -c $geni_pem"
   ]
  },
  {
   "cell_type": "markdown",
   "metadata": {},
   "source": [
    "### Delete TACC Resources\n",
    "\n",
    "[Delete the server](../modules-python/servers/delete_server.ipynb) using its name."
   ]
  },
  {
   "cell_type": "code",
   "execution_count": 32,
   "metadata": {},
   "outputs": [],
   "source": [
    "chi.set('region_name', 'CHI@TACC')"
   ]
  },
  {
   "cell_type": "code",
   "execution_count": 28,
   "metadata": {},
   "outputs": [
    {
     "data": {
      "text/plain": [
       "()"
      ]
     },
     "execution_count": 28,
     "metadata": {},
     "output_type": "execute_result"
    }
   ],
   "source": [
    "delete_server_by_name(server_name)"
   ]
  },
  {
   "cell_type": "markdown",
   "metadata": {},
   "source": [
    "#### De-configure Network\n",
    "TODO: break up into steps"
   ]
  },
  {
   "cell_type": "code",
   "execution_count": 33,
   "metadata": {},
   "outputs": [
    {
     "data": {
      "text/plain": [
       "{'network_id': '95d69043-5877-401a-8a6c-2530e8e930a2',\n",
       " 'tenant_id': 'd9faac3973a847f1b718fa765fe312e2',\n",
       " 'subnet_id': '363d1af3-e859-41cc-91c9-85fe25e85b2c',\n",
       " 'subnet_ids': ['363d1af3-e859-41cc-91c9-85fe25e85b2c'],\n",
       " 'port_id': 'afaee6db-dc80-4e54-b33d-c1f90ad900f4',\n",
       " 'id': '60060994-1a76-46e6-84f4-2131000f984f'}"
      ]
     },
     "execution_count": 33,
     "metadata": {},
     "output_type": "execute_result"
    }
   ],
   "source": [
    "detach_router_by_name(router_name=router_name, subnet_name=subnet_name)"
   ]
  },
  {
   "cell_type": "code",
   "execution_count": 34,
   "metadata": {},
   "outputs": [
    {
     "data": {
      "text/plain": [
       "()"
      ]
     },
     "execution_count": 34,
     "metadata": {},
     "output_type": "execute_result"
    }
   ],
   "source": [
    "delete_router_by_name(router_name)"
   ]
  },
  {
   "cell_type": "code",
   "execution_count": 35,
   "metadata": {},
   "outputs": [],
   "source": [
    "delete_subnet_by_name(subnet_name)"
   ]
  },
  {
   "cell_type": "code",
   "execution_count": 36,
   "metadata": {},
   "outputs": [],
   "source": [
    "delete_network_by_name(network_name)"
   ]
  },
  {
   "cell_type": "markdown",
   "metadata": {},
   "source": [
    "#### Release Lease"
   ]
  },
  {
   "cell_type": "code",
   "execution_count": 37,
   "metadata": {},
   "outputs": [
    {
     "name": "stdout",
     "output_type": "stream",
     "text": [
      "Deleted lease pruthLease with id 036eef6b-30bd-445f-b721-d2c049f27f60\n"
     ]
    }
   ],
   "source": [
    "delete_lease_by_name(lease_name)"
   ]
  },
  {
   "cell_type": "markdown",
   "metadata": {},
   "source": [
    "### Delete UC Resources\n",
    "\n",
    "[Delete the server](../modules-python/servers/delete_server.ipynb) using its name."
   ]
  },
  {
   "cell_type": "code",
   "execution_count": 38,
   "metadata": {},
   "outputs": [],
   "source": [
    "chi.set('region_name', 'CHI@UC')"
   ]
  },
  {
   "cell_type": "code",
   "execution_count": 31,
   "metadata": {},
   "outputs": [
    {
     "data": {
      "text/plain": [
       "()"
      ]
     },
     "execution_count": 31,
     "metadata": {},
     "output_type": "execute_result"
    }
   ],
   "source": [
    "delete_server_by_name(server_name)"
   ]
  },
  {
   "cell_type": "markdown",
   "metadata": {},
   "source": [
    "#### De-configure Network\n",
    "TODO: break up into steps"
   ]
  },
  {
   "cell_type": "code",
   "execution_count": 39,
   "metadata": {},
   "outputs": [
    {
     "data": {
      "text/plain": [
       "{'network_id': '20e66a22-423c-43eb-84c6-9d5b047847d2',\n",
       " 'tenant_id': 'd9faac3973a847f1b718fa765fe312e2',\n",
       " 'subnet_id': '09ccbffd-f199-44b4-ba97-41d46de294ac',\n",
       " 'subnet_ids': ['09ccbffd-f199-44b4-ba97-41d46de294ac'],\n",
       " 'port_id': '3515d18f-db62-458d-82e7-b4cb7dbc6e5f',\n",
       " 'id': '2de8e297-be1b-48f2-a008-66d057b18c45'}"
      ]
     },
     "execution_count": 39,
     "metadata": {},
     "output_type": "execute_result"
    }
   ],
   "source": [
    "detach_router_by_name(router_name=router_name, subnet_name=subnet_name)"
   ]
  },
  {
   "cell_type": "code",
   "execution_count": 40,
   "metadata": {},
   "outputs": [
    {
     "data": {
      "text/plain": [
       "()"
      ]
     },
     "execution_count": 40,
     "metadata": {},
     "output_type": "execute_result"
    }
   ],
   "source": [
    "delete_router_by_name(router_name)"
   ]
  },
  {
   "cell_type": "code",
   "execution_count": 41,
   "metadata": {},
   "outputs": [],
   "source": [
    "delete_subnet_by_name(subnet_name)"
   ]
  },
  {
   "cell_type": "code",
   "execution_count": 42,
   "metadata": {},
   "outputs": [],
   "source": [
    "delete_network_by_name(network_name)"
   ]
  },
  {
   "cell_type": "markdown",
   "metadata": {},
   "source": [
    "#### Release Lease"
   ]
  },
  {
   "cell_type": "code",
   "execution_count": 43,
   "metadata": {},
   "outputs": [
    {
     "name": "stdout",
     "output_type": "stream",
     "text": [
      "Deleted lease pruthLease with id ef32d8fe-4966-4ce1-b1c8-428032b03151\n"
     ]
    }
   ],
   "source": [
    "delete_lease_by_name(lease_name)"
   ]
  },
  {
   "cell_type": "code",
   "execution_count": null,
   "metadata": {},
   "outputs": [],
   "source": []
  }
 ],
 "metadata": {
  "kernelspec": {
   "display_name": "Python 3",
   "language": "python",
   "name": "python3"
  },
  "language_info": {
   "codemirror_mode": {
    "name": "ipython",
    "version": 3
   },
   "file_extension": ".py",
   "mimetype": "text/x-python",
   "name": "python",
   "nbconvert_exporter": "python",
   "pygments_lexer": "ipython3",
   "version": "3.7.3"
  }
 },
 "nbformat": 4,
 "nbformat_minor": 4
}
