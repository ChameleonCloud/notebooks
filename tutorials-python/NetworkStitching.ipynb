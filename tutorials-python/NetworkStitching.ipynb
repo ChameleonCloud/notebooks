{
 "cells": [
  {
   "cell_type": "markdown",
   "metadata": {},
   "source": [
    "## Tutorial: Stitching Networks between Chameleon Sites\n",
    "\n",
    "This notebook demonstrates how to use ExoGENI to stitch networks between Chameleon sites. It will walk through reserving and configuring stitchable networks on each Chameleon site and using the xoStitch tool to create a layer2 circuit between the networks. \n",
    "\n",
    "#### Modules \n",
    "\n",
    "- [Reserve Mulitple Resources](../modules-python/reservations/reserve_multiple_resources.ipynb)\n",
    "- [Get Lease by Name](../modules-python/reservations/get_lease_by_name.ipynb)\n",
    "- [Get Reservation](../modules-python/reservations/get_reservations_from_lease.ipynb)\n",
    "- [Create Server](../modules-python/servers/create_server.ipynb)\n",
    "- [Delete Server](../modules-python/servers/delete_server.ipynb)\n",
    "- [Create Network](../modules-python/network/create_network.ipynb)\n",
    "- [Delete Network](../modules-python/network/delete_network.ipynb)\n",
    "- [Create Subnet](../modules-python/network/create_subnet.ipynb)\n",
    "- [Delete Subnet](../modules-python/network/delete_subnet.ipynb)\n",
    "- [Get Network by Name](../modules-python/network/get_network_by_name.ipynb)\n",
    "\n",
    "TODO: add the rest of the module links when they are ready\n",
    "\n",
    "#### Import Library\n",
    "\n",
    "```\n",
    "import chi\n",
    "from chi.server_api_examples import *\n",
    "from chi.reservation_api_examples import *\n",
    "from chi.networking_api_examples import *\n",
    "```\n",
    "\n",
    "\n"
   ]
  },
  {
   "cell_type": "markdown",
   "metadata": {},
   "source": [
    "## Tutorial: "
   ]
  },
  {
   "cell_type": "markdown",
   "metadata": {},
   "source": [
    "#### Configure the Environment\n",
    "\n",
    "Import the chi example API calls, set the project name and region, and set various names and attributes to use in the tutorial. "
   ]
  },
  {
   "cell_type": "code",
   "execution_count": 1,
   "metadata": {},
   "outputs": [],
   "source": [
    "import json\n",
    "import os\n",
    "import chi\n",
    "\n",
    "from chi.server_api_examples import *\n",
    "from chi.reservation_api_examples import *\n",
    "from chi.networking_api_examples import *\n",
    "\n",
    "#Config with your project\n",
    "chi.set('project_name', 'CH-816532') # Replace with your project name\n",
    "\n",
    "#Insert keypair name\n",
    "key_name = 'pruth-jupyter'  # Change to your keypair\n",
    "\n",
    "#GENI Pem file\n",
    "geni_pem_file='/home/pruth/work/geni-pruth.pem'\n",
    "\n",
    "# Tip: Name resources with your username for easier identification\n",
    "username = os.getenv(\"USER\")\n",
    "server_name = username+'Server'\n",
    "network_name = username+'Net'\n",
    "subnet_name = username+'subnet'\n",
    "router_name = username+'Router'\n",
    "lease_name = username+'Lease'\n",
    "\n",
    "#Server Config\n",
    "image_name='CC-CentOS7'\n",
    "flavor_name='baremetal'\n",
    "node_type=\"compute_haswell\"\n",
    "server_count=2\n",
    "\n",
    "#Network Config\n",
    "physical_network='exogeni'\n",
    "cidr='192.168.42.0/24'"
   ]
  },
  {
   "cell_type": "markdown",
   "metadata": {},
   "source": [
    "## Create Chicago Network and Server"
   ]
  },
  {
   "cell_type": "markdown",
   "metadata": {},
   "source": [
    "#### Create a Lease at Chicago"
   ]
  },
  {
   "cell_type": "code",
   "execution_count": 2,
   "metadata": {},
   "outputs": [
    {
     "name": "stdout",
     "output_type": "stream",
     "text": [
      "{\n",
      "  \"status\": \"PENDING\",\n",
      "  \"user_id\": \"f3a422ce5a4442e3a7a247ddfd98bfc3\",\n",
      "  \"name\": \"pruthLease\",\n",
      "  \"end_date\": \"2020-05-12T19:49:00.000000\",\n",
      "  \"reservations\": [\n",
      "    {\n",
      "      \"status\": \"pending\",\n",
      "      \"lease_id\": \"33f51ab6-9f4a-4ecb-857b-36d2cd14d481\",\n",
      "      \"resource_id\": \"ea9bbbb4-32ac-4616-9f4b-76b69dd295b6\",\n",
      "      \"created_at\": \"2020-05-11 19:49:16\",\n",
      "      \"updated_at\": \"2020-05-11 19:49:20\",\n",
      "      \"missing_resources\": false,\n",
      "      \"id\": \"0216d521-fd8e-4f06-ba30-27e2d56f54fc\",\n",
      "      \"resource_type\": \"network\",\n",
      "      \"resources_changed\": false\n",
      "    },\n",
      "    {\n",
      "      \"status\": \"pending\",\n",
      "      \"before_end\": \"default\",\n",
      "      \"lease_id\": \"33f51ab6-9f4a-4ecb-857b-36d2cd14d481\",\n",
      "      \"resource_id\": \"ee907d1b-937d-4004-894a-d6c94b53dc9e\",\n",
      "      \"max\": 2,\n",
      "      \"created_at\": \"2020-05-11 19:49:08\",\n",
      "      \"min\": 2,\n",
      "      \"updated_at\": \"2020-05-11 19:49:16\",\n",
      "      \"missing_resources\": false,\n",
      "      \"hypervisor_properties\": \"\",\n",
      "      \"on_start\": \"default\",\n",
      "      \"resource_properties\": \"[\\\"==\\\", \\\"$node_type\\\", \\\"compute_haswell\\\"]\",\n",
      "      \"id\": \"74f91af3-ad92-4b12-a56d-d05677e0f6b1\",\n",
      "      \"resource_type\": \"physical:host\",\n",
      "      \"resources_changed\": false\n",
      "    },\n",
      "    {\n",
      "      \"status\": \"pending\",\n",
      "      \"lease_id\": \"33f51ab6-9f4a-4ecb-857b-36d2cd14d481\",\n",
      "      \"resource_id\": \"f042d4da-0a02-4126-8e7f-3ed87b35dc75\",\n",
      "      \"network_id\": \"44b38c44-2a42-4b6d-b129-6c8f1b2a1375\",\n",
      "      \"created_at\": \"2020-05-11 19:49:20\",\n",
      "      \"updated_at\": \"2020-05-11 19:49:21\",\n",
      "      \"required_floatingips\": [],\n",
      "      \"missing_resources\": false,\n",
      "      \"amount\": 1,\n",
      "      \"id\": \"7dc611bf-e729-4649-8604-7438cd9fbee9\",\n",
      "      \"resource_type\": \"virtual:floatingip\",\n",
      "      \"resources_changed\": false\n",
      "    }\n",
      "  ],\n",
      "  \"created_at\": \"2020-05-11 19:49:08\",\n",
      "  \"updated_at\": \"2020-05-11 19:49:22\",\n",
      "  \"events\": [\n",
      "    {\n",
      "      \"status\": \"UNDONE\",\n",
      "      \"lease_id\": \"33f51ab6-9f4a-4ecb-857b-36d2cd14d481\",\n",
      "      \"event_type\": \"before_end_lease\",\n",
      "      \"created_at\": \"2020-05-11 19:49:22\",\n",
      "      \"updated_at\": null,\n",
      "      \"time\": \"2020-05-11T19:50:00.000000\",\n",
      "      \"id\": \"192b5d21-6d2e-4b8d-b5a0-04c5f215c295\"\n",
      "    },\n",
      "    {\n",
      "      \"status\": \"UNDONE\",\n",
      "      \"lease_id\": \"33f51ab6-9f4a-4ecb-857b-36d2cd14d481\",\n",
      "      \"event_type\": \"start_lease\",\n",
      "      \"created_at\": \"2020-05-11 19:49:22\",\n",
      "      \"updated_at\": null,\n",
      "      \"time\": \"2020-05-11T19:50:00.000000\",\n",
      "      \"id\": \"d61dc667-d4be-43ef-9b86-902d771e8661\"\n",
      "    },\n",
      "    {\n",
      "      \"status\": \"UNDONE\",\n",
      "      \"lease_id\": \"33f51ab6-9f4a-4ecb-857b-36d2cd14d481\",\n",
      "      \"event_type\": \"end_lease\",\n",
      "      \"created_at\": \"2020-05-11 19:49:22\",\n",
      "      \"updated_at\": null,\n",
      "      \"time\": \"2020-05-12T19:49:00.000000\",\n",
      "      \"id\": \"e865b852-6d8e-44ee-9c2a-b1d51396900c\"\n",
      "    }\n",
      "  ],\n",
      "  \"id\": \"33f51ab6-9f4a-4ecb-857b-36d2cd14d481\",\n",
      "  \"degraded\": false,\n",
      "  \"project_id\": \"d9faac3973a847f1b718fa765fe312e2\",\n",
      "  \"start_date\": \"2020-05-11T19:50:00.000000\",\n",
      "  \"trust_id\": \"9929801b8e78456d863bc732d3b24ab6\"\n",
      "}\n"
     ]
    }
   ],
   "source": [
    "#Set the region\n",
    "chi.set('region_name', 'CHI@UC')     # Optional, defaults to 'CHI@UC'\n",
    "\n",
    "# Set start/end date for lease\n",
    "# Start one minute into future to avoid Blazar thinking lease is in past\n",
    "# due to rounding to closest minute.\n",
    "start_date = (datetime.now(tz=tz.tzutc()) + timedelta(minutes=1)).strftime(BLAZAR_TIME_FORMAT)\n",
    "end_date   = (datetime.now(tz=tz.tzutc()) + timedelta(days=1)).strftime(BLAZAR_TIME_FORMAT)\n",
    "\n",
    "# Build list of reservations (in this case there is only one reservation)\n",
    "reservation_list = []\n",
    "add_node_reservation(reservation_list, count=server_count, node_type=node_type)\n",
    "add_network_reservation(reservation_list, network_name=network_name, physical_network=physical_network)\n",
    "add_fip_reservation(reservation_list, count=1)\n",
    "\n",
    "# Create the lease\n",
    "chi.blazar().lease.create(name=lease_name, \n",
    "                            start=start_date,\n",
    "                            end=end_date,\n",
    "                            reservations=reservation_list, events=[])\n",
    "\n",
    "#Get the lease by name\n",
    "uc_lease = get_lease_by_name(lease_name)\n",
    "    \n",
    "#Print the lease info\n",
    "print(json.dumps(uc_lease, indent=2))"
   ]
  },
  {
   "cell_type": "markdown",
   "metadata": {},
   "source": [
    "#### Get the Reservations\n",
    "\n",
    "Each lease contains one or more reservations. The individual reservation IDs are required to instantiate resources. You can [get the lease](../modules-python/reservations/get_lease_by_name.ipynb) and separate the reservation IDs for compute, network, and floating IPs using the technique below."
   ]
  },
  {
   "cell_type": "code",
   "execution_count": 3,
   "metadata": {},
   "outputs": [
    {
     "name": "stdout",
     "output_type": "stream",
     "text": [
      "uc_compute_reservation_id: 74f91af3-ad92-4b12-a56d-d05677e0f6b1\n",
      "uc_network_reservation_id: 0216d521-fd8e-4f06-ba30-27e2d56f54fc\n",
      "uc_floatingip_reservation_id: 7dc611bf-e729-4649-8604-7438cd9fbee9\n"
     ]
    }
   ],
   "source": [
    "#Get the lease by name\n",
    "uc_lease = get_lease_by_name(lease_name)\n",
    "\n",
    "uc_compute_reservation_id = list(filter(lambda reservation: reservation['resource_type'] == 'physical:host', uc_lease['reservations']))[0]['id']\n",
    "uc_network_reservation_id = list(filter(lambda reservation: reservation['resource_type'] == 'network', uc_lease['reservations']))[0]['id']\n",
    "uc_floatingip_reservation_id = list(filter(lambda reservation: reservation['resource_type'] == 'virtual:floatingip', uc_lease['reservations']))[0]['id']\n",
    "\n",
    "print(\"uc_compute_reservation_id: \" + uc_compute_reservation_id)\n",
    "print(\"uc_network_reservation_id: \" + uc_network_reservation_id)\n",
    "print(\"uc_floatingip_reservation_id: \" + uc_floatingip_reservation_id)"
   ]
  },
  {
   "cell_type": "markdown",
   "metadata": {},
   "source": [
    "#### Get the Network\n",
    "\n",
    "Getting the network is not required for the remainder of the tutorial. However, it is a good test to see if your network reservation has become active. The [get_network_by_name](../modules-python/network/get_network_by_name.ipynb) call will fail if a network with that name does not yet exits. It will also fail if a network with the same name already exists (likely from a previous run of this notebook)."
   ]
  },
  {
   "cell_type": "code",
   "execution_count": 6,
   "metadata": {},
   "outputs": [
    {
     "name": "stdout",
     "output_type": "stream",
     "text": [
      "{\n",
      "  \"provider:physical_network\": \"exogeni\",\n",
      "  \"ipv6_address_scope\": null,\n",
      "  \"revision_number\": 1,\n",
      "  \"port_security_enabled\": true,\n",
      "  \"mtu\": 1500,\n",
      "  \"id\": \"fcf9e587-f7c0-4d50-b044-305f139b48f9\",\n",
      "  \"router:external\": false,\n",
      "  \"availability_zone_hints\": [],\n",
      "  \"availability_zones\": [],\n",
      "  \"ipv4_address_scope\": null,\n",
      "  \"shared\": false,\n",
      "  \"project_id\": \"d9faac3973a847f1b718fa765fe312e2\",\n",
      "  \"status\": \"ACTIVE\",\n",
      "  \"subnets\": [],\n",
      "  \"description\": \"\",\n",
      "  \"tags\": [],\n",
      "  \"updated_at\": \"2020-05-11T19:50:01Z\",\n",
      "  \"provider:segmentation_id\": 3295,\n",
      "  \"name\": \"pruthNet\",\n",
      "  \"admin_state_up\": true,\n",
      "  \"tenant_id\": \"d9faac3973a847f1b718fa765fe312e2\",\n",
      "  \"created_at\": \"2020-05-11T19:50:01Z\",\n",
      "  \"provider:network_type\": \"vlan\"\n",
      "}\n",
      "Network ID: fcf9e587-f7c0-4d50-b044-305f139b48f9\n",
      "uc_network_vlan: 3295\n"
     ]
    }
   ],
   "source": [
    "chi.set('region_name', 'CHI@UC')  \n",
    "#Get the network\n",
    "network = get_network_by_name(network_name)\n",
    "print(json.dumps(network, indent=2))\n",
    "\n",
    "#Get the network ID\n",
    "network_id = network['id']\n",
    "print('Network ID: ' + str(network_id))\n",
    "\n",
    "#Get the VLAN tag (needed for ExoGENI stitching)\n",
    "uc_network_vlan = network['provider:segmentation_id']\n",
    "print('uc_network_vlan: ' + str(uc_network_vlan))\n"
   ]
  },
  {
   "cell_type": "markdown",
   "metadata": {},
   "source": [
    "#### Add a subnet\n",
    "\n",
    "[Adds a subnet](../modules-python/network/add_subnet.ipynb) to the reserved network. "
   ]
  },
  {
   "cell_type": "code",
   "execution_count": 7,
   "metadata": {},
   "outputs": [
    {
     "name": "stdout",
     "output_type": "stream",
     "text": [
      "{\n",
      "  \"subnets\": [\n",
      "    {\n",
      "      \"service_types\": [],\n",
      "      \"description\": \"\",\n",
      "      \"enable_dhcp\": true,\n",
      "      \"tags\": [],\n",
      "      \"network_id\": \"fcf9e587-f7c0-4d50-b044-305f139b48f9\",\n",
      "      \"tenant_id\": \"d9faac3973a847f1b718fa765fe312e2\",\n",
      "      \"created_at\": \"2020-05-11T19:51:55Z\",\n",
      "      \"dns_nameservers\": [],\n",
      "      \"updated_at\": \"2020-05-11T19:51:55Z\",\n",
      "      \"gateway_ip\": \"192.168.42.1\",\n",
      "      \"ipv6_ra_mode\": null,\n",
      "      \"allocation_pools\": [\n",
      "        {\n",
      "          \"start\": \"192.168.42.2\",\n",
      "          \"end\": \"192.168.42.254\"\n",
      "        }\n",
      "      ],\n",
      "      \"host_routes\": [],\n",
      "      \"revision_number\": 0,\n",
      "      \"ip_version\": 4,\n",
      "      \"ipv6_address_mode\": null,\n",
      "      \"cidr\": \"192.168.42.0/24\",\n",
      "      \"project_id\": \"d9faac3973a847f1b718fa765fe312e2\",\n",
      "      \"id\": \"3ceba672-e85f-420f-958c-f21f57595eb2\",\n",
      "      \"subnetpool_id\": null,\n",
      "      \"name\": \"pruthsubnet\"\n",
      "    }\n",
      "  ]\n",
      "}\n"
     ]
    }
   ],
   "source": [
    "subnet = add_subnet(subnet_name, network_name, cidr=cidr)\n",
    "\n",
    "print(json.dumps(subnet, indent=2))"
   ]
  },
  {
   "cell_type": "markdown",
   "metadata": {},
   "source": [
    "#### Add a Router\n",
    "\n",
    "TODO: add links here"
   ]
  },
  {
   "cell_type": "code",
   "execution_count": 8,
   "metadata": {},
   "outputs": [
    {
     "name": "stdout",
     "output_type": "stream",
     "text": [
      "{\n",
      "  \"router\": {\n",
      "    \"status\": \"ACTIVE\",\n",
      "    \"external_gateway_info\": {\n",
      "      \"network_id\": \"44b38c44-2a42-4b6d-b129-6c8f1b2a1375\",\n",
      "      \"enable_snat\": true,\n",
      "      \"external_fixed_ips\": [\n",
      "        {\n",
      "          \"subnet_id\": \"c3950603-9e04-4cc5-be8d-1efbfe59fc0a\",\n",
      "          \"ip_address\": \"192.5.87.29\"\n",
      "        }\n",
      "      ]\n",
      "    },\n",
      "    \"availability_zone_hints\": [],\n",
      "    \"availability_zones\": [],\n",
      "    \"description\": \"\",\n",
      "    \"tags\": [],\n",
      "    \"tenant_id\": \"d9faac3973a847f1b718fa765fe312e2\",\n",
      "    \"created_at\": \"2020-05-11T19:51:59Z\",\n",
      "    \"admin_state_up\": true,\n",
      "    \"updated_at\": \"2020-05-11T19:52:01Z\",\n",
      "    \"flavor_id\": null,\n",
      "    \"revision_number\": 3,\n",
      "    \"routes\": [],\n",
      "    \"project_id\": \"d9faac3973a847f1b718fa765fe312e2\",\n",
      "    \"id\": \"d3f078a1-f2f6-4f52-9d8e-875e24a23c5d\",\n",
      "    \"name\": \"pruthRouter\"\n",
      "  }\n",
      "}\n"
     ]
    }
   ],
   "source": [
    "router = create_router(router_name, network_name)\n",
    "\n",
    "print(json.dumps(router, indent=2))"
   ]
  },
  {
   "cell_type": "markdown",
   "metadata": {},
   "source": [
    "#### Attach the Router and Subnet\n",
    "\n",
    "TODO: Add links here"
   ]
  },
  {
   "cell_type": "code",
   "execution_count": 9,
   "metadata": {},
   "outputs": [
    {
     "data": {
      "text/plain": [
       "{'network_id': 'fcf9e587-f7c0-4d50-b044-305f139b48f9',\n",
       " 'tenant_id': 'd9faac3973a847f1b718fa765fe312e2',\n",
       " 'subnet_id': '3ceba672-e85f-420f-958c-f21f57595eb2',\n",
       " 'subnet_ids': ['3ceba672-e85f-420f-958c-f21f57595eb2'],\n",
       " 'port_id': 'a7a4ec33-a2ac-4eb9-89a7-4a71109fd048',\n",
       " 'id': 'd3f078a1-f2f6-4f52-9d8e-875e24a23c5d'}"
      ]
     },
     "execution_count": 9,
     "metadata": {},
     "output_type": "execute_result"
    }
   ],
   "source": [
    "attach_router_to_subnet(router_name=router_name, subnet_name=subnet_name)"
   ]
  },
  {
   "cell_type": "markdown",
   "metadata": {},
   "source": [
    "## Create TACC Network and Server"
   ]
  },
  {
   "cell_type": "markdown",
   "metadata": {},
   "source": [
    "#### Create a Lease at TACC"
   ]
  },
  {
   "cell_type": "code",
   "execution_count": 10,
   "metadata": {},
   "outputs": [
    {
     "ename": "BlazarClientException",
     "evalue": "ERROR: Not enough floating IPs available",
     "output_type": "error",
     "traceback": [
      "\u001b[0;31m---------------------------------------------------------------------------\u001b[0m",
      "\u001b[0;31mBlazarClientException\u001b[0m                     Traceback (most recent call last)",
      "\u001b[0;32m<ipython-input-10-cca684d2ee05>\u001b[0m in \u001b[0;36m<module>\u001b[0;34m\u001b[0m\n\u001b[1;32m     18\u001b[0m                             \u001b[0mstart\u001b[0m\u001b[0;34m=\u001b[0m\u001b[0mstart_date\u001b[0m\u001b[0;34m,\u001b[0m\u001b[0;34m\u001b[0m\u001b[0;34m\u001b[0m\u001b[0m\n\u001b[1;32m     19\u001b[0m                             \u001b[0mend\u001b[0m\u001b[0;34m=\u001b[0m\u001b[0mend_date\u001b[0m\u001b[0;34m,\u001b[0m\u001b[0;34m\u001b[0m\u001b[0;34m\u001b[0m\u001b[0m\n\u001b[0;32m---> 20\u001b[0;31m                             reservations=reservation_list, events=[])\n\u001b[0m\u001b[1;32m     21\u001b[0m \u001b[0;34m\u001b[0m\u001b[0m\n\u001b[1;32m     22\u001b[0m \u001b[0;31m#Get the lease by name\u001b[0m\u001b[0;34m\u001b[0m\u001b[0;34m\u001b[0m\u001b[0;34m\u001b[0m\u001b[0m\n",
      "\u001b[0;32m/opt/conda/lib/python3.7/site-packages/blazarclient/v1/leases.py\u001b[0m in \u001b[0;36mcreate\u001b[0;34m(self, name, start, end, reservations, events, before_end)\u001b[0m\n\u001b[1;32m     30\u001b[0m                   'before_end_date': before_end}\n\u001b[1;32m     31\u001b[0m \u001b[0;34m\u001b[0m\u001b[0m\n\u001b[0;32m---> 32\u001b[0;31m         \u001b[0mresp\u001b[0m\u001b[0;34m,\u001b[0m \u001b[0mbody\u001b[0m \u001b[0;34m=\u001b[0m \u001b[0mself\u001b[0m\u001b[0;34m.\u001b[0m\u001b[0mrequest_manager\u001b[0m\u001b[0;34m.\u001b[0m\u001b[0mpost\u001b[0m\u001b[0;34m(\u001b[0m\u001b[0;34m'/leases'\u001b[0m\u001b[0;34m,\u001b[0m \u001b[0mbody\u001b[0m\u001b[0;34m=\u001b[0m\u001b[0mvalues\u001b[0m\u001b[0;34m)\u001b[0m\u001b[0;34m\u001b[0m\u001b[0;34m\u001b[0m\u001b[0m\n\u001b[0m\u001b[1;32m     33\u001b[0m         \u001b[0;32mreturn\u001b[0m \u001b[0mbody\u001b[0m\u001b[0;34m[\u001b[0m\u001b[0;34m'lease'\u001b[0m\u001b[0;34m]\u001b[0m\u001b[0;34m\u001b[0m\u001b[0;34m\u001b[0m\u001b[0m\n\u001b[1;32m     34\u001b[0m \u001b[0;34m\u001b[0m\u001b[0m\n",
      "\u001b[0;32m/opt/conda/lib/python3.7/site-packages/keystoneauth1/adapter.py\u001b[0m in \u001b[0;36mpost\u001b[0;34m(self, url, **kwargs)\u001b[0m\n\u001b[1;32m    390\u001b[0m \u001b[0;34m\u001b[0m\u001b[0m\n\u001b[1;32m    391\u001b[0m     \u001b[0;32mdef\u001b[0m \u001b[0mpost\u001b[0m\u001b[0;34m(\u001b[0m\u001b[0mself\u001b[0m\u001b[0;34m,\u001b[0m \u001b[0murl\u001b[0m\u001b[0;34m,\u001b[0m \u001b[0;34m**\u001b[0m\u001b[0mkwargs\u001b[0m\u001b[0;34m)\u001b[0m\u001b[0;34m:\u001b[0m\u001b[0;34m\u001b[0m\u001b[0;34m\u001b[0m\u001b[0m\n\u001b[0;32m--> 392\u001b[0;31m         \u001b[0;32mreturn\u001b[0m \u001b[0mself\u001b[0m\u001b[0;34m.\u001b[0m\u001b[0mrequest\u001b[0m\u001b[0;34m(\u001b[0m\u001b[0murl\u001b[0m\u001b[0;34m,\u001b[0m \u001b[0;34m'POST'\u001b[0m\u001b[0;34m,\u001b[0m \u001b[0;34m**\u001b[0m\u001b[0mkwargs\u001b[0m\u001b[0;34m)\u001b[0m\u001b[0;34m\u001b[0m\u001b[0;34m\u001b[0m\u001b[0m\n\u001b[0m\u001b[1;32m    393\u001b[0m \u001b[0;34m\u001b[0m\u001b[0m\n\u001b[1;32m    394\u001b[0m     \u001b[0;32mdef\u001b[0m \u001b[0mput\u001b[0m\u001b[0;34m(\u001b[0m\u001b[0mself\u001b[0m\u001b[0;34m,\u001b[0m \u001b[0murl\u001b[0m\u001b[0;34m,\u001b[0m \u001b[0;34m**\u001b[0m\u001b[0mkwargs\u001b[0m\u001b[0;34m)\u001b[0m\u001b[0;34m:\u001b[0m\u001b[0;34m\u001b[0m\u001b[0;34m\u001b[0m\u001b[0m\n",
      "\u001b[0;32m/opt/conda/lib/python3.7/site-packages/blazarclient/base.py\u001b[0m in \u001b[0;36mrequest\u001b[0;34m(self, url, method, **kwargs)\u001b[0m\n\u001b[1;32m    125\u001b[0m \u001b[0;34m\u001b[0m\u001b[0m\n\u001b[1;32m    126\u001b[0m             \u001b[0mmsg\u001b[0m \u001b[0;34m=\u001b[0m \u001b[0m_\u001b[0m\u001b[0;34m(\u001b[0m\u001b[0;34m\"ERROR: {0}\"\u001b[0m\u001b[0;34m)\u001b[0m\u001b[0;34m.\u001b[0m\u001b[0mformat\u001b[0m\u001b[0;34m(\u001b[0m\u001b[0merror_message\u001b[0m\u001b[0;34m)\u001b[0m\u001b[0;34m\u001b[0m\u001b[0;34m\u001b[0m\u001b[0m\n\u001b[0;32m--> 127\u001b[0;31m             \u001b[0;32mraise\u001b[0m \u001b[0mexception\u001b[0m\u001b[0;34m.\u001b[0m\u001b[0mBlazarClientException\u001b[0m\u001b[0;34m(\u001b[0m\u001b[0mmsg\u001b[0m\u001b[0;34m,\u001b[0m \u001b[0mcode\u001b[0m\u001b[0;34m=\u001b[0m\u001b[0mresp\u001b[0m\u001b[0;34m.\u001b[0m\u001b[0mstatus_code\u001b[0m\u001b[0;34m)\u001b[0m\u001b[0;34m\u001b[0m\u001b[0;34m\u001b[0m\u001b[0m\n\u001b[0m\u001b[1;32m    128\u001b[0m \u001b[0;34m\u001b[0m\u001b[0m\n\u001b[1;32m    129\u001b[0m         \u001b[0;32mreturn\u001b[0m \u001b[0mresp\u001b[0m\u001b[0;34m,\u001b[0m \u001b[0mbody\u001b[0m\u001b[0;34m\u001b[0m\u001b[0;34m\u001b[0m\u001b[0m\n",
      "\u001b[0;31mBlazarClientException\u001b[0m: ERROR: Not enough floating IPs available"
     ]
    }
   ],
   "source": [
    "#Set the region\n",
    "chi.set('region_name', 'CHI@TACC')     # Optional, defaults to 'CHI@UC'\n",
    "\n",
    "# Set start/end date for lease\n",
    "# Start one minute into future to avoid Blazar thinking lease is in past\n",
    "# due to rounding to closest minute.\n",
    "start_date = (datetime.now(tz=tz.tzutc()) + timedelta(minutes=1)).strftime(BLAZAR_TIME_FORMAT)\n",
    "end_date   = (datetime.now(tz=tz.tzutc()) + timedelta(days=1)).strftime(BLAZAR_TIME_FORMAT)\n",
    "\n",
    "# Build list of reservations (in this case there is only one reservation)\n",
    "reservation_list = []\n",
    "add_node_reservation(reservation_list, count=server_count, node_type=node_type)\n",
    "add_network_reservation(reservation_list, network_name=network_name, physical_network=physical_network)\n",
    "add_fip_reservation(reservation_list, count=1)\n",
    "\n",
    "# Create the lease\n",
    "chi.blazar().lease.create(name=lease_name, \n",
    "                            start=start_date,\n",
    "                            end=end_date,\n",
    "                            reservations=reservation_list, events=[])\n",
    "\n",
    "#Get the lease by name\n",
    "tacc_lease = get_lease_by_name(lease_name)\n",
    "    \n",
    "#Print the lease info\n",
    "print(json.dumps(tacc_lease, indent=2))"
   ]
  },
  {
   "cell_type": "markdown",
   "metadata": {},
   "source": [
    "#### Get the Reservations\n",
    "\n",
    "Each lease contains one or more reservations. The individual reservation IDs are required to instantiate resources. You can [get the lease](../modules-python/reservations/get_lease_by_name.ipynb) and separate the reservation IDs for compute, network, and floating IPs using the technique below."
   ]
  },
  {
   "cell_type": "code",
   "execution_count": null,
   "metadata": {},
   "outputs": [],
   "source": [
    "#Get the lease by name\n",
    "tacc_lease = get_lease_by_name(lease_name)\n",
    "\n",
    "tacc_compute_reservation_id = list(filter(lambda reservation: reservation['resource_type'] == 'physical:host', tacc_lease['reservations']))[0]['id']\n",
    "tacc_network_reservation_id = list(filter(lambda reservation: reservation['resource_type'] == 'network', tacc_lease['reservations']))[0]['id']\n",
    "tacc_floatingip_reservation_id = list(filter(lambda reservation: reservation['resource_type'] == 'virtual:floatingip', tacc_lease['reservations']))[0]['id']\n",
    "\n",
    "print(\"tacc_compute_reservation_id: \" + tacc_compute_reservation_id)\n",
    "print(\"tacc_network_reservation_id: \" + tacc_network_reservation_id)\n",
    "print(\"tacc_floatingip_reservation_id: \" + tacc_floatingip_reservation_id)"
   ]
  },
  {
   "cell_type": "markdown",
   "metadata": {},
   "source": [
    "#### Get the Network\n",
    "\n",
    "Getting the network is not required for the remainder of the tutorial. However, it is a good test to see if your network reservation has become active. The [get_network_by_name](../modules-python/network/get_network_by_name.ipynb) call will fail if a network with that name does not yet exits. It will also fail if a network with the same name already exists (likely from a previous run of this notebook)."
   ]
  },
  {
   "cell_type": "code",
   "execution_count": null,
   "metadata": {},
   "outputs": [],
   "source": [
    "chi.set('region_name', 'CHI@TACC')  \n",
    "#Get the network\n",
    "network = get_network_by_name(network_name)\n",
    "print(json.dumps(network, indent=2))\n",
    "\n",
    "#Get the network ID\n",
    "network_id = network['id']\n",
    "print('Network ID: ' + str(network_id))\n",
    "\n",
    "#Get the VLAN tag (needed for ExoGENI stitching)\n",
    "tacc_network_vlan = network['provider:segmentation_id']\n",
    "print('tacc_network_vlan: ' + str(tacc_network_vlan))\n"
   ]
  },
  {
   "cell_type": "markdown",
   "metadata": {},
   "source": [
    "#### Add a subnet\n",
    "\n",
    "[Adds a subnet](../modules-python/network/add_subnet.ipynb) to the reserved network. "
   ]
  },
  {
   "cell_type": "code",
   "execution_count": null,
   "metadata": {},
   "outputs": [],
   "source": [
    "subnet = add_subnet(subnet_name, network_name, cidr=cidr)\n",
    "\n",
    "print(json.dumps(subnet, indent=2))"
   ]
  },
  {
   "cell_type": "markdown",
   "metadata": {},
   "source": [
    "#### Add a Router\n",
    "\n",
    "TODO: add links here"
   ]
  },
  {
   "cell_type": "code",
   "execution_count": null,
   "metadata": {},
   "outputs": [],
   "source": [
    "router = create_router(router_name, network_name)\n",
    "\n",
    "print(json.dumps(router, indent=2))"
   ]
  },
  {
   "cell_type": "markdown",
   "metadata": {},
   "source": [
    "#### Attach the Router and Subnet\n",
    "\n",
    "TODO: Add links here"
   ]
  },
  {
   "cell_type": "code",
   "execution_count": null,
   "metadata": {},
   "outputs": [],
   "source": [
    "attach_router_to_subnet(router_name=router_name, subnet_name=subnet_name)"
   ]
  },
  {
   "cell_type": "markdown",
   "metadata": {},
   "source": [
    "## Start the Servers"
   ]
  },
  {
   "cell_type": "markdown",
   "metadata": {},
   "source": [
    "#### Start the UC Server\n",
    "\n",
    "Use the compute_reservation_id to [create the server](../modules-python/servers/create_server.ipynb)."
   ]
  },
  {
   "cell_type": "code",
   "execution_count": null,
   "metadata": {},
   "outputs": [],
   "source": [
    "chi.set('region_name', 'CHI@UC')  \n",
    "#create the server\n",
    "server = create_server(server_name, \n",
    "                       reservation_id=uc_compute_reservation_id, \n",
    "                       key_name=key_name, \n",
    "                       network_name=network_name, \n",
    "                       image_name=image_name, \n",
    "                       flavor_name=flavor_name)\n"
   ]
  },
  {
   "cell_type": "markdown",
   "metadata": {},
   "source": [
    "#### Associate the Floating IP   \n",
    "TODO: need to find floating_ip from the reservation that was just made"
   ]
  },
  {
   "cell_type": "code",
   "execution_count": null,
   "metadata": {},
   "outputs": [],
   "source": [
    "chi.set('region_name', 'CHI@UC')  \n",
    "floating_ip = associate_floating_ip(server_name)\n",
    "\n",
    "print('Floating IP: ' + str(floating_ip))"
   ]
  },
  {
   "cell_type": "markdown",
   "metadata": {},
   "source": [
    "#### Start the TACC Server\n",
    "\n",
    "Use the compute_reservation_id to [create the server](../modules-python/servers/create_server.ipynb)."
   ]
  },
  {
   "cell_type": "code",
   "execution_count": null,
   "metadata": {},
   "outputs": [],
   "source": [
    "chi.set('region_name', 'CHI@TACC')\n",
    "\n",
    "print(\"server_name \" + server_name)\n",
    "print(\"tacc_compute_reservation_id \" + tacc_compute_reservation_id)\n",
    "print(\"key_name \" + key_name) \n",
    "print(\"network_name \" + network_name)\n",
    "print(\"image_name \" + image_name)\n",
    "print(\"flavor_name \" + flavor_name)\n",
    "\n",
    "#create the server\n",
    "server = create_server(server_name, \n",
    "                       reservation_id=tacc_compute_reservation_id, \n",
    "                       key_name=key_name, \n",
    "                       network_name=network_name, \n",
    "                       image_name=image_name, \n",
    "                       flavor_name=flavor_name)\n"
   ]
  },
  {
   "cell_type": "markdown",
   "metadata": {},
   "source": [
    "#### Associate the Floating IP   \n",
    "TODO: need to find floating_ip from the reservation that was just made"
   ]
  },
  {
   "cell_type": "code",
   "execution_count": null,
   "metadata": {},
   "outputs": [],
   "source": [
    "chi.set('region_name', 'CHI@TACC')  \n",
    "\n",
    "floating_ip = associate_floating_ip(server_name)\n",
    "\n",
    "print('Floating IP: ' + str(floating_ip))"
   ]
  },
  {
   "cell_type": "markdown",
   "metadata": {},
   "source": [
    "## Stitch the Circuit using ExoGENI\n",
    "\n",
    "Note: The ExoGENI\n",
    "steps require a valid GENI certificate at the path specified and a public/private keypair in ~/.ssh (run ssh-keygen with default inputs)"
   ]
  },
  {
   "cell_type": "code",
   "execution_count": null,
   "metadata": {},
   "outputs": [],
   "source": [
    "%%script env uc_vlan=\"$uc_network_vlan\" tacc_vlan=\"$tacc_network_vlan\" geni_pem=\"$geni_pem_file\" bash\n",
    "\n",
    "echo 'uc_vlan ' $uc_vlan ', tacc_vlan ' $tacc_vlan ', geni_pem ' $geni_pem\n",
    "xoStitch create -sp1 uc -vlan1 $uc_vlan -sp2 tacc -vlan2 $tacc_vlan -c $geni_pem"
   ]
  },
  {
   "cell_type": "markdown",
   "metadata": {},
   "source": [
    "## Clean Up Resources"
   ]
  },
  {
   "cell_type": "markdown",
   "metadata": {},
   "source": [
    "### Delete Stitched Circuit using ExoGENI"
   ]
  },
  {
   "cell_type": "code",
   "execution_count": null,
   "metadata": {},
   "outputs": [],
   "source": [
    "%%script env uc_vlan=\"$uc_network_vlan\" tacc_vlan=\"$tacc_network_vlan\" geni_pem=\"$geni_pem_file\" bash\n",
    "\n",
    "echo 'uc_vlan ' $uc_vlan ', tacc_vlan ' $tacc_vlan ', geni_pem ' $geni_pem\n",
    "xoStitch delete -sp1 uc -vlan1 $uc_vlan -sp2 tacc -vlan2 $tacc_vlan -c $geni_pem"
   ]
  },
  {
   "cell_type": "markdown",
   "metadata": {},
   "source": [
    "### Delete TACC Resources\n",
    "\n",
    "[Delete the server](../modules-python/servers/delete_server.ipynb) using its name."
   ]
  },
  {
   "cell_type": "code",
   "execution_count": null,
   "metadata": {},
   "outputs": [],
   "source": [
    "chi.set('region_name', 'CHI@TACC')"
   ]
  },
  {
   "cell_type": "code",
   "execution_count": null,
   "metadata": {},
   "outputs": [],
   "source": [
    "delete_server_by_name(server_name)"
   ]
  },
  {
   "cell_type": "markdown",
   "metadata": {},
   "source": [
    "#### De-configure Network\n",
    "TODO: break up into steps"
   ]
  },
  {
   "cell_type": "code",
   "execution_count": null,
   "metadata": {},
   "outputs": [],
   "source": [
    "detach_router_by_name(router_name=router_name, subnet_name=subnet_name)"
   ]
  },
  {
   "cell_type": "code",
   "execution_count": null,
   "metadata": {},
   "outputs": [],
   "source": [
    "delete_router_by_name(router_name)"
   ]
  },
  {
   "cell_type": "code",
   "execution_count": null,
   "metadata": {},
   "outputs": [],
   "source": [
    "delete_subnet_by_name(subnet_name)"
   ]
  },
  {
   "cell_type": "code",
   "execution_count": null,
   "metadata": {},
   "outputs": [],
   "source": [
    "delete_network_by_name(network_name)"
   ]
  },
  {
   "cell_type": "markdown",
   "metadata": {},
   "source": [
    "#### Release Lease"
   ]
  },
  {
   "cell_type": "code",
   "execution_count": null,
   "metadata": {},
   "outputs": [],
   "source": [
    "delete_lease_by_name(lease_name)"
   ]
  },
  {
   "cell_type": "markdown",
   "metadata": {},
   "source": [
    "### Delete UC Resources\n",
    "\n",
    "[Delete the server](../modules-python/servers/delete_server.ipynb) using its name."
   ]
  },
  {
   "cell_type": "code",
   "execution_count": null,
   "metadata": {},
   "outputs": [],
   "source": [
    "chi.set('region_name', 'CHI@UC')"
   ]
  },
  {
   "cell_type": "code",
   "execution_count": null,
   "metadata": {},
   "outputs": [],
   "source": [
    "delete_server_by_name(server_name)"
   ]
  },
  {
   "cell_type": "markdown",
   "metadata": {},
   "source": [
    "#### De-configure Network\n",
    "TODO: break up into steps"
   ]
  },
  {
   "cell_type": "code",
   "execution_count": null,
   "metadata": {},
   "outputs": [],
   "source": [
    "detach_router_by_name(router_name=router_name, subnet_name=subnet_name)"
   ]
  },
  {
   "cell_type": "code",
   "execution_count": null,
   "metadata": {},
   "outputs": [],
   "source": [
    "delete_router_by_name(router_name)"
   ]
  },
  {
   "cell_type": "code",
   "execution_count": null,
   "metadata": {},
   "outputs": [],
   "source": [
    "delete_subnet_by_name(subnet_name)"
   ]
  },
  {
   "cell_type": "code",
   "execution_count": null,
   "metadata": {},
   "outputs": [],
   "source": [
    "delete_network_by_name(network_name)"
   ]
  },
  {
   "cell_type": "markdown",
   "metadata": {},
   "source": [
    "#### Release Lease"
   ]
  },
  {
   "cell_type": "code",
   "execution_count": null,
   "metadata": {},
   "outputs": [],
   "source": [
    "delete_lease_by_name(lease_name)"
   ]
  },
  {
   "cell_type": "code",
   "execution_count": null,
   "metadata": {},
   "outputs": [],
   "source": []
  }
 ],
 "metadata": {
  "kernelspec": {
   "display_name": "Python 3",
   "language": "python",
   "name": "python3"
  },
  "language_info": {
   "codemirror_mode": {
    "name": "ipython",
    "version": 3
   },
   "file_extension": ".py",
   "mimetype": "text/x-python",
   "name": "python",
   "nbconvert_exporter": "python",
   "pygments_lexer": "ipython3",
   "version": "3.7.3"
  }
 },
 "nbformat": 4,
 "nbformat_minor": 4
}
