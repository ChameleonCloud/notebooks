{
 "cells": [
  {
   "cell_type": "markdown",
   "metadata": {},
   "source": [
    "# Create a Ryu OpenFlow Controller"
   ]
  },
  {
   "cell_type": "code",
   "execution_count": 1,
   "metadata": {},
   "outputs": [],
   "source": [
    "import json\n",
    "import os\n",
    "import chi\n",
    "\n",
    "from chi.server_api_examples import *\n",
    "from chi.reservation_api_examples import *\n",
    "from chi.networking_api_examples import *\n",
    "\n",
    "#Config with your project and site\n",
    "#chi.set('project_name', 'CH-816532') # Replace with your project name\n",
    "chi.set('project_name', 'ExoGENI@Chameleon') # Replace with your project name\n",
    "chi.set('region_name', 'CHI@UC')     # Optional, defaults to 'CHI@UC'\n",
    "\n",
    "#Insert keypair name\n",
    "key_name = 'pruth-jupyter'  # Change to your keypair\n",
    "\n",
    "# Tip: Name resources with your username for easier identification\n",
    "username = os.getenv(\"USER\")\n",
    "server_name = username+'RyuController'\n",
    "lease_name = username+'RyuControllerLease'\n",
    "\n",
    "#Server attributes\n",
    "image_name='CC-CentOS7'\n",
    "flavor_name='baremetal'\n",
    "node_type=\"compute_haswell\"\n",
    "server_count=1\n",
    "network_name='sharednet1'"
   ]
  },
  {
   "cell_type": "code",
   "execution_count": 2,
   "metadata": {},
   "outputs": [
    {
     "data": {
      "text/plain": [
       "{'status': 'PENDING',\n",
       " 'user_id': 'f3a422ce5a4442e3a7a247ddfd98bfc3',\n",
       " 'name': 'pruthRyuControllerLease',\n",
       " 'end_date': '2020-07-24T16:08:00.000000',\n",
       " 'reservations': [{'status': 'pending',\n",
       "   'before_end': 'default',\n",
       "   'lease_id': 'ae4875e2-3c53-46c5-a39d-cc31a1d1de09',\n",
       "   'resource_id': '774c0cd7-1e89-4ef5-9ea3-c4a02d0be24a',\n",
       "   'max': 1,\n",
       "   'created_at': '2020-07-23 16:08:25',\n",
       "   'min': 1,\n",
       "   'updated_at': '2020-07-23 16:08:34',\n",
       "   'missing_resources': False,\n",
       "   'hypervisor_properties': '',\n",
       "   'on_start': 'default',\n",
       "   'resource_properties': '[\"==\", \"$node_type\", \"compute_haswell\"]',\n",
       "   'id': '3bb48e6d-7f35-48ec-a841-e0e72a9a0822',\n",
       "   'resource_type': 'physical:host',\n",
       "   'resources_changed': False},\n",
       "  {'status': 'pending',\n",
       "   'lease_id': 'ae4875e2-3c53-46c5-a39d-cc31a1d1de09',\n",
       "   'resource_id': '16fb346b-6987-41e4-b44a-8eda83f7799a',\n",
       "   'network_id': '44b38c44-2a42-4b6d-b129-6c8f1b2a1375',\n",
       "   'created_at': '2020-07-23 16:08:34',\n",
       "   'updated_at': '2020-07-23 16:08:35',\n",
       "   'required_floatingips': [],\n",
       "   'missing_resources': False,\n",
       "   'amount': 1,\n",
       "   'id': 'f6d0a244-b85a-4f10-b05f-6cfaefe9f296',\n",
       "   'resource_type': 'virtual:floatingip',\n",
       "   'resources_changed': False}],\n",
       " 'created_at': '2020-07-23 16:08:25',\n",
       " 'updated_at': '2020-07-23 16:08:35',\n",
       " 'events': [{'status': 'UNDONE',\n",
       "   'lease_id': 'ae4875e2-3c53-46c5-a39d-cc31a1d1de09',\n",
       "   'event_type': 'end_lease',\n",
       "   'created_at': '2020-07-23 16:08:35',\n",
       "   'updated_at': None,\n",
       "   'time': '2020-07-24T16:08:00.000000',\n",
       "   'id': '892e2b6b-8d4f-4f03-b52d-f1d2940de04f'},\n",
       "  {'status': 'UNDONE',\n",
       "   'lease_id': 'ae4875e2-3c53-46c5-a39d-cc31a1d1de09',\n",
       "   'event_type': 'start_lease',\n",
       "   'created_at': '2020-07-23 16:08:35',\n",
       "   'updated_at': None,\n",
       "   'time': '2020-07-23T16:09:00.000000',\n",
       "   'id': 'f85ec7d1-eb3c-4b7b-92a6-75fd45201173'},\n",
       "  {'status': 'UNDONE',\n",
       "   'lease_id': 'ae4875e2-3c53-46c5-a39d-cc31a1d1de09',\n",
       "   'event_type': 'before_end_lease',\n",
       "   'created_at': '2020-07-23 16:08:35',\n",
       "   'updated_at': None,\n",
       "   'time': '2020-07-23T16:09:00.000000',\n",
       "   'id': 'ffcec59d-4ea6-4cb3-b1a1-e94592cd6c45'}],\n",
       " 'id': 'ae4875e2-3c53-46c5-a39d-cc31a1d1de09',\n",
       " 'degraded': False,\n",
       " 'project_id': 'd9faac3973a847f1b718fa765fe312e2',\n",
       " 'start_date': '2020-07-23T16:09:00.000000',\n",
       " 'trust_id': '17a0c8abae3248958d8f244eeb5c611c'}"
      ]
     },
     "execution_count": 2,
     "metadata": {},
     "output_type": "execute_result"
    }
   ],
   "source": [
    "# Set start/end date for lease\n",
    "# Start one minute into future to avoid Blazar thinking lease is in past\n",
    "# due to rounding to closest minute.\n",
    "start_date = (datetime.now(tz=tz.tzutc()) + timedelta(minutes=1)).strftime(BLAZAR_TIME_FORMAT)\n",
    "end_date   = (datetime.now(tz=tz.tzutc()) + timedelta(days=1)).strftime(BLAZAR_TIME_FORMAT)\n",
    "\n",
    "# Build list of reservations (in this case there is only one reservation)\n",
    "reservation_list = []\n",
    "add_node_reservation(reservation_list, count=server_count, node_type=node_type)\n",
    "add_fip_reservation(reservation_list, count=server_count)\n",
    "\n",
    "# Create the lease\n",
    "chi.blazar().lease.create(name=lease_name, \n",
    "                            start=start_date,\n",
    "                            end=end_date,\n",
    "                            reservations=reservation_list, events=[])"
   ]
  },
  {
   "cell_type": "code",
   "execution_count": 3,
   "metadata": {},
   "outputs": [
    {
     "name": "stdout",
     "output_type": "stream",
     "text": [
      "{\n",
      "  \"status\": \"PENDING\",\n",
      "  \"user_id\": \"f3a422ce5a4442e3a7a247ddfd98bfc3\",\n",
      "  \"name\": \"pruthRyuControllerLease\",\n",
      "  \"end_date\": \"2020-07-24T16:08:00.000000\",\n",
      "  \"reservations\": [\n",
      "    {\n",
      "      \"status\": \"pending\",\n",
      "      \"before_end\": \"default\",\n",
      "      \"lease_id\": \"ae4875e2-3c53-46c5-a39d-cc31a1d1de09\",\n",
      "      \"resource_id\": \"774c0cd7-1e89-4ef5-9ea3-c4a02d0be24a\",\n",
      "      \"max\": 1,\n",
      "      \"created_at\": \"2020-07-23 16:08:25\",\n",
      "      \"min\": 1,\n",
      "      \"updated_at\": \"2020-07-23 16:08:34\",\n",
      "      \"missing_resources\": false,\n",
      "      \"hypervisor_properties\": \"\",\n",
      "      \"on_start\": \"default\",\n",
      "      \"resource_properties\": \"[\\\"==\\\", \\\"$node_type\\\", \\\"compute_haswell\\\"]\",\n",
      "      \"id\": \"3bb48e6d-7f35-48ec-a841-e0e72a9a0822\",\n",
      "      \"resource_type\": \"physical:host\",\n",
      "      \"resources_changed\": false\n",
      "    },\n",
      "    {\n",
      "      \"status\": \"pending\",\n",
      "      \"lease_id\": \"ae4875e2-3c53-46c5-a39d-cc31a1d1de09\",\n",
      "      \"resource_id\": \"16fb346b-6987-41e4-b44a-8eda83f7799a\",\n",
      "      \"network_id\": \"44b38c44-2a42-4b6d-b129-6c8f1b2a1375\",\n",
      "      \"created_at\": \"2020-07-23 16:08:34\",\n",
      "      \"updated_at\": \"2020-07-23 16:08:35\",\n",
      "      \"required_floatingips\": [],\n",
      "      \"missing_resources\": false,\n",
      "      \"amount\": 1,\n",
      "      \"id\": \"f6d0a244-b85a-4f10-b05f-6cfaefe9f296\",\n",
      "      \"resource_type\": \"virtual:floatingip\",\n",
      "      \"resources_changed\": false\n",
      "    }\n",
      "  ],\n",
      "  \"created_at\": \"2020-07-23 16:08:25\",\n",
      "  \"updated_at\": \"2020-07-23 16:08:35\",\n",
      "  \"events\": [\n",
      "    {\n",
      "      \"status\": \"UNDONE\",\n",
      "      \"lease_id\": \"ae4875e2-3c53-46c5-a39d-cc31a1d1de09\",\n",
      "      \"event_type\": \"end_lease\",\n",
      "      \"created_at\": \"2020-07-23 16:08:35\",\n",
      "      \"updated_at\": null,\n",
      "      \"time\": \"2020-07-24T16:08:00.000000\",\n",
      "      \"id\": \"892e2b6b-8d4f-4f03-b52d-f1d2940de04f\"\n",
      "    },\n",
      "    {\n",
      "      \"status\": \"UNDONE\",\n",
      "      \"lease_id\": \"ae4875e2-3c53-46c5-a39d-cc31a1d1de09\",\n",
      "      \"event_type\": \"start_lease\",\n",
      "      \"created_at\": \"2020-07-23 16:08:35\",\n",
      "      \"updated_at\": null,\n",
      "      \"time\": \"2020-07-23T16:09:00.000000\",\n",
      "      \"id\": \"f85ec7d1-eb3c-4b7b-92a6-75fd45201173\"\n",
      "    },\n",
      "    {\n",
      "      \"status\": \"UNDONE\",\n",
      "      \"lease_id\": \"ae4875e2-3c53-46c5-a39d-cc31a1d1de09\",\n",
      "      \"event_type\": \"before_end_lease\",\n",
      "      \"created_at\": \"2020-07-23 16:08:35\",\n",
      "      \"updated_at\": null,\n",
      "      \"time\": \"2020-07-23T16:09:00.000000\",\n",
      "      \"id\": \"ffcec59d-4ea6-4cb3-b1a1-e94592cd6c45\"\n",
      "    }\n",
      "  ],\n",
      "  \"id\": \"ae4875e2-3c53-46c5-a39d-cc31a1d1de09\",\n",
      "  \"degraded\": false,\n",
      "  \"project_id\": \"d9faac3973a847f1b718fa765fe312e2\",\n",
      "  \"start_date\": \"2020-07-23T16:09:00.000000\",\n",
      "  \"trust_id\": \"17a0c8abae3248958d8f244eeb5c611c\"\n",
      "}\n"
     ]
    }
   ],
   "source": [
    "#Get the lease by name\n",
    "lease = get_lease_by_name(lease_name)\n",
    "    \n",
    "#Print the lease info\n",
    "print(json.dumps(lease, indent=2))"
   ]
  },
  {
   "cell_type": "code",
   "execution_count": 4,
   "metadata": {},
   "outputs": [
    {
     "name": "stdout",
     "output_type": "stream",
     "text": [
      "compute_reservation_id: 3bb48e6d-7f35-48ec-a841-e0e72a9a0822\n",
      "floatingip_reservation_id: f6d0a244-b85a-4f10-b05f-6cfaefe9f296\n"
     ]
    }
   ],
   "source": [
    "#Get the lease by name\n",
    "lease = get_lease_by_name(lease_name)\n",
    "\n",
    "compute_reservation_id = list(filter(lambda reservation: reservation['resource_type'] == 'physical:host', lease['reservations']))[0]['id']\n",
    "floatingip_reservation_id = list(filter(lambda reservation: reservation['resource_type'] == 'virtual:floatingip', lease['reservations']))[0]['id']\n",
    "\n",
    "print(\"compute_reservation_id: \" + compute_reservation_id)\n",
    "print(\"floatingip_reservation_id: \" + floatingip_reservation_id)"
   ]
  },
  {
   "cell_type": "code",
   "execution_count": 5,
   "metadata": {},
   "outputs": [],
   "source": [
    "#create the server\n",
    "server = create_server(server_name, \n",
    "                       reservation_id=compute_reservation_id, \n",
    "                       key_name=key_name, \n",
    "                       network_name=network_name, \n",
    "                       image_name=image_name, \n",
    "                       flavor_name=flavor_name)\n"
   ]
  },
  {
   "cell_type": "code",
   "execution_count": 6,
   "metadata": {},
   "outputs": [
    {
     "name": "stdout",
     "output_type": "stream",
     "text": [
      "Floating IP: 192.5.87.215\n"
     ]
    }
   ],
   "source": [
    "floating_ip = associate_floating_ip(server_name)\n",
    "\n",
    "print('Floating IP: ' + str(floating_ip))"
   ]
  },
  {
   "cell_type": "code",
   "execution_count": 7,
   "metadata": {},
   "outputs": [],
   "source": [
    "ryu_app='simple_switch_13_custom_chameleon.py'\n",
    "ryu_port='6653'\n",
    "mirror_port=''\n",
    "\n",
    "script= '#!/bin/bash'   '\\n' \\\n",
    "    '{'   '\\n' \\\n",
    "    'yum install -y yum-utils device-mapper-persistent-data lvm2 vim'   '\\n' \\\n",
    "    'yum-config-manager --add-repo https://download.docker.com/linux/centos/docker-ce.repo'   '\\n' \\\n",
    "    'yum install -y docker-ce'   '\\n' \\\n",
    "    'systemctl start docker'   '\\n' \\\n",
    "    '   \\n' \\\n",
    "    r'RECIPE_REPO=\\\"https://github.com/RENCI-NRIG/exogeni-recipes.git\\\"'   '\\n' \\\n",
    "    'RECIPE_DIR=\\\"/opt/exogeni-recipes\\\"'   '\\n' \\\n",
    "    'RECIPE_APP=\\\"openflow-controller/docker\\\"'   '\\n' \\\n",
    "    'DOCKER_IMAGE=\\\"centos-ryu\\\"'   '\\n' \\\n",
    "    'DOCKER_CONTAINER_NAME=\\\"ryu-controller\\\"'   '\\n' \\\n",
    "    'OFP_TCP_LISTEN_PORT=\\\"'+ryu_port+'\\\"'   '\\n' \\\n",
    "    'RYU_APP=\\\"/opt/ryu_app/'+ryu_app+'\\\"'   '\\n' \\\n",
    "    'MIRROR_PORT='+mirror_port+   '\\n' \\\n",
    "    '   \\n' \\\n",
    "    'git clone  --no-checkout \\${RECIPE_REPO} \\${RECIPE_DIR}'   '\\n' \\\n",
    "    'cd \\${RECIPE_DIR} && git config core.sparsecheckout true'   '\\n' \\\n",
    "    'echo \\\"\\${RECIPE_APP}/*\\\" >> .git/info/sparse-checkout'   '\\n' \\\n",
    "    'git read-tree -m -u HEAD'   '\\n' \\\n",
    "    '   \\n' \\\n",
    "    'cd \\${RECIPE_DIR}/\\${RECIPE_APP}'   '\\n' \\\n",
    "    'docker volume create var_run_ryu'   '\\n' \\\n",
    "    'docker volume create var_log_ryu'   '\\n' \\\n",
    "    'docker volume create opt_ryu'   '\\n' \\\n",
    "    'docker volume create opt_ryu_chameleon'   '\\n' \\\n",
    "    \"sed -r -i \\'s/^(RYU_APP=.*)/#\\1/g\\' ryu_start.sh\"   '\\n' \\\n",
    "    \"sed -r -i \\'s/^(OFP_TCP_LISTEN_PORT=.*)/#\\1/g\\' ryu_start.sh\"   '\\n' \\\n",
    "    '   \\n' \\\n",
    "    'docker build -t \\${DOCKER_IMAGE} .'   '\\n' \\\n",
    "    '   \\n' \\\n",
    "    'docker run --rm -dit -p \\${OFP_TCP_LISTEN_PORT}:\\${OFP_TCP_LISTEN_PORT} -p 8080:8080 -v opt_ryu_chameleon:/opt/ryu_chameleon -v opt_ryu:/opt/ryu -v var_log_ryu:/var/log/ryu -v var_run_ryu:/var/run/ryu -e RYU_APP=\\${RYU_APP} -e OFP_TCP_LISTEN_PORT=\\${OFP_TCP_LISTEN_PORT}  --name=\\${DOCKER_CONTAINER_NAME} \\${DOCKER_IMAGE}'   '\\n' \\\n",
    "    '   \\n' \\\n",
    "    'echo done'   '\\n' \\\n",
    "    '   \\n' \\\n",
    "    '} > /tmp/boot.log 2>&1'   '\\n' "
   ]
  },
  {
   "cell_type": "code",
   "execution_count": 8,
   "metadata": {},
   "outputs": [
    {
     "name": "stdout",
     "output_type": "stream",
     "text": [
      "b''\n",
      "b''\n",
      "done!\n"
     ]
    }
   ],
   "source": [
    "import paramiko \n",
    "#from scp import SCPClient, SCPException\n",
    "\n",
    "key = paramiko.RSAKey.from_private_key_file(\"/home/pruth/work/pruth-jupyter\")\n",
    "client = paramiko.SSHClient()\n",
    "client.load_system_host_keys()\n",
    "client.set_missing_host_key_policy(paramiko.MissingHostKeyPolicy())\n",
    "\n",
    "client.set_missing_host_key_policy(paramiko.AutoAddPolicy())\n",
    "client.connect(floating_ip,username='cc',pkey = key)\n",
    "\n",
    "stdin, stdout, stderr = client.exec_command('echo \\\"' + script + '\\\" > script.sh; chmod +x script.sh; sudo ./script.sh')\n",
    "print (stdout.read())\n",
    "print (stderr.read())\n",
    "\n",
    "client.close()\n",
    "print ('done!')"
   ]
  },
  {
   "cell_type": "code",
   "execution_count": null,
   "metadata": {},
   "outputs": [],
   "source": [
    "delete_server_by_name(server_name)\n",
    "delete_lease_by_name(lease_name)"
   ]
  },
  {
   "cell_type": "code",
   "execution_count": null,
   "metadata": {},
   "outputs": [],
   "source": []
  }
 ],
 "metadata": {
  "kernelspec": {
   "display_name": "Python 3",
   "language": "python",
   "name": "python3"
  },
  "language_info": {
   "codemirror_mode": {
    "name": "ipython",
    "version": 3
   },
   "file_extension": ".py",
   "mimetype": "text/x-python",
   "name": "python",
   "nbconvert_exporter": "python",
   "pygments_lexer": "ipython3",
   "version": "3.7.6"
  }
 },
 "nbformat": 4,
 "nbformat_minor": 4
}
