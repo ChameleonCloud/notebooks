{
 "cells": [
  {
   "cell_type": "markdown",
   "metadata": {},
   "source": [
    "## Tutorial: Stitching Networks between Chameleon Sites\n",
    "\n",
    "This notebook demonstrates how to use ExoGENI to stitch networks between Chameleon sites. It will walk through reserving and configuring stitchable networks on each Chameleon site and using the xoStitch tool to create a layer2 circuit between the networks. \n",
    "\n",
    "#### Modules \n",
    "\n",
    "- [Reserve Mulitple Resources](../modules-python/reservations/reserve_multiple_resources.ipynb)\n",
    "- [Get Lease by Name](../modules-python/reservations/get_lease_by_name.ipynb)\n",
    "- [Get Reservation](../modules-python/reservations/get_reservations_from_lease.ipynb)\n",
    "- [Create Server](../modules-python/servers/create_server.ipynb)\n",
    "- [Delete Server](../modules-python/servers/delete_server.ipynb)\n",
    "- [Create Network](../modules-python/network/create_network.ipynb)\n",
    "- [Delete Network](../modules-python/network/delete_network.ipynb)\n",
    "- [Create Subnet](../modules-python/network/create_subnet.ipynb)\n",
    "- [Delete Subnet](../modules-python/network/delete_subnet.ipynb)\n",
    "- [Get Network by Name](../modules-python/network/get_network_by_name.ipynb)\n",
    "\n",
    "TODO: add the rest of the module links when they are ready\n",
    "\n",
    "#### Import Library\n",
    "\n",
    "```\n",
    "import chi\n",
    "from chi.server_api_examples import *\n",
    "from chi.reservation_api_examples import *\n",
    "from chi.networking_api_examples import *\n",
    "```\n",
    "\n",
    "\n"
   ]
  },
  {
   "cell_type": "markdown",
   "metadata": {},
   "source": [
    "## Tutorial: "
   ]
  },
  {
   "cell_type": "markdown",
   "metadata": {},
   "source": [
    "#### Configure the Environment\n",
    "\n",
    "Import the chi example API calls, set the project name and region, and set various names and attributes to use in the tutorial. "
   ]
  },
  {
   "cell_type": "code",
   "execution_count": 1,
   "metadata": {},
   "outputs": [],
   "source": [
    "import json\n",
    "import os\n",
    "import chi\n",
    "\n",
    "from chi.server_api_examples import *\n",
    "from chi.reservation_api_examples import *\n",
    "from chi.networking_api_examples import *\n",
    "\n",
    "#Config with your project\n",
    "chi.set('project_name', 'ExoGENI@Chameleon') # Replace with your project name\n",
    "\n",
    "#Insert keypair name\n",
    "key_name = 'pruth-jupyter'  # Change to your keypair\n",
    "\n",
    "#GENI Pem file\n",
    "geni_pem_file='/home/pruth/work/geni-pruth.pem'\n",
    "\n",
    "# Tip: Name resources with your username for easier identification\n",
    "username = os.getenv(\"USER\")\n",
    "server_name = username+'Server'\n",
    "network_name = username+'Net'\n",
    "subnet_name = username+'subnet'\n",
    "router_name = username+'Router'\n",
    "lease_name = username+'Lease'\n",
    "\n",
    "#Server Config\n",
    "image_name='CC-CentOS7'\n",
    "flavor_name='baremetal'\n",
    "node_type=\"compute_haswell\"\n",
    "server_count=2\n",
    "\n",
    "#Network Config\n",
    "physical_network='exogeni'\n",
    "cidr='192.168.42.0/24'"
   ]
  },
  {
   "cell_type": "markdown",
   "metadata": {},
   "source": [
    "## Create Chicago Network and Server"
   ]
  },
  {
   "cell_type": "markdown",
   "metadata": {},
   "source": [
    "#### Create a Lease at Chicago"
   ]
  },
  {
   "cell_type": "code",
   "execution_count": 2,
   "metadata": {},
   "outputs": [
    {
     "name": "stdout",
     "output_type": "stream",
     "text": [
      "{\n",
      "  \"status\": \"PENDING\",\n",
      "  \"user_id\": \"f3a422ce5a4442e3a7a247ddfd98bfc3\",\n",
      "  \"name\": \"pruthLease\",\n",
      "  \"end_date\": \"2020-07-24T16:52:00.000000\",\n",
      "  \"reservations\": [\n",
      "    {\n",
      "      \"status\": \"pending\",\n",
      "      \"lease_id\": \"9f03cd52-2e42-45c2-b72a-d8605336cdef\",\n",
      "      \"resource_id\": \"eaac1b9a-7365-41c7-8e99-4d326800caf3\",\n",
      "      \"network_id\": \"44b38c44-2a42-4b6d-b129-6c8f1b2a1375\",\n",
      "      \"created_at\": \"2020-07-23 16:52:55\",\n",
      "      \"updated_at\": \"2020-07-23 16:52:57\",\n",
      "      \"required_floatingips\": [],\n",
      "      \"missing_resources\": false,\n",
      "      \"amount\": 1,\n",
      "      \"id\": \"72e7f3b4-90dc-4693-82dc-d7fe1b7adf05\",\n",
      "      \"resource_type\": \"virtual:floatingip\",\n",
      "      \"resources_changed\": false\n",
      "    },\n",
      "    {\n",
      "      \"status\": \"pending\",\n",
      "      \"before_end\": \"default\",\n",
      "      \"lease_id\": \"9f03cd52-2e42-45c2-b72a-d8605336cdef\",\n",
      "      \"resource_id\": \"f9c86cc5-e36f-4d90-a7d1-238dcc6662e7\",\n",
      "      \"max\": 2,\n",
      "      \"created_at\": \"2020-07-23 16:52:47\",\n",
      "      \"min\": 2,\n",
      "      \"updated_at\": \"2020-07-23 16:52:53\",\n",
      "      \"missing_resources\": false,\n",
      "      \"hypervisor_properties\": \"\",\n",
      "      \"on_start\": \"default\",\n",
      "      \"resource_properties\": \"[\\\"==\\\", \\\"$node_type\\\", \\\"compute_haswell\\\"]\",\n",
      "      \"id\": \"e38613bc-58fb-4d5a-b9bd-7fa2bb0fce73\",\n",
      "      \"resource_type\": \"physical:host\",\n",
      "      \"resources_changed\": false\n",
      "    },\n",
      "    {\n",
      "      \"status\": \"pending\",\n",
      "      \"lease_id\": \"9f03cd52-2e42-45c2-b72a-d8605336cdef\",\n",
      "      \"resource_id\": \"8d42fad2-7c93-471c-add4-431dd7296211\",\n",
      "      \"created_at\": \"2020-07-23 16:52:53\",\n",
      "      \"updated_at\": \"2020-07-23 16:52:55\",\n",
      "      \"missing_resources\": false,\n",
      "      \"id\": \"f3b32fdd-9f7e-4559-8c3b-e4888b4a110a\",\n",
      "      \"resource_type\": \"network\",\n",
      "      \"resources_changed\": false\n",
      "    }\n",
      "  ],\n",
      "  \"created_at\": \"2020-07-23 16:52:47\",\n",
      "  \"updated_at\": \"2020-07-23 16:52:57\",\n",
      "  \"events\": [\n",
      "    {\n",
      "      \"status\": \"UNDONE\",\n",
      "      \"lease_id\": \"9f03cd52-2e42-45c2-b72a-d8605336cdef\",\n",
      "      \"event_type\": \"end_lease\",\n",
      "      \"created_at\": \"2020-07-23 16:52:57\",\n",
      "      \"updated_at\": null,\n",
      "      \"time\": \"2020-07-24T16:52:00.000000\",\n",
      "      \"id\": \"10b8e6e1-2c05-4f0b-b635-b1089e7b600e\"\n",
      "    },\n",
      "    {\n",
      "      \"status\": \"UNDONE\",\n",
      "      \"lease_id\": \"9f03cd52-2e42-45c2-b72a-d8605336cdef\",\n",
      "      \"event_type\": \"start_lease\",\n",
      "      \"created_at\": \"2020-07-23 16:52:57\",\n",
      "      \"updated_at\": null,\n",
      "      \"time\": \"2020-07-23T16:53:00.000000\",\n",
      "      \"id\": \"931bef7b-f613-41f5-84b6-7dd34a808a77\"\n",
      "    },\n",
      "    {\n",
      "      \"status\": \"UNDONE\",\n",
      "      \"lease_id\": \"9f03cd52-2e42-45c2-b72a-d8605336cdef\",\n",
      "      \"event_type\": \"before_end_lease\",\n",
      "      \"created_at\": \"2020-07-23 16:52:57\",\n",
      "      \"updated_at\": null,\n",
      "      \"time\": \"2020-07-23T16:53:00.000000\",\n",
      "      \"id\": \"b1498c2f-dca0-4d23-98da-660d35050576\"\n",
      "    }\n",
      "  ],\n",
      "  \"id\": \"9f03cd52-2e42-45c2-b72a-d8605336cdef\",\n",
      "  \"degraded\": false,\n",
      "  \"project_id\": \"d9faac3973a847f1b718fa765fe312e2\",\n",
      "  \"start_date\": \"2020-07-23T16:53:00.000000\",\n",
      "  \"trust_id\": \"fc9b0d6e9442411fa938124c5f412601\"\n",
      "}\n"
     ]
    }
   ],
   "source": [
    "#Set the region\n",
    "chi.set('region_name', 'CHI@UC')     # Optional, defaults to 'CHI@UC'\n",
    "\n",
    "# Set start/end date for lease\n",
    "# Start one minute into future to avoid Blazar thinking lease is in past\n",
    "# due to rounding to closest minute.\n",
    "start_date = (datetime.now(tz=tz.tzutc()) + timedelta(minutes=1)).strftime(BLAZAR_TIME_FORMAT)\n",
    "end_date   = (datetime.now(tz=tz.tzutc()) + timedelta(days=1)).strftime(BLAZAR_TIME_FORMAT)\n",
    "\n",
    "# Build list of reservations (in this case there is only one reservation)\n",
    "reservation_list = []\n",
    "add_node_reservation(reservation_list, count=server_count, node_type=node_type)\n",
    "add_network_reservation(reservation_list, network_name=network_name, physical_network=physical_network)\n",
    "add_fip_reservation(reservation_list, count=1)\n",
    "\n",
    "# Create the lease\n",
    "chi.blazar().lease.create(name=lease_name, \n",
    "                            start=start_date,\n",
    "                            end=end_date,\n",
    "                            reservations=reservation_list, events=[])\n",
    "\n",
    "#Get the lease by name\n",
    "uc_lease = get_lease_by_name(lease_name)\n",
    "    \n",
    "#Print the lease info\n",
    "print(json.dumps(uc_lease, indent=2))"
   ]
  },
  {
   "cell_type": "markdown",
   "metadata": {},
   "source": [
    "#### Get the Reservations\n",
    "\n",
    "Each lease contains one or more reservations. The individual reservation IDs are required to instantiate resources. You can [get the lease](../modules-python/reservations/get_lease_by_name.ipynb) and separate the reservation IDs for compute, network, and floating IPs using the technique below."
   ]
  },
  {
   "cell_type": "code",
   "execution_count": 3,
   "metadata": {},
   "outputs": [
    {
     "name": "stdout",
     "output_type": "stream",
     "text": [
      "uc_compute_reservation_id: e38613bc-58fb-4d5a-b9bd-7fa2bb0fce73\n",
      "uc_network_reservation_id: f3b32fdd-9f7e-4559-8c3b-e4888b4a110a\n",
      "uc_floatingip_reservation_id: 72e7f3b4-90dc-4693-82dc-d7fe1b7adf05\n"
     ]
    }
   ],
   "source": [
    "#Get the lease by name\n",
    "uc_lease = get_lease_by_name(lease_name)\n",
    "\n",
    "uc_compute_reservation_id = list(filter(lambda reservation: reservation['resource_type'] == 'physical:host', uc_lease['reservations']))[0]['id']\n",
    "uc_network_reservation_id = list(filter(lambda reservation: reservation['resource_type'] == 'network', uc_lease['reservations']))[0]['id']\n",
    "uc_floatingip_reservation_id = list(filter(lambda reservation: reservation['resource_type'] == 'virtual:floatingip', uc_lease['reservations']))[0]['id']\n",
    "\n",
    "print(\"uc_compute_reservation_id: \" + uc_compute_reservation_id)\n",
    "print(\"uc_network_reservation_id: \" + uc_network_reservation_id)\n",
    "print(\"uc_floatingip_reservation_id: \" + uc_floatingip_reservation_id)"
   ]
  },
  {
   "cell_type": "markdown",
   "metadata": {},
   "source": [
    "#### Get the Network\n",
    "\n",
    "Getting the network is not required for the remainder of the tutorial. However, it is a good test to see if your network reservation has become active. The [get_network_by_name](../modules-python/network/get_network_by_name.ipynb) call will fail if a network with that name does not yet exits. It will also fail if a network with the same name already exists (likely from a previous run of this notebook)."
   ]
  },
  {
   "cell_type": "code",
   "execution_count": 4,
   "metadata": {},
   "outputs": [
    {
     "name": "stdout",
     "output_type": "stream",
     "text": [
      "{\n",
      "  \"provider:physical_network\": \"exogeni\",\n",
      "  \"ipv6_address_scope\": null,\n",
      "  \"revision_number\": 1,\n",
      "  \"port_security_enabled\": true,\n",
      "  \"mtu\": 1500,\n",
      "  \"id\": \"e0fa08b8-ee90-4f5d-b4eb-11f60e46ca19\",\n",
      "  \"router:external\": false,\n",
      "  \"availability_zone_hints\": [],\n",
      "  \"availability_zones\": [],\n",
      "  \"ipv4_address_scope\": null,\n",
      "  \"shared\": false,\n",
      "  \"project_id\": \"d9faac3973a847f1b718fa765fe312e2\",\n",
      "  \"status\": \"ACTIVE\",\n",
      "  \"subnets\": [],\n",
      "  \"description\": \"\",\n",
      "  \"tags\": [],\n",
      "  \"updated_at\": \"2020-07-23T16:53:10Z\",\n",
      "  \"provider:segmentation_id\": 3291,\n",
      "  \"name\": \"pruthNet\",\n",
      "  \"admin_state_up\": true,\n",
      "  \"tenant_id\": \"d9faac3973a847f1b718fa765fe312e2\",\n",
      "  \"created_at\": \"2020-07-23T16:53:10Z\",\n",
      "  \"provider:network_type\": \"vlan\"\n",
      "}\n",
      "Network ID: e0fa08b8-ee90-4f5d-b4eb-11f60e46ca19\n",
      "uc_network_vlan: 3291\n"
     ]
    }
   ],
   "source": [
    "chi.set('region_name', 'CHI@UC')  \n",
    "#Get the network\n",
    "network = get_network_by_name(network_name)\n",
    "print(json.dumps(network, indent=2))\n",
    "\n",
    "#Get the network ID\n",
    "network_id = network['id']\n",
    "print('Network ID: ' + str(network_id))\n",
    "\n",
    "#Get the VLAN tag (needed for ExoGENI stitching)\n",
    "uc_network_vlan = network['provider:segmentation_id']\n",
    "print('uc_network_vlan: ' + str(uc_network_vlan))\n"
   ]
  },
  {
   "cell_type": "markdown",
   "metadata": {},
   "source": [
    "#### Add a subnet\n",
    "\n",
    "[Adds a subnet](../modules-python/network/add_subnet.ipynb) to the reserved network. "
   ]
  },
  {
   "cell_type": "code",
   "execution_count": 5,
   "metadata": {},
   "outputs": [
    {
     "name": "stdout",
     "output_type": "stream",
     "text": [
      "{\n",
      "  \"subnets\": [\n",
      "    {\n",
      "      \"service_types\": [],\n",
      "      \"description\": \"\",\n",
      "      \"enable_dhcp\": true,\n",
      "      \"tags\": [],\n",
      "      \"network_id\": \"e0fa08b8-ee90-4f5d-b4eb-11f60e46ca19\",\n",
      "      \"tenant_id\": \"d9faac3973a847f1b718fa765fe312e2\",\n",
      "      \"created_at\": \"2020-07-23T16:54:45Z\",\n",
      "      \"dns_nameservers\": [],\n",
      "      \"updated_at\": \"2020-07-23T16:54:45Z\",\n",
      "      \"gateway_ip\": \"192.168.42.1\",\n",
      "      \"ipv6_ra_mode\": null,\n",
      "      \"allocation_pools\": [\n",
      "        {\n",
      "          \"start\": \"192.168.42.2\",\n",
      "          \"end\": \"192.168.42.254\"\n",
      "        }\n",
      "      ],\n",
      "      \"host_routes\": [],\n",
      "      \"revision_number\": 0,\n",
      "      \"ip_version\": 4,\n",
      "      \"ipv6_address_mode\": null,\n",
      "      \"cidr\": \"192.168.42.0/24\",\n",
      "      \"project_id\": \"d9faac3973a847f1b718fa765fe312e2\",\n",
      "      \"id\": \"6563631a-90b5-499f-9ecf-7bc9e62aa2eb\",\n",
      "      \"subnetpool_id\": null,\n",
      "      \"name\": \"pruthsubnet\"\n",
      "    }\n",
      "  ]\n",
      "}\n"
     ]
    }
   ],
   "source": [
    "subnet = add_subnet(subnet_name, network_name, cidr=cidr)\n",
    "\n",
    "print(json.dumps(subnet, indent=2))"
   ]
  },
  {
   "cell_type": "markdown",
   "metadata": {},
   "source": [
    "#### Add a Router\n",
    "\n",
    "TODO: add links here"
   ]
  },
  {
   "cell_type": "code",
   "execution_count": 7,
   "metadata": {},
   "outputs": [
    {
     "name": "stdout",
     "output_type": "stream",
     "text": [
      "{\n",
      "  \"router\": {\n",
      "    \"status\": \"ACTIVE\",\n",
      "    \"external_gateway_info\": {\n",
      "      \"network_id\": \"44b38c44-2a42-4b6d-b129-6c8f1b2a1375\",\n",
      "      \"enable_snat\": true,\n",
      "      \"external_fixed_ips\": [\n",
      "        {\n",
      "          \"subnet_id\": \"c3950603-9e04-4cc5-be8d-1efbfe59fc0a\",\n",
      "          \"ip_address\": \"192.5.87.56\"\n",
      "        }\n",
      "      ]\n",
      "    },\n",
      "    \"availability_zone_hints\": [],\n",
      "    \"availability_zones\": [],\n",
      "    \"description\": \"\",\n",
      "    \"tags\": [],\n",
      "    \"tenant_id\": \"d9faac3973a847f1b718fa765fe312e2\",\n",
      "    \"created_at\": \"2020-07-23T16:55:11Z\",\n",
      "    \"admin_state_up\": true,\n",
      "    \"updated_at\": \"2020-07-23T16:55:13Z\",\n",
      "    \"flavor_id\": null,\n",
      "    \"revision_number\": 3,\n",
      "    \"routes\": [],\n",
      "    \"project_id\": \"d9faac3973a847f1b718fa765fe312e2\",\n",
      "    \"id\": \"46bd0078-f99a-49d7-9996-f106a4c9c148\",\n",
      "    \"name\": \"pruthRouter\"\n",
      "  }\n",
      "}\n"
     ]
    }
   ],
   "source": [
    "router = create_router(router_name, gw_network_name='public')\n",
    "\n",
    "print(json.dumps(router, indent=2))"
   ]
  },
  {
   "cell_type": "markdown",
   "metadata": {},
   "source": [
    "#### Attach the Router and Subnet\n",
    "\n",
    "TODO: Add links here"
   ]
  },
  {
   "cell_type": "code",
   "execution_count": 8,
   "metadata": {},
   "outputs": [
    {
     "data": {
      "text/plain": [
       "{'network_id': 'e0fa08b8-ee90-4f5d-b4eb-11f60e46ca19',\n",
       " 'tenant_id': 'd9faac3973a847f1b718fa765fe312e2',\n",
       " 'subnet_id': '6563631a-90b5-499f-9ecf-7bc9e62aa2eb',\n",
       " 'subnet_ids': ['6563631a-90b5-499f-9ecf-7bc9e62aa2eb'],\n",
       " 'port_id': 'df921672-95d6-405e-b350-07593bd11c26',\n",
       " 'id': '46bd0078-f99a-49d7-9996-f106a4c9c148'}"
      ]
     },
     "execution_count": 8,
     "metadata": {},
     "output_type": "execute_result"
    }
   ],
   "source": [
    "attach_router_to_subnet(router_name=router_name, subnet_name=subnet_name)"
   ]
  },
  {
   "cell_type": "markdown",
   "metadata": {},
   "source": [
    "## Create TACC Network and Server"
   ]
  },
  {
   "cell_type": "markdown",
   "metadata": {},
   "source": [
    "#### Create a Lease at TACC"
   ]
  },
  {
   "cell_type": "code",
   "execution_count": 9,
   "metadata": {},
   "outputs": [
    {
     "name": "stdout",
     "output_type": "stream",
     "text": [
      "{\n",
      "  \"status\": \"PENDING\",\n",
      "  \"user_id\": \"f3a422ce5a4442e3a7a247ddfd98bfc3\",\n",
      "  \"name\": \"pruthLease\",\n",
      "  \"end_date\": \"2020-07-24T16:55:00.000000\",\n",
      "  \"reservations\": [\n",
      "    {\n",
      "      \"status\": \"pending\",\n",
      "      \"before_end\": \"default\",\n",
      "      \"lease_id\": \"f6bdcb5a-f243-4506-895d-1a6ae5c7a42f\",\n",
      "      \"resource_id\": \"39cfca00-c1fc-4a8d-a0c1-2a763f2d8a33\",\n",
      "      \"max\": 2,\n",
      "      \"created_at\": \"2020-07-23 16:55:26\",\n",
      "      \"min\": 2,\n",
      "      \"updated_at\": \"2020-07-23 16:55:41\",\n",
      "      \"missing_resources\": false,\n",
      "      \"hypervisor_properties\": \"\",\n",
      "      \"on_start\": \"default\",\n",
      "      \"resource_properties\": \"[\\\"==\\\", \\\"$node_type\\\", \\\"compute_haswell\\\"]\",\n",
      "      \"id\": \"1ead9202-c138-45b9-b235-ce0bf59f9bcb\",\n",
      "      \"resource_type\": \"physical:host\",\n",
      "      \"resources_changed\": false\n",
      "    },\n",
      "    {\n",
      "      \"status\": \"pending\",\n",
      "      \"lease_id\": \"f6bdcb5a-f243-4506-895d-1a6ae5c7a42f\",\n",
      "      \"resource_id\": \"97ea7342-72aa-483b-927f-5130d61eebfe\",\n",
      "      \"created_at\": \"2020-07-23 16:55:41\",\n",
      "      \"updated_at\": \"2020-07-23 16:55:43\",\n",
      "      \"missing_resources\": false,\n",
      "      \"id\": \"87996aba-8981-4540-91bb-5df5317d8586\",\n",
      "      \"resource_type\": \"network\",\n",
      "      \"resources_changed\": false\n",
      "    },\n",
      "    {\n",
      "      \"status\": \"pending\",\n",
      "      \"lease_id\": \"f6bdcb5a-f243-4506-895d-1a6ae5c7a42f\",\n",
      "      \"resource_id\": \"5252b41d-f0d6-4dfb-8fe0-1c052fca363d\",\n",
      "      \"network_id\": \"6189521e-06a0-4c43-b163-16cc11ce675b\",\n",
      "      \"created_at\": \"2020-07-23 16:55:43\",\n",
      "      \"updated_at\": \"2020-07-23 16:55:44\",\n",
      "      \"required_floatingips\": [],\n",
      "      \"missing_resources\": false,\n",
      "      \"amount\": 1,\n",
      "      \"id\": \"f912ca67-9888-45a8-a6ee-bdcab28d3f5f\",\n",
      "      \"resource_type\": \"virtual:floatingip\",\n",
      "      \"resources_changed\": false\n",
      "    }\n",
      "  ],\n",
      "  \"created_at\": \"2020-07-23 16:55:25\",\n",
      "  \"updated_at\": \"2020-07-23 16:55:44\",\n",
      "  \"events\": [\n",
      "    {\n",
      "      \"status\": \"UNDONE\",\n",
      "      \"lease_id\": \"f6bdcb5a-f243-4506-895d-1a6ae5c7a42f\",\n",
      "      \"event_type\": \"before_end_lease\",\n",
      "      \"created_at\": \"2020-07-23 16:55:44\",\n",
      "      \"updated_at\": null,\n",
      "      \"time\": \"2020-07-23T16:56:00.000000\",\n",
      "      \"id\": \"00ab9771-1dce-43e2-b453-fa6eda3771ee\"\n",
      "    },\n",
      "    {\n",
      "      \"status\": \"UNDONE\",\n",
      "      \"lease_id\": \"f6bdcb5a-f243-4506-895d-1a6ae5c7a42f\",\n",
      "      \"event_type\": \"end_lease\",\n",
      "      \"created_at\": \"2020-07-23 16:55:44\",\n",
      "      \"updated_at\": null,\n",
      "      \"time\": \"2020-07-24T16:55:00.000000\",\n",
      "      \"id\": \"26202492-500b-4b20-ad2d-ffbc33afd269\"\n",
      "    },\n",
      "    {\n",
      "      \"status\": \"UNDONE\",\n",
      "      \"lease_id\": \"f6bdcb5a-f243-4506-895d-1a6ae5c7a42f\",\n",
      "      \"event_type\": \"start_lease\",\n",
      "      \"created_at\": \"2020-07-23 16:55:44\",\n",
      "      \"updated_at\": null,\n",
      "      \"time\": \"2020-07-23T16:56:00.000000\",\n",
      "      \"id\": \"b2cbef30-246e-4a33-a782-cbee8d4f4451\"\n",
      "    }\n",
      "  ],\n",
      "  \"id\": \"f6bdcb5a-f243-4506-895d-1a6ae5c7a42f\",\n",
      "  \"degraded\": false,\n",
      "  \"project_id\": \"d9faac3973a847f1b718fa765fe312e2\",\n",
      "  \"start_date\": \"2020-07-23T16:56:00.000000\",\n",
      "  \"trust_id\": \"b85c55024a92421499294880c864d4e6\"\n",
      "}\n"
     ]
    }
   ],
   "source": [
    "#Set the region\n",
    "chi.set('region_name', 'CHI@TACC')     # Optional, defaults to 'CHI@UC'\n",
    "\n",
    "# Set start/end date for lease\n",
    "# Start one minute into future to avoid Blazar thinking lease is in past\n",
    "# due to rounding to closest minute.\n",
    "start_date = (datetime.now(tz=tz.tzutc()) + timedelta(minutes=1)).strftime(BLAZAR_TIME_FORMAT)\n",
    "end_date   = (datetime.now(tz=tz.tzutc()) + timedelta(days=1)).strftime(BLAZAR_TIME_FORMAT)\n",
    "\n",
    "# Build list of reservations (in this case there is only one reservation)\n",
    "reservation_list = []\n",
    "add_node_reservation(reservation_list, count=server_count, node_type=node_type)\n",
    "add_network_reservation(reservation_list, network_name=network_name, physical_network=physical_network)\n",
    "add_fip_reservation(reservation_list, count=1)\n",
    "\n",
    "# Create the lease\n",
    "chi.blazar().lease.create(name=lease_name, \n",
    "                            start=start_date,\n",
    "                            end=end_date,\n",
    "                            reservations=reservation_list, events=[])\n",
    "\n",
    "#Get the lease by name\n",
    "tacc_lease = get_lease_by_name(lease_name)\n",
    "    \n",
    "#Print the lease info\n",
    "print(json.dumps(tacc_lease, indent=2))"
   ]
  },
  {
   "cell_type": "markdown",
   "metadata": {},
   "source": [
    "#### Get the Reservations\n",
    "\n",
    "Each lease contains one or more reservations. The individual reservation IDs are required to instantiate resources. You can [get the lease](../modules-python/reservations/get_lease_by_name.ipynb) and separate the reservation IDs for compute, network, and floating IPs using the technique below."
   ]
  },
  {
   "cell_type": "code",
   "execution_count": 10,
   "metadata": {},
   "outputs": [
    {
     "name": "stdout",
     "output_type": "stream",
     "text": [
      "tacc_compute_reservation_id: 1ead9202-c138-45b9-b235-ce0bf59f9bcb\n",
      "tacc_network_reservation_id: 87996aba-8981-4540-91bb-5df5317d8586\n",
      "tacc_floatingip_reservation_id: f912ca67-9888-45a8-a6ee-bdcab28d3f5f\n"
     ]
    }
   ],
   "source": [
    "#Get the lease by name\n",
    "tacc_lease = get_lease_by_name(lease_name)\n",
    "\n",
    "tacc_compute_reservation_id = list(filter(lambda reservation: reservation['resource_type'] == 'physical:host', tacc_lease['reservations']))[0]['id']\n",
    "tacc_network_reservation_id = list(filter(lambda reservation: reservation['resource_type'] == 'network', tacc_lease['reservations']))[0]['id']\n",
    "tacc_floatingip_reservation_id = list(filter(lambda reservation: reservation['resource_type'] == 'virtual:floatingip', tacc_lease['reservations']))[0]['id']\n",
    "\n",
    "print(\"tacc_compute_reservation_id: \" + tacc_compute_reservation_id)\n",
    "print(\"tacc_network_reservation_id: \" + tacc_network_reservation_id)\n",
    "print(\"tacc_floatingip_reservation_id: \" + tacc_floatingip_reservation_id)"
   ]
  },
  {
   "cell_type": "markdown",
   "metadata": {},
   "source": [
    "#### Get the Network\n",
    "\n",
    "Getting the network is not required for the remainder of the tutorial. However, it is a good test to see if your network reservation has become active. The [get_network_by_name](../modules-python/network/get_network_by_name.ipynb) call will fail if a network with that name does not yet exits. It will also fail if a network with the same name already exists (likely from a previous run of this notebook)."
   ]
  },
  {
   "cell_type": "code",
   "execution_count": 11,
   "metadata": {},
   "outputs": [
    {
     "name": "stdout",
     "output_type": "stream",
     "text": [
      "{\n",
      "  \"provider:physical_network\": \"exogeni\",\n",
      "  \"ipv6_address_scope\": null,\n",
      "  \"revision_number\": 1,\n",
      "  \"port_security_enabled\": true,\n",
      "  \"mtu\": 1500,\n",
      "  \"id\": \"2d703759-ea1c-449c-ad88-38bb67c588be\",\n",
      "  \"router:external\": false,\n",
      "  \"availability_zone_hints\": [],\n",
      "  \"availability_zones\": [],\n",
      "  \"ipv4_address_scope\": null,\n",
      "  \"shared\": false,\n",
      "  \"project_id\": \"d9faac3973a847f1b718fa765fe312e2\",\n",
      "  \"status\": \"ACTIVE\",\n",
      "  \"subnets\": [],\n",
      "  \"description\": \"\",\n",
      "  \"tags\": [],\n",
      "  \"updated_at\": \"2020-07-23T16:56:12Z\",\n",
      "  \"provider:segmentation_id\": 3504,\n",
      "  \"name\": \"pruthNet\",\n",
      "  \"admin_state_up\": true,\n",
      "  \"tenant_id\": \"d9faac3973a847f1b718fa765fe312e2\",\n",
      "  \"created_at\": \"2020-07-23T16:56:12Z\",\n",
      "  \"provider:network_type\": \"vlan\"\n",
      "}\n",
      "Network ID: 2d703759-ea1c-449c-ad88-38bb67c588be\n",
      "tacc_network_vlan: 3504\n"
     ]
    }
   ],
   "source": [
    "chi.set('region_name', 'CHI@TACC')  \n",
    "#Get the network\n",
    "network = get_network_by_name(network_name)\n",
    "print(json.dumps(network, indent=2))\n",
    "\n",
    "#Get the network ID\n",
    "network_id = network['id']\n",
    "print('Network ID: ' + str(network_id))\n",
    "\n",
    "#Get the VLAN tag (needed for ExoGENI stitching)\n",
    "tacc_network_vlan = network['provider:segmentation_id']\n",
    "print('tacc_network_vlan: ' + str(tacc_network_vlan))\n"
   ]
  },
  {
   "cell_type": "markdown",
   "metadata": {},
   "source": [
    "#### Add a subnet\n",
    "\n",
    "[Adds a subnet](../modules-python/network/add_subnet.ipynb) to the reserved network. "
   ]
  },
  {
   "cell_type": "code",
   "execution_count": 12,
   "metadata": {},
   "outputs": [
    {
     "name": "stdout",
     "output_type": "stream",
     "text": [
      "{\n",
      "  \"subnets\": [\n",
      "    {\n",
      "      \"service_types\": [],\n",
      "      \"description\": \"\",\n",
      "      \"enable_dhcp\": true,\n",
      "      \"tags\": [],\n",
      "      \"network_id\": \"2d703759-ea1c-449c-ad88-38bb67c588be\",\n",
      "      \"tenant_id\": \"d9faac3973a847f1b718fa765fe312e2\",\n",
      "      \"created_at\": \"2020-07-23T16:57:02Z\",\n",
      "      \"dns_nameservers\": [],\n",
      "      \"updated_at\": \"2020-07-23T16:57:02Z\",\n",
      "      \"gateway_ip\": \"192.168.42.1\",\n",
      "      \"ipv6_ra_mode\": null,\n",
      "      \"allocation_pools\": [\n",
      "        {\n",
      "          \"start\": \"192.168.42.2\",\n",
      "          \"end\": \"192.168.42.254\"\n",
      "        }\n",
      "      ],\n",
      "      \"host_routes\": [],\n",
      "      \"revision_number\": 0,\n",
      "      \"ip_version\": 4,\n",
      "      \"ipv6_address_mode\": null,\n",
      "      \"cidr\": \"192.168.42.0/24\",\n",
      "      \"project_id\": \"d9faac3973a847f1b718fa765fe312e2\",\n",
      "      \"id\": \"81f39fde-8ad0-475e-a977-f0f2c3f2ec96\",\n",
      "      \"subnetpool_id\": null,\n",
      "      \"name\": \"pruthsubnet\"\n",
      "    }\n",
      "  ]\n",
      "}\n"
     ]
    }
   ],
   "source": [
    "subnet = add_subnet(subnet_name, network_name, cidr=cidr)\n",
    "\n",
    "print(json.dumps(subnet, indent=2))"
   ]
  },
  {
   "cell_type": "markdown",
   "metadata": {},
   "source": [
    "#### Add a Router\n",
    "\n",
    "TODO: add links here"
   ]
  },
  {
   "cell_type": "code",
   "execution_count": 13,
   "metadata": {},
   "outputs": [
    {
     "name": "stdout",
     "output_type": "stream",
     "text": [
      "{\n",
      "  \"router\": {\n",
      "    \"status\": \"ACTIVE\",\n",
      "    \"external_gateway_info\": {\n",
      "      \"network_id\": \"6189521e-06a0-4c43-b163-16cc11ce675b\",\n",
      "      \"enable_snat\": true,\n",
      "      \"external_fixed_ips\": [\n",
      "        {\n",
      "          \"subnet_id\": \"a58a9684-844d-4424-821a-b1e75ebfc0f7\",\n",
      "          \"ip_address\": \"129.114.109.75\"\n",
      "        }\n",
      "      ]\n",
      "    },\n",
      "    \"availability_zone_hints\": [],\n",
      "    \"availability_zones\": [],\n",
      "    \"description\": \"\",\n",
      "    \"tags\": [],\n",
      "    \"tenant_id\": \"d9faac3973a847f1b718fa765fe312e2\",\n",
      "    \"created_at\": \"2020-07-23T16:57:04Z\",\n",
      "    \"admin_state_up\": true,\n",
      "    \"updated_at\": \"2020-07-23T16:57:06Z\",\n",
      "    \"flavor_id\": null,\n",
      "    \"revision_number\": 3,\n",
      "    \"routes\": [],\n",
      "    \"project_id\": \"d9faac3973a847f1b718fa765fe312e2\",\n",
      "    \"id\": \"6337c0ed-60e0-4d66-b04f-ea9a137353cd\",\n",
      "    \"name\": \"pruthRouter\"\n",
      "  }\n",
      "}\n"
     ]
    }
   ],
   "source": [
    "router = create_router(router_name, gw_network_name='public')\n",
    "\n",
    "print(json.dumps(router, indent=2))"
   ]
  },
  {
   "cell_type": "markdown",
   "metadata": {},
   "source": [
    "#### Attach the Router and Subnet\n",
    "\n",
    "TODO: Add links here"
   ]
  },
  {
   "cell_type": "code",
   "execution_count": 14,
   "metadata": {},
   "outputs": [
    {
     "data": {
      "text/plain": [
       "{'network_id': '2d703759-ea1c-449c-ad88-38bb67c588be',\n",
       " 'tenant_id': 'd9faac3973a847f1b718fa765fe312e2',\n",
       " 'subnet_id': '81f39fde-8ad0-475e-a977-f0f2c3f2ec96',\n",
       " 'subnet_ids': ['81f39fde-8ad0-475e-a977-f0f2c3f2ec96'],\n",
       " 'port_id': 'c7b082dd-cca6-4b1c-8bbd-d142a31bd864',\n",
       " 'id': '6337c0ed-60e0-4d66-b04f-ea9a137353cd'}"
      ]
     },
     "execution_count": 14,
     "metadata": {},
     "output_type": "execute_result"
    }
   ],
   "source": [
    "attach_router_to_subnet(router_name=router_name, subnet_name=subnet_name)"
   ]
  },
  {
   "cell_type": "markdown",
   "metadata": {},
   "source": [
    "## Start the Servers"
   ]
  },
  {
   "cell_type": "markdown",
   "metadata": {},
   "source": [
    "#### Start the UC Server\n",
    "\n",
    "Use the compute_reservation_id to [create the server](../modules-python/servers/create_server.ipynb)."
   ]
  },
  {
   "cell_type": "code",
   "execution_count": 15,
   "metadata": {},
   "outputs": [],
   "source": [
    "chi.set('region_name', 'CHI@UC')  \n",
    "#create the server\n",
    "server = create_server(server_name, \n",
    "                       reservation_id=uc_compute_reservation_id, \n",
    "                       key_name=key_name, \n",
    "                       network_name=network_name, \n",
    "                       image_name=image_name, \n",
    "                       flavor_name=flavor_name)\n"
   ]
  },
  {
   "cell_type": "markdown",
   "metadata": {},
   "source": [
    "#### Associate the Floating IP   \n",
    "TODO: need to find floating_ip from the reservation that was just made"
   ]
  },
  {
   "cell_type": "code",
   "execution_count": 18,
   "metadata": {},
   "outputs": [
    {
     "name": "stdout",
     "output_type": "stream",
     "text": [
      "Floating IP: 192.5.87.221\n"
     ]
    }
   ],
   "source": [
    "chi.set('region_name', 'CHI@UC')  \n",
    "floating_ip = associate_floating_ip(server_name)\n",
    "\n",
    "print('Floating IP: ' + str(floating_ip))"
   ]
  },
  {
   "cell_type": "markdown",
   "metadata": {},
   "source": [
    "#### Start the TACC Server\n",
    "\n",
    "Use the compute_reservation_id to [create the server](../modules-python/servers/create_server.ipynb)."
   ]
  },
  {
   "cell_type": "code",
   "execution_count": 16,
   "metadata": {},
   "outputs": [
    {
     "name": "stdout",
     "output_type": "stream",
     "text": [
      "server_name pruthServer\n",
      "tacc_compute_reservation_id 1ead9202-c138-45b9-b235-ce0bf59f9bcb\n",
      "key_name pruth-jupyter\n",
      "network_name pruthNet\n",
      "image_name CC-CentOS7\n",
      "flavor_name baremetal\n"
     ]
    }
   ],
   "source": [
    "chi.set('region_name', 'CHI@TACC')\n",
    "\n",
    "print(\"server_name \" + server_name)\n",
    "print(\"tacc_compute_reservation_id \" + tacc_compute_reservation_id)\n",
    "print(\"key_name \" + key_name) \n",
    "print(\"network_name \" + network_name)\n",
    "print(\"image_name \" + image_name)\n",
    "print(\"flavor_name \" + flavor_name)\n",
    "\n",
    "#create the server\n",
    "server = create_server(server_name, \n",
    "                       reservation_id=tacc_compute_reservation_id, \n",
    "                       key_name=key_name, \n",
    "                       network_name=network_name, \n",
    "                       image_name=image_name, \n",
    "                       flavor_name=flavor_name)\n"
   ]
  },
  {
   "cell_type": "markdown",
   "metadata": {},
   "source": [
    "#### Associate the Floating IP   \n",
    "TODO: need to find floating_ip from the reservation that was just made"
   ]
  },
  {
   "cell_type": "code",
   "execution_count": 19,
   "metadata": {},
   "outputs": [
    {
     "name": "stdout",
     "output_type": "stream",
     "text": [
      "Floating IP: 129.114.109.233\n"
     ]
    }
   ],
   "source": [
    "chi.set('region_name', 'CHI@TACC')  \n",
    "\n",
    "floating_ip = associate_floating_ip(server_name)\n",
    "\n",
    "print('Floating IP: ' + str(floating_ip))"
   ]
  },
  {
   "cell_type": "markdown",
   "metadata": {},
   "source": [
    "## Stitch the Circuit using ExoGENI\n",
    "\n",
    "Note: The ExoGENI\n",
    "steps require a valid GENI certificate at the path specified and a public/private keypair in ~/.ssh (run ssh-keygen with default inputs)"
   ]
  },
  {
   "cell_type": "markdown",
   "metadata": {},
   "source": [
    "#### Create the Circuit"
   ]
  },
  {
   "cell_type": "code",
   "execution_count": 17,
   "metadata": {},
   "outputs": [
    {
     "name": "stdout",
     "output_type": "stream",
     "text": [
      "uc_vlan  3291 , tacc_vlan  3504 , geni_pem  /home/pruth/work/geni-pruth.pem\n",
      "Opening certificate /home/pruth/work/geni-pruth.pem and key /home/pruth/work/geni-pruth.pem\n"
     ]
    },
    {
     "name": "stderr",
     "output_type": "stream",
     "text": [
      "log4j:WARN No appenders could be found for logger (org.renci.ahab.libndl.LIBNDL).\n",
      "log4j:WARN Please initialize the log4j system properly.\n"
     ]
    }
   ],
   "source": [
    "%%script env uc_vlan=\"$uc_network_vlan\" tacc_vlan=\"$tacc_network_vlan\" geni_pem=\"$geni_pem_file\" bash\n",
    "\n",
    "echo 'uc_vlan ' $uc_vlan ', tacc_vlan ' $tacc_vlan ', geni_pem ' $geni_pem\n",
    "xoStitch create -sp1 uc -vlan1 $uc_vlan -sp2 tacc -vlan2 $tacc_vlan -c $geni_pem"
   ]
  },
  {
   "cell_type": "markdown",
   "metadata": {},
   "source": [
    "#### Check the Status of the Circuit"
   ]
  },
  {
   "cell_type": "code",
   "execution_count": null,
   "metadata": {},
   "outputs": [],
   "source": [
    "%%script env uc_vlan=\"$uc_network_vlan\" tacc_vlan=\"$tacc_network_vlan\" geni_pem=\"$geni_pem_file\" bash\n",
    "\n",
    "echo 'uc_vlan ' $uc_vlan ', tacc_vlan ' $tacc_vlan ', geni_pem ' $geni_pem\n",
    "xoStitch status -sp1 uc -vlan1 $uc_vlan -sp2 tacc -vlan2 $tacc_vlan -c $geni_pem"
   ]
  },
  {
   "cell_type": "markdown",
   "metadata": {},
   "source": [
    "## Clean Up Resources"
   ]
  },
  {
   "cell_type": "markdown",
   "metadata": {},
   "source": [
    "### Delete Stitched Circuit using ExoGENI"
   ]
  },
  {
   "cell_type": "code",
   "execution_count": 20,
   "metadata": {},
   "outputs": [
    {
     "name": "stdout",
     "output_type": "stream",
     "text": [
      "uc_vlan  3291 , tacc_vlan  3504 , geni_pem  /home/pruth/work/geni-pruth.pem\n",
      "Opening certificate /home/pruth/work/geni-pruth.pem and key /home/pruth/work/geni-pruth.pem\n",
      "deleteSlice: uc-3291-tacc-3504"
     ]
    },
    {
     "name": "stderr",
     "output_type": "stream",
     "text": [
      "log4j:WARN No appenders could be found for logger (org.apache.commons.httpclient.HttpClient).\n",
      "log4j:WARN Please initialize the log4j system properly.\n"
     ]
    }
   ],
   "source": [
    "%%script env uc_vlan=\"$uc_network_vlan\" tacc_vlan=\"$tacc_network_vlan\" geni_pem=\"$geni_pem_file\" bash\n",
    "\n",
    "echo 'uc_vlan ' $uc_vlan ', tacc_vlan ' $tacc_vlan ', geni_pem ' $geni_pem\n",
    "xoStitch delete -sp1 uc -vlan1 $uc_vlan -sp2 tacc -vlan2 $tacc_vlan -c $geni_pem"
   ]
  },
  {
   "cell_type": "markdown",
   "metadata": {},
   "source": [
    "### Delete TACC Resources\n",
    "\n",
    "[Delete the server](../modules-python/servers/delete_server.ipynb) using its name."
   ]
  },
  {
   "cell_type": "code",
   "execution_count": 21,
   "metadata": {},
   "outputs": [],
   "source": [
    "chi.set('region_name', 'CHI@TACC')"
   ]
  },
  {
   "cell_type": "code",
   "execution_count": 22,
   "metadata": {},
   "outputs": [
    {
     "data": {
      "text/plain": [
       "()"
      ]
     },
     "execution_count": 22,
     "metadata": {},
     "output_type": "execute_result"
    }
   ],
   "source": [
    "delete_server_by_name(server_name)"
   ]
  },
  {
   "cell_type": "markdown",
   "metadata": {},
   "source": [
    "#### De-configure Network\n",
    "TODO: break up into steps"
   ]
  },
  {
   "cell_type": "code",
   "execution_count": 27,
   "metadata": {},
   "outputs": [
    {
     "data": {
      "text/plain": [
       "{'network_id': '2d703759-ea1c-449c-ad88-38bb67c588be',\n",
       " 'tenant_id': 'd9faac3973a847f1b718fa765fe312e2',\n",
       " 'subnet_id': '81f39fde-8ad0-475e-a977-f0f2c3f2ec96',\n",
       " 'subnet_ids': ['81f39fde-8ad0-475e-a977-f0f2c3f2ec96'],\n",
       " 'port_id': 'c7b082dd-cca6-4b1c-8bbd-d142a31bd864',\n",
       " 'id': '6337c0ed-60e0-4d66-b04f-ea9a137353cd'}"
      ]
     },
     "execution_count": 27,
     "metadata": {},
     "output_type": "execute_result"
    }
   ],
   "source": [
    "detach_router_by_name(router_name=router_name, subnet_name=subnet_name)"
   ]
  },
  {
   "cell_type": "code",
   "execution_count": 28,
   "metadata": {},
   "outputs": [
    {
     "data": {
      "text/plain": [
       "()"
      ]
     },
     "execution_count": 28,
     "metadata": {},
     "output_type": "execute_result"
    }
   ],
   "source": [
    "delete_router_by_name(router_name)"
   ]
  },
  {
   "cell_type": "code",
   "execution_count": 29,
   "metadata": {},
   "outputs": [],
   "source": [
    "delete_subnet_by_name(subnet_name)"
   ]
  },
  {
   "cell_type": "code",
   "execution_count": 30,
   "metadata": {},
   "outputs": [],
   "source": [
    "delete_network_by_name(network_name)"
   ]
  },
  {
   "cell_type": "markdown",
   "metadata": {},
   "source": [
    "#### Release Lease"
   ]
  },
  {
   "cell_type": "code",
   "execution_count": 31,
   "metadata": {},
   "outputs": [
    {
     "name": "stdout",
     "output_type": "stream",
     "text": [
      "Deleted lease pruthLease with id f6bdcb5a-f243-4506-895d-1a6ae5c7a42f\n"
     ]
    }
   ],
   "source": [
    "delete_lease_by_name(lease_name)"
   ]
  },
  {
   "cell_type": "markdown",
   "metadata": {},
   "source": [
    "### Delete UC Resources\n",
    "\n",
    "[Delete the server](../modules-python/servers/delete_server.ipynb) using its name."
   ]
  },
  {
   "cell_type": "code",
   "execution_count": 32,
   "metadata": {},
   "outputs": [],
   "source": [
    "chi.set('region_name', 'CHI@UC')"
   ]
  },
  {
   "cell_type": "code",
   "execution_count": 33,
   "metadata": {},
   "outputs": [
    {
     "data": {
      "text/plain": [
       "()"
      ]
     },
     "execution_count": 33,
     "metadata": {},
     "output_type": "execute_result"
    }
   ],
   "source": [
    "delete_server_by_name(server_name)"
   ]
  },
  {
   "cell_type": "markdown",
   "metadata": {},
   "source": [
    "#### De-configure Network\n",
    "TODO: break up into steps"
   ]
  },
  {
   "cell_type": "code",
   "execution_count": 35,
   "metadata": {},
   "outputs": [
    {
     "data": {
      "text/plain": [
       "{'network_id': 'e0fa08b8-ee90-4f5d-b4eb-11f60e46ca19',\n",
       " 'tenant_id': 'd9faac3973a847f1b718fa765fe312e2',\n",
       " 'subnet_id': '6563631a-90b5-499f-9ecf-7bc9e62aa2eb',\n",
       " 'subnet_ids': ['6563631a-90b5-499f-9ecf-7bc9e62aa2eb'],\n",
       " 'port_id': 'df921672-95d6-405e-b350-07593bd11c26',\n",
       " 'id': '46bd0078-f99a-49d7-9996-f106a4c9c148'}"
      ]
     },
     "execution_count": 35,
     "metadata": {},
     "output_type": "execute_result"
    }
   ],
   "source": [
    "detach_router_by_name(router_name=router_name, subnet_name=subnet_name)"
   ]
  },
  {
   "cell_type": "code",
   "execution_count": 36,
   "metadata": {},
   "outputs": [
    {
     "data": {
      "text/plain": [
       "()"
      ]
     },
     "execution_count": 36,
     "metadata": {},
     "output_type": "execute_result"
    }
   ],
   "source": [
    "delete_router_by_name(router_name)"
   ]
  },
  {
   "cell_type": "code",
   "execution_count": 37,
   "metadata": {},
   "outputs": [],
   "source": [
    "delete_subnet_by_name(subnet_name)"
   ]
  },
  {
   "cell_type": "code",
   "execution_count": 38,
   "metadata": {},
   "outputs": [],
   "source": [
    "delete_network_by_name(network_name)"
   ]
  },
  {
   "cell_type": "markdown",
   "metadata": {},
   "source": [
    "#### Release Lease"
   ]
  },
  {
   "cell_type": "code",
   "execution_count": 39,
   "metadata": {},
   "outputs": [
    {
     "name": "stdout",
     "output_type": "stream",
     "text": [
      "Deleted lease pruthLease with id 9f03cd52-2e42-45c2-b72a-d8605336cdef\n"
     ]
    }
   ],
   "source": [
    "delete_lease_by_name(lease_name)"
   ]
  },
  {
   "cell_type": "code",
   "execution_count": null,
   "metadata": {},
   "outputs": [],
   "source": []
  }
 ],
 "metadata": {
  "kernelspec": {
   "display_name": "Python 3",
   "language": "python",
   "name": "python3"
  },
  "language_info": {
   "codemirror_mode": {
    "name": "ipython",
    "version": 3
   },
   "file_extension": ".py",
   "mimetype": "text/x-python",
   "name": "python",
   "nbconvert_exporter": "python",
   "pygments_lexer": "ipython3",
   "version": "3.7.6"
  }
 },
 "nbformat": 4,
 "nbformat_minor": 4
}
