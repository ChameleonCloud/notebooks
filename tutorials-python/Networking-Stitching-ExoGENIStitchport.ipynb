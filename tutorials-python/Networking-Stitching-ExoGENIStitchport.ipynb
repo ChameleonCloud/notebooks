{
 "cells": [
  {
   "cell_type": "markdown",
   "metadata": {},
   "source": [
    "## Stitching Networks between Chameleon and CityLab\n",
    "\n",
    "An example that can be used to stitch to the Antwerp CityLab\n",
    "\n",
    "#### Modules \n",
    "\n",
    "- [Reserve Mulitple Resources](../modules-python/reservations/reserve_multiple_resources.ipynb)\n",
    "- [Get Lease by Name](../modules-python/reservations/get_lease_by_name.ipynb)\n",
    "- [Get Reservation](../modules-python/reservations/get_reservations_from_lease.ipynb)\n",
    "- [Create Server](../modules-python/servers/create_server.ipynb)\n",
    "- [Delete Server](../modules-python/servers/delete_server.ipynb)\n",
    "- [Create Network](../modules-python/network/create_network.ipynb)\n",
    "- [Delete Network](../modules-python/network/delete_network.ipynb)\n",
    "- [Create Subnet](../modules-python/network/create_subnet.ipynb)\n",
    "- [Delete Subnet](../modules-python/network/delete_subnet.ipynb)\n",
    "- [Get Network by Name](../modules-python/network/get_network_by_name.ipynb)\n",
    "\n",
    "TODO: add the rest of the module links when they are ready\n",
    "\n",
    "#### Import Library\n",
    "\n",
    "```\n",
    "import chi\n",
    "from chi.server_api_examples import *\n",
    "from chi.reservation_api_examples import *\n",
    "from chi.networking_api_examples import *\n",
    "```\n",
    "\n",
    "\n"
   ]
  },
  {
   "cell_type": "markdown",
   "metadata": {},
   "source": [
    "## Tutorial: "
   ]
  },
  {
   "cell_type": "markdown",
   "metadata": {},
   "source": [
    "#### Configure the Environment\n",
    "\n",
    "Import the chi example API calls, set the project name and region, and set various names and attributes to use in the tutorial. "
   ]
  },
  {
   "cell_type": "code",
   "execution_count": 2,
   "metadata": {},
   "outputs": [],
   "source": [
    "import json\n",
    "import os\n",
    "import chi\n",
    "\n",
    "from chi.server_api_examples import *\n",
    "from chi.reservation_api_examples import *\n",
    "from chi.networking_api_examples import *\n",
    "\n",
    "#Config with your project\n",
    "chi.set('project_name', 'ExoGENI@Chameleon') # Replace with your project name\n",
    "\n",
    "#Set the region\n",
    "chi.set('region_name', 'CHI@UC')     # Optional, defaults to 'CHI@UC'\n",
    "\n",
    "#Insert keypair name\n",
    "key_name = 'pruth-jupyter'  # Change to your keypair\n",
    "\n",
    "#GENI Pem file\n",
    "geni_pem_file='/home/pruth/work/geni-pruth.pem'\n",
    "\n",
    "# Tip: Name resources with your username for easier identification\n",
    "username = os.getenv(\"USER\")\n",
    "server_name = username+'Server'\n",
    "network_name = username+'Net'\n",
    "stitched_network_name = network_name+\"Stitched\"\n",
    "subnet_name = username+'subnet'\n",
    "router_name = username+'Router'\n",
    "lease_name_network = username+'LeaseNet'\n",
    "lease_name_servers = username+'LeaseServers'\n",
    "lease_name_stitch = username+'LeaseStitch'\n",
    "\n",
    "\n",
    "#Server Config\n",
    "image_name='CC-CentOS7'\n",
    "flavor_name='baremetal'\n",
    "node_type=\"compute_haswell\"\n",
    "server_count=2\n",
    "\n",
    "#Network Config\n",
    "cidr='192.168.42.0/24'\n",
    "\n",
    "#optionally set the OpenFlow controller (set ot None for non-OpenFlow swtich)\n",
    "#of_controller_ip=None\n",
    "of_controller_ip=\"192.5.87.215\"\n",
    "of_controller_port=\"6653\"\n",
    "\n",
    "\n",
    "#Set the name of the VFC\n",
    "vswitch_name=\"pruthSDN\"\n",
    "\n",
    "#CityLab Stitchport (posible vlan 1065-1069)\n",
    "stitchport_url='http://geni-orca.renci.org/owl/ion.rdf#AL2S/iMind/Cisco/6509/TengigabitEthernet/1/1/ethernet'\n",
    "stitchport_vlan=1065"
   ]
  },
  {
   "cell_type": "markdown",
   "metadata": {},
   "source": [
    "## Create the Network (OpenFlow Optional)"
   ]
  },
  {
   "cell_type": "markdown",
   "metadata": {},
   "source": [
    "#### Create a Lease at Chicago"
   ]
  },
  {
   "cell_type": "code",
   "execution_count": 3,
   "metadata": {},
   "outputs": [
    {
     "name": "stdout",
     "output_type": "stream",
     "text": [
      "OpenFlow\n",
      "{\n",
      "  \"status\": \"PENDING\",\n",
      "  \"user_id\": \"f3a422ce5a4442e3a7a247ddfd98bfc3\",\n",
      "  \"name\": \"pruthLeaseNet\",\n",
      "  \"end_date\": \"2020-07-24T17:15:00.000000\",\n",
      "  \"reservations\": [\n",
      "    {\n",
      "      \"status\": \"pending\",\n",
      "      \"lease_id\": \"af1c661e-25e3-4e0e-bcb9-66b3730d4041\",\n",
      "      \"resource_id\": \"eebb0976-77e1-4e16-b949-41c2f2423226\",\n",
      "      \"created_at\": \"2020-07-23 17:15:36\",\n",
      "      \"updated_at\": \"2020-07-23 17:15:38\",\n",
      "      \"missing_resources\": false,\n",
      "      \"id\": \"a954cc11-ca69-43d0-862a-ee0c63288e7f\",\n",
      "      \"resource_type\": \"network\",\n",
      "      \"resources_changed\": false\n",
      "    }\n",
      "  ],\n",
      "  \"created_at\": \"2020-07-23 17:15:36\",\n",
      "  \"updated_at\": \"2020-07-23 17:15:38\",\n",
      "  \"events\": [\n",
      "    {\n",
      "      \"status\": \"UNDONE\",\n",
      "      \"lease_id\": \"af1c661e-25e3-4e0e-bcb9-66b3730d4041\",\n",
      "      \"event_type\": \"before_end_lease\",\n",
      "      \"created_at\": \"2020-07-23 17:15:38\",\n",
      "      \"updated_at\": null,\n",
      "      \"time\": \"2020-07-23T17:16:00.000000\",\n",
      "      \"id\": \"077b6045-f7ae-4acb-9378-1da79956378c\"\n",
      "    },\n",
      "    {\n",
      "      \"status\": \"UNDONE\",\n",
      "      \"lease_id\": \"af1c661e-25e3-4e0e-bcb9-66b3730d4041\",\n",
      "      \"event_type\": \"end_lease\",\n",
      "      \"created_at\": \"2020-07-23 17:15:38\",\n",
      "      \"updated_at\": null,\n",
      "      \"time\": \"2020-07-24T17:15:00.000000\",\n",
      "      \"id\": \"992fe14b-163f-4cb0-91b8-ed9f0f0fc246\"\n",
      "    },\n",
      "    {\n",
      "      \"status\": \"UNDONE\",\n",
      "      \"lease_id\": \"af1c661e-25e3-4e0e-bcb9-66b3730d4041\",\n",
      "      \"event_type\": \"start_lease\",\n",
      "      \"created_at\": \"2020-07-23 17:15:38\",\n",
      "      \"updated_at\": null,\n",
      "      \"time\": \"2020-07-23T17:16:00.000000\",\n",
      "      \"id\": \"ca79aa8e-440c-4e78-bd19-9be1c558d161\"\n",
      "    }\n",
      "  ],\n",
      "  \"id\": \"af1c661e-25e3-4e0e-bcb9-66b3730d4041\",\n",
      "  \"degraded\": false,\n",
      "  \"project_id\": \"d9faac3973a847f1b718fa765fe312e2\",\n",
      "  \"start_date\": \"2020-07-23T17:16:00.000000\",\n",
      "  \"trust_id\": \"fb7f4cf1c9a44e888db52fdee3fdeb84\"\n",
      "}\n"
     ]
    }
   ],
   "source": [
    "\n",
    "\n",
    "# Set start/end date for lease\n",
    "# Start one minute into future to avoid Blazar thinking lease is in past\n",
    "# due to rounding to closest minute.\n",
    "start_date = (datetime.now(tz=tz.tzutc()) + timedelta(minutes=1)).strftime(BLAZAR_TIME_FORMAT)\n",
    "end_date   = (datetime.now(tz=tz.tzutc()) + timedelta(days=1)).strftime(BLAZAR_TIME_FORMAT)\n",
    "\n",
    "\n",
    "# Build list of reservations (in this case there is only one reservation)\n",
    "reservation_list = []\n",
    "\n",
    "if of_controller_ip:\n",
    "    print(\"OpenFlow\")\n",
    "    add_network_reservation(reservation_list, \n",
    "                            network_name=network_name, \n",
    "                            physical_network='physnet1',\n",
    "                            of_controller_ip=of_controller_ip, \n",
    "                            of_controller_port=of_controller_port, \n",
    "                            vswitch_name=vswitch_name)\n",
    "else:\n",
    "    print(\"No OpenFlow\")\n",
    "    add_network_reservation(reservation_list, \n",
    "                            network_name=network_name, \n",
    "                            physical_network='physnet1',\n",
    "                            vswitch_name=vswitch_name)\n",
    "                           \n",
    "\n",
    "# Create the lease\n",
    "chi.blazar().lease.create(name=lease_name_network, \n",
    "                            start=start_date,\n",
    "                            end=end_date,\n",
    "                            reservations=reservation_list, events=[])\n",
    "\n",
    "#Get the lease by name\n",
    "network_lease = get_lease_by_name(lease_name_network)\n",
    "    \n",
    "#Print the lease info\n",
    "print(json.dumps(network_lease, indent=2))"
   ]
  },
  {
   "cell_type": "markdown",
   "metadata": {},
   "source": [
    "#### Get the Nework Reservation\n",
    "\n",
    "Each lease contains one or more reservations. The individual reservation IDs are required to instantiate resources. You can [get the lease](../modules-python/reservations/get_lease_by_name.ipynb) and separate the reservation IDs for compute, network, and floating IPs using the technique below."
   ]
  },
  {
   "cell_type": "code",
   "execution_count": 4,
   "metadata": {},
   "outputs": [
    {
     "name": "stdout",
     "output_type": "stream",
     "text": [
      "network_reservation_id: a954cc11-ca69-43d0-862a-ee0c63288e7f\n"
     ]
    }
   ],
   "source": [
    "#Get the lease by name\n",
    "network_lease = get_lease_by_name(lease_name_network)\n",
    "\n",
    "network_reservation_id = list(filter(lambda reservation: reservation['resource_type'] == 'network', network_lease['reservations']))[0]['id']\n",
    "\n",
    "print(\"network_reservation_id: \" + network_reservation_id)"
   ]
  },
  {
   "cell_type": "code",
   "execution_count": 5,
   "metadata": {},
   "outputs": [
    {
     "name": "stdout",
     "output_type": "stream",
     "text": [
      "Network ID: b6657377-18c2-4b7c-98c9-89dda0ec16b0\n",
      "network_vlan: 3250\n"
     ]
    }
   ],
   "source": [
    "#Get the network\n",
    "network = get_network_by_name(network_name)\n",
    "#print(json.dumps(network, indent=2))\n",
    "\n",
    "#Get the network ID\n",
    "network_id = network['id']\n",
    "print('Network ID: ' + str(network_id))\n",
    "\n",
    "#Get the VLAN tag (needed for ExoGENI stitching)\n",
    "network_vlan = network['provider:segmentation_id']\n",
    "print('network_vlan: ' + str(network_vlan))"
   ]
  },
  {
   "cell_type": "markdown",
   "metadata": {},
   "source": [
    "#### Add a subnet\n",
    "\n",
    "[Adds a subnet](../modules-python/network/add_subnet.ipynb) to the reserved network. "
   ]
  },
  {
   "cell_type": "code",
   "execution_count": 6,
   "metadata": {},
   "outputs": [
    {
     "name": "stdout",
     "output_type": "stream",
     "text": [
      "{\n",
      "  \"subnets\": [\n",
      "    {\n",
      "      \"service_types\": [],\n",
      "      \"description\": \"\",\n",
      "      \"enable_dhcp\": true,\n",
      "      \"tags\": [],\n",
      "      \"network_id\": \"b6657377-18c2-4b7c-98c9-89dda0ec16b0\",\n",
      "      \"tenant_id\": \"d9faac3973a847f1b718fa765fe312e2\",\n",
      "      \"created_at\": \"2020-07-23T17:16:31Z\",\n",
      "      \"dns_nameservers\": [],\n",
      "      \"updated_at\": \"2020-07-23T17:16:31Z\",\n",
      "      \"gateway_ip\": \"192.168.42.1\",\n",
      "      \"ipv6_ra_mode\": null,\n",
      "      \"allocation_pools\": [\n",
      "        {\n",
      "          \"start\": \"192.168.42.2\",\n",
      "          \"end\": \"192.168.42.254\"\n",
      "        }\n",
      "      ],\n",
      "      \"host_routes\": [],\n",
      "      \"revision_number\": 0,\n",
      "      \"ip_version\": 4,\n",
      "      \"ipv6_address_mode\": null,\n",
      "      \"cidr\": \"192.168.42.0/24\",\n",
      "      \"project_id\": \"d9faac3973a847f1b718fa765fe312e2\",\n",
      "      \"id\": \"7c6b4fe8-60f8-414a-9010-a10504461049\",\n",
      "      \"subnetpool_id\": null,\n",
      "      \"name\": \"pruthsubnet\"\n",
      "    }\n",
      "  ]\n",
      "}\n"
     ]
    }
   ],
   "source": [
    "subnet = add_subnet(subnet_name, network_name, cidr=cidr)\n",
    "\n",
    "print(json.dumps(subnet, indent=2))"
   ]
  },
  {
   "cell_type": "markdown",
   "metadata": {},
   "source": [
    "#### Add a Router\n",
    "\n",
    "TODO: add links here"
   ]
  },
  {
   "cell_type": "code",
   "execution_count": 7,
   "metadata": {},
   "outputs": [
    {
     "name": "stdout",
     "output_type": "stream",
     "text": [
      "{\n",
      "  \"router\": {\n",
      "    \"status\": \"ACTIVE\",\n",
      "    \"external_gateway_info\": {\n",
      "      \"network_id\": \"44b38c44-2a42-4b6d-b129-6c8f1b2a1375\",\n",
      "      \"enable_snat\": true,\n",
      "      \"external_fixed_ips\": [\n",
      "        {\n",
      "          \"subnet_id\": \"c3950603-9e04-4cc5-be8d-1efbfe59fc0a\",\n",
      "          \"ip_address\": \"192.5.87.140\"\n",
      "        }\n",
      "      ]\n",
      "    },\n",
      "    \"availability_zone_hints\": [],\n",
      "    \"availability_zones\": [],\n",
      "    \"description\": \"\",\n",
      "    \"tags\": [],\n",
      "    \"tenant_id\": \"d9faac3973a847f1b718fa765fe312e2\",\n",
      "    \"created_at\": \"2020-07-23T17:16:35Z\",\n",
      "    \"admin_state_up\": true,\n",
      "    \"updated_at\": \"2020-07-23T17:16:36Z\",\n",
      "    \"flavor_id\": null,\n",
      "    \"revision_number\": 3,\n",
      "    \"routes\": [],\n",
      "    \"project_id\": \"d9faac3973a847f1b718fa765fe312e2\",\n",
      "    \"id\": \"6f706200-c41b-48c7-8e46-b2647641c641\",\n",
      "    \"name\": \"pruthRouter\"\n",
      "  }\n",
      "}\n"
     ]
    }
   ],
   "source": [
    "router = create_router(router_name, gw_network_name='public')\n",
    "\n",
    "print(json.dumps(router, indent=2))"
   ]
  },
  {
   "cell_type": "markdown",
   "metadata": {},
   "source": [
    "#### Attach the Router and Subnet\n",
    "\n",
    "TODO: Add links here"
   ]
  },
  {
   "cell_type": "code",
   "execution_count": 8,
   "metadata": {},
   "outputs": [
    {
     "data": {
      "text/plain": [
       "{'network_id': 'b6657377-18c2-4b7c-98c9-89dda0ec16b0',\n",
       " 'tenant_id': 'd9faac3973a847f1b718fa765fe312e2',\n",
       " 'subnet_id': '7c6b4fe8-60f8-414a-9010-a10504461049',\n",
       " 'subnet_ids': ['7c6b4fe8-60f8-414a-9010-a10504461049'],\n",
       " 'port_id': '38c74041-9652-479d-a6c0-d8c4547c8b7e',\n",
       " 'id': '6f706200-c41b-48c7-8e46-b2647641c641'}"
      ]
     },
     "execution_count": 8,
     "metadata": {},
     "output_type": "execute_result"
    }
   ],
   "source": [
    "attach_router_to_subnet(router_name=router_name, subnet_name=subnet_name)"
   ]
  },
  {
   "cell_type": "markdown",
   "metadata": {},
   "source": [
    "#### Add a Circuit Stitched to ExoGENI"
   ]
  },
  {
   "cell_type": "code",
   "execution_count": 9,
   "metadata": {},
   "outputs": [
    {
     "name": "stdout",
     "output_type": "stream",
     "text": [
      "{\n",
      "  \"status\": \"PENDING\",\n",
      "  \"user_id\": \"f3a422ce5a4442e3a7a247ddfd98bfc3\",\n",
      "  \"name\": \"pruthLeaseStitch\",\n",
      "  \"end_date\": \"2020-07-24T17:16:00.000000\",\n",
      "  \"reservations\": [\n",
      "    {\n",
      "      \"status\": \"pending\",\n",
      "      \"lease_id\": \"3a089e4b-91fe-43ba-b7e0-77154fa93e91\",\n",
      "      \"resource_id\": \"65789930-45eb-49b2-bd13-1f585fd8c3bd\",\n",
      "      \"created_at\": \"2020-07-23 17:16:45\",\n",
      "      \"updated_at\": \"2020-07-23 17:16:47\",\n",
      "      \"missing_resources\": false,\n",
      "      \"id\": \"40d19797-0165-4403-ab37-c6216a90f52a\",\n",
      "      \"resource_type\": \"network\",\n",
      "      \"resources_changed\": false\n",
      "    }\n",
      "  ],\n",
      "  \"created_at\": \"2020-07-23 17:16:45\",\n",
      "  \"updated_at\": \"2020-07-23 17:16:47\",\n",
      "  \"events\": [\n",
      "    {\n",
      "      \"status\": \"UNDONE\",\n",
      "      \"lease_id\": \"3a089e4b-91fe-43ba-b7e0-77154fa93e91\",\n",
      "      \"event_type\": \"start_lease\",\n",
      "      \"created_at\": \"2020-07-23 17:16:47\",\n",
      "      \"updated_at\": null,\n",
      "      \"time\": \"2020-07-23T17:17:00.000000\",\n",
      "      \"id\": \"30fc64e5-377d-4bb9-b81a-dad634d9454f\"\n",
      "    },\n",
      "    {\n",
      "      \"status\": \"UNDONE\",\n",
      "      \"lease_id\": \"3a089e4b-91fe-43ba-b7e0-77154fa93e91\",\n",
      "      \"event_type\": \"end_lease\",\n",
      "      \"created_at\": \"2020-07-23 17:16:47\",\n",
      "      \"updated_at\": null,\n",
      "      \"time\": \"2020-07-24T17:16:00.000000\",\n",
      "      \"id\": \"49ebfe56-5256-4b6e-b2c1-f3c1dc499255\"\n",
      "    },\n",
      "    {\n",
      "      \"status\": \"UNDONE\",\n",
      "      \"lease_id\": \"3a089e4b-91fe-43ba-b7e0-77154fa93e91\",\n",
      "      \"event_type\": \"before_end_lease\",\n",
      "      \"created_at\": \"2020-07-23 17:16:47\",\n",
      "      \"updated_at\": null,\n",
      "      \"time\": \"2020-07-23T17:17:00.000000\",\n",
      "      \"id\": \"f7b7c4bf-bea3-49cd-bd57-acff5a68a81a\"\n",
      "    }\n",
      "  ],\n",
      "  \"id\": \"3a089e4b-91fe-43ba-b7e0-77154fa93e91\",\n",
      "  \"degraded\": false,\n",
      "  \"project_id\": \"d9faac3973a847f1b718fa765fe312e2\",\n",
      "  \"start_date\": \"2020-07-23T17:17:00.000000\",\n",
      "  \"trust_id\": \"bf5475bbf6664ed0afc61d977e11e9d1\"\n",
      "}\n"
     ]
    }
   ],
   "source": [
    "#Set the region\n",
    "chi.set('region_name', 'CHI@UC')     # Optional, defaults to 'CHI@UC'\n",
    "\n",
    "# Set start/end date for lease\n",
    "# Start one minute into future to avoid Blazar thinking lease is in past\n",
    "# due to rounding to closest minute.\n",
    "start_date = (datetime.now(tz=tz.tzutc()) + timedelta(minutes=1)).strftime(BLAZAR_TIME_FORMAT)\n",
    "end_date   = (datetime.now(tz=tz.tzutc()) + timedelta(days=1)).strftime(BLAZAR_TIME_FORMAT)\n",
    "\n",
    "# Build list of reservations (in this case there is only one reservation)\n",
    "reservation_list = []\n",
    "\n",
    "add_network_reservation(reservation_list,\n",
    "                        network_name=stitched_network_name, \n",
    "                        physical_network='exogeni',\n",
    "                        vswitch_name=vswitch_name)\n",
    "                           \n",
    "\n",
    "# Create the lease\n",
    "chi.blazar().lease.create(name=lease_name_stitch, \n",
    "                            start=start_date,\n",
    "                            end=end_date,\n",
    "                            reservations=reservation_list, events=[])\n",
    "\n",
    "#Get the lease by name\n",
    "stitched_network_lease = get_lease_by_name(lease_name_stitch)\n",
    "    \n",
    "#Print the lease info\n",
    "print(json.dumps(stitched_network_lease, indent=2))"
   ]
  },
  {
   "cell_type": "markdown",
   "metadata": {},
   "source": [
    "#### Get the Stitched Network Reservation and VLAN\n",
    "\n",
    "Each lease contains one or more reservations. The individual reservation IDs are required to instantiate resources. You can [get the lease](../modules-python/reservations/get_lease_by_name.ipynb) and separate the reservation IDs for compute, network, and floating IPs using the technique below."
   ]
  },
  {
   "cell_type": "code",
   "execution_count": 10,
   "metadata": {},
   "outputs": [
    {
     "name": "stdout",
     "output_type": "stream",
     "text": [
      "stitch_reservation_id: 40d19797-0165-4403-ab37-c6216a90f52a\n",
      "Network ID: cedf73cd-2474-4aa3-8f62-398d1c51d08f\n",
      "exogeni_vlan: 3291\n"
     ]
    }
   ],
   "source": [
    "#Get the lease by name\n",
    "stitch_lease = get_lease_by_name(lease_name_stitch)\n",
    "\n",
    "stitch_reservation_id = list(filter(lambda reservation: reservation['resource_type'] == 'network', stitch_lease['reservations']))[0]['id']\n",
    "\n",
    "print(\"stitch_reservation_id: \" + stitch_reservation_id)\n",
    "\n",
    "chi.set('region_name', 'CHI@UC')  \n",
    "#Get the network\n",
    "network = get_network_by_name(stitched_network_name)\n",
    "#print(json.dumps(network, indent=2))\n",
    "\n",
    "#Get the network ID\n",
    "network_id = network['id']\n",
    "print('Network ID: ' + str(network_id))\n",
    "\n",
    "#Get the VLAN tag (needed for ExoGENI stitching)\n",
    "exogeni_vlan = network['provider:segmentation_id']\n",
    "print('exogeni_vlan: ' + str(exogeni_vlan))\n",
    "\n"
   ]
  },
  {
   "cell_type": "markdown",
   "metadata": {},
   "source": [
    "## Create the Servers"
   ]
  },
  {
   "cell_type": "code",
   "execution_count": 11,
   "metadata": {},
   "outputs": [
    {
     "name": "stdout",
     "output_type": "stream",
     "text": [
      "{\n",
      "  \"status\": \"PENDING\",\n",
      "  \"user_id\": \"f3a422ce5a4442e3a7a247ddfd98bfc3\",\n",
      "  \"name\": \"pruthLeaseServers\",\n",
      "  \"end_date\": \"2020-07-24T17:17:00.000000\",\n",
      "  \"reservations\": [\n",
      "    {\n",
      "      \"status\": \"pending\",\n",
      "      \"lease_id\": \"c774245b-6ab1-4563-ad8e-e1efe9cbfb6c\",\n",
      "      \"resource_id\": \"e1521ffd-3f7a-4e2b-b0c1-a5c8523568af\",\n",
      "      \"network_id\": \"44b38c44-2a42-4b6d-b129-6c8f1b2a1375\",\n",
      "      \"created_at\": \"2020-07-23 17:17:49\",\n",
      "      \"updated_at\": \"2020-07-23 17:17:51\",\n",
      "      \"required_floatingips\": [],\n",
      "      \"missing_resources\": false,\n",
      "      \"amount\": 1,\n",
      "      \"id\": \"da36c34a-c7fe-432b-932f-1cab12e6806f\",\n",
      "      \"resource_type\": \"virtual:floatingip\",\n",
      "      \"resources_changed\": false\n",
      "    },\n",
      "    {\n",
      "      \"status\": \"pending\",\n",
      "      \"before_end\": \"default\",\n",
      "      \"lease_id\": \"c774245b-6ab1-4563-ad8e-e1efe9cbfb6c\",\n",
      "      \"resource_id\": \"4a750739-dbc3-4db0-8082-1e1a0cf4fea4\",\n",
      "      \"max\": 2,\n",
      "      \"created_at\": \"2020-07-23 17:17:41\",\n",
      "      \"min\": 2,\n",
      "      \"updated_at\": \"2020-07-23 17:17:49\",\n",
      "      \"missing_resources\": false,\n",
      "      \"hypervisor_properties\": \"\",\n",
      "      \"on_start\": \"default\",\n",
      "      \"resource_properties\": \"[\\\"==\\\", \\\"$node_type\\\", \\\"compute_haswell\\\"]\",\n",
      "      \"id\": \"e30bc6b7-d42c-466e-91cb-cbf5c1269404\",\n",
      "      \"resource_type\": \"physical:host\",\n",
      "      \"resources_changed\": false\n",
      "    }\n",
      "  ],\n",
      "  \"created_at\": \"2020-07-23 17:17:40\",\n",
      "  \"updated_at\": \"2020-07-23 17:17:51\",\n",
      "  \"events\": [\n",
      "    {\n",
      "      \"status\": \"UNDONE\",\n",
      "      \"lease_id\": \"c774245b-6ab1-4563-ad8e-e1efe9cbfb6c\",\n",
      "      \"event_type\": \"before_end_lease\",\n",
      "      \"created_at\": \"2020-07-23 17:17:51\",\n",
      "      \"updated_at\": null,\n",
      "      \"time\": \"2020-07-23T17:18:00.000000\",\n",
      "      \"id\": \"6ddda843-e040-4a40-983e-162c955e0a33\"\n",
      "    },\n",
      "    {\n",
      "      \"status\": \"UNDONE\",\n",
      "      \"lease_id\": \"c774245b-6ab1-4563-ad8e-e1efe9cbfb6c\",\n",
      "      \"event_type\": \"end_lease\",\n",
      "      \"created_at\": \"2020-07-23 17:17:51\",\n",
      "      \"updated_at\": null,\n",
      "      \"time\": \"2020-07-24T17:17:00.000000\",\n",
      "      \"id\": \"910b7dfe-d8ec-47c1-af5e-639f124cef14\"\n",
      "    },\n",
      "    {\n",
      "      \"status\": \"UNDONE\",\n",
      "      \"lease_id\": \"c774245b-6ab1-4563-ad8e-e1efe9cbfb6c\",\n",
      "      \"event_type\": \"start_lease\",\n",
      "      \"created_at\": \"2020-07-23 17:17:51\",\n",
      "      \"updated_at\": null,\n",
      "      \"time\": \"2020-07-23T17:18:00.000000\",\n",
      "      \"id\": \"a60bfccf-19ba-4662-b3b9-12f0570578d6\"\n",
      "    }\n",
      "  ],\n",
      "  \"id\": \"c774245b-6ab1-4563-ad8e-e1efe9cbfb6c\",\n",
      "  \"degraded\": false,\n",
      "  \"project_id\": \"d9faac3973a847f1b718fa765fe312e2\",\n",
      "  \"start_date\": \"2020-07-23T17:18:00.000000\",\n",
      "  \"trust_id\": \"7f0f75433ae14f2e9f0ec6ce57945925\"\n",
      "}\n"
     ]
    }
   ],
   "source": [
    "# Set start/end date for lease\n",
    "# Start one minute into future to avoid Blazar thinking lease is in past\n",
    "# due to rounding to closest minute.\n",
    "start_date = (datetime.now(tz=tz.tzutc()) + timedelta(minutes=1)).strftime(BLAZAR_TIME_FORMAT)\n",
    "end_date   = (datetime.now(tz=tz.tzutc()) + timedelta(days=1)).strftime(BLAZAR_TIME_FORMAT)\n",
    "\n",
    "# Build list of reservations (in this case there is only one reservation)\n",
    "reservation_list = []\n",
    "add_node_reservation(reservation_list, count=server_count, node_type=node_type)\n",
    "add_fip_reservation(reservation_list, count=1)\n",
    "\n",
    "# Create the lease\n",
    "chi.blazar().lease.create(name=lease_name_servers, \n",
    "                            start=start_date,\n",
    "                            end=end_date,\n",
    "                            reservations=reservation_list, events=[])\n",
    "\n",
    "#Get the lease by name\n",
    "server_lease = get_lease_by_name(lease_name_servers)\n",
    "    \n",
    "#Print the lease info\n",
    "print(json.dumps(server_lease, indent=2))"
   ]
  },
  {
   "cell_type": "code",
   "execution_count": 12,
   "metadata": {},
   "outputs": [
    {
     "name": "stdout",
     "output_type": "stream",
     "text": [
      "compute_reservation_id: e30bc6b7-d42c-466e-91cb-cbf5c1269404\n",
      "floatingip_reservation_id: da36c34a-c7fe-432b-932f-1cab12e6806f\n"
     ]
    }
   ],
   "source": [
    "#Get the lease by name\n",
    "server_lease = get_lease_by_name(lease_name_servers)\n",
    "\n",
    "compute_reservation_id = list(filter(lambda reservation: reservation['resource_type'] == 'physical:host', server_lease['reservations']))[0]['id']\n",
    "floatingip_reservation_id = list(filter(lambda reservation: reservation['resource_type'] == 'virtual:floatingip', server_lease['reservations']))[0]['id']\n",
    "\n",
    "print(\"compute_reservation_id: \" + compute_reservation_id)\n",
    "print(\"floatingip_reservation_id: \" + floatingip_reservation_id)"
   ]
  },
  {
   "cell_type": "markdown",
   "metadata": {},
   "source": [
    "#### Start the Server\n",
    "\n",
    "Use the compute_reservation_id to [create the server](../modules-python/servers/create_server.ipynb)."
   ]
  },
  {
   "cell_type": "code",
   "execution_count": 13,
   "metadata": {},
   "outputs": [],
   "source": [
    "#create the server\n",
    "server = create_server(server_name, \n",
    "                       reservation_id=compute_reservation_id, \n",
    "                       key_name=key_name, \n",
    "                       network_name=network_name, \n",
    "                       image_name=image_name, \n",
    "                       flavor_name=flavor_name)\n"
   ]
  },
  {
   "cell_type": "markdown",
   "metadata": {},
   "source": [
    "#### Associate the Floating IP   \n",
    "TODO: need to find floating_ip from the reservation that was just made"
   ]
  },
  {
   "cell_type": "code",
   "execution_count": 15,
   "metadata": {},
   "outputs": [
    {
     "name": "stdout",
     "output_type": "stream",
     "text": [
      "Floating IP: 192.5.87.221\n"
     ]
    }
   ],
   "source": [
    "floating_ip = associate_floating_ip(server_name)\n",
    "\n",
    "print('Floating IP: ' + str(floating_ip))"
   ]
  },
  {
   "cell_type": "markdown",
   "metadata": {},
   "source": [
    "## Stitch the Circuit using ExoGENI\n",
    "\n",
    "Note: The ExoGENI\n",
    "steps require a valid GENI certificate at the path specified and a public/private keypair in ~/.ssh (run ssh-keygen with default inputs)"
   ]
  },
  {
   "cell_type": "markdown",
   "metadata": {},
   "source": [
    "#### Create the Circuit\n"
   ]
  },
  {
   "cell_type": "code",
   "execution_count": 14,
   "metadata": {},
   "outputs": [
    {
     "name": "stdout",
     "output_type": "stream",
     "text": [
      "chameleon_vlan  3291 , stitchport_url  http://geni-orca.renci.org/owl/ion.rdf#AL2S/iMind/Cisco/6509/TengigabitEthernet/1/1/ethernet , stitchport_vlan  1065 , geni_pem  /home/pruth/work/geni-pruth.pem\n",
      "Opening certificate /home/pruth/work/geni-pruth.pem and key /home/pruth/work/geni-pruth.pem\n"
     ]
    },
    {
     "name": "stderr",
     "output_type": "stream",
     "text": [
      "log4j:WARN No appenders could be found for logger (org.renci.ahab.libndl.LIBNDL).\n",
      "log4j:WARN Please initialize the log4j system properly.\n"
     ]
    }
   ],
   "source": [
    "%%script env chameleon_vlan=\"$exogeni_vlan\" stitchport_url=\"$stitchport_url\" stitchport_vlan=\"$stitchport_vlan\" geni_pem=\"$geni_pem_file\" bash\n",
    "\n",
    "echo 'chameleon_vlan ' $chameleon_vlan ', stitchport_url ' $stitchport_url ', stitchport_vlan ' $stitchport_vlan ', geni_pem ' $geni_pem\n",
    "xoStitch create -sp1 uc -vlan1 $chameleon_vlan -sp2 $stitchport_url -vlan2 $stitchport_vlan -c $geni_pem"
   ]
  },
  {
   "cell_type": "markdown",
   "metadata": {},
   "source": [
    "#### Check the Status of the Circuit"
   ]
  },
  {
   "cell_type": "code",
   "execution_count": 16,
   "metadata": {},
   "outputs": [
    {
     "name": "stdout",
     "output_type": "stream",
     "text": [
      "chameleon_vlan  3291 , stitchport_url  http://geni-orca.renci.org/owl/ion.rdf#AL2S/iMind/Cisco/6509/TengigabitEthernet/1/1/ethernet , stitchport_vlan  1065 , geni_pem  /home/pruth/work/geni-pruth.pem\n",
      "Opening certificate /home/pruth/work/geni-pruth.pem and key /home/pruth/work/geni-pruth.pem\n",
      "statusSlice: uc-3291-customUrl-1065\n",
      "Resource=sp2 State=Active\n",
      "Resource=sp2 State=Active\n",
      "Resource=sp2-sp1-net State=Active\n",
      "state: STABLE\n"
     ]
    },
    {
     "name": "stderr",
     "output_type": "stream",
     "text": [
      "log4j:WARN No appenders could be found for logger (org.apache.commons.httpclient.HttpClient).\n",
      "log4j:WARN Please initialize the log4j system properly.\n"
     ]
    }
   ],
   "source": [
    "%%script env chameleon_vlan=\"$exogeni_vlan\" stitchport_url=\"$stitchport_url\" stitchport_vlan=\"$stitchport_vlan\" geni_pem=\"$geni_pem_file\" bash\n",
    "\n",
    "echo 'chameleon_vlan ' $chameleon_vlan ', stitchport_url ' $stitchport_url ', stitchport_vlan ' $stitchport_vlan ', geni_pem ' $geni_pem\n",
    "xoStitch status -sp1 uc -vlan1 $chameleon_vlan -sp2 $stitchport_url -vlan2 $stitchport_vlan -c $geni_pem"
   ]
  },
  {
   "cell_type": "markdown",
   "metadata": {},
   "source": [
    "## Clean Up Resources"
   ]
  },
  {
   "cell_type": "markdown",
   "metadata": {},
   "source": [
    "### Delete Stitched Circuit using ExoGENI"
   ]
  },
  {
   "cell_type": "code",
   "execution_count": 17,
   "metadata": {},
   "outputs": [
    {
     "name": "stdout",
     "output_type": "stream",
     "text": [
      "chameleon_vlan  3291 , stitchport_url  http://geni-orca.renci.org/owl/ion.rdf#AL2S/iMind/Cisco/6509/TengigabitEthernet/1/1/ethernet , stitchport_vlan  1065 , geni_pem  /home/pruth/work/geni-pruth.pem\n",
      "Opening certificate /home/pruth/work/geni-pruth.pem and key /home/pruth/work/geni-pruth.pem\n",
      "deleteSlice: uc-3291-customUrl-1065"
     ]
    },
    {
     "name": "stderr",
     "output_type": "stream",
     "text": [
      "log4j:WARN No appenders could be found for logger (org.apache.commons.httpclient.HttpClient).\n",
      "log4j:WARN Please initialize the log4j system properly.\n"
     ]
    }
   ],
   "source": [
    "%%script env chameleon_vlan=\"$exogeni_vlan\" stitchport_url=\"$stitchport_url\" stitchport_vlan=\"$stitchport_vlan\" geni_pem=\"$geni_pem_file\" bash\n",
    "\n",
    "echo 'chameleon_vlan ' $chameleon_vlan ', stitchport_url ' $stitchport_url ', stitchport_vlan ' $stitchport_vlan ', geni_pem ' $geni_pem\n",
    "xoStitch delete -sp1 uc -vlan1 $chameleon_vlan -sp2 $stitchport_url -vlan2 $stitchport_vlan -c $geni_pem"
   ]
  },
  {
   "cell_type": "markdown",
   "metadata": {},
   "source": [
    "### Delete Resources\n",
    "\n",
    "[Delete the server](../modules-python/servers/delete_server.ipynb) using its name."
   ]
  },
  {
   "cell_type": "code",
   "execution_count": 18,
   "metadata": {},
   "outputs": [
    {
     "data": {
      "text/plain": [
       "()"
      ]
     },
     "execution_count": 18,
     "metadata": {},
     "output_type": "execute_result"
    }
   ],
   "source": [
    "delete_server_by_name(server_name)"
   ]
  },
  {
   "cell_type": "markdown",
   "metadata": {},
   "source": [
    "#### De-configure Network\n",
    "TODO: break up into steps"
   ]
  },
  {
   "cell_type": "code",
   "execution_count": 21,
   "metadata": {},
   "outputs": [
    {
     "data": {
      "text/plain": [
       "{'network_id': 'b6657377-18c2-4b7c-98c9-89dda0ec16b0',\n",
       " 'tenant_id': 'd9faac3973a847f1b718fa765fe312e2',\n",
       " 'subnet_id': '7c6b4fe8-60f8-414a-9010-a10504461049',\n",
       " 'subnet_ids': ['7c6b4fe8-60f8-414a-9010-a10504461049'],\n",
       " 'port_id': '38c74041-9652-479d-a6c0-d8c4547c8b7e',\n",
       " 'id': '6f706200-c41b-48c7-8e46-b2647641c641'}"
      ]
     },
     "execution_count": 21,
     "metadata": {},
     "output_type": "execute_result"
    }
   ],
   "source": [
    "detach_router_by_name(router_name=router_name, subnet_name=subnet_name)"
   ]
  },
  {
   "cell_type": "code",
   "execution_count": 22,
   "metadata": {},
   "outputs": [
    {
     "data": {
      "text/plain": [
       "()"
      ]
     },
     "execution_count": 22,
     "metadata": {},
     "output_type": "execute_result"
    }
   ],
   "source": [
    "delete_router_by_name(router_name)"
   ]
  },
  {
   "cell_type": "code",
   "execution_count": 23,
   "metadata": {},
   "outputs": [],
   "source": [
    "delete_subnet_by_name(subnet_name)"
   ]
  },
  {
   "cell_type": "code",
   "execution_count": 24,
   "metadata": {},
   "outputs": [],
   "source": [
    "delete_network_by_name(network_name)"
   ]
  },
  {
   "cell_type": "markdown",
   "metadata": {},
   "source": [
    "#### Release Leases"
   ]
  },
  {
   "cell_type": "code",
   "execution_count": 25,
   "metadata": {},
   "outputs": [
    {
     "name": "stdout",
     "output_type": "stream",
     "text": [
      "Deleted lease pruthLeaseNet with id af1c661e-25e3-4e0e-bcb9-66b3730d4041\n",
      "Deleted lease pruthLeaseServers with id c774245b-6ab1-4563-ad8e-e1efe9cbfb6c\n",
      "Deleted lease pruthLeaseStitch with id 3a089e4b-91fe-43ba-b7e0-77154fa93e91\n"
     ]
    }
   ],
   "source": [
    "delete_lease_by_name(lease_name_network)\n",
    "delete_lease_by_name(lease_name_servers)\n",
    "delete_lease_by_name(lease_name_stitch)"
   ]
  },
  {
   "cell_type": "code",
   "execution_count": null,
   "metadata": {},
   "outputs": [],
   "source": []
  }
 ],
 "metadata": {
  "kernelspec": {
   "display_name": "Python 3",
   "language": "python",
   "name": "python3"
  },
  "language_info": {
   "codemirror_mode": {
    "name": "ipython",
    "version": 3
   },
   "file_extension": ".py",
   "mimetype": "text/x-python",
   "name": "python",
   "nbconvert_exporter": "python",
   "pygments_lexer": "ipython3",
   "version": "3.7.6"
  }
 },
 "nbformat": 4,
 "nbformat_minor": 4
}
