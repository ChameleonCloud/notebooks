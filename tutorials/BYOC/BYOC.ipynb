{
 "cells": [
  {
   "cell_type": "markdown",
   "metadata": {},
   "source": [
    "# Using BYOC OpenFlow Networks on Chameleon\n",
    "\n",
    "## Overview:\n",
    "\n",
    "This tutorial will guide you through setting up bring-your-own-controller (BYOC) OpenFlow networks.\n",
    "\n",
    "After completing this tutorial you should be able to:\n",
    "\n",
    "1. Create BYOC OpenFlow networks on Chameleon\n",
    "\n",
    "\n",
    "## Prerequisites:\n",
    "\n",
    "This tutorial assumes you have a Chameleon account and basic experience logging into and using Chameleon and basic use of Chameleon networks and isolated VLANs. \n",
    "\n",
    "Additional information:\n",
    "\n",
    "- Getting started tutorial: https://chameleoncloud.readthedocs.io/en/latest/getting-started/index.html\n",
    "- Networks and Isolated VLANs:  https://chameleoncloud.readthedocs.io/en/latest/technical/networks.html\n",
    "- Setting up the CLI: https://chameleoncloud.readthedocs.io/en/latest/technical/cli.html\n",
    "\n",
    "## Background:\n",
    "\n",
    "Chameleon is composed of two OpenStack sites with deeply programmable compute, storage, and networking infrastructure. This tutorial focuses on advanced networking features including Bring-your-own-controller (BYOC) software defined networking (SDN), stitching layer2 networks to external facilities, and using a pre-configured wide-area circuit (sharedwan1) to connect nodes across both Chameleon sites. \n",
    "\n",
    "### Basic Chameleon Networking\n",
    "\n",
    "Each of the two Chameleon sites is includes 100 Gbps uplink connectivity to shared core network that can be used to connect Chameleon nodes to core services, other Chameleon nodes, and even external facilities including GENI.  By default, each Chameleon node can access the public Internet through the core network. Advanced experiments can allocate tenant controlled SDN networks and isolated layer2 circuits across the core to connect Chameleon nodes and external facilities. \n",
    "\n",
    "### Software Defined Networking on Chameleon\n",
    "\n",
    "Chameleon’s Bring Your Own Controller (BYOC) functionality enables tenants to create isolated network switches managed using OpenFlow controllers provided by the user. This feature is targeted at users wishing to experiment with software-defined networking (SDN) as well as users with experiments that have non-standard networking requirements. \n",
    "\n",
    "OpenFlow switches, like traditional switches, forward network traffic between a number of ports used to connect other networks and devices. The primary difference is that OpenFlow switches rely on external software (a “controller”) to dynamically manage the rules (or “flows”) that determine how and where the traffic is forwarded. In addition, OpenFlow enables a much larger set of possible rules which can be imposed on the traffic.\n",
    "\n",
    "The basic requirements of an OpenFlow network are the switch and the controller. The switch is configured with the IP address and port of a controller (software) that manages the switch’s rules. When a packet arrives at the switch, the packet is tested against the rules that are known by the switch to determine what action(s) to take. Typically, if there are no rules that apply to a packet, the packet is sent to the controller which replies with a set of rules for that type of packet. The new rules are cached in the switch and applied to subsequent packets until the rules expire or are explicitly removed.\n",
    "\n",
    "Chameleon provides BYOC networking in order to enable tenants to allocate OpenFlow switches controlled by their own OpenFlow controller(s). This capability is limited to the phase 2 hardware additions that include the Corsa DP2000 series OpenFlow switches and Skylake compute nodes. The Corsa switches are key to enabling the BYOC functionality. These switches provide a native abstraction for the creation of mutually isolated forwarding contexts which can be thought of as independent OpenFlow switches. Each isolated forwarding context can be configured to use its own OpenFlow controller. The Chameleon BYOC functionality enables tenants to specify the IP and port of an arbitrary OpenFlow controller when they create private networks.\n",
    "\n",
    "### Tutorial:\n",
    "\n",
    "#### Setup Environment:"
   ]
  },
  {
   "cell_type": "code",
   "execution_count": 9,
   "metadata": {},
   "outputs": [],
   "source": [
    "# Set up user's project (user's can be multiple ones, so there is no default currently)\n",
    "export OS_PROJECT_NAME='CH-816532'\n",
    "\n",
    "# Set region (again, no default currently)\n",
    "export OS_REGION_NAME='CHI@UC'\n",
    "\n",
    "# Set chameleon keypair name and path to the private ssh key\n",
    "export SSH_KEY_NAME=${USERNAME}-chameleon-jupyter\n",
    "export SSH_PRIVATE_KEY=${HOME}/work/${SSH_KEY_NAME}\n",
    "\n",
    "# Set the reservations to use.  \n",
    "# CONTROLLER_RESERVATION_ID can be for any type of node\n",
    "# NODE_RESERVATION_ID must be for Skylake nodes\n",
    "export CONTROLLER_RESERVATION_ID='df3dee64-4298-40bd-a535-ec7cffc41176'\n",
    "export NODE_RESERVATION_ID='df3dee64-4298-40bd-a535-ec7cffc41176'"
   ]
  },
  {
   "cell_type": "markdown",
   "metadata": {},
   "source": [
    "#### Create an OpenFlow Controller.  \n",
    "\n",
    "In general, you can use any OpenFlow 1.3 controller located anywhere accessible on the Internet.  For this tutorial, you can use a Chameleon complex appliance to automatically create a simple Ryu controller hosted on a Chameleon node. The controller can be used as a base for building more complex controllers."
   ]
  },
  {
   "cell_type": "code",
   "execution_count": 10,
   "metadata": {},
   "outputs": [],
   "source": [
    "# Set the name of the orcestration stack. We suggest embedding your user\n",
    "# name or some other identifiable string to make it easier to find\n",
    "# you nodes.  This is especially important if you are in a formal \n",
    "# tutorial with many other participants.\n",
    "CONTROLLER_STACK_NAME=${USERNAME}\"_controller_stack\"\n",
    "\n",
    "# Set the controller node name. See above about using \n",
    "# identifiable names.\n",
    "CONTROLLER_NODE_NAME=${USERNAME}\"_controller\"\n",
    "\n",
    "# Set the network that the controller uses to communicate with the swtich.\n",
    "# This networks must be accessible on the Internet and will not be the network\n",
    "# that the controller is managing. We suggest using \"sharednet1\"\n",
    "CONTROLLER_NETWORK=\"sharednet1\"\n",
    "\n",
    "#Configure the OpenFlow port to be used by the \n",
    "CONTROLLER_OPENFLOW_PORT=6653"
   ]
  },
  {
   "cell_type": "code",
   "execution_count": 11,
   "metadata": {},
   "outputs": [
    {
     "name": "stdout",
     "output_type": "stream",
     "text": [
      "Creating controller. This will take several minutes!\n",
      "2019-02-11 15:46:40Z [pruth_controller_stack]: CREATE_IN_PROGRESS  Stack CREATE started\n",
      "2019-02-11 15:46:41Z [pruth_controller_stack.controller_floating_ip]: CREATE_IN_PROGRESS  state changed\n",
      "2019-02-11 15:46:51Z [pruth_controller_stack.controller]: CREATE_IN_PROGRESS  state changed\n",
      "2019-02-11 15:46:59Z [pruth_controller_stack.controller_floating_ip]: CREATE_COMPLETE  state changed\n",
      "2019-02-11 15:54:16Z [pruth_controller_stack.controller]: CREATE_COMPLETE  state changed\n",
      "2019-02-11 15:54:18Z [pruth_controller_stack.controller_ip_association]: CREATE_IN_PROGRESS  state changed\n",
      "2019-02-11 15:54:24Z [pruth_controller_stack.controller_ip_association]: CREATE_COMPLETE  state changed\n",
      "2019-02-11 15:54:24Z [pruth_controller_stack]: CREATE_COMPLETE  Stack CREATE completed successfully\n",
      "+---------------------+--------------------------------------------------------+\n",
      "| Field               | Value                                                  |\n",
      "+---------------------+--------------------------------------------------------+\n",
      "| id                  | 7cb55bd7-31dc-4cd3-bfb7-3d9a14c911cb                   |\n",
      "| stack_name          | pruth_controller_stack                                 |\n",
      "| description         | Ryu OpenFlow controller deployed with Heat on          |\n",
      "|                     | Chameleon                                              |\n",
      "| creation_time       | 2019-02-11T15:46:37Z                                   |\n",
      "| updated_time        | None                                                   |\n",
      "| stack_status        | CREATE_COMPLETE                                        |\n",
      "| stack_status_reason | Stack CREATE completed successfully                    |\n",
      "+---------------------+--------------------------------------------------------+\n",
      "Controller creation complete!\n",
      "pruth_controller status ACTIVE\n"
     ]
    }
   ],
   "source": [
    "echo Creating controller. This will take several minutes!\n",
    "openstack stack create --max-width 80 \\\n",
    "   --template \"https://www.chameleoncloud.org/appliances/api/appliances/54/template\" \\\n",
    "   --parameter \"key_name=${SSH_KEY_NAME}\" \\\n",
    "   --parameter \"reservation_id=${CONTROLLER_RESERVATION_ID}\" \\\n",
    "   --parameter \"ryu_port=${CONTROLLER_OPENFLOW_PORT}\" \\\n",
    "   --parameter \"network_name=${CONTROLLER_NETWORK}\" \\\n",
    "   --parameter \"controller_name=${CONTROLLER_NODE_NAME}\" \\\n",
    "   --wait \\\n",
    "   ${CONTROLLER_STACK_NAME}\n",
    "   \n",
    "echo Controller creation complete! \n",
    "echo ${CONTROLLER_NODE_NAME} status `openstack server show  --format value -c status ${CONTROLLER_NODE_NAME}`"
   ]
  },
  {
   "cell_type": "code",
   "execution_count": 17,
   "metadata": {},
   "outputs": [
    {
     "name": "stdout",
     "output_type": "stream",
     "text": [
      "The controller public IP is 192.5.87.113\n",
      "Please wait a few more minutes until the controller is completely configured and ready for logins.\n"
     ]
    }
   ],
   "source": [
    "CONTROLLER_PUBLIC_IP=`openstack server show  --format value -c addresses ${CONTROLLER_NODE_NAME} | cut -d \" \" -f 2`\n",
    "echo The controller public IP is $CONTROLLER_PUBLIC_IP\n",
    "\n",
    "echo Please wait a few more minutes until the controller is completely configured and ready for logins."
   ]
  },
  {
   "cell_type": "markdown",
   "metadata": {},
   "source": [
    "#### View the controller log file"
   ]
  },
  {
   "cell_type": "markdown",
   "metadata": {},
   "source": [
    "The controller node will be automatically configured with the simple Ryu controller service ready for an OpenFlow switch to attach to it. It will be useful to view the Ryu log file within the controller at various steps in this tutorial, as well as when modifying the controller for your experiment(s).   \n",
    "\n",
    "You can view the tail of the log file in thie notbook with the following cell.  A jupyter notebook can only run one cell at a time and cannot continously watch the log as you proceed with the tutorial. You can rerun this cell at anytime but may wish to open a terminal window on you local machine (or within this Jupyter container) and continuously watch the controller log.  \n",
    "\n",
    "Note that you will likely need to wait several minutes after the controller node is ACTIVE before the controller server is completely configured and ready."
   ]
  },
  {
   "cell_type": "code",
   "execution_count": 26,
   "metadata": {},
   "outputs": [
    {
     "name": "stdout",
     "output_type": "stream",
     "text": [
      "Warning: Permanently added '192.5.87.113' (ECDSA) to the list of known hosts.\n",
      "packet in 37870329950028 fa:16:3e:19:85:38 24:6e:96:7e:29:4e 3075\n",
      "packet in 37870329950028 24:6e:96:7e:29:4e ff:ff:ff:ff:ff:ff 10150\n",
      "packet in 37870329950028 24:6e:96:7e:29:4e ff:ff:ff:ff:ff:ff 10150\n",
      "packet in 37870329950028 24:6e:96:7e:29:4e fa:16:3e:19:85:38 10150\n",
      "packet in 37870329950028 fa:16:3e:b2:1c:25 ff:ff:ff:ff:ff:ff 3075\n",
      "packet in 37870329950028 24:6e:96:7e:11:22 fa:16:3e:b2:1c:25 10111\n",
      "packet in 37870329950028 24:6e:96:7e:11:22 fa:16:3e:b2:1c:25 10111\n",
      "packet in 37870329950028 fa:16:3e:b2:1c:25 ff:ff:ff:ff:ff:ff 3075\n",
      "packet in 37870329950028 fa:16:3e:b2:1c:25 24:6e:96:7e:11:22 3075\n",
      "packet in 37870329950028 fa:16:3e:b2:1c:25 24:6e:96:7e:11:22 3075\n",
      "packet in 37870329950028 fa:16:3e:b2:1c:25 24:6e:96:7e:11:22 3075\n",
      "packet in 37870329950028 fa:16:3e:b2:1c:25 24:6e:96:7e:11:22 3075\n",
      "packet in 37870329950028 fa:16:3e:b2:1c:25 24:6e:96:7e:11:22 3075\n",
      "packet in 37870329950028 24:6e:96:7e:29:4e fa:16:3e:b2:1c:25 10150\n",
      "packet in 37870329950028 24:6e:96:7e:29:4e fa:16:3e:b2:1c:25 10150\n",
      "packet in 37870329950028 fa:16:3e:b2:1c:25 24:6e:96:7e:29:4e 3075\n",
      "packet in 37870329950028 fa:16:3e:b2:1c:25 24:6e:96:7e:29:4e 3075\n",
      "packet in 37870329950028 fa:16:3e:b2:1c:25 24:6e:96:7e:29:4e 3075\n",
      "packet in 37870329950028 fa:16:3e:b2:1c:25 24:6e:96:7e:29:4e 3075\n",
      "packet in 37870329950028 fa:16:3e:b2:1c:25 24:6e:96:7e:29:4e 3075\n"
     ]
    }
   ],
   "source": [
    "CONTROLLER_PUBLIC_IP=`openstack server show --format value -c addresses ${CONTROLLER_NODE_NAME} | cut -d \" \" -f 2`\n",
    "\n",
    "ssh -i ${SSH_PRIVATE_KEY} \\\n",
    "    -o UserKnownHostsFile=/dev/null \\\n",
    "    -o StrictHostKeyChecking=no \\\n",
    "    cc@${CONTROLLER_PUBLIC_IP} \\\n",
    "    tail -n 20 /var/log/ryu/ryu-manager.log \n"
   ]
  },
  {
   "cell_type": "markdown",
   "metadata": {},
   "source": [
    "#### Start the OpenFlow Switch"
   ]
  },
  {
   "cell_type": "code",
   "execution_count": 29,
   "metadata": {},
   "outputs": [],
   "source": [
    "# Set the subnet to use on the OpenFlow network\n",
    "OPENFLOW_NETWORK_SUBNET_CIDR=\"192.168.100.0/24\"\n",
    "\n",
    "# Set the OpenStack names for the network, subnet, router, and switch. \n",
    "# See above about using identifiable names.  \n",
    "# Note that OPENFLOW_SWITCH_NAME cannot include the '-' character.\n",
    "OPENFLOW_NETWORK_NAME=${USERNAME}\"Network\"\n",
    "OPENFLOW_SUBNET_NAME=${USERNAME}\"Subnet\"\n",
    "OPENFLOW_ROUTER_NAME=${USERNAME}\"Router\"\n",
    "\n",
    "# Note that OPENFLOW_SWITCH_NAME cannot include the '-' character. \n",
    "# This name is used to add additional uplink ports to the same OpenFlow switch.\n",
    "OPENFLOW_SWITCH_NAME=${USERNAME}\"Switch\""
   ]
  },
  {
   "cell_type": "code",
   "execution_count": 34,
   "metadata": {},
   "outputs": [
    {
     "name": "stdout",
     "output_type": "stream",
     "text": [
      "Creating network pruthNetwork\n",
      "+---------------------------+--------------------------------------------------+\n",
      "| Field                     | Value                                            |\n",
      "+---------------------------+--------------------------------------------------+\n",
      "| admin_state_up            | UP                                               |\n",
      "| availability_zone_hints   |                                                  |\n",
      "| availability_zones        |                                                  |\n",
      "| created_at                | 2019-02-11T16:39:51Z                             |\n",
      "| description               | OFController=192.5.87.113:6653,VSwitchName=pruth |\n",
      "|                           | Switch                                           |\n",
      "| dns_domain                | None                                             |\n",
      "| id                        | f13f4e99-31a1-4e0a-9252-e3305b6ab738             |\n",
      "| ipv4_address_scope        | None                                             |\n",
      "| ipv6_address_scope        | None                                             |\n",
      "| is_default                | None                                             |\n",
      "| is_vlan_transparent       | None                                             |\n",
      "| location                  | Munch({'cloud': '', 'region_name': 'CHI@UC',     |\n",
      "|                           | 'zone': None, 'project': Munch({'id':            |\n",
      "|                           | 'd9faac3973a847f1b718fa765fe312e2', 'name':      |\n",
      "|                           | 'CH-816532', 'domain_id': None, 'domain_name':   |\n",
      "|                           | 'default'})})                                    |\n",
      "| mtu                       | 1500                                             |\n",
      "| name                      | pruthNetwork                                     |\n",
      "| port_security_enabled     | True                                             |\n",
      "| project_id                | d9faac3973a847f1b718fa765fe312e2                 |\n",
      "| provider:network_type     | vlan                                             |\n",
      "| provider:physical_network | physnet1                                         |\n",
      "| provider:segmentation_id  | 3102                                             |\n",
      "| qos_policy_id             | None                                             |\n",
      "| revision_number           | 3                                                |\n",
      "| router:external           | Internal                                         |\n",
      "| segments                  | None                                             |\n",
      "| shared                    | False                                            |\n",
      "| status                    | ACTIVE                                           |\n",
      "| subnets                   |                                                  |\n",
      "| tags                      |                                                  |\n",
      "| updated_at                | 2019-02-11T16:39:51Z                             |\n",
      "+---------------------------+--------------------------------------------------+\n",
      "Primary uplink VLAN and port ID: 3102\n"
     ]
    }
   ],
   "source": [
    "echo Creating network ${OPENFLOW_NETWORK_NAME}\n",
    "openstack network create --max-width 80 \\\n",
    "                         --provider-network-type vlan \\\n",
    "                         --provider-physical-network physnet1 \\\n",
    "                         --description OFController=${CONTROLLER_PUBLIC_IP}:${CONTROLLER_OPENFLOW_PORT},VSwitchName=${OPENFLOW_SWITCH_NAME} \\\n",
    "                         ${OPENFLOW_NETWORK_NAME}\n",
    "                         \n",
    "PRIMARY_UPLINK_VLAN=`openstack network show -c provider:segmentation_id -f value ${OPENFLOW_NETWORK_NAME}`\n",
    "echo Primary uplink VLAN and port ID: $PRIMARY_UPLINK_VLAN "
   ]
  },
  {
   "cell_type": "markdown",
   "metadata": {},
   "source": [
    "#### Observe the controller log file \n",
    "\n",
    "You should see that a port was added with the ID of the primary uplink VLAN tag."
   ]
  },
  {
   "cell_type": "code",
   "execution_count": 31,
   "metadata": {},
   "outputs": [
    {
     "name": "stdout",
     "output_type": "stream",
     "text": [
      "Warning: Permanently added '192.5.87.113' (ECDSA) to the list of known hosts.\n",
      "packet in 37870329950028 fa:16:3e:b2:1c:25 24:6e:96:7e:11:22 3075\n",
      "packet in 37870329950028 fa:16:3e:b2:1c:25 24:6e:96:7e:11:22 3075\n",
      "packet in 37870329950028 fa:16:3e:b2:1c:25 24:6e:96:7e:11:22 3075\n",
      "packet in 37870329950028 fa:16:3e:b2:1c:25 24:6e:96:7e:11:22 3075\n",
      "packet in 37870329950028 24:6e:96:7e:29:4e fa:16:3e:b2:1c:25 10150\n",
      "packet in 37870329950028 24:6e:96:7e:29:4e fa:16:3e:b2:1c:25 10150\n",
      "packet in 37870329950028 fa:16:3e:b2:1c:25 24:6e:96:7e:29:4e 3075\n",
      "packet in 37870329950028 fa:16:3e:b2:1c:25 24:6e:96:7e:29:4e 3075\n",
      "packet in 37870329950028 fa:16:3e:b2:1c:25 24:6e:96:7e:29:4e 3075\n",
      "packet in 37870329950028 fa:16:3e:b2:1c:25 24:6e:96:7e:29:4e 3075\n",
      "packet in 37870329950028 fa:16:3e:b2:1c:25 24:6e:96:7e:29:4e 3075\n",
      "port added 3298\n",
      "packet in 37870329950028 fa:16:3e:b2:1c:25 ff:ff:ff:ff:ff:ff 3075\n",
      "packet in 37870329950028 fa:16:3e:b2:1c:25 ff:ff:ff:ff:ff:ff 3075\n",
      "port deleted 3298\n",
      "port deleted 10150\n",
      "packet in 37870329950028 24:6e:96:7e:11:22 fa:16:3e:b2:1c:25 10111\n",
      "packet in 37870329950028 fa:16:3e:b2:1c:25 24:6e:96:7e:11:22 3075\n",
      "port deleted 10111\n",
      "port added 3043\n"
     ]
    }
   ],
   "source": [
    "CONTROLLER_PUBLIC_IP=`openstack server show --format value -c addresses ${CONTROLLER_NODE_NAME} | cut -d \" \" -f 2`\n",
    "\n",
    "ssh -i ${SSH_PRIVATE_KEY} \\\n",
    "    -o UserKnownHostsFile=/dev/null \\\n",
    "    -o StrictHostKeyChecking=no \\\n",
    "    cc@${CONTROLLER_PUBLIC_IP} \\\n",
    "    tail -n 20 /var/log/ryu/ryu-manager.log \n"
   ]
  },
  {
   "cell_type": "markdown",
   "metadata": {},
   "source": [
    "#### Add a subnet and router to the network"
   ]
  },
  {
   "cell_type": "code",
   "execution_count": 35,
   "metadata": {},
   "outputs": [
    {
     "name": "stdout",
     "output_type": "stream",
     "text": [
      "Creating Subnet\n",
      "+-------------------+----------------------------------------------------------+\n",
      "| Field             | Value                                                    |\n",
      "+-------------------+----------------------------------------------------------+\n",
      "| allocation_pools  | 192.168.100.2-192.168.100.254                            |\n",
      "| cidr              | 192.168.100.0/24                                         |\n",
      "| created_at        | 2019-02-11T16:40:20Z                                     |\n",
      "| description       |                                                          |\n",
      "| dns_nameservers   |                                                          |\n",
      "| enable_dhcp       | True                                                     |\n",
      "| gateway_ip        | 192.168.100.1                                            |\n",
      "| host_routes       |                                                          |\n",
      "| id                | 7fa3719c-1714-481b-aabd-f18aeaf95ba1                     |\n",
      "| ip_version        | 4                                                        |\n",
      "| ipv6_address_mode | None                                                     |\n",
      "| ipv6_ra_mode      | None                                                     |\n",
      "| location          | Munch({'cloud': '', 'region_name': 'CHI@UC', 'zone':     |\n",
      "|                   | None, 'project': Munch({'id':                            |\n",
      "|                   | 'd9faac3973a847f1b718fa765fe312e2', 'name': 'CH-816532', |\n",
      "|                   | 'domain_id': None, 'domain_name': 'default'})})          |\n",
      "| name              | pruthSubnet                                              |\n",
      "| network_id        | f13f4e99-31a1-4e0a-9252-e3305b6ab738                     |\n",
      "| prefix_length     | None                                                     |\n",
      "| project_id        | d9faac3973a847f1b718fa765fe312e2                         |\n",
      "| revision_number   | 2                                                        |\n",
      "| segment_id        | None                                                     |\n",
      "| service_types     |                                                          |\n",
      "| subnetpool_id     | None                                                     |\n",
      "| tags              |                                                          |\n",
      "| updated_at        | 2019-02-11T16:40:20Z                                     |\n",
      "+-------------------+----------------------------------------------------------+\n",
      "Creating Router\n",
      "+-------------------------+----------------------------------------------------+\n",
      "| Field                   | Value                                              |\n",
      "+-------------------------+----------------------------------------------------+\n",
      "| admin_state_up          | UP                                                 |\n",
      "| availability_zone_hints |                                                    |\n",
      "| availability_zones      |                                                    |\n",
      "| created_at              | 2019-02-11T16:40:29Z                               |\n",
      "| description             |                                                    |\n",
      "| distributed             | None                                               |\n",
      "| external_gateway_info   | None                                               |\n",
      "| flavor_id               | None                                               |\n",
      "| ha                      | None                                               |\n",
      "| id                      | 4b89ae6a-a5d1-4474-ab83-b10415fb5723               |\n",
      "| location                | Munch({'cloud': '', 'region_name': 'CHI@UC',       |\n",
      "|                         | 'zone': None, 'project': Munch({'id':              |\n",
      "|                         | 'd9faac3973a847f1b718fa765fe312e2', 'name':        |\n",
      "|                         | 'CH-816532', 'domain_id': None, 'domain_name':     |\n",
      "|                         | 'default'})})                                      |\n",
      "| name                    | pruthRouter                                        |\n",
      "| project_id              | d9faac3973a847f1b718fa765fe312e2                   |\n",
      "| revision_number         | 5                                                  |\n",
      "| routes                  |                                                    |\n",
      "| status                  | ACTIVE                                             |\n",
      "| tags                    |                                                    |\n",
      "| updated_at              | 2019-02-11T16:40:29Z                               |\n",
      "+-------------------------+----------------------------------------------------+\n",
      "Linking router to subnet\n",
      "Linking router to external gateway\n",
      "Network pruthNetwork is ready for nodes!\n"
     ]
    }
   ],
   "source": [
    "echo Creating Subnet\n",
    "openstack subnet create --max-width 80 \\\n",
    "                        --subnet-range ${OPENFLOW_NETWORK_SUBNET_CIDR} \\\n",
    "                        --dhcp \\\n",
    "                        --network ${OPENFLOW_NETWORK_NAME} \\\n",
    "                        ${OPENFLOW_SUBNET_NAME}\n",
    "                        \n",
    "echo Creating Router\n",
    "openstack router create --max-width 80 ${OPENFLOW_ROUTER_NAME}\n",
    "\n",
    "echo Linking router to subnet\n",
    "openstack router add subnet ${OPENFLOW_ROUTER_NAME} ${OPENFLOW_SUBNET_NAME}\n",
    "\n",
    "echo Linking router to external gateway\n",
    "openstack router set --external-gateway public ${OPENFLOW_ROUTER_NAME}\n",
    "\n",
    "echo Network ${OPENFLOW_NETWORK_NAME} is ready for nodes!"
   ]
  },
  {
   "cell_type": "markdown",
   "metadata": {},
   "source": [
    "#### Launch servers connected to the new network\n",
    "\n",
    "At this point your OpenFlow network is ready for compute nodes. You can add nodes using the CLI commands below or by any other method you are comfortable with. "
   ]
  },
  {
   "cell_type": "code",
   "execution_count": 25,
   "metadata": {},
   "outputs": [
    {
     "name": "stdout",
     "output_type": "stream",
     "text": [
      "Creating servers... This will take several minutes!\n",
      "\n",
      "+-------------------------------------+----------------------------------------+\n",
      "| Field                               | Value                                  |\n",
      "+-------------------------------------+----------------------------------------+\n",
      "| OS-DCF:diskConfig                   | MANUAL                                 |\n",
      "| OS-EXT-AZ:availability_zone         | nova                                   |\n",
      "| OS-EXT-SRV-ATTR:host                | admin01.uc.chameleoncloud.org          |\n",
      "| OS-EXT-SRV-ATTR:hypervisor_hostname | 37c796cb-b4c5-4b9d-8088-06065b32631b   |\n",
      "| OS-EXT-SRV-ATTR:instance_name       | instance-00007824                      |\n",
      "| OS-EXT-STS:power_state              | Running                                |\n",
      "| OS-EXT-STS:task_state               | None                                   |\n",
      "| OS-EXT-STS:vm_state                 | active                                 |\n",
      "| OS-SRV-USG:launched_at              | 2019-02-11T16:14:14.000000             |\n",
      "| OS-SRV-USG:terminated_at            | None                                   |\n",
      "| accessIPv4                          |                                        |\n",
      "| accessIPv6                          |                                        |\n",
      "| addresses                           | pruthNetwork=192.168.100.11            |\n",
      "| adminPass                           | 85BuBqp2oD9N                           |\n",
      "| config_drive                        |                                        |\n",
      "| created                             | 2019-02-11T16:06:54Z                   |\n",
      "| flavor                              | baremetal (baremetal)                  |\n",
      "| hostId                              | 4b37a7178a2b7e972b95f05799876960f54ceb |\n",
      "|                                     | a02e4ddd8c8c6974d9                     |\n",
      "| id                                  | 1f6ae027-4d71-41b5-91a5-053d314e06f4   |\n",
      "| image                               | CC-CentOS7                             |\n",
      "|                                     | (73e74c82-ad47-4d21-bfb3-071d10d1a2d9) |\n",
      "| key_name                            | pruth-chameleon-jupyter                |\n",
      "| name                                | pruth-node-1                           |\n",
      "| progress                            | 0                                      |\n",
      "| project_id                          | d9faac3973a847f1b718fa765fe312e2       |\n",
      "| properties                          |                                        |\n",
      "| security_groups                     | name='default'                         |\n",
      "| status                              | ACTIVE                                 |\n",
      "| updated                             | 2019-02-11T16:14:14Z                   |\n",
      "| user_id                             | f3a422ce5a4442e3a7a247ddfd98bfc3       |\n",
      "| volumes_attached                    |                                        |\n",
      "+-------------------------------------+----------------------------------------+\n",
      "Server creation complete!\n",
      "pruth-node-1 is ACTIVE\n",
      "pruth-node-2 is ACTIVE\n"
     ]
    }
   ],
   "source": [
    "echo Creating servers... This will take several minutes! \n",
    "openstack server create --max-width 80 \\\n",
    "                        --flavor \"baremetal\" \\\n",
    "                        --image \"CC-CentOS7\" \\\n",
    "                        --key-name ${SSH_KEY_NAME} \\\n",
    "                        --hint reservation=${NODE_RESERVATION_ID} \\\n",
    "                        --security-group default  \\\n",
    "                        --nic net-id=${OPENFLOW_NETWORK_NAME} \\\n",
    "                        --min 2 \\\n",
    "                        --max 2 \\\n",
    "                        --wait \\\n",
    "                        ${USERNAME}-node\n",
    "\n",
    "echo Server creation complete! \n",
    "echo ${USERNAME}-node-1 is `openstack server show --format value -c status ${USERNAME}-node-1`\n",
    "echo ${USERNAME}-node-2 is `openstack server show --format value -c status ${USERNAME}-node-2`"
   ]
  },
  {
   "cell_type": "markdown",
   "metadata": {},
   "source": [
    "### Experiment with you new OpenFlow controller and switch\n",
    "\n",
    "Check the controller log to see when the nodes of added to the swtich. \n",
    "\n",
    "Add public IPs, login to the nodes, ping, eachother, etc..  While experimenting with the nodes, continue to  watch the controller log and see all the packet_in calls."
   ]
  },
  {
   "cell_type": "markdown",
   "metadata": {},
   "source": [
    "NOTE ABOUT DESIGNING THE TUTORIAL\":  From here we should have the tutorial do something in the nodes.  Maybe have them edit the controller to do something interesting"
   ]
  },
  {
   "cell_type": "markdown",
   "metadata": {},
   "source": [
    "# Please Cleanup Your Resources!!!\n",
    "\n",
    "Delete your nodes.\n",
    "\n",
    "If you added more nodes outside of this notebook you will need to delete them as well.  You will not beable to delete the network if there are nodes still attached to it."
   ]
  },
  {
   "cell_type": "code",
   "execution_count": 36,
   "metadata": {},
   "outputs": [
    {
     "name": "stdout",
     "output_type": "stream",
     "text": [
      "Deleting servers pruth-node-1 and pruth-node-2\n",
      "No server with a name or ID of 'pruth-node-1' exists.\n",
      "Servers deleted!\n"
     ]
    }
   ],
   "source": [
    "echo Deleting servers ${USERNAME}-node-1 and ${USERNAME}-node-2\n",
    "openstack server delete --wait ${USERNAME}-node-1 ${USERNAME}-node-2\n",
    "\n",
    "echo Servers deleted!"
   ]
  },
  {
   "cell_type": "markdown",
   "metadata": {},
   "source": [
    "Unlink and delete all pieces of the OpenFlow network."
   ]
  },
  {
   "cell_type": "code",
   "execution_count": 37,
   "metadata": {},
   "outputs": [
    {
     "name": "stdout",
     "output_type": "stream",
     "text": [
      "Unlinking router from gateway\n",
      "Unlinking router from subnet\n",
      "Deleting router\n",
      "Deleting network\n",
      "All routers, subnets, and networks are deleted!\n"
     ]
    }
   ],
   "source": [
    "echo Unlinking router from gateway\n",
    "openstack router unset --external-gateway ${OPENFLOW_ROUTER_NAME}\n",
    "\n",
    "echo Unlinking router from subnet\n",
    "openstack router remove subnet ${OPENFLOW_ROUTER_NAME} ${OPENFLOW_SUBNET_NAME}\n",
    "\n",
    "echo Deleting router\n",
    "openstack router delete ${OPENFLOW_ROUTER_NAME}\n",
    "\n",
    "echo Deleting network\n",
    "openstack network delete ${OPENFLOW_NETWORK_NAME}\n",
    "\n",
    "echo All routers, subnets, and networks are deleted!"
   ]
  },
  {
   "cell_type": "markdown",
   "metadata": {},
   "source": [
    "Delete your OpenFlow controller and stack"
   ]
  },
  {
   "cell_type": "code",
   "execution_count": 38,
   "metadata": {},
   "outputs": [
    {
     "name": "stdout",
     "output_type": "stream",
     "text": [
      "Deleting stack\n",
      "usage: openstack stack delete [-h] [-y] [--wait] <stack> [<stack> ...]\n",
      "openstack stack delete: error: the following arguments are required: <stack>\n",
      "Stack deleted\n"
     ]
    }
   ],
   "source": [
    "echo Deleting stack ${OPENFLOW_CONTROLLER_STACK_NAME}\n",
    "openstack stack delete -y --wait ${OPENFLOW_CONTROLLER_STACK_NAME}\n",
    "echo Stack ${OPENFLOW_CONTROLLER_STACK_NAME} deleted"
   ]
  },
  {
   "cell_type": "code",
   "execution_count": null,
   "metadata": {},
   "outputs": [],
   "source": []
  }
 ],
 "metadata": {
  "kernelspec": {
   "display_name": "Bash",
   "language": "bash",
   "name": "bash"
  },
  "language_info": {
   "codemirror_mode": "shell",
   "file_extension": ".sh",
   "mimetype": "text/x-sh",
   "name": "bash"
  }
 },
 "nbformat": 4,
 "nbformat_minor": 2
}
