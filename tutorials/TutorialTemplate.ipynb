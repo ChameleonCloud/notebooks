{
 "cells": [
  {
   "cell_type": "markdown",
   "metadata": {},
   "source": [
    "# Tutorial title\n",
    "\n",
    "- **Estimated time**: ?? minutes\n",
    "- **Requirements**:\n",
    "  - Each requirement\n",
    "  - Goes on its own line\n",
    "\n",
    "A short description of the tutorial goes here. It is useful to give an outline of what will be done, like so:\n",
    "\n",
    "1. [Step 1: Do something](#Step-1%3A-Do-something)\n",
    "1. [Step 2: Do something else](#Step-2%3A-Do-something-else)\n",
    "\n",
    "### Variables you'll see/use in this Notebook\n",
    "\n",
    "  - `VARIABLE_A`: asdf\n",
    "  - `VARIABLE_B`: asdf"
   ]
  },
  {
   "cell_type": "code",
   "execution_count": null,
   "metadata": {},
   "outputs": [],
   "source": [
    "VARIABLE_A=\"default value\"\n",
    "# Can use things like $USER and $(date) to generate unique but human-friendly defaults\n",
    "# (useful for things like leases/instances which need unique names!)\n",
    "VARIABLE_B=\"$USER-tutorial-$(date +%b%d)\""
   ]
  },
  {
   "cell_type": "markdown",
   "metadata": {},
   "source": [
    "## Step 1: Do something\n",
    "\n",
    "Give a little description of the step."
   ]
  },
  {
   "cell_type": "markdown",
   "metadata": {},
   "source": [
    "## Step 2: Do something else\n",
    "\n",
    "You can click the blue \"paragraph\" icon next to a heading to extract the anchor hash. For example, this one is `#Step-2%3A-Do-something-else` (the `%3A` is the URL-encoded \":\" character.)"
   ]
  },
  {
   "cell_type": "markdown",
   "metadata": {},
   "source": [
    "## Recap\n",
    "\n",
    "Give a little summary of what was accomplished.\n",
    "\n",
    "### Further reading\n",
    "\n",
    "- [Link to additional Chameleon documentation]()\n",
    "- [One on each line]()\n",
    "\n",
    "### Outputs\n",
    "\n",
    "Here are some output variables you may want to use in other tutorials:"
   ]
  },
  {
   "cell_type": "code",
   "execution_count": null,
   "metadata": {},
   "outputs": [],
   "source": [
    "# Variables derived from some parameters might be nice to \n",
    "# \"expand\" for users so they can see the full value. Useful\n",
    "# particularly if another tutorial requires having an\n",
    "# instance name, or UUID, or something, to start with.\n",
    "cat <<EOF\n",
    "VARIABLE_B=\"$VARIABLE_B\"\n",
    "EOF"
   ]
  },
  {
   "cell_type": "code",
   "execution_count": null,
   "metadata": {},
   "outputs": [],
   "source": []
  }
 ],
 "metadata": {
  "kernelspec": {
   "display_name": "Bash",
   "language": "bash",
   "name": "bash"
  },
  "language_info": {
   "codemirror_mode": "shell",
   "file_extension": ".sh",
   "mimetype": "text/x-sh",
   "name": "bash"
  }
 },
 "nbformat": 4,
 "nbformat_minor": 2
}
