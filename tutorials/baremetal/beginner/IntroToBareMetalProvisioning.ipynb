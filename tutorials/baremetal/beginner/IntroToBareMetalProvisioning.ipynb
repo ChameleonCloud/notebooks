{
 "cells": [
  {
   "cell_type": "markdown",
   "metadata": {},
   "source": [
    "# Provisioning a bare metal node on Chameleon\n",
    "\n",
    "- **Estimated time**: 30 minutes\n",
    "- **Requirements**:\n",
    "  - Active Chameleon allocation\n",
    "  - At least one node and public IP address free on the testbed\n",
    "\n",
    "Let's walk through the steps of provisioning a bare metal node on Chameleon. This tutorial will show you how to make a reservation for a particular node (called a Lease), and then provision the node with a Chameleon-provided [CentOS 7 disk image](https://www.chameleoncloud.org/appliances/1/) that allows you to log in via SSH. We will also show how to attach a public IP to your running instance so that SSH is available over the public internet (by default, there is no connectivity to an experimental environment from the public Internet.)\n",
    "\n",
    "1. [Step 1: Authenticate with your Chameleon project](#Step-1%3A-Authenticate-with-your-Chameleon-project)\n",
    "1. [Step 2: Create a reservation](#Step-2%3A-Create-a-reservation)\n",
    "1. [Step 3: Provision a new bare metal instance](#Step-3%3A-Provision-a-new-bare-metal-instance)\n",
    "1. [Step 4: Assign a public IP address](#Step-4%3A-Assign-a-public-IP-address)\n",
    "\n",
    "### Variables you'll see/use in this Notebook\n",
    "\n",
    "  - `NODE_TYPE`: the type of bare metal node on Chameleon to reserve (see [list of all types](https://chameleoncloud.readthedocs.io/en/latest/technical/reservations.html#chameleon-node-types))\n",
    "  - `LEASE_NAME`: the name of your lease\n",
    "  - `KEYPAIR_NAME`: the name of an SSH keypair used to authenticate to your instance\n",
    "  - `SERVER_NAME`: the name of your instance\n",
    "  - `FLOATING_IP`: the public IP address of your instance"
   ]
  },
  {
   "cell_type": "code",
   "execution_count": null,
   "metadata": {},
   "outputs": [],
   "source": [
    "NODE_TYPE=compute_haswell\n",
    "LEASE_NAME=\"$USER-tutorial-$(date +%b%d)\"\n",
    "KEYPAIR_NAME=\"$USER-jupyter-$(hostname)\"\n",
    "SERVER_NAME=\"$LEASE_NAME\"\n",
    "# FLOATING_IP will be set later; it is dynamically reserved"
   ]
  },
  {
   "cell_type": "markdown",
   "metadata": {},
   "source": [
    "## Step 1: Authenticate with your Chameleon project\n",
    "\n",
    "This requires that you have a project with an active allocation on Chameleon. If you do not have an active allocation, you should either [create a new project](https://chameleoncloud.readthedocs.io/en/latest/technical/project.html#creating-a-project) or [extend an existing allocation](https://chameleoncloud.readthedocs.io/en/latest/technical/project.html#recharge-or-extend-your-allocation) (Note: this requires having PI status! Ask your PI to perform these tasks if you are not a PI.)"
   ]
  },
  {
   "cell_type": "code",
   "execution_count": null,
   "metadata": {},
   "outputs": [],
   "source": [
    "if [[ \"${OS_PROJECT_NAME:+x}\" != \"x\" ]]; then\n",
    "  echo \"No project could automatically be detected. Overriding in Notebook.\"\n",
    "  # For example...\n",
    "  export OS_PROJECT_NAME='CH-000000'\n",
    "fi\n",
    "\n",
    "# Test that you can authenticate\n",
    "openstack token issue >/dev/null && echo \"Successfully authenticated to project $OS_PROJECT_NAME\""
   ]
  },
  {
   "cell_type": "markdown",
   "metadata": {},
   "source": [
    "## Step 2: Create a reservation\n",
    "\n",
    "We're actually going to reserve two things on Chameleon: a bare metal node, and a public IP address. While Chameleon has several nodes and IP addresses for use by researchers, the supply is still constrained relative to the amount of people using the system, so, unlike commercial clouds like AWS, it is important to reserve them ahead of time. In practice there are usually enough commodity hardware that you can use for exploration right away.\n",
    "\n",
    "We will be creating the lease using the `blazar` CLI utility. Blazar is the name of the system that manages leases for Chameleon. The CLI `lease-create` command takes a few arguments:\n",
    "\n",
    "  - `--physical-reservation`: used whenever you are reserving a bare metal node. This takes a list of properties to apply to the reservation: a `min` and `max` number of nodes (these can be the same), and a `resource_properties` selector that defines how to pick the nodes from the inventory.\n",
    "  - `--reservation`: used for reserving things other than bare metal nodes. This also takes a list of properties: `resource_type` denotes the type of thing being reserved, e.g. \"virtual:floatingip\" for a public IP address, and then a list of required properties for that type, e.g. `network_id` and `amount` are required for the \"virtual:floatingip\" type, the former denoting which Network to allocate the IP from, the latter indicating how many IPs.\n",
    "  - `--start-date`: finally an easy one! Denotes when the lease should start (YYYY-mm-dd HH:MM format)\n",
    "  - `--end-date`: when the lease should end. If not defined, defaults to one day from the start date.\n",
    "  \n",
    "It is possible to specify only `--physical-reservation` if only a bare metal node is desired, and similarly, only `--reservation` if only some other type of reservation is desired. The following example utilizes both, because we want to reserve an IP address and a node."
   ]
  },
  {
   "cell_type": "code",
   "execution_count": null,
   "metadata": {},
   "outputs": [],
   "source": [
    "PUBLIC_NETWORK_ID=$(openstack network show public -f value -c id)\n",
    "\n",
    "blazar lease-create \\\n",
    "  --physical-reservation min=1,max=1,resource_properties=\"[\\\"=\\\", \\\"\\$node_type\\\", \\\"$NODE_TYPE\\\"]\" \\\n",
    "  --reservation \"resource_type=virtual:floatingip,network_id=$PUBLIC_NETWORK_ID,amount=1\" \\\n",
    "  --start-date \"$(date +'%Y-%m-%d %H:%M')\" \\\n",
    "  --end-date \"$(date +'%Y-%m-%d %H:%M' -d'+1 day')\" \\\n",
    "  \"$LEASE_NAME\""
   ]
  },
  {
   "cell_type": "markdown",
   "metadata": {},
   "source": [
    "The lease should start quickly, but it can take a minute or two, depending on how busy the system is. You can use the `wait_lease` helper to pause the Notebook until the lease is ready."
   ]
  },
  {
   "cell_type": "code",
   "execution_count": null,
   "metadata": {},
   "outputs": [],
   "source": [
    "wait_lease \"$LEASE_NAME\""
   ]
  },
  {
   "cell_type": "markdown",
   "metadata": {},
   "source": [
    "## Step 3: Provision a new bare metal instance\n",
    "\n",
    "Now let's use that reserved node and launch a bare metal instance on it. You can launch existing images maintained by Chameleon. It's also possible to create snapshots of your current working environment on Chameleon as a new image, and launch that image in the future, allowing you to avoid having to bootstrap all of your software and special setup in the future! We'll see how to do that later.\n",
    "\n",
    "### Create an SSH keypair\n",
    "\n",
    "All Chameleon images use SSH keypair authentication, as opposed to password authentication, for additional security. Remember that SSH is going to be exposed to the public Internet! Don't say I didn't warn you...\n",
    "\n",
    "Your Jupyter Notebook already has a SSH key generated at `$HOME/.ssh` - we can use that one."
   ]
  },
  {
   "cell_type": "code",
   "execution_count": null,
   "metadata": {},
   "outputs": [],
   "source": [
    "openstack keypair create --public-key ~/.ssh/id_rsa.pub \"$KEYPAIR_NAME\""
   ]
  },
  {
   "cell_type": "markdown",
   "metadata": {},
   "source": [
    "### Launch an instance\n",
    "\n",
    "We're now ready to launch an instance. In order to do so, we need to choose a Network to connect it to (by default, we will use `sharednet1`, a default network that is shared by default with all projects; if you need proper isolation please refer to the [Isolated Network VLANs documentation](https://chameleoncloud.readthedocs.io/en/latest/technical/networks/networks_vlan.html).)\n",
    "\n",
    "As with the Keypair creation, we are using the `openstack` CLI here. This CLI can be used to inspect and modify most entities on the Chameleon testbed. Most of the [official documentation for OpenStack](https://docs.openstack.org/python-openstackclient/rocky/cli/command-list.html), upon which Chameleon is based, applies if you want to learn more about what is possible.\n",
    "\n",
    "To make things a bit easier for you, we've included a helper function `lease_server_create_default_args`, which returns a list of arguments you can feed in to the `openstack server create` command. In particular, it adds a special `--hint` flag that is used to indicate which lease you are launching the instance under."
   ]
  },
  {
   "cell_type": "code",
   "execution_count": null,
   "metadata": {},
   "outputs": [],
   "source": [
    "SERVER_NAME=\"$LEASE_NAME\"\n",
    "\n",
    "openstack server create --key-name \"$KEYPAIR_NAME\" \\\n",
    "  $(lease_server_create_default_args \"$LEASE_NAME\") \\\n",
    "  $SERVER_NAME"
   ]
  },
  {
   "cell_type": "markdown",
   "metadata": {},
   "source": [
    "### Wait for instance to spawn... this can take a while.\n",
    "\n",
    "This is expected to take about 10 minutes. A lot is happening behind the scenes to get your image running on that machine! In case you want to wait in the Notebook, you can use the `wait_instance` helper function--just pass it the instance name (or instance UUID)."
   ]
  },
  {
   "cell_type": "code",
   "execution_count": null,
   "metadata": {},
   "outputs": [],
   "source": [
    "wait_instance \"$SERVER_NAME\""
   ]
  },
  {
   "cell_type": "markdown",
   "metadata": {},
   "source": [
    "## Step 4: Assign a public IP address\n",
    "\n",
    "By default, your new instance is assigned only an internal private IP, and is not reachable from the public internet. In order to reach your node, you must attach a public IP (called a \"Floating IP\", because it can \"float\" between instances over time; they are shared resources.)\n",
    "\n",
    "We will attach the public IP that was reserved for us. This information is a bit tricky to get just out of the `openstack` or `blazar` CLI, so we've provided a `lease_list_floating_ips` helper function for you. It will print a list of public IPs reserved as part of your lease.\n"
   ]
  },
  {
   "cell_type": "code",
   "execution_count": null,
   "metadata": {},
   "outputs": [],
   "source": [
    "FLOATING_IP=$(lease_list_floating_ips \"$LEASE_NAME\" | head -n1)\n",
    "\n",
    "openstack server add floating ip \"$SERVER_NAME\" \"$FLOATING_IP\" \\\n",
    "  && echo \"Attached floating ip $FLOATING_IP!\""
   ]
  },
  {
   "cell_type": "markdown",
   "metadata": {},
   "source": [
    "Once the public IP is attached, it may still take a short bit of time (~1-2 minutes) for the routing rules to propagate throughout the system. You can use the `wait_ssh` helper to wait until SSH is available on your public IP."
   ]
  },
  {
   "cell_type": "code",
   "execution_count": null,
   "metadata": {},
   "outputs": [],
   "source": [
    "wait_ssh \"$FLOATING_IP\""
   ]
  },
  {
   "cell_type": "markdown",
   "metadata": {},
   "source": [
    "Finally, let's SSH in to the node, using the SSH keypair installed on the Jupyter Notebook server. You must log in as the `cc` user. You can also open a new Terminal in the JupyterLab interface (`File`... `New`... `Terminal`) and open an interactive SSH session that way, if you like."
   ]
  },
  {
   "cell_type": "code",
   "execution_count": null,
   "metadata": {},
   "outputs": [],
   "source": [
    "ssh cc@\"$FLOATING_IP\" echo 'User $(whoami) connected on $(hostname)!'"
   ]
  },
  {
   "cell_type": "markdown",
   "metadata": {},
   "source": [
    "## Recap\n",
    "\n",
    "In this tutorial, you learned how to create a lease for resources on the Chameleon testbed using the `blazar` CLI in Bash. You learned how to create a combined lease for both a floating IP address and also a bare metal node. You also got a (brief) introduction to the `openstack` CLI, which can be used to inspect and control most of the testbed. Chameleon runs on top of OpenStack, so most public documentation on OpenStack also applies to Chameleon. Finally, you learned how to assign a public IP to your launched instance, and (hopefully!) were able to log in to the node via SSH and your private SSH keypair stored in your Jupyter Notebook server."
   ]
  }
 ],
 "metadata": {
  "kernelspec": {
   "display_name": "Bash",
   "language": "bash",
   "name": "bash"
  },
  "language_info": {
   "codemirror_mode": "shell",
   "file_extension": ".sh",
   "mimetype": "text/x-sh",
   "name": "bash"
  }
 },
 "nbformat": 4,
 "nbformat_minor": 2
}
