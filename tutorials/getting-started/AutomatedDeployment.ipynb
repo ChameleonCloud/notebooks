{
 "cells": [
  {
   "cell_type": "markdown",
   "metadata": {},
   "source": [
    "# Automated Deployment\n",
    "\n",
    "- **Estimated time**: ?? minutes\n",
    "- **Requirements**:\n",
    "  - How to create [Heat Templates](https://jupyter.chameleoncloud.org/import?source=github&src_path=chameleoncloud/notebooks&file_path=tutorials%2Fgetting-started%2F#HeatOrchestration.ipynb). In fact we will be using the `iperf.yml` template from that Notebook.\n",
    "  - How to [create a SSH keypair](https://jupyter.chameleoncloud.org/import?source=github&src_path=chameleoncloud/notebooks&file_path=tutorials%2Fgetting-started%2FJupyterOrchestration.ipynb#Create-a-SSH-key-pair)\n",
    "\n",
    "\n",
    "Previous webinars have successively shown how to automate the orchestration of an experiment from allocating the resources to building the lab to running the experiment and tearing it all down. We began with using the GUI and kept increasing the degree of automation until reaching Heat Templates. The only thing we have not automated so far was lease allocation and reservation. That will change today.\n",
    "\n",
    "In this notebook we will show how to use Chameleon’s new Automatic Deployment mechanism to start a reservation and deploy the experiment without human intervention. This reservation in turn will call a heat template to orchestrate a lab and run the experiment. As we have been doing in the previous notebooks, once again we will use the iperf lab setup. Contrary to previous notebooks, this one will be very short as the heavy lifting is automated.\n",
    "\n",
    "## Outline\n",
    "\n",
    "The proper way to run this in a when creating a lab for and experiment is a single Bash file. However, we will break it up to show the distinct steps in action. \n",
    "\n",
    "1. [Step 1: Install the required PIPs](#Step-1%3A-Install-the-required-PIPs)\n",
    "1. [Step 2: Get the `iperf.yml`](#Step-2%3A-Get-iperf.yml) we used in the previous installment ([Heat Templates](https://jupyter.chameleoncloud.org/import?source=github&src_path=chameleoncloud/notebooks&file_path=tutorials%2Fgetting-started%2F#HeatOrchestration.ipynb).)\n",
    "1. [Step 3: Initialize Stack](#Step-3%3A-Initialize-Stack), which also starts the experiment.\n",
    "1. [Step 4: Retrieve the experiment results](#Step-4%3A-Retrieve-the-Experiment-Results) \n",
    "1. [Step 5: Tear the entire thing down](#Step-5%3A-Tear-it-Down), including deleting networks, servers, and releasing the floating IP.\n",
    "\n",
    "### Variables you'll see/use in this Notebook\n",
    "This should not be anything new to you by now. Note the `$START_DATE` is set to 5 minutes in the future."
   ]
  },
  {
   "cell_type": "code",
   "execution_count": null,
   "metadata": {},
   "outputs": [],
   "source": [
    "export LEASE_NAME=\"$USER-automatetest\"\n",
    "export STACK_NAME=\"$USER-stack\"\n",
    "export START_DATE=`date -d \"+5 min\" +'%F %H:%M'`\n",
    "export END_DATE=`date -d \"+1 day\" +'%F %H:%M'`\n",
    "\n",
    "## Network Information\n",
    "# We will use default values\n",
    "\n",
    "# The Nodes\n",
    "export NODE_COUNT=3\n",
    "\n",
    "export SSHKEY_NAME=\"${USER}-jupyter\"\n",
    "export SSHKEY_FILE=\"$HOME/work/.ssh/${USER}-jupyter\"\n",
    "\n",
    "export OS_REGION_NAME='CHI@UC'\n"
   ]
  },
  {
   "cell_type": "markdown",
   "metadata": {},
   "source": [
    "## Step 1: Install the required PIPs\n",
    "\n",
    "We need `python-heatclient` and `python-blazarclient`"
   ]
  },
  {
   "cell_type": "code",
   "execution_count": null,
   "metadata": {},
   "outputs": [],
   "source": [
    "pip install -q git+https://github.com/ChameleonCloud/python-heatclient.git\n",
    "pip install -q git+https://github.com/ChameleonCloud/python-blazarclient.git"
   ]
  },
  {
   "cell_type": "markdown",
   "metadata": {},
   "source": [
    "## Step 2: Get `iperf.yml`"
   ]
  },
  {
   "cell_type": "code",
   "execution_count": null,
   "metadata": {},
   "outputs": [],
   "source": [
    "curl -o ~/iperf.yml https://raw.githubusercontent.com/raubvogel/notebooks/master/tutorials/getting-started/Orchestration/iperf.yml"
   ]
  },
  {
   "cell_type": "markdown",
   "metadata": {},
   "source": [
    "## Step 3: Initialize Stack\n",
    "We can initialize the heat template by passing arguments using the `--parameter` option. Which parameters you can change? Open the heat template file and look under the `parameters`. For this notebook, that will be `iperf.yml`, which has the following parameters defined (case sensitive):\n",
    "\n",
    "- key_name:\n",
    "- reservation_id:\n",
    "- image_name:\n",
    "- flavor_name:\n",
    "- private_network_name:\n",
    "- ip_subnet:\n",
    "\n",
    "For now we are sticking to the default values for the sake of brevity and only specifying the `$key_name`."
   ]
  },
  {
   "cell_type": "code",
   "execution_count": null,
   "metadata": {},
   "outputs": [],
   "source": [
    "openstack stack create -t ~/iperf.yml --initialize --parameter reservation_id=dummy \\\n",
    "    --parameter \"key_name=${SSHKEY_NAME}\" \\\n",
    "    ${STACK_NAME}"
   ]
  },
  {
   "cell_type": "markdown",
   "metadata": {},
   "source": [
    "If you want to verify if the stack has been created, you can always run"
   ]
  },
  {
   "cell_type": "code",
   "execution_count": null,
   "metadata": {},
   "outputs": [],
   "source": [
    "openstack stack list"
   ]
  },
  {
   "cell_type": "markdown",
   "metadata": {},
   "source": [
    "We are looking for a `status = INIT_COMPLETE` as shown in the sample output below\n",
    "\n",
    "```mtavares@36a090ce8167:~$ openstack stack list\n",
    "+--------------------------------------+----------------+---------------+----------------------+--------------+\n",
    "| ID                                   | Stack Name     | Stack Status  | Creation Time        | Updated Time |\n",
    "+--------------------------------------+----------------+---------------+----------------------+--------------+\n",
    "| f728c425-ca45-4c7d-ad77-83856f1edb52 | mtavares-stack | INIT_COMPLETE | 2020-07-13T21:11:01Z | None         |\n",
    "+--------------------------------------+----------------+---------------+----------------------+--------------+\n",
    "mtavares@36a090ce8167:~$ ```"
   ]
  },
  {
   "cell_type": "markdown",
   "metadata": {},
   "source": [
    "Create Lease, which will call our Heat Template at `$START_DATE`"
   ]
  },
  {
   "cell_type": "code",
   "execution_count": null,
   "metadata": {},
   "outputs": [],
   "source": [
    "# We need to know the stack ID\n",
    "STACK_ID=$(openstack stack show \"${STACK_NAME}\" -c id -f value)\n",
    "\n",
    "blazar lease-create --start-date \"${START_DATE}\" --end-date \"${END_DATE}\" \\\n",
    "  --physical-reservation min=$((NODE_COUNT)),max=$((NODE_COUNT +1 )),on_start=orchestration:${STACK_ID} \\\n",
    "  ${LEASE_NAME}"
   ]
  },
  {
   "cell_type": "markdown",
   "metadata": {},
   "source": [
    "## Step 4: Retrieve the Experiment Results\n",
    "Get the results file from `iperf_client`. We are printing the results directly into the notebook, but we could as well have downloaded it and manipulated it into a plot or something else. \n",
    "\n",
    "**Fun fact:** since the heat template `iperf.yml` populates the `/etc/hosts` file in `$SERVER_NAME`, we can refer to the two clients by their hostnames."
   ]
  },
  {
   "cell_type": "code",
   "execution_count": null,
   "metadata": {},
   "outputs": [],
   "source": [
    "SERVER_NAME=$(openstack server list -c Name -f value | grep ext_server)\n",
    "SERVER_FLOATING_IP=$(openstack server show \"${SERVER_NAME}\"  -c addresses -f value | cut -d ',' -f 2 | xargs)\n",
    "NODE_NAME=\"iperf_client\"\n",
    "\n",
    "# Wait until we can connect to server on port 22.\n",
    "ssh_status=\"\"\n",
    "while [ \"$ssh_status\" != \"Up\" ]\n",
    "do\n",
    "   sleep 30\n",
    "   ssh_status=$(nc -z \"${SERVER_FLOATING_IP}\" 22 && echo \"Up\" || echo \"Down\")\n",
    "done\n",
    "  \n",
    "#Start the ssh forwarding agent and add your private key\n",
    "ssh-agent\n",
    "ssh-add $SSHKEY_FILE\n",
    "\n",
    "echo\n",
    "echo \" ========> results  from iperf_client:\"\n",
    "echo\n",
    "\n",
    "# Get the results\n",
    "ssh -A \\\n",
    "      -o \"UserKnownHostsFile=/dev/null\" \\\n",
    "      -o \"StrictHostKeyChecking=no\" \\\n",
    "      -q \\\n",
    "      -i $SSHKEY_FILE \\\n",
    "      cc@${SERVER_FLOATING_IP} \\\n",
    "      \"ssh -o \\\"UserKnownHostsFile=/dev/null\\\" -o \\\"StrictHostKeyChecking=no\\\"  cc@${NODE_NAME} \\\"cat results\\\"\""
   ]
  },
  {
   "cell_type": "markdown",
   "metadata": {},
   "source": [
    "## Step 5: Tear it Down\n",
    "And now delete the entire thing, which includes deleting the servers, network, and releasing the floating IP."
   ]
  },
  {
   "cell_type": "code",
   "execution_count": null,
   "metadata": {},
   "outputs": [],
   "source": [
    "openstack stack delete --yes ${STACK_NAME}"
   ]
  },
  {
   "cell_type": "markdown",
   "metadata": {},
   "source": [
    "## How do we run this as a single step?\n",
    "\n",
    "Create a single bash script and paste the above code in it.\n",
    "\n",
    "### Further reading\n",
    "\n",
    "- Chameleon documentation on [Automated Deployment](https://chameleoncloud.readthedocs.io/en/latest/technical/complex.html#automated-deployment)\n"
   ]
  }
 ],
 "metadata": {
  "kernelspec": {
   "display_name": "Bash",
   "language": "bash",
   "name": "bash"
  },
  "language_info": {
   "codemirror_mode": "shell",
   "file_extension": ".sh",
   "mimetype": "text/x-sh",
   "name": "bash"
  }
 },
 "nbformat": 4,
 "nbformat_minor": 4
}
