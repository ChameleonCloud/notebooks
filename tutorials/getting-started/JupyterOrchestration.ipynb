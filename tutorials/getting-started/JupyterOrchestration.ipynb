{
 "cells": [
  {
   "cell_type": "markdown",
   "metadata": {},
   "source": [
    "# Orchestrating a test lab using Jupyter Notebooks"
   ]
  },
  {
   "cell_type": "markdown",
   "metadata": {},
   "source": [
    "## Getting started\n",
    "\n",
    "The simplest possible way to automate deploying an experiment in Chameleon is to use a Jupyter notebook (like this one). Main reason is that it is a document/manual which you can run (shell) commands from and see the output. This document goes in more depth than [Getting Started Guide][1], namely it shows how to\n",
    "1. Create a lease\n",
    "1. Create ssh keypair\n",
    "1. Get a floating IP\n",
    "2. Create the required baremetal/virtual servers\n",
    "1. Access both baremetal server\n",
    "1. Build the test environment in the server. In this case we will run network traffic between the two servers.\n",
    "1. Run experiment to our hearts content\n",
    "1. Display results\n",
    "1. Destroy the servers\n",
    "1. Release floating IP\n",
    "1. Delete SSH keypair\n",
    "1. Destroy the lease.\n",
    "\n",
    "from the command line.\n",
    "\n",
    "### Limitations\n",
    "\n",
    "1. We can only run non-interactive commands here. Think of this as a way to run scripts inside a document.\n",
    "\n",
    "### Notes\n",
    "\n",
    "1. Some of the resources will be associated with the user who is running this doc, in this case `$USER`.\n",
    "1. If you are only a member of one project, you can skip this step, as the project will be selected for you by default. Otherwise, take a look at the current value of the environmental variable `OS_PROJECT_NAME`:\n",
    "\n",
    "[1]: https://chameleoncloud.readthedocs.io/en/latest/getting-started/index.html"
   ]
  },
  {
   "cell_type": "code",
   "execution_count": null,
   "metadata": {},
   "outputs": [],
   "source": [
    "echo $OS_PROJECT_NAME"
   ]
  },
  {
   "cell_type": "markdown",
   "metadata": {},
   "source": [
    "to ensure it matches the name of the project you want to run this lab on. If it does not, change it (uncommend the `export OS_PROJECT_NAME` line and set `your-project` to match the project name).\n",
    "\n",
    "**NOTE:** If project has a nickname, you **must** use it instead."
   ]
  },
  {
   "cell_type": "code",
   "execution_count": null,
   "metadata": {},
   "outputs": [],
   "source": [
    "# Set up user's project (Replace 'your-project' with your project name)\n",
    "# export OS_PROJECT_NAME='your-project'\n",
    "echo \"New project name = $OS_PROJECT_NAME\""
   ]
  },
  {
   "cell_type": "markdown",
   "metadata": {},
   "source": [
    "**NOTE:** Just to be on the safe side, let's test it (we will explain the command later on) by asking for the list of ssh keypairs:"
   ]
  },
  {
   "cell_type": "code",
   "execution_count": null,
   "metadata": {},
   "outputs": [],
   "source": [
    "openstack keypair list"
   ]
  },
  {
   "cell_type": "markdown",
   "metadata": {},
   "source": [
    "If the output looks like this:\n",
    "```\n",
    "+------------+-------------------------------------------------+\n",
    "| Name       | Fingerprint                                     |\n",
    "+------------+-------------------------------------------------+\n",
    "| defaultkey | d0:89:5b:61:6a:64:dd:c8:db:67:32:32:45:71:b0:b8 |\n",
    "+------------+-------------------------------------------------+\n",
    "```\n",
    "you can continue to the next step. However, if it looks something like this:\n",
    "```\n",
    "The request you have made requires authentication. (HTTP 401) (Request-ID: req-76ad404f-0043-45e9-84cf-0504843888ab)\n",
    "```\n",
    "figure out what is going on before continuing. One thing to check is whether the project name you provided works (the nickname issue mentioned before is one possible reason)."
   ]
  },
  {
   "cell_type": "markdown",
   "metadata": {},
   "source": [
    "You can also set the site you want to use via the `OS_REGION_NAME` setting; this defaults to `CHI@UC`."
   ]
  },
  {
   "cell_type": "code",
   "execution_count": null,
   "metadata": {},
   "outputs": [],
   "source": [
    "# Set region (Optional, default to 'CHI@UC')\n",
    "# export OS_REGION_NAME='CHI@UC'\n",
    "echo $OS_REGION_NAME"
   ]
  },
  {
   "cell_type": "markdown",
   "metadata": {},
   "source": [
    "### Define some variables\n",
    "We should define the names for our\n",
    "  1. Lease\n",
    "  1. Servers that belong to this lease. In this example we will call them `$SERVER_NAME-left` and `$SERVER_NAME-right` due to lack of imagination. \n",
    "  1. Private network\n",
    "  1. Public network\n",
    "  1. SSH key. By default Jupyter places the user's ssh keys in `~/work/.ssh`, but that should not stop us from placing them wherever we need them. Just to be different, we will put it in `~/.ssh`. Also, for this example, we delete the keys as part of the tearing down procedure. Note that `~/.ssh` is destroyed whenever the jupyter instance is deleted while `~/work/.ssh` remains\n",
    "  1. Type for the instance/node/servers\n",
    "  1. How many nodes we will need. Always get a least an extra one since one of the servers we want to build might be assigned to a flakey physical host. If we have spares, openstack will simply drop it and go to the next one.\n",
    "\n",
    "in advance so we do not run the risk of mistyping them running a command. Here is ASCII art showing the layout:\n",
    "  ```bash\n",
    "  \n",
    "        +-------------------+\n",
    "        | Jupyter notebook  | (we are here)\n",
    "        | server            | \n",
    "        +-------------------+\n",
    "                |\n",
    "                | (public network)\n",
    "     <=><       |\n",
    "                |        ><=>\n",
    "                |\n",
    "                | <--- Witchcraft happens here\n",
    "   .................................\n",
    "   :            | (private network) :\n",
    "   :   +-------------------+        :\n",
    "   :   | SERVER_NAME-left  |        :\n",
    "   :   +-------------------+        :\n",
    "   :           |                    :\n",
    "   :   +-------------------+        :\n",
    "   :   | SERVER_NAME-right |        :\n",
    "   :   +-------------------+        :\n",
    "   .................................\n",
    "   \n",
    "  ```\n"
   ]
  },
  {
   "cell_type": "code",
   "execution_count": null,
   "metadata": {},
   "outputs": [],
   "source": [
    "export LEASE_NAME=\"$USER-test\"\n",
    "export SERVER_NAME=\"$USER-server\"\n",
    "export PRIVATE_NETWORK_NAME=\"sharednet1\"\n",
    "export PUBLIC_NETWORK_NAME=\"public\"\n",
    "export SSHKEY_FILE=\"$HOME/work/.ssh/work/$USER-chameleon\"\n",
    "export SSHKEY_NAME=\"ChameleonKey\"\n",
    "export NODE_TYPE=\"compute_haswell\"\n",
    "export NUM_SERVERS=2"
   ]
  },
  {
   "cell_type": "markdown",
   "metadata": {},
   "source": [
    "These environmental variables only exist within the scope of this Jupyter document."
   ]
  },
  {
   "cell_type": "markdown",
   "metadata": {},
   "source": [
    "### Create a lease \n",
    "Specifically, we will create the lease `$LEASE_NAME`. "
   ]
  },
  {
   "cell_type": "code",
   "execution_count": null,
   "metadata": {},
   "outputs": [],
   "source": [
    "blazar lease-create --physical-reservation \\\n",
    "   min=\"$NUM_SERVERS\",max=$((NUM_SERVERS + 1 )),resource_properties='[\"=\", \"$node_type\", \"'\"$NODE_TYPE\"'\"]' \"$LEASE_NAME\""
   ]
  },
  {
   "cell_type": "markdown",
   "metadata": {},
   "source": [
    "Before we continue let's verify if the lease was successful created. This might take a few minutes, or just crash horribly. Since we are automating this, we need to account for these options."
   ]
  },
  {
   "cell_type": "code",
   "execution_count": null,
   "metadata": {},
   "outputs": [],
   "source": [
    "lease_status=\"\"\n",
    "\n",
    "# Lease in a sorry state\n",
    "while [[ $lease_status == \"TERMIN\"* ]] || [[ $lease_status == \"ERROR\" ]] \n",
    "do\n",
    "   echo \"Lease it is in a sorry state. Restarting it.\"\n",
    "   # Delete old lease\n",
    "   blazar lease-delete \"$LEASE_NAME\"\n",
    "   blazar lease-create --physical-reservation \\\n",
    "      min=1,\"max=$MAX_SERVERS\",resource_properties='[\"=\", \"$node_type\", \"$NODE_TYPE\"]' \"$LEASE_NAME\"\n",
    "   lease_status=$(blazar lease-show --format value -c status \"$LEASE_NAME\")\n",
    "done\n",
    "echo \"Lease creation successfuly started.\"\n",
    "\n",
    "# Now wait for lease to be ready before going to the next step\n",
    "while [[ $lease_status != \"ACTIVE\" ]]\n",
    "do\n",
    "   sleep 5\n",
    "   lease_status=$(blazar lease-show --format value -c status \"$LEASE_NAME\")\n",
    "done\n",
    "\n",
    "echo \"Lease $LEASE_NAME is ready for business\""
   ]
  },
  {
   "cell_type": "markdown",
   "metadata": {},
   "source": [
    "Wait until seeing the `Lease NAME_OF_YOUR_LEASE is ready for business` message before continuing. \n",
    "\n",
    "Another way is to keep track of PID and wait until it is done.\n",
    "\n",
    "In any case, expect to receive an email that looks like this shortly:\n",
    "\n",
    "```\n",
    "Dear mtavares,\n",
    "\n",
    "\n",
    "We're sending this email to inform you that your lease mtavares-ovs-test (ID: b8346bd7-1653-40a1-a7f6-c2a2fb7e7939) under project CH-12345678 on CHI@UC will expire on 2019-12-11 13:53:00 UTC / 2019-12-11 07:53:00 Central Time.\n",
    "\n",
    "You can extend your lease using either the Chameleon web interface or command line interface.\n",
    "\n",
    "\n",
    "This is an automatic email, please DO NOT reply! If you have any question or issue, please submit a ticket on our help desk.\n",
    "\n",
    "\n",
    "\n",
    "Thanks,\n",
    "\n",
    "Chameleon Team\n",
    "```\n",
    "\n",
    "Now, some commands can use this lease name but others need a lease ID instead. So, while we are here we might as well get the `$lease_id`."
   ]
  },
  {
   "cell_type": "code",
   "execution_count": null,
   "metadata": {},
   "outputs": [],
   "source": [
    "lease_id=$(blazar lease-show  --format value -c  reservations \"$LEASE_NAME\" |grep \\\"id\\\"| cut -d \\\" -f4)"
   ]
  },
  {
   "cell_type": "markdown",
   "metadata": {},
   "source": [
    "#### Get the ID of the network we will create the baremetal server on\n",
    "In the previous step we obtained `lease_id`, the ID of the lease named `$USER-default-lease`. Now we will do the same but for the network we will run our server in. Use the `sharednet1` network unless you have a good reason not to such as creating your own networks. Further information on this network is [available in the docs][1].\n",
    "\n",
    "Creating and using your own networks is beyond the scope of this document.\n",
    "\n",
    "[1]: https://chameleoncloud.readthedocs.io/en/latest/technical/networks/networks_basic.html#shared-network"
   ]
  },
  {
   "cell_type": "code",
   "execution_count": null,
   "metadata": {},
   "outputs": [],
   "source": [
    "# Get the network ID associated with sharednet1\n",
    "network_id=$(openstack network show --format value -c id $PRIVATE_NETWORK_NAME)"
   ]
  },
  {
   "cell_type": "markdown",
   "metadata": {},
   "source": [
    "### Create a SSH key pair\n",
    "One of the goals for this document is to access the the baremetal server; that will be achieved by using ssh to connect to the server. For [security][1], servers created in Chameleon are by default accessed using SSH key pair authentication. \n",
    "\n",
    "Openstack can store the public key, or keys, which can then be passed to the instance. To see which keys are currently defined you can type\n",
    "\n",
    "[1]:https://docs.openstack.org/horizon/latest/user/configure-access-and-security-for-instances.html"
   ]
  },
  {
   "cell_type": "code",
   "execution_count": null,
   "metadata": {},
   "outputs": [],
   "source": [
    "openstack keypair list"
   ]
  },
  {
   "cell_type": "markdown",
   "metadata": {},
   "source": [
    "#### What if I already have a keypair I want to use?\n",
    "\n",
    "Then skip the next steps and go straight to Get Floating IP."
   ]
  },
  {
   "cell_type": "markdown",
   "metadata": {},
   "source": [
    "We will need to create a key pair, say, `$SSHKEY_NAME` in the RSA format with a size of `4096` bits (the minimum size to use nowadays) and saved as `$SSHKEY_FILE` for the private key and `$SSHKEY_FILE.pub` for the public. \n",
    "\n",
    "**NOTE:** By default we do not have a `~/.ssh` dir here, so we need to create one first."
   ]
  },
  {
   "cell_type": "code",
   "execution_count": null,
   "metadata": {},
   "outputs": [],
   "source": [
    "ssh-keygen -t rsa -b 4096  -P '' -C $SSHKEY_NAME -f $SSHKEY_FILE"
   ]
  },
  {
   "cell_type": "markdown",
   "metadata": {},
   "source": [
    "We are cheating by using `echo \"yes\"` to say we do not want to use a passphrase associated with this key pair. If you choose to use a passphrase, remove everything before `ssh-keygen`.\n",
    "\n",
    "Next is to add it to the list of keypairs openstack know to be associated with your account. In reality it is just uploading the public key, which is what you really need to ssh into a host. As with the lease, we do need a [name][2] associated with this key pair:\n",
    "\n",
    "[2]:https://docs.openstack.org/python-openstackclient/latest/cli/command-objects/keypair.html"
   ]
  },
  {
   "cell_type": "code",
   "execution_count": null,
   "metadata": {},
   "outputs": [],
   "source": [
    "openstack keypair create --public-key $SSHKEY_FILE.pub  $SSHKEY_NAME\n",
    "openstack keypair list"
   ]
  },
  {
   "cell_type": "markdown",
   "metadata": {},
   "source": [
    "### Request Floating IP\n",
    "\n",
    "By default, the server will only have a private IP assigned (in this case, an IP in the `PRIVATE_NETWORK_NAME` network). In order to connect (using SSH or other protocol) to the server from your desktop or another computer in the internet, you should assign a [public-facing floating IP][1]. There are a limited amount of public IPs available across the entire Chameleon testbed, so try to keep the amount of nodes with a public IP to a minimum! A common practice is to set up one node as a \"login node\" with a public IP, and logging in to that node to manage all of your project's nodes.\n",
    "\n",
    "[1]: https://chameleoncloud.readthedocs.io/en/latest/getting-started/index.html#associating-an-ip-address"
   ]
  },
  {
   "cell_type": "code",
   "execution_count": null,
   "metadata": {},
   "outputs": [],
   "source": [
    "# Request a public floating IP (in the 'public' network)\n",
    "server_ip=$(openstack floating ip create public --format value -c floating_ip_address)\n",
    "echo \"Public IP for this lab is $server_ip\""
   ]
  },
  {
   "cell_type": "markdown",
   "metadata": {},
   "source": [
    "If the previous step was successful, it will print the public IP, `$server_ip`. Later on we will assign `$server_ip` to the right instance.\n",
    "\n",
    "#### Should I have more than one floating (public) IP?\n",
    "The short answer is **no**. Long answer is that \n",
    "\n",
    "1. There are very few times when someone needs more than one public IP as opposite to having one instance you can remote in and then go to others. For instance, you could use port forwarding to access all the instances in your experiment directly.\n",
    "1. There is a finite number if static IPs. By using more than one, someone else may end up with none. This is also the reason why once you finish your lab, you should immediately release the allocated floating IP."
   ]
  },
  {
   "cell_type": "markdown",
   "metadata": {},
   "source": [
    "### Create the required baremetal servers\n",
    "\n",
    "Let's launch a pair of Centos 7 baremetal servers called `$SERVER_NAME-left` and `$SERVER_NAME-right` on network `$PRIVATE_NETWORK_NAME` (identified using `$network_id`) and lease `$LEASE_NAME` (identified using `$lease_id`). Both will be accessible using the ssh keypair `$SSHKEY_NAME` we created earlier."
   ]
  },
  {
   "cell_type": "code",
   "execution_count": null,
   "metadata": {},
   "outputs": [],
   "source": [
    "for i in left right\n",
    "do\n",
    "  openstack server create \\\n",
    "  --flavor \"baremetal\" \\\n",
    "  --image \"CC-CentOS7\" \\\n",
    "  --nic net-id=\"$network_id\" \\\n",
    "  --hint reservation=\"$lease_id\" \\\n",
    "  --key-name=\"$SSHKEY_NAME\" \\\n",
    "  --security-group default  \\\n",
    "  \"$SERVER_NAME-$i\"\n",
    "done"
   ]
  },
  {
   "cell_type": "markdown",
   "metadata": {},
   "source": [
    "**NOTE:** In the above loop, we start both instances almost at the same time, without waiting for one to complete. Sometimes you may want to wait on one instance to be fully deployed before continuing; we leave that as an exercise to you.\n",
    "\n",
    "We could have called the servers `$SERVER_NAME-1`, `$SERVER_NAME-2` and so on or give them more functional names like `$SERVER_NAME-webserver` and `$SERVER_NAME-database`. It all depends on what you want to do with them and how."
   ]
  },
  {
   "cell_type": "markdown",
   "metadata": {},
   "source": [
    "#### But wait! And then wait some more!\n",
    "\n",
    "Creating a server (or node) is not an instantanous process specially if it is a baremetal node. Chameleon has to boot the node, install the OS, move it to the right network, and then it is ready to receive the public IP. All of these steps can take **up to 10 minutes**. If you go back to the previous step you will see a bracket to the left of the line\n",
    "\n",
    "```bash\n",
    "for i in left right\n",
    "```\n",
    "\n",
    "* If it shows an asterisk (`[*]:`), the step is still running\n",
    "* If it shows a number (`[15]:`), the step is complete.\n",
    "\n",
    "Now let's verify that both instances were created properly:"
   ]
  },
  {
   "cell_type": "code",
   "execution_count": null,
   "metadata": {},
   "outputs": [],
   "source": [
    "openstack server list"
   ]
  },
  {
   "cell_type": "markdown",
   "metadata": {},
   "source": [
    "What we want to see is a status of `ACTIVE` as shown below:\n",
    "\n",
    "```bash\n",
    "+--------------------------------------+-----------------------+--------+-------------------------+------------+-----------+\n",
    "| ID                                   | Name                  | Status | Networks                | Image      | Flavor    |\n",
    "+--------------------------------------+-----------------------+--------+-------------------------+------------+-----------+\n",
    "| f1cb353c-705e-4409-8111-08ec6ffe7afe | mtavares-server-right | ACTIVE | sharednet1=10.140.81.84 | CC-CentOS7 | baremetal |\n",
    "| 84430371-73e6-4c0b-9757-efcc85caf0bd | mtavares-server-left  | ACTIVE | sharednet1=10.140.81.66 | CC-CentOS7 | baremetal |\n",
    "+--------------------------------------+---------------------------+--------+-------------------------+------------+-----------+\n",
    "```\n",
    "\n",
    "for both servers; that indicates they were successfully created and are ready for business. Remember: `BUILD != ACTIVE` and `ERROR != ACTIVE`"
   ]
  },
  {
   "cell_type": "markdown",
   "metadata": {},
   "source": [
    "Now we need a public floating IP to `$SERVER_NAME-left`. Either you already have a list of IPs you can use with your project or you will [request an IP][2]. For this example we will do the later. You need to know the name of the public network, which in this case is 'public'.\n",
    "\n",
    "[2]: https://docs.openstack.org/python-openstackclient/latest/cli/command-objects/floating-ip.html#floating-ip-create\n"
   ]
  },
  {
   "cell_type": "code",
   "execution_count": null,
   "metadata": {},
   "outputs": [],
   "source": [
    "# Assign a public floating IP ONLY to $SERVER_NAME-left\n",
    "openstack server add floating ip \"$SERVER_NAME-left\" \"$server_ip\""
   ]
  },
  {
   "cell_type": "markdown",
   "metadata": {},
   "source": [
    "## Access the baremetal server(s)\n",
    "\n",
    "### Testing the ssh connection\n",
    "#### `$SERVER_NAME-left`\n",
    "`$SERVER_NAME-left` now has a publicly facing IP, but can we connect to it?. We will find out using netcat (If you are running this Jupyter book, you have netcat):"
   ]
  },
  {
   "cell_type": "code",
   "execution_count": null,
   "metadata": {},
   "outputs": [],
   "source": [
    "# Check if we can connect to server on port 22.\n",
    "ssh_status=\"\"\n",
    "while [ \"$ssh_status\" != \"Up\" ]\n",
    "do\n",
    "   sleep 30\n",
    "   ssh_status=$(nc -z \"${server_ip}\" 22 && echo \"Up\" || echo \"Down\")\n",
    "done\n",
    "\n",
    "echo \"${SERVER_NAME-left} (${server_ip}) is $ssh_status\""
   ]
  },
  {
   "cell_type": "markdown",
   "metadata": {},
   "source": [
    "The above script will run until it can connect to port 22 (SSH) on `$SERVER_NAME-left` using the public IP. Of course, the answer can be changed so it is is more script-friendly."
   ]
  },
  {
   "cell_type": "markdown",
   "metadata": {},
   "source": [
    "But, all that means is that `$SERVER_NAME-left` has ssh up and running and listening on port 22. We need to ssh using the private key to verify it works. The default username for Chameleon-build images is `cc`. While logged in, might as well take a quick look; remember this server will be wiped once we are done."
   ]
  },
  {
   "cell_type": "code",
   "execution_count": null,
   "metadata": {},
   "outputs": [],
   "source": [
    "login_command=\"ssh -o \\\"StrictHostKeyChecking no\\\" -i $SSHKEY_FILE cc@$server_ip\"\n",
    "eval \"$login_command\" pwd "
   ]
  },
  {
   "cell_type": "markdown",
   "metadata": {},
   "source": [
    "When you see\n",
    "\n",
    "```bash\n",
    "/home/cc\n",
    "``` \n",
    "\n",
    "as the output, you validated that you can not only connect to `$SERVER_NAME-left` but also run commands in it."
   ]
  },
  {
   "cell_type": "markdown",
   "metadata": {},
   "source": [
    "#### `$SERVER_NAME-right`\n",
    "`$SERVER_NAME-right` does **not** have a publicly facing IP, so how to connect to it?. We do the netcat step from `$SERVER_NAME-left`"
   ]
  },
  {
   "cell_type": "code",
   "execution_count": null,
   "metadata": {},
   "outputs": [],
   "source": [
    "server_ip_right=$(openstack server list --format value -c Networks --name \"$SERVER_NAME-right\"| cut -d = -f 2)\n",
    "\n",
    "eval \"$login_command\" /bin/bash << EOF\n",
    "nc -z \"${server_ip_right}\" 22 && echo \"Up\" || echo \"Down\"\n",
    "EOF"
   ]
  },
  {
   "cell_type": "markdown",
   "metadata": {},
   "source": [
    "and then the `pwd` test in `$SERVER_NAME-right`"
   ]
  },
  {
   "cell_type": "code",
   "execution_count": null,
   "metadata": {},
   "outputs": [],
   "source": [
    "login_command_right=\"ssh -o \\\"StrictHostKeyChecking no\\\" -i $SSHKEY_FILE -o ProxyCommand=\\\"ssh -W %h:%p -i $SSHKEY_FILE cc@$server_ip\\\" cc@$server_ip_right\"\n",
    "eval \"$login_command_right\" pwd"
   ]
  },
  {
   "cell_type": "markdown",
   "metadata": {},
   "source": [
    "## Experiment time\n",
    "### Installing iperf\n",
    "We need to install [iperf][1] in both servers. So, `$SERVER_NAME-left`\n",
    "\n",
    "[1]: https://iperf.fr/"
   ]
  },
  {
   "cell_type": "code",
   "execution_count": null,
   "metadata": {},
   "outputs": [],
   "source": [
    "eval \"$login_command\" sudo yum install -q -y iperf3"
   ]
  },
  {
   "cell_type": "markdown",
   "metadata": {},
   "source": [
    "and then on `$SERVER_NAME-right`"
   ]
  },
  {
   "cell_type": "code",
   "execution_count": null,
   "metadata": {},
   "outputs": [],
   "source": [
    "eval \"$login_command_right\" sudo yum install -q -y iperf3"
   ]
  },
  {
   "cell_type": "markdown",
   "metadata": {},
   "source": [
    "Next, we need to configure iperf such that `$SERVER_NAME-right` is the server and `$SERVER_NAME-left` the client. Since we can't do interactive, we will run iperf in `$SERVER_NAME-right` in the background."
   ]
  },
  {
   "cell_type": "code",
   "execution_count": null,
   "metadata": {},
   "outputs": [],
   "source": [
    "eval \"$login_command_right\" -f iperf3 -s"
   ]
  },
  {
   "cell_type": "markdown",
   "metadata": {},
   "source": [
    "So, let's connect from `$SERVER_NAME-left` and run a simple test"
   ]
  },
  {
   "cell_type": "code",
   "execution_count": null,
   "metadata": {},
   "outputs": [],
   "source": [
    "eval \"$login_command\" iperf3 -c $server_ip_right "
   ]
  },
  {
   "cell_type": "markdown",
   "metadata": {},
   "source": [
    "## Cleaning up after ourselves\n",
    "As the last task in this document, tear everything down. We can put it all back together by running this jupyter book again later.\n",
    "\n",
    "1. Delete the public facing IP (so others can use it)"
   ]
  },
  {
   "cell_type": "code",
   "execution_count": null,
   "metadata": {},
   "outputs": [],
   "source": [
    "openstack floating ip delete $server_ip"
   ]
  },
  {
   "cell_type": "markdown",
   "metadata": {},
   "source": [
    "2. Delete servers. This could be done using a loop."
   ]
  },
  {
   "cell_type": "code",
   "execution_count": null,
   "metadata": {},
   "outputs": [],
   "source": [
    "openstack server delete $SERVER_NAME-left && \\\n",
    "openstack server delete $SERVER_NAME-right"
   ]
  },
  {
   "cell_type": "markdown",
   "metadata": {},
   "source": [
    "3. Delete lease"
   ]
  },
  {
   "cell_type": "code",
   "execution_count": null,
   "metadata": {},
   "outputs": [],
   "source": [
    "blazar lease-delete $LEASE_NAME"
   ]
  },
  {
   "cell_type": "markdown",
   "metadata": {},
   "source": [
    "4. Cleaning the Jupyter book. If you want to bring this book back to its original state, go to *Edit->Clear All Outputs*"
   ]
  }
 ],
 "metadata": {
  "kernelspec": {
   "display_name": "Bash",
   "language": "bash",
   "name": "bash"
  },
  "language_info": {
   "codemirror_mode": "shell",
   "file_extension": ".sh",
   "mimetype": "text/x-sh",
   "name": "bash"
  }
 },
 "nbformat": 4,
 "nbformat_minor": 4
}
