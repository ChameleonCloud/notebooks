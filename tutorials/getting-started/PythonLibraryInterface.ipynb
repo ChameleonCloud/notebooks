{
 "cells": [
  {
   "cell_type": "markdown",
   "metadata": {
    "pycharm": {
     "name": "#%% md\n"
    }
   },
   "source": [
    "# Using the Python `chi` library"
   ]
  },
  {
   "cell_type": "markdown",
   "metadata": {
    "pycharm": {
     "name": "#%% md\n"
    }
   },
   "source": [
    "## Getting started\n",
    "\n",
    "Before you do anything, you should first set up a few project variables. This is so your script knows which project to operate on. If you are only a member of one project, you can skip this step, as the project will be selected for you by default. You can also set the site you want to use via the `region_name` setting - this defaults to `CHI@UC`."
   ]
  },
  {
   "cell_type": "code",
   "execution_count": null,
   "outputs": [],
   "source": [
    "import chi\n",
    "\n",
    "chi.set('project_name', 'chameleon')    # Replace with your project name\n",
    "chi.set('region_name', 'CHI@UC')        # Optional, defaults to 'CHI@UC'\n",
    "chi.use_site('CHI@UC')                  # Authenticate to the CHI@UC site"
   ],
   "metadata": {
    "collapsed": false,
    "pycharm": {
     "name": "#%%\n"
    }
   }
  },
  {
   "cell_type": "markdown",
   "source": [
    "## Launching a baremetal server\n",
    "\n",
    "Starting a new baremetal server is easy to do."
   ],
   "metadata": {
    "collapsed": false,
    "pycharm": {
     "name": "#%% md\n"
    }
   }
  },
  {
   "cell_type": "code",
   "execution_count": null,
   "outputs": [],
   "source": [
    "import chi.lease\n",
    "import chi.server\n",
    "\n",
    "# Create a reservation for 1 node\n",
    "reservations = []\n",
    "chi.lease.add_node_reservation(reservations, node_type='compute_skylake')\n",
    "\n",
    "# Create a lease for 1 node\n",
    "lease = chi.lease.create_lease(\"getting-started-lease\", reservations=reservations)\n",
    "lease\n",
    "chi.lease.wait_for_active(lease['id'])  # Ensure lease has started\n",
    "\n",
    "# Launch 1 server\n",
    "reservation_id = chi.lease.get_node_reservation(lease['id'])\n",
    "server = chi.server.create_server(\"getting-started-instance\", reservation_id, image_name='CC-Ubuntu20.04')\n",
    "server = chi.server.wait_for_active(server.id)  # Ensure server has started\n",
    "server"
   ],
   "metadata": {
    "collapsed": false,
    "pycharm": {
     "name": "#%%\n"
    }
   }
  },
  {
   "cell_type": "markdown",
   "source": [
    "## Connecting to your server\n",
    "\n",
    "By default, the server will only have a private IP assigned. In order to SSH to the server, you should assign a public floating IP. There are are limited amount of public IPs available across the entire Chameleon testbed, so try to keep the amount of nodes with a public IP to a minimum! A common practice is to set up one node as a \"login node\" with a public IP, and logging in to that node to manage all of your project's nodes.\n",
    "\n",
    "Once a public IP is assigned, you can set up a remote connection to the node."
   ],
   "metadata": {
    "collapsed": false,
    "pycharm": {
     "name": "#%% md\n"
    }
   }
  },
  {
   "cell_type": "code",
   "execution_count": null,
   "outputs": [],
   "source": [
    "from chi.ssh import Remote\n",
    "\n",
    "# Assign a public floating IP\n",
    "ip = chi.server.associate_floating_ip(server.id)\n",
    "\n",
    "# Create a remote connection\n",
    "remote = Remote(ip)"
   ],
   "metadata": {
    "collapsed": false,
    "pycharm": {
     "name": "#%%\n"
    }
   }
  },
  {
   "cell_type": "markdown",
   "source": [
    "You can use `remote.run` to run commands on the server directly from your Notebook.\n",
    "A similar command is `remote.sudo`, which runs a command with escalated privileges."
   ],
   "metadata": {
    "collapsed": false,
    "pycharm": {
     "name": "#%% md\n"
    }
   }
  },
  {
   "cell_type": "markdown",
   "source": [
    "### Example command: get CPU usage"
   ],
   "metadata": {
    "collapsed": false,
    "pycharm": {
     "name": "#%% md\n"
    }
   }
  },
  {
   "cell_type": "code",
   "execution_count": null,
   "outputs": [],
   "source": [
    "# Run some commands on your remote server\n",
    "cpu_usage = remote.run(\"grep 'cpu ' /proc/stat | awk '{usage=($2+$4)*100/($2+$4+$5)} END {print usage}'\", hide=True)\n",
    "\n",
    "print('Current CPU usage is {}%'.format(float(cpu_usage.stdout)))"
   ],
   "metadata": {
    "collapsed": false,
    "pycharm": {
     "name": "#%%\n"
    }
   }
  }
 ],
 "metadata": {
  "kernelspec": {
   "display_name": "Python 3 (ipykernel)",
   "language": "python",
   "name": "python3"
  },
  "language_info": {
   "codemirror_mode": {
    "name": "ipython",
    "version": 3
   },
   "file_extension": ".py",
   "mimetype": "text/x-python",
   "name": "python",
   "nbconvert_exporter": "python",
   "pygments_lexer": "ipython3",
   "version": "3.9.7"
  }
 },
 "nbformat": 4,
 "nbformat_minor": 4
}