{
 "cells": [
  {
   "cell_type": "markdown",
   "metadata": {},
   "source": [
    "# Shared File System\n",
    "\n",
    "- **Estimated time**: 30 minutes\n",
    "- **Requirements**:\n",
    "\n",
    "In this tutorial we'll learn how to use the shared file system. For other data management strategies, see [Data management in the Chameleon Cloud](https://github.com/ChameleonCloud/notebooks/blob/master/tutorials/getting-started/DataManagement.ipynb).\n",
    "\n",
    "## Tutorial\n",
    "\n",
    "1. [Create a share](#Step-1:-Create-a-share)\n",
    "1. [Reserve resources](#Step-2:-Reserve-resources)\n",
    "1. [Start a server](#Step-3:-Start-a-server)\n",
    "1. [Talk to the server](#Step-4:-Talk-to-the-server)\n",
    "1. [View share and check access rules](#Step-5:-View-share-and-check-access-rules)\n",
    "1. [Mount the share](#Step-6:-Mount-the-share)\n",
    "1. [Clean up](#Step-7:-Clean-up)\n",
    "\n",
    "### Getting started\n",
    "\n",
    "Before you do anything, you should first set up a few variables."
   ]
  },
  {
   "cell_type": "code",
   "execution_count": null,
   "metadata": {},
   "outputs": [],
   "source": [
    "import chi\n",
    "\n",
    "project_name = \"chameleon\" # Replace with your project name\n",
    "region_name = \"CHI@UC\"     # Replace site if not use CHI@UC\n",
    "\n",
    "chi.set('project_name', project_name)\n",
    "chi.set('region_name', region_name)\n",
    "chi.use_site(region_name)\n",
    "\n",
    "NAME = \"chi-share-tutorial\" # a name for all openstack components"
   ]
  },
  {
   "cell_type": "markdown",
   "metadata": {},
   "source": [
    "## Step 1: Create a share\n",
    "\n",
    "In this step, you will create a 1 GiB share. A share is a pre-allocated storage space at a CephFS.\n",
    "\n",
    "**Note**: We do not charge SUs for the storage spaces of your shares. However, we do limit the total size and the number of shares you can create within your project. The maximum number of shares is 10 and the maximum size allowed for all shares in a project is 2000 GiB."
   ]
  },
  {
   "cell_type": "code",
   "execution_count": null,
   "metadata": {},
   "outputs": [],
   "source": [
    "import chi.share\n",
    "\n",
    "my_share = chi.share.create_share(size=1, name=NAME)\n",
    "my_share"
   ]
  },
  {
   "cell_type": "markdown",
   "metadata": {},
   "source": [
    "## Step 2: Reserve resources\n",
    "\n",
    "To provide isolation among shares created by different projects, accessing a share requires a storage network, which are special networks you can reserve to use.\n",
    "\n",
    "In this tutorial, you will need 1 bare metal node, 1 storage network, and 1 floating IP."
   ]
  },
  {
   "cell_type": "code",
   "execution_count": null,
   "metadata": {},
   "outputs": [],
   "source": [
    "import chi.lease\n",
    "\n",
    "# Create reservations for 1 node, 1 storage network, and 1 floating IP\n",
    "reservations = []\n",
    "chi.lease.add_node_reservation(reservations, node_type='compute_cascadelake_r')\n",
    "chi.lease.add_network_reservation(reservations, network_name=NAME, resource_properties=[\"==\", \"$usage_type\", \"storage\"])\n",
    "chi.lease.add_fip_reservation(reservations, count=1)\n",
    "\n",
    "# Create a lease\n",
    "lease = chi.lease.create_lease(NAME, reservations=reservations)\n",
    "lease\n",
    "chi.lease.wait_for_active(lease['id'])  # Ensure lease has started"
   ]
  },
  {
   "cell_type": "markdown",
   "metadata": {},
   "source": [
    "## Step 3: Start a server\n",
    "\n",
    "In this step, you will launch a server on the reserved storage network."
   ]
  },
  {
   "cell_type": "code",
   "execution_count": null,
   "metadata": {},
   "outputs": [],
   "source": [
    "import chi.server\n",
    "\n",
    "# Create a server\n",
    "compute_reservation_id = [reservation for reservation in lease['reservations'] if reservation['resource_type'] == 'physical:host'][0]['id']\n",
    "server = chi.server.create_server(NAME, \n",
    "                                  reservation_id=compute_reservation_id, \n",
    "                                  network_name=NAME, \n",
    "                                  image_name='CC-Ubuntu20.04')\n",
    "# Wait until the server is active\n",
    "chi.server.wait_for_active(server.id)"
   ]
  },
  {
   "cell_type": "markdown",
   "metadata": {},
   "source": [
    "## Step 4: Talk to the server\n",
    "\n",
    "To attach floating IP to your instance created on a storage network, you need to create a router with `public` external network. Then connect the storage subnet to the router. You must specify an unused IP address which belongs to the selected subnet."
   ]
  },
  {
   "cell_type": "code",
   "execution_count": null,
   "metadata": {},
   "outputs": [],
   "source": [
    "import chi.lease\n",
    "import chi.network\n",
    "import chi.server\n",
    "from chi.ssh import Remote\n",
    "\n",
    "# Get storage network id\n",
    "network = chi.network.get_network(NAME)\n",
    "network_id = network['id']\n",
    "\n",
    "# Get an unused IP address on the storage subnet and create a port\n",
    "subnet_id = chi.network.get_subnet_id(NAME + '-subnet')\n",
    "port = chi.network.create_port(NAME, network_id, subnet_id=subnet_id)\n",
    "\n",
    "# Create a router with public external network\n",
    "router = chi.network.create_router(NAME, gw_network_name='public')\n",
    "\n",
    "# Added port to router\n",
    "chi.network.add_port_to_router_by_name(NAME, NAME)\n",
    "\n",
    "# Attach reserved floating IP\n",
    "floating_ip_address = chi.lease.get_reserved_floating_ips(lease['id'])\n",
    "floating_ip = chi.server.associate_floating_ip(server.id, floating_ip_address=floating_ip_address[0])\n",
    "chi.server.wait_for_tcp(floating_ip, 22)\n",
    "\n",
    "# Create a remote connection\n",
    "remote = Remote(floating_ip)"
   ]
  },
  {
   "cell_type": "markdown",
   "metadata": {},
   "source": [
    "## Step 5: View share and check access rules\n",
    "\n",
    "The paths of the export locations are important as you will use this path to mount your share to your bare metal instance. Also, the accessibility of the shares are controlled internally by the reservation service. You need to check if the access rules are granted to the share."
   ]
  },
  {
   "cell_type": "code",
   "execution_count": null,
   "metadata": {},
   "outputs": [],
   "source": [
    "import chi.network\n",
    "import chi.share\n",
    "\n",
    "share = chi.share.get_share(my_share.id)\n",
    "\n",
    "# Get export path\n",
    "export_path = share.export_locations[0]\n",
    "\n",
    "# Get and check access rules\n",
    "subnet = chi.network.get_subnet(NAME + '-subnet')\n",
    "access_rules = chi.share.get_access_rules(share.id)\n",
    "access_rule_found = False\n",
    "for rule in access_rules:\n",
    "    if rule.state == \"active\" and rule.access_to == subnet['cidr'] and rule.access_level == \"rw\":\n",
    "        access_rule_found = True\n",
    "        print(\"Access rule has been added successfully!\")\n",
    "        break\n",
    "if not access_rule_found:\n",
    "    print(\"Failed to find the access rule!\")"
   ]
  },
  {
   "cell_type": "markdown",
   "metadata": {},
   "source": [
    "## Step 6: Mount the share\n",
    "\n",
    "Mounting your share to your instance is simple with the `mount` command."
   ]
  },
  {
   "cell_type": "code",
   "execution_count": null,
   "metadata": {},
   "outputs": [],
   "source": [
    "from chi.ssh import Remote\n",
    "\n",
    "mnt_dir = \"/mnt\"\n",
    "\n",
    "# Mount to mnt_dir \n",
    "remote.sudo(f\"mount -t nfs -o nfsvers=4.2,proto=tcp {export_path} {mnt_dir}\", hide=True)\n",
    "\n",
    "# Add a file to share\n",
    "remote.sudo(f\"bash -c 'echo \\\"this is my test file\\\" > {mnt_dir}/mytext.txt'\", hide=True)\n",
    "\n",
    "# List mnt_dir\n",
    "list_files = remote.sudo(f\"ls -la {mnt_dir}\", hide=True)\n",
    "print(list_files.stdout)\n",
    "\n",
    "# Unmount\n",
    "remote.sudo(f\"umount {mnt_dir}\", hide=True)"
   ]
  },
  {
   "cell_type": "markdown",
   "metadata": {},
   "source": [
    "## Step 7: Clean up\n",
    "\n",
    "Clean up everything created in this tutorial."
   ]
  },
  {
   "cell_type": "code",
   "execution_count": null,
   "metadata": {},
   "outputs": [],
   "source": [
    "import chi.lease\n",
    "import chi.network\n",
    "import chi.share\n",
    "\n",
    "# Delete lease\n",
    "chi.lease.delete_lease(lease['id'])\n",
    "\n",
    "# Delete router to public\n",
    "chi.network.delete_router(router['id'])\n",
    "\n",
    "# Delete share\n",
    "chi.share.delete_share(share.id)"
   ]
  },
  {
   "cell_type": "markdown",
   "metadata": {},
   "source": [
    "## Recap\n",
    "\n",
    "You should know how to create a share and access your share using storage network. You should also learn how to mount a share to your instance. Finally, you should have gained some familiarity with the `python-chi` library.\n",
    "\n",
    "### Further reading\n",
    "\n",
    "- [Chameleon user documentation](https://chameleoncloud.readthedocs.io/en/latest/technical/shares.html)\n",
    "- [python-chi](https://python-chi.readthedocs.io/)\n"
   ]
  }
 ],
 "metadata": {
  "kernelspec": {
   "display_name": "Python 3 (ipykernel)",
   "language": "python",
   "name": "python3"
  },
  "language_info": {
   "codemirror_mode": {
    "name": "ipython",
    "version": 3
   },
   "file_extension": ".py",
   "mimetype": "text/x-python",
   "name": "python",
   "nbconvert_exporter": "python",
   "pygments_lexer": "ipython3",
   "version": "3.9.7"
  }
 },
 "nbformat": 4,
 "nbformat_minor": 4
}
