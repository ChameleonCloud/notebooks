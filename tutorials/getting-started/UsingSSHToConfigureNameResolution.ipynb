{
 "cells": [
  {
   "cell_type": "markdown",
   "metadata": {},
   "source": [
    "# Using SSH to Configure Host Name Resolution using /etc/hosts  \n",
    "\n",
    "## Overview:\n",
    "\n",
    "This example will guide you through creating /etc/hosts for a set of nodes \n",
    "\n",
    "## Prerequisites:\n",
    "\n",
    "This tutorial assumes you have a Chameleon account and basic experience using the Chameleon CLI. Some experience using Jupyter Notebooks is also recommended.\n",
    "\n",
    "Additional information:\n",
    "\n",
    "- Getting started tutorial: https://chameleoncloud.readthedocs.io/en/latest/getting-started/index.html\n",
    "- Setting up the CLI: https://chameleoncloud.readthedocs.io/en/latest/technical/cli.html\n",
    "\n",
    "#### Setup Environment:\n",
    "We are going to create a private network from scratch with 3 hosts: a server and two clients."
   ]
  },
  {
   "cell_type": "code",
   "execution_count": null,
   "metadata": {},
   "outputs": [],
   "source": [
    "# Set up user's project (user's can be multiple ones, so there is no default currently)\n",
    "export OS_PROJECT_NAME='CH-816532'\n",
    "\n",
    "# Set region (again, no default currently)\n",
    "export OS_REGION_NAME='CHI@UC'\n",
    "\n",
    "# Set the reservation\n",
    "export RESERVATION_NAME='ConfigureEtcHosts'\n",
    "\n",
    "# Set your chameleon keypair name and path to the private ssh key.\n",
    "# You may need to ensure that the matching private key is in your jupyter notebook.\n",
    "export SSH_KEY_NAME=${USERNAME}-jupyter\n",
    "export SSH_PRIVATE_KEY=${HOME}/work/.ssh/${SSH_KEY_NAME}\n",
    "\n",
    "## Network Information\n",
    "# Set the names for the network, subnet, router, and switch. \n",
    "export NETWORK_NAME=\"myNetwork\"\n",
    "export SUBNET_NAME=\"mySubnet\"\n",
    "export ROUTER_NAME=\"myRouter\"\n",
    "\n",
    "# Set the subnet\n",
    "export NETWORK_SUBNET_CIDR=\"192.168.100.0/24\"\n",
    "\n",
    "## Server information\n",
    "export SERVER_NAME='myServer'\n",
    "# Server's fixed IP inside our private network \n",
    "export SERVER_IP='192.168.100.10'\n",
    "\n",
    "## Client information\n",
    "export CLIENT_NAME='myClient'\n",
    "#Set the number of clients to create. \n",
    "# First client will be called $CLIENT_NAME-1\n",
    "# Last client will be called $CLIENT_NAME-$CLIENT_COUNT\n",
    "export CLIENT_COUNT=2\n",
    "# Client's private network IPs will be automatically generated (think DHCP)\n",
    "\n",
    "# Add Chameleon custom blazar client\n",
    "#sudo pip install -e git+https://github.com/ChameleonCloud/python-blazarclient.git@allocatable-vlans#egg=python-blazarclient\n"
   ]
  },
  {
   "cell_type": "markdown",
   "metadata": {},
   "source": [
    "#### Make SSH keypair available in openstack\n",
    "Before we create servers and reservations and networks, we do need to have the ssh keypair we want to use in openstack. So we ask openstack"
   ]
  },
  {
   "cell_type": "code",
   "execution_count": null,
   "metadata": {},
   "outputs": [],
   "source": [
    "openstack keypair list"
   ]
  },
  {
   "cell_type": "markdown",
   "metadata": {},
   "source": [
    "and look for the key whose name matches `$SSH_KEY_NAME` as defined above. If it is not there, you need to first create the keypair.\n",
    "\n",
    "#### What if I already have a keypair I want to use in openstack?\n",
    "\n",
    "Then skip the next steps and go straight to Create Reservations.\n",
    "\n",
    "Next is to add it to the list of keypairs openstack know to be associated with your account. In reality it is just uploading the public key, which is what you really need to ssh into a host. As with the lease, we do need a [name][2] associated with this key pair:\n",
    "\n",
    "[2]:https://docs.openstack.org/python-openstackclient/latest/cli/command-objects/keypair.html"
   ]
  },
  {
   "cell_type": "code",
   "execution_count": null,
   "metadata": {},
   "outputs": [],
   "source": [
    "openstack keypair create --public-key $SSH_PRIVATE_KEY.pub  $SSH_KEY_NAME\n",
    "openstack keypair list"
   ]
  },
  {
   "cell_type": "markdown",
   "metadata": {},
   "source": [
    "#### Create Reservations\n",
    "\n",
    "This lease includes three reservations.  One reservation for Haswell compute nodes. One reservation for a public floating IP address. One reservation for an isolated network. "
   ]
  },
  {
   "cell_type": "code",
   "execution_count": null,
   "metadata": {},
   "outputs": [],
   "source": [
    "START_DATE=`date -d \"+2 min\" +'%F %H:%M'`\n",
    "END_DATE=`date -d \"+1 day\" +'%F %H:%M'`\n",
    "\n",
    "PUBLIC_NETWORK_ID=$(openstack network show public -c id -f value)\n",
    "\n",
    "echo Creating network ${NETWORK_NAME}\n",
    "blazar lease-create \\\n",
    "   --physical-reservation min=$((CLIENT_COUNT + 1 )),max=$((CLIENT_COUNT +1)),resource_properties='[\"=\", \"$node_type\", \"compute_haswell\"]' \\\n",
    "   --reservation resource_type=virtual:floatingip,network_id=${PUBLIC_NETWORK_ID},amount=1 \\\n",
    "   --reservation resource_type=\"network\",network_name=\"${NETWORK_NAME}\",resource_properties='[\"==\",\"$physical_network\",\"physnet1\"]' \\\n",
    "   --start-date \"${START_DATE}\" \\\n",
    "   --end-date \"${END_DATE}\" \\\n",
    "   ${RESERVATION_NAME}\n",
    "\n",
    "RESERVATION=`blazar lease-show --format value -c id ${RESERVATION_NAME}`\n",
    "echo RESERVATION $RESERVATION\n",
    "\n",
    "NODE_RESERVATION=`blazar lease-show -json --format value -c reservations ${RESERVATION_NAME} | jq -r 'select(.resource_type | contains(\"physical:host\")) | .id'`\n",
    "echo NODE_RESERVATION $NODE_RESERVATION"
   ]
  },
  {
   "cell_type": "markdown",
   "metadata": {},
   "source": [
    "#### Verify if lease has been created.\n",
    "Do not continue until `blazar lease-show` below replies with an `ACTIVE` status:"
   ]
  },
  {
   "cell_type": "code",
   "execution_count": null,
   "metadata": {},
   "outputs": [],
   "source": [
    "blazar lease-show --format value -c status \"${RESERVATION_NAME}\""
   ]
  },
  {
   "cell_type": "markdown",
   "metadata": {},
   "source": [
    "#### Finish Creating Network:\n",
    "\n",
    "An isolated network requires a subnet, router, and external gateway."
   ]
  },
  {
   "cell_type": "code",
   "execution_count": null,
   "metadata": {},
   "outputs": [],
   "source": [
    "echo Creating Subnet\n",
    "openstack subnet create --max-width 80 \\\n",
    "                        --subnet-range ${NETWORK_SUBNET_CIDR} \\\n",
    "                        --dhcp \\\n",
    "                        --network ${NETWORK_NAME} \\\n",
    "                        ${SUBNET_NAME}\n",
    "                        \n",
    "echo Creating Router\n",
    "openstack router create --max-width 80 ${ROUTER_NAME}\n",
    "\n",
    "echo Linking router to subnet\n",
    "openstack router add subnet ${ROUTER_NAME} ${SUBNET_NAME}\n",
    "\n",
    "echo Linking router to external gateway\n",
    "openstack router set --external-gateway public ${ROUTER_NAME}\n",
    "\n",
    "echo Network ${NETWORK_NAME} is ready for nodes!"
   ]
  },
  {
   "cell_type": "markdown",
   "metadata": {},
   "source": [
    "#### Create a Server\n",
    "\n",
    "This server `${SERVER_NAME}` will be created in the background and use `$SERVER_IP` as its private IP. Remember it will still take around 10 minutes to be ready for business. However, since we are creating this server in the background we can do something else in the meantime."
   ]
  },
  {
   "cell_type": "code",
   "execution_count": null,
   "metadata": {},
   "outputs": [],
   "source": [
    "echo Creating Server with fixed IP ${SERVER_IP}\n",
    "openstack server create --max-width 80 \\\n",
    "                        --flavor \"baremetal\" \\\n",
    "                        --image \"CC-CentOS7\" \\\n",
    "                        --key-name ${SSH_KEY_NAME} \\\n",
    "                        --hint reservation=${NODE_RESERVATION} \\\n",
    "                        --security-group default  \\\n",
    "                        --nic net-id=${NETWORK_NAME},v4-fixed-ip=${SERVER_IP} \\\n",
    "                        ${SERVER_NAME}\n",
    "                        "
   ]
  },
  {
   "cell_type": "markdown",
   "metadata": {},
   "source": [
    "#### Add a Floating IP to the Server"
   ]
  },
  {
   "cell_type": "code",
   "execution_count": null,
   "metadata": {},
   "outputs": [],
   "source": [
    "FLOATING_IP=`lease_list_floating_ips $RESERVATION`\n",
    "echo FLOATING_IP $FLOATING_IP \n",
    "# Associate floating IP to server $SERVER_NAME\n",
    "openstack server add floating ip $SERVER_NAME $FLOATING_IP "
   ]
  },
  {
   "cell_type": "markdown",
   "metadata": {},
   "source": [
    "#### Create Clients\n",
    "\n",
    "`${CLIENT_NAME}-1` and `${CLIENT_NAME}-2` will be assigned arbitrary private IPs (DHCP) from the subnet. "
   ]
  },
  {
   "cell_type": "code",
   "execution_count": null,
   "metadata": {},
   "outputs": [],
   "source": [
    "echo Creating Clients with auto assigned fixed IPs \n",
    "openstack server create --max-width 80 \\\n",
    "                        --flavor \"baremetal\" \\\n",
    "                        --image \"CC-CentOS7\" \\\n",
    "                        --key-name ${SSH_KEY_NAME} \\\n",
    "                        --hint reservation=${NODE_RESERVATION} \\\n",
    "                        --security-group default  \\\n",
    "                        --nic net-id=${NETWORK_NAME} \\\n",
    "                        --min ${CLIENT_COUNT} \\\n",
    "                        --max ${CLIENT_COUNT} \\\n",
    "                        ${CLIENT_NAME}\n",
    "                        "
   ]
  },
  {
   "cell_type": "markdown",
   "metadata": {},
   "source": [
    "**Wait for the nodes to become active!** That means running"
   ]
  },
  {
   "cell_type": "code",
   "execution_count": null,
   "metadata": {},
   "outputs": [],
   "source": [
    "openstack server list"
   ]
  },
  {
   "cell_type": "markdown",
   "metadata": {},
   "source": [
    "until `${SERVER_NAME}`, `${CLIENT_NAME}-1`, and `${CLIENT_NAME}-2` have `Status = ACTIVE`. Only then proceed to the next step. This will take a while and `Status = BUILD` is not good enough.\n",
    "\n",
    "#### Get the fixed IPs of the nodes\n",
    "\n",
    "Example code that will fetch the fixed and floating IPs of the `${SERVER_NAME}`. Only the floating IP is needed in the remaining steps. "
   ]
  },
  {
   "cell_type": "code",
   "execution_count": null,
   "metadata": {},
   "outputs": [],
   "source": [
    "#Get the Server IPs\n",
    "\n",
    "SERVER_FIXED_IP=`openstack server show --format value -c addresses ${SERVER_NAME} | tr -d ' ' | cut -d \"=\" -f 2 | cut -d \",\" -f 1`\n",
    "SERVER_FLOATING_IP=`openstack server show --format value -c addresses ${SERVER_NAME} | tr -d ' ' | cut -d \"=\" -f 2 | cut -d \",\" -f 2`\n",
    "\n",
    "echo $SERVER_NAME Fixed IP $SERVER_FIXED_IP\n",
    "echo $SERVER_NAME Floating IP $SERVER_FLOATING_IP"
   ]
  },
  {
   "cell_type": "markdown",
   "metadata": {},
   "source": [
    "#### Build a file that will be appended to all /etc/hosts files\n",
    "\n",
    "The hosts file will be saved in the Jupyter notebook container and copied to the server and clients in later steps."
   ]
  },
  {
   "cell_type": "code",
   "execution_count": null,
   "metadata": {},
   "outputs": [],
   "source": [
    "TEMP_HOST_FILE='hostfile.tmp'\n",
    "echo > $TEMP_HOST_FILE\n",
    "#Create a string to append to the /etc/host files\n",
    "echo ${SERVER_IP} ${SERVER_NAME} >> $TEMP_HOST_FILE\n",
    "\n",
    "CLIENT_NAME='myClient'\n",
    "for i in $(seq 1 ${CLIENT_COUNT}); do\n",
    "  NODE_NAME=${CLIENT_NAME}'-'${i}\n",
    "  NODE_IP=`openstack server show --format value -c addresses ${NODE_NAME} | tr -d ' ' | cut -d \"=\" -f 2 | cut -d \",\" -f 1`\n",
    "  echo $NODE_IP $NODE_NAME >> $TEMP_HOST_FILE\n",
    "done\n",
    "cat $TEMP_HOST_FILE"
   ]
  },
  {
   "cell_type": "markdown",
   "metadata": {},
   "source": [
    "#### Copy the hosts to file all nodes\n",
    "\n",
    "We will use the public IP off the server to access all nodes. We will hop from the server to each client using ssh forwarding.\n",
    "\n",
    "##### Start an ssh-agent and add your private key.\n",
    "\n",
    "This is necessary so you can configure all nodes with only one floating IP address. You will need to hop from your server to each client using ssh."
   ]
  },
  {
   "cell_type": "code",
   "execution_count": null,
   "metadata": {},
   "outputs": [],
   "source": [
    "#Start the ssh forwarding agent and add your private key\n",
    "ssh-agent\n",
    "ssh-add $SSH_PRIVATE_KEY"
   ]
  },
  {
   "cell_type": "markdown",
   "metadata": {},
   "source": [
    "Use scp to transfer the hosts file to the server and then copy the file to /etc/hosts."
   ]
  },
  {
   "cell_type": "code",
   "execution_count": null,
   "metadata": {},
   "outputs": [],
   "source": [
    "#Copy the host file to the server\n",
    "scp -o \"UserKnownHostsFile=/dev/null\" \\\n",
    "    -o \"StrictHostKeyChecking=no\" \\\n",
    "    -i $SSH_PRIVATE_KEY \\\n",
    "    $TEMP_HOST_FILE cc@${SERVER_FLOATING_IP}:.\n",
    "\n",
    "#Append the file to the server /etc/host file\n",
    "ssh -t \\\n",
    "    -o \"UserKnownHostsFile=/dev/null\" \\\n",
    "    -o \"StrictHostKeyChecking=no\" \\\n",
    "    -i $SSH_PRIVATE_KEY \\\n",
    "    cc@${SERVER_FLOATING_IP} \\\n",
    "    \"sudo sh -c 'cat $TEMP_HOST_FILE >> /etc/hosts'\""
   ]
  },
  {
   "cell_type": "markdown",
   "metadata": {},
   "source": [
    "Hop through the server and transfer the host file from the server to each of the clients.  Then copy the host file to /etc/hosts on each client."
   ]
  },
  {
   "cell_type": "code",
   "execution_count": null,
   "metadata": {},
   "outputs": [],
   "source": [
    "#For each client, copy the host file from the server to the client and configure the /etc/hosts file\n",
    "for i in $(seq 1 ${CLIENT_COUNT}); do\n",
    "  NODE_NAME=${CLIENT_NAME}'-'${i}\n",
    "  NODE_IP=`openstack server show --format value -c addresses ${NODE_NAME} | tr -d ' ' | cut -d \"=\" -f 2 | cut -d \",\" -f 1`\n",
    "  echo $NODE_IP $NODE_NAME \n",
    "  \n",
    "  #Copy the file from the server to the client\n",
    "  ssh -A \\\n",
    "      -o \"UserKnownHostsFile=/dev/null\" \\\n",
    "      -o \"StrictHostKeyChecking=no\" \\\n",
    "      -i $SSH_PRIVATE_KEY \\\n",
    "      cc@${SERVER_FLOATING_IP} \\\n",
    "      \"scp -o \\\"UserKnownHostsFile=/dev/null\\\" -o \\\"StrictHostKeyChecking=no\\\" $TEMP_HOST_FILE cc@${NODE_IP}:.\"\n",
    "  \n",
    "  #Append the file to the /etc/hosts file on the client\n",
    "  ssh -A \\\n",
    "      -o \"UserKnownHostsFile=/dev/null\" \\\n",
    "      -o \"StrictHostKeyChecking=no\" \\\n",
    "      -i $SSH_PRIVATE_KEY \\\n",
    "      cc@${SERVER_FLOATING_IP} \\\n",
    "      \"ssh -o \\\"UserKnownHostsFile=/dev/null\\\" -o \\\"StrictHostKeyChecking=no\\\"  cc@${NODE_IP} \\\"sudo sh -c 'cat $TEMP_HOST_FILE >> /etc/hosts'\\\"\"\n",
    "\n",
    "done\n"
   ]
  },
  {
   "cell_type": "markdown",
   "metadata": {},
   "source": [
    "At this point you have configured all of your hosts to have the same /etc/hosts file.  You can now reference all of your hosts using their names from within any of the hosts. "
   ]
  },
  {
   "cell_type": "markdown",
   "metadata": {},
   "source": [
    "#### Tear everything down\n",
    "The tear down order is\n",
    "1. Floating IP\n",
    "1. Instances\n",
    "1. Lease\n",
    "\n",
    "Details on how to do each step are presented in the *Jupyter Orchestration* notebook.\n"
   ]
  }
 ],
 "metadata": {
  "kernelspec": {
   "display_name": "Bash",
   "language": "bash",
   "name": "bash"
  },
  "language_info": {
   "codemirror_mode": "shell",
   "file_extension": ".sh",
   "mimetype": "text/x-sh",
   "name": "bash"
  }
 },
 "nbformat": 4,
 "nbformat_minor": 4
}
