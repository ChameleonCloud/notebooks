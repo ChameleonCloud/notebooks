{
 "cells": [
  {
   "cell_type": "markdown",
   "metadata": {},
   "source": [
    "<img src=\"Tutorial-DirectStitch-figs/Chameleon-FullColor-lg_4CCULFA.jpg\" width=\"90%\">\n",
    "\n",
    "\n",
    "\n",
    "# Tutorial Using BYOC OpenFlow Networks on Chameleon\n",
    "\n",
    "- **Estimated time**: ?? minutes\n",
    "- **Requirements**:\n",
    "\n",
    "     - This tutorial assumes you have a Chameleon account and basic experience logging into and using Chameleon (see: https://chameleoncloud.readthedocs.io/en/latest/getting-started/index.html)\n",
    "     - Understanding of Chameleon networks and isolated VLANs. (see: https://chameleoncloud.readthedocs.io/en/latest/technical/networks.html)\n",
    "     - Basic understanding of the CLI (see https://chameleoncloud.readthedocs.io/en/latest/technical/cli.html)\n",
    "\n",
    "The Chameleon Bring-Your-Own-Controller (BYOC) capability enables user controlled OpenFlow experiments. BYOC users are able to access isolated OpenFlow switches connected to their own bare metal Chameleon nodes.\n",
    "\n",
    "During this tutorial we will:\n",
    "\n",
    "This tutorial will guide you through setting up bring-your-own-controller (BYOC) OpenFlow networks.\n",
    "\n",
    "\n",
    "- Step 1. Create an OpenFlow controller on Chameleon\n",
    "- Step 2. Create an OpenFlow network on Chameleon\n",
    "- Step 3. Connect Chameleon nodes to the OpenFlow netork.\n",
    "- Step 4. Observe/modify the OpenFlow controller connected to the network.\n",
    "\n",
    "This tutorial assumes you have a Chameleon account and basic experience logging into and using Chameleon and basic use of Chameleon networks and isolated VLANs. \n",
    "\n",
    "Additional information:\n",
    "\n",
    "- Getting started tutorial: https://chameleoncloud.readthedocs.io/en/latest/getting-started/index.html\n",
    "- Networks and Isolated VLANs:  https://chameleoncloud.readthedocs.io/en/latest/technical/networks.html\n",
    "- Setting up the CLI: https://chameleoncloud.readthedocs.io/en/latest/technical/cli.html\n",
    "\n",
    "# Background: \n",
    "\n",
    "Chameleon is composed of two OpenStack sites with deeply programmable compute, storage, and networking infrastructure. This tutorial focuses on advanced networking features including Bring-your-own-controller (BYOC) software defined networking (SDN). \n",
    "\n",
    "### Basic Chameleon Networking\n",
    "\n",
    "Each of the two Chameleon sites is includes 100 Gbps uplink connectivity to shared core network that can be used to connect Chameleon nodes to core services, other Chameleon nodes, and even external facilities including GENI.  By default, each Chameleon node can access the public Internet through the core network. Advanced experiments can allocate tenant controlled SDN networks and isolated layer2 circuits across the core to connect Chameleon nodes and external facilities. \n",
    "\n",
    "### Software Defined Networking on Chameleon\n",
    "\n",
    "Chameleon’s Bring Your Own Controller (BYOC) functionality enables tenants to create isolated network switches managed using OpenFlow controllers provided by the user. This feature is targeted at users wishing to experiment with software-defined networking (SDN) as well as users with experiments that have non-standard networking requirements. \n",
    "\n",
    "OpenFlow switches, like traditional switches, forward network traffic between a number of ports used to connect other networks and devices. The primary difference is that OpenFlow switches rely on external software (a “controller”) to dynamically manage the rules (or “flows”) that determine how and where the traffic is forwarded. In addition, OpenFlow enables a much larger set of possible rules which can be imposed on the traffic.\n",
    "\n",
    "The basic requirements of an OpenFlow network are the switch and the controller. The switch is configured with the IP address and port of a controller (software) that manages the switch’s rules. When a packet arrives at the switch, the packet is tested against the rules that are known by the switch to determine what action(s) to take. Typically, if there are no rules that apply to a packet, the packet is sent to the controller which replies with a set of rules for that type of packet. The new rules are cached in the switch and applied to subsequent packets until the rules expire or are explicitly removed.\n",
    "\n",
    "Chameleon provides BYOC networking in order to enable tenants to allocate OpenFlow switches controlled by their own OpenFlow controller(s). This capability is limited to the phase 2 hardware additions that include the Corsa DP2000 series OpenFlow switches and Skylake compute nodes. The Corsa switches are key to enabling the BYOC functionality. These switches provide a native abstraction for the creation of mutually isolated forwarding contexts which can be thought of as independent OpenFlow switches. Each isolated forwarding context can be configured to use its own OpenFlow controller. The Chameleon BYOC functionality enables tenants to specify the IP and port of an arbitrary OpenFlow controller when they create private networks.\n",
    "\n",
    "### Tutorial:\n",
    "\n",
    "This Jupyter tutorial will help you setup the following experimental infrastructure. The experiment includes an OpenFlow controller hosted on Chameleon, an OpenFlow swtich, and two nodes connected to the switch.\n",
    "\n",
    "<img src=\"Tutorial-DirectStitch-figs/BYOC-Tutorial.png\" width=\"80%\">\n",
    "\n",
    "\n",
    "#### Setup Environment:"
   ]
  },
  {
   "cell_type": "code",
   "execution_count": null,
   "metadata": {},
   "outputs": [],
   "source": [
    "# Set up user's project (user's can be multiple ones, so there is no default currently)\n",
    "export OS_PROJECT_NAME='CH-816532'\n",
    "\n",
    "# Set region (again, no default currently)\n",
    "export OS_REGION_NAME='CHI@UC'\n",
    "\n",
    "# Set chameleon keypair name and path to the private ssh key\n",
    "export SSH_KEY_NAME=pruth-jupyter\n",
    "export SSH_PRIVATE_KEY=${HOME}/work/${SSH_KEY_NAME}\n",
    "\n",
    "# Set the reservations to use.  \n",
    "# CONTROLLER_RESERVATION_ID can be for any type of node\n",
    "# NODE_RESERVATION_ID must be for Skylake nodes\n",
    "export CONTROLLER_RESERVATION_ID='c3f03f7d-b6b3-4888-83c1-afd98b486086'\n",
    "export NODE_RESERVATION_ID='c3f03f7d-b6b3-4888-83c1-afd98b486086'\n"
   ]
  },
  {
   "cell_type": "markdown",
   "metadata": {},
   "source": [
    "#### Create an OpenFlow Controller.  \n",
    "\n",
    "In general, you can use any OpenFlow 1.3 controller located anywhere accessible on the Internet.  For this tutorial, you can use a Chameleon complex appliance to automatically create a simple Ryu controller hosted on a Chameleon node. The controller can be used as a base for building more complex controllers."
   ]
  },
  {
   "cell_type": "code",
   "execution_count": null,
   "metadata": {},
   "outputs": [],
   "source": [
    "# Set the name of the orcestration stack. We suggest embedding your user\n",
    "# name or some other identifiable string to make it easier to find\n",
    "# you nodes.  This is especially important if you are in a formal \n",
    "# tutorial with many other participants.\n",
    "CONTROLLER_STACK_NAME=${USERNAME}\"_controller_stack\"\n",
    "\n",
    "# Set the controller node name. See above about using \n",
    "# identifiable names.\n",
    "CONTROLLER_NODE_NAME=${USERNAME}\"_controller\"\n",
    "\n",
    "# Set the network that the controller uses to communicate with the swtich.\n",
    "# This networks must be accessible on the Internet and will not be the network\n",
    "# that the controller is managing. We suggest using \"sharednet1\"\n",
    "CONTROLLER_NETWORK=\"sharednet1\"\n",
    "\n",
    "#Configure the OpenFlow port to be used by the \n",
    "CONTROLLER_OPENFLOW_PORT=6653"
   ]
  },
  {
   "cell_type": "code",
   "execution_count": null,
   "metadata": {},
   "outputs": [],
   "source": [
    "echo Creating controller. This will take several minutes!\n",
    "openstack stack create --max-width 80 \\\n",
    "   --template \"https://www.chameleoncloud.org/appliances/api/appliances/54/template\" \\\n",
    "   --parameter \"key_name=${SSH_KEY_NAME}\" \\\n",
    "   --parameter \"reservation_id=${CONTROLLER_RESERVATION_ID}\" \\\n",
    "   --parameter \"ryu_port=${CONTROLLER_OPENFLOW_PORT}\" \\\n",
    "   --parameter \"network_name=${CONTROLLER_NETWORK}\" \\\n",
    "   --parameter \"controller_name=${CONTROLLER_NODE_NAME}\" \\\n",
    "   --wait \\\n",
    "   ${CONTROLLER_STACK_NAME}\n",
    "   \n",
    "echo Controller creation complete! \n",
    "echo ${CONTROLLER_NODE_NAME} status `openstack server show  --format value -c status ${CONTROLLER_NODE_NAME}`"
   ]
  },
  {
   "cell_type": "code",
   "execution_count": null,
   "metadata": {},
   "outputs": [],
   "source": [
    "CONTROLLER_PUBLIC_IP=`openstack server show  --format value -c addresses ${CONTROLLER_NODE_NAME} | cut -d \" \" -f 2`\n",
    "echo The controller public IP is $CONTROLLER_PUBLIC_IP\n",
    "\n",
    "echo Please wait a few more minutes until the controller is completely configured and ready for logins."
   ]
  },
  {
   "cell_type": "markdown",
   "metadata": {},
   "source": [
    "#### View the controller log file"
   ]
  },
  {
   "cell_type": "markdown",
   "metadata": {},
   "source": [
    "The controller node will be automatically configured with the simple Ryu controller service ready for an OpenFlow switch to attach to it. It will be useful to view the Ryu log file within the controller at various steps in this tutorial, as well as when modifying the controller for your experiment(s).   \n",
    "\n",
    "You can view the tail of the log file in thie notbook with the following cell.  A jupyter notebook can only run one cell at a time and cannot continously watch the log as you proceed with the tutorial. You can rerun this cell at anytime but may wish to open a terminal window on you local machine (or within this Jupyter container) and continuously watch the controller log.  \n",
    "\n",
    "Note that you will likely need to wait several minutes after the controller node is ACTIVE before the controller server is completely configured and ready."
   ]
  },
  {
   "cell_type": "code",
   "execution_count": null,
   "metadata": {},
   "outputs": [],
   "source": [
    "CONTROLLER_PUBLIC_IP=`openstack server show --format value -c addresses ${CONTROLLER_NODE_NAME} | cut -d \" \" -f 2`\n",
    "\n",
    "ssh -i ${SSH_PRIVATE_KEY} \\\n",
    "    -o UserKnownHostsFile=/dev/null \\\n",
    "    -o StrictHostKeyChecking=no \\\n",
    "    cc@${CONTROLLER_PUBLIC_IP} \\\n",
    "    tail -n 20 /var/log/ryu/ryu-manager.log \n"
   ]
  },
  {
   "cell_type": "markdown",
   "metadata": {},
   "source": [
    "#### Start the OpenFlow Switch"
   ]
  },
  {
   "cell_type": "code",
   "execution_count": null,
   "metadata": {},
   "outputs": [],
   "source": [
    "# Set the subnet to use on the OpenFlow network\n",
    "OPENFLOW_NETWORK_SUBNET_CIDR=\"192.168.100.0/24\"\n",
    "\n",
    "# Set the OpenStack names for the network, subnet, router, and switch. \n",
    "# See above about using identifiable names.  \n",
    "# Note that OPENFLOW_SWITCH_NAME cannot include the '-' character.\n",
    "OPENFLOW_NETWORK_NAME=${USERNAME}\"Network\"\n",
    "OPENFLOW_SUBNET_NAME=${USERNAME}\"Subnet\"\n",
    "OPENFLOW_ROUTER_NAME=${USERNAME}\"Router\"\n",
    "\n",
    "# Note that OPENFLOW_SWITCH_NAME cannot include the '-' character. \n",
    "# This name is used to add additional uplink ports to the same OpenFlow switch.\n",
    "OPENFLOW_SWITCH_NAME=${USERNAME}\"Switch\""
   ]
  },
  {
   "cell_type": "code",
   "execution_count": null,
   "metadata": {},
   "outputs": [],
   "source": [
    "echo Creating network ${OPENFLOW_NETWORK_NAME}\n",
    "openstack network create --max-width 80 \\\n",
    "                         --provider-network-type vlan \\\n",
    "                         --provider-physical-network physnet1 \\\n",
    "                         --description OFController=${CONTROLLER_PUBLIC_IP}:${CONTROLLER_OPENFLOW_PORT},VSwitchName=${OPENFLOW_SWITCH_NAME} \\\n",
    "                         ${OPENFLOW_NETWORK_NAME}\n",
    "                         \n",
    "PRIMARY_UPLINK_VLAN=`openstack network show -c provider:segmentation_id -f value ${OPENFLOW_NETWORK_NAME}`\n",
    "echo Primary uplink VLAN and port ID: $PRIMARY_UPLINK_VLAN "
   ]
  },
  {
   "cell_type": "markdown",
   "metadata": {},
   "source": [
    "#### Observe the controller log file \n",
    "\n",
    "You should see that a port was added with the ID of the primary uplink VLAN tag."
   ]
  },
  {
   "cell_type": "code",
   "execution_count": null,
   "metadata": {},
   "outputs": [],
   "source": [
    "CONTROLLER_PUBLIC_IP=`openstack server show --format value -c addresses ${CONTROLLER_NODE_NAME} | cut -d \" \" -f 2`\n",
    "\n",
    "ssh -i ${SSH_PRIVATE_KEY} \\\n",
    "    -o UserKnownHostsFile=/dev/null \\\n",
    "    -o StrictHostKeyChecking=no \\\n",
    "    cc@${CONTROLLER_PUBLIC_IP} \\\n",
    "    tail -n 20 /var/log/ryu/ryu-manager.log \n"
   ]
  },
  {
   "cell_type": "markdown",
   "metadata": {},
   "source": [
    "#### Add a subnet and router to the network"
   ]
  },
  {
   "cell_type": "code",
   "execution_count": null,
   "metadata": {},
   "outputs": [],
   "source": [
    "echo Creating Subnet\n",
    "openstack subnet create --max-width 80 \\\n",
    "                        --subnet-range ${OPENFLOW_NETWORK_SUBNET_CIDR} \\\n",
    "                        --dhcp \\\n",
    "                        --network ${OPENFLOW_NETWORK_NAME} \\\n",
    "                        ${OPENFLOW_SUBNET_NAME}\n",
    "                        \n",
    "echo Creating Router\n",
    "openstack router create --max-width 80 ${OPENFLOW_ROUTER_NAME}\n",
    "\n",
    "echo Linking router to subnet\n",
    "openstack router add subnet ${OPENFLOW_ROUTER_NAME} ${OPENFLOW_SUBNET_NAME}\n",
    "\n",
    "echo Linking router to external gateway\n",
    "openstack router set --external-gateway public ${OPENFLOW_ROUTER_NAME}\n",
    "\n",
    "echo Network ${OPENFLOW_NETWORK_NAME} is ready for nodes!"
   ]
  },
  {
   "cell_type": "markdown",
   "metadata": {},
   "source": [
    "#### Launch servers connected to the new network\n",
    "\n",
    "At this point your OpenFlow network is ready for compute nodes. You can add nodes using the CLI commands below or by any other method you are comfortable with. "
   ]
  },
  {
   "cell_type": "code",
   "execution_count": null,
   "metadata": {},
   "outputs": [],
   "source": [
    "echo Creating servers... This will take several minutes! \n",
    "openstack server create --max-width 80 \\\n",
    "                        --flavor \"baremetal\" \\\n",
    "                        --image \"CC-CentOS7\" \\\n",
    "                        --key-name ${SSH_KEY_NAME} \\\n",
    "                        --hint reservation=${NODE_RESERVATION_ID} \\\n",
    "                        --security-group default  \\\n",
    "                        --nic net-id=${OPENFLOW_NETWORK_NAME} \\\n",
    "                        --min 2 \\\n",
    "                        --max 2 \\\n",
    "                        --wait \\\n",
    "                        ${USERNAME}-node\n",
    "\n",
    "echo Server creation complete! \n",
    "echo ${USERNAME}-node-1 is `openstack server show --format value -c status ${USERNAME}-node-1`\n",
    "echo ${USERNAME}-node-2 is `openstack server show --format value -c status ${USERNAME}-node-2`"
   ]
  },
  {
   "cell_type": "markdown",
   "metadata": {},
   "source": [
    "### Experiment with you new OpenFlow controller and switch\n",
    "\n",
    "- Check the controller log to see when the nodes are added to the swtich. \n",
    "\n",
    "- Add public IPs, login to the nodes, ping, eachother, etc..  While experimenting with the nodes, continue to  watch the controller log and see all the packet_in calls."
   ]
  },
  {
   "cell_type": "markdown",
   "metadata": {},
   "source": [
    "# Please Cleanup Your Resources!!!\n",
    "\n",
    "Delete your nodes.\n",
    "\n",
    "If you added more nodes outside of this notebook you will need to delete them as well.  You will not beable to delete the network if there are nodes still attached to it."
   ]
  },
  {
   "cell_type": "code",
   "execution_count": null,
   "metadata": {},
   "outputs": [],
   "source": [
    "echo Deleting servers ${USERNAME}-node-1 and ${USERNAME}-node-2\n",
    "openstack server delete --wait ${USERNAME}-node-1 ${USERNAME}-node-2\n",
    "\n",
    "echo Servers deleted!"
   ]
  },
  {
   "cell_type": "markdown",
   "metadata": {},
   "source": [
    "Unlink and delete all pieces of the OpenFlow network."
   ]
  },
  {
   "cell_type": "code",
   "execution_count": null,
   "metadata": {},
   "outputs": [],
   "source": [
    "echo Unlinking router from gateway\n",
    "openstack router unset --external-gateway ${OPENFLOW_ROUTER_NAME}\n",
    "\n",
    "echo Unlinking router from subnet\n",
    "openstack router remove subnet ${OPENFLOW_ROUTER_NAME} ${OPENFLOW_SUBNET_NAME}\n",
    "\n",
    "echo Deleting router\n",
    "openstack router delete ${OPENFLOW_ROUTER_NAME}\n",
    "\n",
    "echo Deleting network\n",
    "openstack network delete ${OPENFLOW_NETWORK_NAME}\n",
    "\n",
    "echo All routers, subnets, and networks are deleted!"
   ]
  },
  {
   "cell_type": "markdown",
   "metadata": {},
   "source": [
    "Delete your OpenFlow controller and stack"
   ]
  },
  {
   "cell_type": "code",
   "execution_count": null,
   "metadata": {},
   "outputs": [],
   "source": [
    "echo Deleting stack ${CONTROLLER_STACK_NAME}\n",
    "openstack stack delete -y --wait ${CONTROLLER_STACK_NAME}\n",
    "echo Stack ${CONTROLLER_STACK_NAME} deleted"
   ]
  },
  {
   "cell_type": "code",
   "execution_count": null,
   "metadata": {},
   "outputs": [],
   "source": []
  }
 ],
 "metadata": {
  "kernelspec": {
   "display_name": "Bash",
   "language": "bash",
   "name": "bash"
  },
  "language_info": {
   "codemirror_mode": "shell",
   "file_extension": ".sh",
   "mimetype": "text/x-sh",
   "name": "bash"
  }
 },
 "nbformat": 4,
 "nbformat_minor": 4
}
