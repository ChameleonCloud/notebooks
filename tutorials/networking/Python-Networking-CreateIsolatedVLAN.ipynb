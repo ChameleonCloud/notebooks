{
 "cells": [
  {
   "cell_type": "markdown",
   "source": [
    "## Tutorial: Create an Isolated VLAN and Servers\n",
    "\n",
    "This notebook demonstrates how to create isolated VLANs and attach servers."
   ],
   "metadata": {
    "collapsed": false,
    "pycharm": {
     "name": "#%% md\n"
    }
   }
  },
  {
   "cell_type": "markdown",
   "source": [
    "## Tutorial: "
   ],
   "metadata": {
    "collapsed": false,
    "pycharm": {
     "name": "#%% md\n"
    }
   }
  },
  {
   "cell_type": "markdown",
   "source": [
    "#### Configure the Environment"
   ],
   "metadata": {
    "collapsed": false,
    "pycharm": {
     "name": "#%% md\n"
    }
   }
  },
  {
   "cell_type": "code",
   "execution_count": null,
   "outputs": [],
   "source": [
    "import json\n",
    "import os\n",
    "import chi\n",
    "\n",
    "#Config with your project and site\n",
    "chi.set('project_name', 'chameleon')   # Replace with your project name\n",
    "chi.set('region_name', 'CHI@UC')     # Optional, defaults to 'CHI@UC'\n",
    "chi.use_site('CHI@UC')               # Authenticate to CHI@UC site\n",
    "\n",
    "# Tip: Name resources with your username for easier identification\n",
    "username = os.getenv(\"USER\")\n",
    "prefix = username + \"_VLANTutorial_\"\n",
    "server_name = prefix+'Server'\n",
    "network_name = prefix+'Net'\n",
    "subnet_name = prefix+'Subnet'\n",
    "router_name = prefix+'Router'\n",
    "lease_name = prefix+'Lease'\n",
    "\n",
    "#Server attributes\n",
    "image_name='CC-Ubuntu20.04'\n",
    "node_type=\"compute_skylake\"\n",
    "server_count=1\n",
    "physical_network=\"physnet1\""
   ],
   "metadata": {
    "collapsed": false,
    "pycharm": {
     "name": "#%%\n"
    }
   }
  },
  {
   "cell_type": "markdown",
   "source": [
    "#### Create a Lease"
   ],
   "metadata": {
    "collapsed": false,
    "pycharm": {
     "name": "#%% md\n"
    }
   }
  },
  {
   "cell_type": "code",
   "execution_count": null,
   "outputs": [],
   "source": [
    "import chi.lease\n",
    "from datetime import datetime, timedelta\n",
    "from dateutil import tz\n",
    "\n",
    "BLAZAR_TIME_FORMAT = '%Y-%m-%d %H:%M'\n",
    "\n",
    "# Set start/end date for lease\n",
    "# Start one minute into future to avoid Blazar thinking lease is in past\n",
    "# due to rounding to closest minute.\n",
    "start_date = (datetime.now(tz=tz.tzutc()) + timedelta(minutes=1)).strftime(BLAZAR_TIME_FORMAT)\n",
    "end_date   = (datetime.now(tz=tz.tzutc()) + timedelta(days=1)).strftime(BLAZAR_TIME_FORMAT)\n",
    "\n",
    "# Build list of reservations (in this case there is only one reservation)\n",
    "reservation_list = []\n",
    "chi.lease.add_node_reservation(reservation_list, count=server_count, node_type=node_type)\n",
    "chi.lease.add_network_reservation(reservation_list, network_name=network_name, physical_network=physical_network)\n",
    "chi.lease.add_fip_reservation(reservation_list, count=1)\n",
    "\n",
    "# Create the lease\n",
    "lease = chi.lease.create_lease(lease_name,\n",
    "                       reservations=reservation_list,\n",
    "                       start_date=start_date,\n",
    "                       end_date=end_date)\n",
    "    \n",
    "#Print the lease info\n",
    "print(json.dumps(lease, indent=2))"
   ],
   "metadata": {
    "collapsed": false,
    "pycharm": {
     "name": "#%%\n"
    }
   }
  },
  {
   "cell_type": "markdown",
   "source": [
    "#### Get the Reservations"
   ],
   "metadata": {
    "collapsed": false,
    "pycharm": {
     "name": "#%% md\n"
    }
   }
  },
  {
   "cell_type": "code",
   "execution_count": null,
   "outputs": [],
   "source": [
    "compute_reservation_id = [reservation for reservation in lease['reservations'] if reservation['resource_type'] == 'physical:host'][0]['id']\n",
    "network_reservation_id = [reservation for reservation in lease['reservations'] if reservation['resource_type'] == 'network'][0]['id']\n",
    "floatingip_reservation_id = [reservation for reservation in lease['reservations'] if reservation['resource_type'] == 'virtual:floatingip'][0]['id']\n",
    "\n",
    "print(\"compute_reservation_id: \" + compute_reservation_id)\n",
    "print(\"network_reservation_id: \" + network_reservation_id)\n",
    "print(\"floatingip_reservation_id: \" + floatingip_reservation_id)"
   ],
   "metadata": {
    "collapsed": false,
    "pycharm": {
     "name": "#%%\n"
    }
   }
  },
  {
   "cell_type": "markdown",
   "source": [
    "#### Configute the Network"
   ],
   "metadata": {
    "collapsed": false,
    "pycharm": {
     "name": "#%% md\n"
    }
   }
  },
  {
   "cell_type": "code",
   "execution_count": null,
   "outputs": [],
   "source": [
    "import chi.network\n",
    "\n",
    "network = chi.network.get_network(network_name)\n",
    "network_id = network['id']\n",
    "\n",
    "print(f'Network ID: {network_id}')"
   ],
   "metadata": {
    "collapsed": false,
    "pycharm": {
     "name": "#%%\n"
    }
   }
  },
  {
   "cell_type": "code",
   "execution_count": null,
   "outputs": [],
   "source": [
    "subnet = chi.network.create_subnet(subnet_name, network_id)\n",
    "router = chi.network.create_router(router_name, gw_network_name='public')\n",
    "chi.network.add_subnet_to_router_by_name(router_name, subnet_name)"
   ],
   "metadata": {
    "collapsed": false,
    "pycharm": {
     "name": "#%%\n"
    }
   }
  },
  {
   "cell_type": "markdown",
   "source": [
    "#### Start the Server"
   ],
   "metadata": {
    "collapsed": false,
    "pycharm": {
     "name": "#%% md\n"
    }
   }
  },
  {
   "cell_type": "code",
   "execution_count": null,
   "outputs": [],
   "source": [
    "import chi.server\n",
    "\n",
    "# Create the server\n",
    "server = chi.server.create_server(server_name, \n",
    "                                  reservation_id=compute_reservation_id, \n",
    "                                  network_name=network_name, \n",
    "                                  image_name=image_name)\n",
    "# Wait until the server is active\n",
    "chi.server.wait_for_active(server.id)"
   ],
   "metadata": {
    "collapsed": false,
    "pycharm": {
     "name": "#%%\n"
    }
   }
  },
  {
   "cell_type": "markdown",
   "source": [
    "#### Associate the Floating IP"
   ],
   "metadata": {
    "collapsed": false,
    "pycharm": {
     "name": "#%% md\n"
    }
   }
  },
  {
   "cell_type": "code",
   "execution_count": null,
   "outputs": [],
   "source": [
    "floating_ip = chi.server.associate_floating_ip(server.id)\n",
    "\n",
    "print(f'Floating IP: {floating_ip}')"
   ],
   "metadata": {
    "collapsed": false,
    "pycharm": {
     "name": "#%%\n"
    }
   }
  },
  {
   "cell_type": "markdown",
   "source": [
    "#### Delete Server"
   ],
   "metadata": {
    "collapsed": false,
    "pycharm": {
     "name": "#%% md\n"
    }
   }
  },
  {
   "cell_type": "code",
   "execution_count": null,
   "outputs": [],
   "source": [
    "chi.server.delete_server(server.id)"
   ],
   "metadata": {
    "collapsed": false,
    "pycharm": {
     "name": "#%%\n"
    }
   }
  },
  {
   "cell_type": "markdown",
   "source": [
    "#### De-configure Network"
   ],
   "metadata": {
    "collapsed": false,
    "pycharm": {
     "name": "#%% md\n"
    }
   }
  },
  {
   "cell_type": "code",
   "execution_count": null,
   "outputs": [],
   "source": [
    "router_id = router['id']\n",
    "subnet_id = subnet['id']\n",
    "\n",
    "try:\n",
    "    result = chi.network.remove_subnet_from_router(router_id, subnet_id)\n",
    "except Exception as e:\n",
    "    print(f\"detach_router_by_name error: {str(e)}\")\n",
    "    pass\n",
    "\n",
    "try:\n",
    "    result = chi.network.delete_router(router_id)\n",
    "except Exception as e:\n",
    "    print(f\"delete_router_by_name error: {str(e)}\")\n",
    "    pass\n",
    "\n",
    "try:\n",
    "    result = chi.network.delete_subnet(subnet_id)\n",
    "except Exception as e:\n",
    "    print(f\"delete_subnet_by_name error: {str(e)}\")\n",
    "    pass\n",
    "\n",
    "try:\n",
    "    result = chi.network.delete_network(network_id)\n",
    "except Exception as e:\n",
    "    print(f\"delete_network_by_name error: {str(e)}\")\n",
    "    pass"
   ],
   "metadata": {
    "collapsed": false,
    "pycharm": {
     "name": "#%%\n"
    }
   }
  },
  {
   "cell_type": "markdown",
   "source": [
    "#### Release Lease"
   ],
   "metadata": {
    "collapsed": false,
    "pycharm": {
     "name": "#%% md\n"
    }
   }
  },
  {
   "cell_type": "code",
   "execution_count": null,
   "outputs": [],
   "source": [
    "chi.lease.delete_lease(lease['id'])"
   ],
   "metadata": {
    "collapsed": false,
    "pycharm": {
     "name": "#%%\n"
    }
   }
  }
 ],
 "metadata": {
  "kernelspec": {
   "display_name": "Python 3 (ipykernel)",
   "language": "python",
   "name": "python3"
  },
  "language_info": {
   "codemirror_mode": {
    "name": "ipython",
    "version": 3
   },
   "file_extension": ".py",
   "mimetype": "text/x-python",
   "name": "python",
   "nbconvert_exporter": "python",
   "pygments_lexer": "ipython3",
   "version": "3.9.7"
  }
 },
 "nbformat": 4,
 "nbformat_minor": 4
}