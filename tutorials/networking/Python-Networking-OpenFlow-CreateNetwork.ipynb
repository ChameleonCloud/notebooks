{
 "cells": [
  {
   "cell_type": "markdown",
   "metadata": {
    "pycharm": {
     "name": "#%% md\n"
    }
   },
   "source": [
    "## Tutorial: Create an OpenFlow Network and Servers\n",
    "\n",
    "This notebook demonstrates how to create an OpenFlow network and attach servers."
   ]
  },
  {
   "cell_type": "markdown",
   "metadata": {
    "pycharm": {
     "name": "#%% md\n"
    }
   },
   "source": [
    "## Tutorial: "
   ]
  },
  {
   "cell_type": "markdown",
   "metadata": {
    "pycharm": {
     "name": "#%% md\n"
    }
   },
   "source": [
    "#### Configure the Environment"
   ]
  },
  {
   "cell_type": "code",
   "execution_count": 1,
   "metadata": {
    "pycharm": {
     "name": "#%%\n"
    }
   },
   "outputs": [
    {
     "name": "stdout",
     "output_type": "stream",
     "text": [
      "Now using CHI@UC:\n",
      "URL: https://chi.uc.chameleoncloud.org\n",
      "Location: Argonne National Laboratory, Lemont, Illinois, USA\n",
      "Support contact: help@chameleoncloud.org\n"
     ]
    }
   ],
   "source": [
    "import json\n",
    "import os\n",
    "import chi\n",
    "\n",
    "#Config with your project and site\n",
    "chi.set('project_name', 'chameleon')   # Replace with your project name\n",
    "chi.set('region_name', 'CHI@UC')       # Optional, defaults to 'CHI@UC'\n",
    "chi.use_site('CHI@UC')                 # Authenticate to CHI@UC site\n",
    "\n",
    "# Tip: Name resources with your username for easier identification\n",
    "username = os.getenv(\"USER\")\n",
    "prefix = username + \"_OpenFlowTutorial_\"\n",
    "server_name = prefix+'Server'\n",
    "network_name = prefix+'Net'\n",
    "subnet_name = prefix+'Subnet'\n",
    "router_name = prefix+'Router'\n",
    "lease_name = prefix+'Lease'\n",
    "\n",
    "#Server attributes\n",
    "image_name='CC-Ubuntu20.04'\n",
    "node_type=\"compute_skylake\"\n",
    "server_count=2\n",
    "physical_network=\"physnet1\"\n",
    "of_controller_ip=\"TODO\"\n",
    "of_controller_port = \"6653\"\n",
    "vswitch_name = username+\"SDN\""
   ]
  },
  {
   "cell_type": "markdown",
   "metadata": {
    "pycharm": {
     "name": "#%% md\n"
    }
   },
   "source": [
    "#### Create a Lease"
   ]
  },
  {
   "cell_type": "code",
   "execution_count": 2,
   "metadata": {
    "pycharm": {
     "name": "#%%\n"
    }
   },
   "outputs": [
    {
     "name": "stdout",
     "output_type": "stream",
     "text": [
      "{\n",
      "  \"created_at\": \"2022-06-29 21:10:40\",\n",
      "  \"updated_at\": \"2022-06-29 21:10:42\",\n",
      "  \"id\": \"79c3c32d-5181-4518-b34c-ac31f0c9d5cb\",\n",
      "  \"name\": \"adamcooper_uchicago_edu_OpenFlowTutorial_Lease\",\n",
      "  \"user_id\": \"53c471e0bcb88e0f94755dfc882c2f167e5d5d45da8630560b0953c586f88fd6\",\n",
      "  \"project_id\": \"4140e5f9f65545dbb9f0bdc90ef68d23\",\n",
      "  \"start_date\": \"2022-06-29T21:11:00.000000\",\n",
      "  \"end_date\": \"2022-06-30T21:10:00.000000\",\n",
      "  \"trust_id\": \"99450579022040b296b004af28bea3cb\",\n",
      "  \"status\": \"PENDING\",\n",
      "  \"degraded\": false,\n",
      "  \"reservations\": [\n",
      "    {\n",
      "      \"created_at\": \"2022-06-29 21:10:40\",\n",
      "      \"updated_at\": \"2022-06-29 21:10:41\",\n",
      "      \"id\": \"b0cb1ef3-2f8e-4471-aeb8-3a0058c1ba82\",\n",
      "      \"lease_id\": \"79c3c32d-5181-4518-b34c-ac31f0c9d5cb\",\n",
      "      \"resource_id\": \"9e6c45de-bd6f-4420-b6bb-83a992616494\",\n",
      "      \"resource_type\": \"physical:host\",\n",
      "      \"status\": \"pending\",\n",
      "      \"missing_resources\": false,\n",
      "      \"resources_changed\": false,\n",
      "      \"hypervisor_properties\": \"\",\n",
      "      \"resource_properties\": \"[\\\"==\\\", \\\"$node_type\\\", \\\"compute_skylake\\\"]\",\n",
      "      \"before_end\": \"default\",\n",
      "      \"on_start\": \"default\",\n",
      "      \"min\": 2,\n",
      "      \"max\": 2\n",
      "    },\n",
      "    {\n",
      "      \"created_at\": \"2022-06-29 21:10:41\",\n",
      "      \"updated_at\": \"2022-06-29 21:10:42\",\n",
      "      \"id\": \"efb22ba5-27d8-45b1-acde-89ffce94b036\",\n",
      "      \"lease_id\": \"79c3c32d-5181-4518-b34c-ac31f0c9d5cb\",\n",
      "      \"resource_id\": \"9b582746-7eac-404b-b0fc-839e88aea6c8\",\n",
      "      \"resource_type\": \"virtual:floatingip\",\n",
      "      \"status\": \"pending\",\n",
      "      \"missing_resources\": false,\n",
      "      \"resources_changed\": false,\n",
      "      \"network_id\": \"44b38c44-2a42-4b6d-b129-6c8f1b2a1375\",\n",
      "      \"amount\": 2,\n",
      "      \"required_floatingips\": []\n",
      "    },\n",
      "    {\n",
      "      \"created_at\": \"2022-06-29 21:10:41\",\n",
      "      \"updated_at\": \"2022-06-29 21:10:41\",\n",
      "      \"id\": \"f8ecdad3-0691-46ba-851d-5b218f0b4fc3\",\n",
      "      \"lease_id\": \"79c3c32d-5181-4518-b34c-ac31f0c9d5cb\",\n",
      "      \"resource_id\": \"090d59a2-fe6d-45b7-8888-0f381c35b6cc\",\n",
      "      \"resource_type\": \"network\",\n",
      "      \"status\": \"pending\",\n",
      "      \"missing_resources\": false,\n",
      "      \"resources_changed\": false\n",
      "    }\n",
      "  ],\n",
      "  \"events\": [\n",
      "    {\n",
      "      \"created_at\": \"2022-06-29 21:10:42\",\n",
      "      \"updated_at\": null,\n",
      "      \"id\": \"a5826ae4-bf07-4171-9275-ce964a4cc913\",\n",
      "      \"lease_id\": \"79c3c32d-5181-4518-b34c-ac31f0c9d5cb\",\n",
      "      \"event_type\": \"before_end_lease\",\n",
      "      \"time\": \"2022-06-29T21:11:00.000000\",\n",
      "      \"status\": \"UNDONE\"\n",
      "    },\n",
      "    {\n",
      "      \"created_at\": \"2022-06-29 21:10:42\",\n",
      "      \"updated_at\": null,\n",
      "      \"id\": \"f3fb5f34-b3c1-4b9a-aaec-8318214f4759\",\n",
      "      \"lease_id\": \"79c3c32d-5181-4518-b34c-ac31f0c9d5cb\",\n",
      "      \"event_type\": \"end_lease\",\n",
      "      \"time\": \"2022-06-30T21:10:00.000000\",\n",
      "      \"status\": \"UNDONE\"\n",
      "    },\n",
      "    {\n",
      "      \"created_at\": \"2022-06-29 21:10:42\",\n",
      "      \"updated_at\": null,\n",
      "      \"id\": \"fcb0abca-9e80-494a-8709-bcfc6ccdbafd\",\n",
      "      \"lease_id\": \"79c3c32d-5181-4518-b34c-ac31f0c9d5cb\",\n",
      "      \"event_type\": \"start_lease\",\n",
      "      \"time\": \"2022-06-29T21:11:00.000000\",\n",
      "      \"status\": \"UNDONE\"\n",
      "    }\n",
      "  ]\n",
      "}\n"
     ]
    }
   ],
   "source": [
    "import chi.lease\n",
    "from datetime import datetime, timedelta\n",
    "from dateutil import tz\n",
    "\n",
    "BLAZAR_TIME_FORMAT = '%Y-%m-%d %H:%M'\n",
    "\n",
    "# Set start/end date for lease\n",
    "# Start one minute into future to avoid Blazar thinking lease is in past\n",
    "# due to rounding to closest minute.\n",
    "start_date = (datetime.now(tz=tz.tzutc()) + timedelta(minutes=1)).strftime(BLAZAR_TIME_FORMAT)\n",
    "end_date   = (datetime.now(tz=tz.tzutc()) + timedelta(days=1)).strftime(BLAZAR_TIME_FORMAT)\n",
    "\n",
    "# Build list of reservations (in this case there is only one reservation)\n",
    "reservation_list = []\n",
    "chi.lease.add_node_reservation(reservation_list, count=server_count, node_type=node_type)\n",
    "chi.lease.add_network_reservation(reservation_list, \n",
    "                                  network_name=network_name, \n",
    "                                  physical_network=physical_network,\n",
    "                                  of_controller_ip=of_controller_ip, \n",
    "                                  of_controller_port=of_controller_port, \n",
    "                                  vswitch_name=vswitch_name)\n",
    "chi.lease.add_fip_reservation(reservation_list, count=2)\n",
    "\n",
    "# Create the lease\n",
    "lease = chi.lease.create_lease(lease_name, \n",
    "                               reservations=reservation_list,\n",
    "                               start_date=start_date,\n",
    "                               end_date=end_date)\n",
    "#Print the lease info\n",
    "print(json.dumps(lease, indent=2))"
   ]
  },
  {
   "cell_type": "markdown",
   "metadata": {
    "pycharm": {
     "name": "#%% md\n"
    }
   },
   "source": [
    "#### Get the Reservations"
   ]
  },
  {
   "cell_type": "code",
   "execution_count": 3,
   "metadata": {
    "pycharm": {
     "name": "#%%\n"
    }
   },
   "outputs": [
    {
     "name": "stdout",
     "output_type": "stream",
     "text": [
      "compute_reservation_id: b0cb1ef3-2f8e-4471-aeb8-3a0058c1ba82\n",
      "network_reservation_id: f8ecdad3-0691-46ba-851d-5b218f0b4fc3\n",
      "floatingip_reservation_id: efb22ba5-27d8-45b1-acde-89ffce94b036\n"
     ]
    }
   ],
   "source": [
    "compute_reservation_id = [reservation for reservation in lease['reservations'] if reservation['resource_type'] == 'physical:host'][0]['id']\n",
    "network_reservation_id = [reservation for reservation in lease['reservations'] if reservation['resource_type'] == 'network'][0]['id']\n",
    "floatingip_reservation_id = [reservation for reservation in lease['reservations'] if reservation['resource_type'] == 'virtual:floatingip'][0]['id']\n",
    "\n",
    "print(\"compute_reservation_id: \" + compute_reservation_id)\n",
    "print(\"network_reservation_id: \" + network_reservation_id)\n",
    "print(\"floatingip_reservation_id: \" + floatingip_reservation_id)"
   ]
  },
  {
   "cell_type": "markdown",
   "metadata": {
    "pycharm": {
     "name": "#%% md\n"
    }
   },
   "source": [
    "#### Configute the Network"
   ]
  },
  {
   "cell_type": "code",
   "execution_count": 5,
   "metadata": {
    "pycharm": {
     "name": "#%%\n"
    }
   },
   "outputs": [
    {
     "ename": "RuntimeError",
     "evalue": "No networks found with name adamcooper_uchicago_edu_OpenFlowTutorial_Net",
     "output_type": "error",
     "traceback": [
      "\u001B[0;31m---------------------------------------------------------------------------\u001B[0m",
      "\u001B[0;31mNetworkNotFoundClient\u001B[0m                     Traceback (most recent call last)",
      "\u001B[0;32m/opt/conda/lib/python3.9/site-packages/chi/network.py\u001B[0m in \u001B[0;36m_resolve_resource\u001B[0;34m(resource, name_or_id)\u001B[0m\n\u001B[1;32m     78\u001B[0m     \u001B[0;32mtry\u001B[0m\u001B[0;34m:\u001B[0m\u001B[0;34m\u001B[0m\u001B[0;34m\u001B[0m\u001B[0m\n\u001B[0;32m---> 79\u001B[0;31m         \u001B[0mres\u001B[0m \u001B[0;34m=\u001B[0m \u001B[0mget_fn\u001B[0m\u001B[0;34m(\u001B[0m\u001B[0mname_or_id\u001B[0m\u001B[0;34m)\u001B[0m\u001B[0;34m\u001B[0m\u001B[0;34m\u001B[0m\u001B[0m\n\u001B[0m\u001B[1;32m     80\u001B[0m     \u001B[0;32mexcept\u001B[0m \u001B[0mNotFound\u001B[0m\u001B[0;34m:\u001B[0m\u001B[0;34m\u001B[0m\u001B[0;34m\u001B[0m\u001B[0m\n",
      "\u001B[0;32m/opt/conda/lib/python3.9/site-packages/neutronclient/v2_0/client.py\u001B[0m in \u001B[0;36mshow_network\u001B[0;34m(self, network, **_params)\u001B[0m\n\u001B[1;32m    852\u001B[0m         \u001B[0;34m\"\"\"Fetches information of a certain network.\"\"\"\u001B[0m\u001B[0;34m\u001B[0m\u001B[0;34m\u001B[0m\u001B[0m\n\u001B[0;32m--> 853\u001B[0;31m         \u001B[0;32mreturn\u001B[0m \u001B[0mself\u001B[0m\u001B[0;34m.\u001B[0m\u001B[0mget\u001B[0m\u001B[0;34m(\u001B[0m\u001B[0mself\u001B[0m\u001B[0;34m.\u001B[0m\u001B[0mnetwork_path\u001B[0m \u001B[0;34m%\u001B[0m \u001B[0;34m(\u001B[0m\u001B[0mnetwork\u001B[0m\u001B[0;34m)\u001B[0m\u001B[0;34m,\u001B[0m \u001B[0mparams\u001B[0m\u001B[0;34m=\u001B[0m\u001B[0m_params\u001B[0m\u001B[0;34m)\u001B[0m\u001B[0;34m\u001B[0m\u001B[0;34m\u001B[0m\u001B[0m\n\u001B[0m\u001B[1;32m    854\u001B[0m \u001B[0;34m\u001B[0m\u001B[0m\n",
      "\u001B[0;32m/opt/conda/lib/python3.9/site-packages/neutronclient/v2_0/client.py\u001B[0m in \u001B[0;36mget\u001B[0;34m(self, action, body, headers, params)\u001B[0m\n\u001B[1;32m    355\u001B[0m     \u001B[0;32mdef\u001B[0m \u001B[0mget\u001B[0m\u001B[0;34m(\u001B[0m\u001B[0mself\u001B[0m\u001B[0;34m,\u001B[0m \u001B[0maction\u001B[0m\u001B[0;34m,\u001B[0m \u001B[0mbody\u001B[0m\u001B[0;34m=\u001B[0m\u001B[0;32mNone\u001B[0m\u001B[0;34m,\u001B[0m \u001B[0mheaders\u001B[0m\u001B[0;34m=\u001B[0m\u001B[0;32mNone\u001B[0m\u001B[0;34m,\u001B[0m \u001B[0mparams\u001B[0m\u001B[0;34m=\u001B[0m\u001B[0;32mNone\u001B[0m\u001B[0;34m)\u001B[0m\u001B[0;34m:\u001B[0m\u001B[0;34m\u001B[0m\u001B[0;34m\u001B[0m\u001B[0m\n\u001B[0;32m--> 356\u001B[0;31m         return self.retry_request(\"GET\", action, body=body,\n\u001B[0m\u001B[1;32m    357\u001B[0m                                   headers=headers, params=params)\n",
      "\u001B[0;32m/opt/conda/lib/python3.9/site-packages/neutronclient/v2_0/client.py\u001B[0m in \u001B[0;36mretry_request\u001B[0;34m(self, method, action, body, headers, params)\u001B[0m\n\u001B[1;32m    332\u001B[0m             \u001B[0;32mtry\u001B[0m\u001B[0;34m:\u001B[0m\u001B[0;34m\u001B[0m\u001B[0;34m\u001B[0m\u001B[0m\n\u001B[0;32m--> 333\u001B[0;31m                 return self.do_request(method, action, body=body,\n\u001B[0m\u001B[1;32m    334\u001B[0m                                        headers=headers, params=params)\n",
      "\u001B[0;32m/opt/conda/lib/python3.9/site-packages/neutronclient/v2_0/client.py\u001B[0m in \u001B[0;36mdo_request\u001B[0;34m(self, method, action, body, headers, params)\u001B[0m\n\u001B[1;32m    296\u001B[0m                 \u001B[0mreplybody\u001B[0m \u001B[0;34m=\u001B[0m \u001B[0mresp\u001B[0m\u001B[0;34m.\u001B[0m\u001B[0mreason\u001B[0m\u001B[0;34m\u001B[0m\u001B[0;34m\u001B[0m\u001B[0m\n\u001B[0;32m--> 297\u001B[0;31m             \u001B[0mself\u001B[0m\u001B[0;34m.\u001B[0m\u001B[0m_handle_fault_response\u001B[0m\u001B[0;34m(\u001B[0m\u001B[0mstatus_code\u001B[0m\u001B[0;34m,\u001B[0m \u001B[0mreplybody\u001B[0m\u001B[0;34m,\u001B[0m \u001B[0mresp\u001B[0m\u001B[0;34m)\u001B[0m\u001B[0;34m\u001B[0m\u001B[0;34m\u001B[0m\u001B[0m\n\u001B[0m\u001B[1;32m    298\u001B[0m \u001B[0;34m\u001B[0m\u001B[0m\n",
      "\u001B[0;32m/opt/conda/lib/python3.9/site-packages/neutronclient/v2_0/client.py\u001B[0m in \u001B[0;36m_handle_fault_response\u001B[0;34m(self, status_code, response_body, resp)\u001B[0m\n\u001B[1;32m    271\u001B[0m         \u001B[0;31m# Raise the appropriate exception\u001B[0m\u001B[0;34m\u001B[0m\u001B[0;34m\u001B[0m\u001B[0m\n\u001B[0;32m--> 272\u001B[0;31m         \u001B[0mexception_handler_v20\u001B[0m\u001B[0;34m(\u001B[0m\u001B[0mstatus_code\u001B[0m\u001B[0;34m,\u001B[0m \u001B[0merror_body\u001B[0m\u001B[0;34m)\u001B[0m\u001B[0;34m\u001B[0m\u001B[0;34m\u001B[0m\u001B[0m\n\u001B[0m\u001B[1;32m    273\u001B[0m \u001B[0;34m\u001B[0m\u001B[0m\n",
      "\u001B[0;32m/opt/conda/lib/python3.9/site-packages/neutronclient/v2_0/client.py\u001B[0m in \u001B[0;36mexception_handler_v20\u001B[0;34m(status_code, error_content)\u001B[0m\n\u001B[1;32m     89\u001B[0m \u001B[0;34m\u001B[0m\u001B[0m\n\u001B[0;32m---> 90\u001B[0;31m     raise client_exc(message=error_message,\n\u001B[0m\u001B[1;32m     91\u001B[0m                      \u001B[0mstatus_code\u001B[0m\u001B[0;34m=\u001B[0m\u001B[0mstatus_code\u001B[0m\u001B[0;34m,\u001B[0m\u001B[0;34m\u001B[0m\u001B[0;34m\u001B[0m\u001B[0m\n",
      "\u001B[0;31mNetworkNotFoundClient\u001B[0m: Network adamcooper_uchicago_edu_OpenFlowTutorial_Net could not be found.\nNeutron server returns request_ids: ['req-a64e6490-bdad-4c02-8fc2-49c4044e1b09']",
      "\nDuring handling of the above exception, another exception occurred:\n",
      "\u001B[0;31mRuntimeError\u001B[0m                              Traceback (most recent call last)",
      "\u001B[0;32m/tmp/ipykernel_1149/2274168851.py\u001B[0m in \u001B[0;36m<module>\u001B[0;34m\u001B[0m\n\u001B[1;32m      1\u001B[0m \u001B[0;32mimport\u001B[0m \u001B[0mchi\u001B[0m\u001B[0;34m.\u001B[0m\u001B[0mnetwork\u001B[0m\u001B[0;34m\u001B[0m\u001B[0;34m\u001B[0m\u001B[0m\n\u001B[1;32m      2\u001B[0m \u001B[0;34m\u001B[0m\u001B[0m\n\u001B[0;32m----> 3\u001B[0;31m \u001B[0mnetwork\u001B[0m \u001B[0;34m=\u001B[0m \u001B[0mchi\u001B[0m\u001B[0;34m.\u001B[0m\u001B[0mnetwork\u001B[0m\u001B[0;34m.\u001B[0m\u001B[0mget_network\u001B[0m\u001B[0;34m(\u001B[0m\u001B[0mnetwork_name\u001B[0m\u001B[0;34m)\u001B[0m\u001B[0;34m\u001B[0m\u001B[0;34m\u001B[0m\u001B[0m\n\u001B[0m\u001B[1;32m      4\u001B[0m \u001B[0mnetwork_id\u001B[0m \u001B[0;34m=\u001B[0m \u001B[0mnetwork\u001B[0m\u001B[0;34m[\u001B[0m\u001B[0;34m'id'\u001B[0m\u001B[0;34m]\u001B[0m\u001B[0;34m\u001B[0m\u001B[0;34m\u001B[0m\u001B[0m\n\u001B[1;32m      5\u001B[0m \u001B[0;34m\u001B[0m\u001B[0m\n",
      "\u001B[0;32m/opt/conda/lib/python3.9/site-packages/chi/network.py\u001B[0m in \u001B[0;36mget_network\u001B[0;34m(ref)\u001B[0m\n\u001B[1;32m    102\u001B[0m             \u001B[0mwere\u001B[0m \u001B[0mreturned\u001B[0m \u001B[0;32mfor\u001B[0m \u001B[0mthe\u001B[0m \u001B[0msearch\u001B[0m \u001B[0mterm\u001B[0m\u001B[0;34m.\u001B[0m\u001B[0;34m\u001B[0m\u001B[0;34m\u001B[0m\u001B[0m\n\u001B[1;32m    103\u001B[0m     \"\"\"\n\u001B[0;32m--> 104\u001B[0;31m     \u001B[0;32mreturn\u001B[0m \u001B[0m_resolve_resource\u001B[0m\u001B[0;34m(\u001B[0m\u001B[0;34m'network'\u001B[0m\u001B[0;34m,\u001B[0m \u001B[0mref\u001B[0m\u001B[0;34m)\u001B[0m\u001B[0;34m\u001B[0m\u001B[0;34m\u001B[0m\u001B[0m\n\u001B[0m\u001B[1;32m    105\u001B[0m \u001B[0;34m\u001B[0m\u001B[0m\n\u001B[1;32m    106\u001B[0m \u001B[0;34m\u001B[0m\u001B[0m\n",
      "\u001B[0;32m/opt/conda/lib/python3.9/site-packages/chi/network.py\u001B[0m in \u001B[0;36m_resolve_resource\u001B[0;34m(resource, name_or_id)\u001B[0m\n\u001B[1;32m     79\u001B[0m         \u001B[0mres\u001B[0m \u001B[0;34m=\u001B[0m \u001B[0mget_fn\u001B[0m\u001B[0;34m(\u001B[0m\u001B[0mname_or_id\u001B[0m\u001B[0;34m)\u001B[0m\u001B[0;34m\u001B[0m\u001B[0;34m\u001B[0m\u001B[0m\n\u001B[1;32m     80\u001B[0m     \u001B[0;32mexcept\u001B[0m \u001B[0mNotFound\u001B[0m\u001B[0;34m:\u001B[0m\u001B[0;34m\u001B[0m\u001B[0;34m\u001B[0m\u001B[0m\n\u001B[0;32m---> 81\u001B[0;31m         \u001B[0mresource_id\u001B[0m \u001B[0;34m=\u001B[0m \u001B[0m_resolve_id\u001B[0m\u001B[0;34m(\u001B[0m\u001B[0;34mf'{resource}s'\u001B[0m\u001B[0;34m,\u001B[0m \u001B[0mname_or_id\u001B[0m\u001B[0;34m)\u001B[0m\u001B[0;34m\u001B[0m\u001B[0;34m\u001B[0m\u001B[0m\n\u001B[0m\u001B[1;32m     82\u001B[0m         \u001B[0mres\u001B[0m \u001B[0;34m=\u001B[0m \u001B[0mget_fn\u001B[0m\u001B[0;34m(\u001B[0m\u001B[0mresource_id\u001B[0m\u001B[0;34m)\u001B[0m\u001B[0;34m\u001B[0m\u001B[0;34m\u001B[0m\u001B[0m\n\u001B[1;32m     83\u001B[0m     \u001B[0;31m# Unwrap nested structure\u001B[0m\u001B[0;34m\u001B[0m\u001B[0;34m\u001B[0m\u001B[0m\n",
      "\u001B[0;32m/opt/conda/lib/python3.9/site-packages/chi/network.py\u001B[0m in \u001B[0;36m_resolve_id\u001B[0;34m(resource, name)\u001B[0m\n\u001B[1;32m     66\u001B[0m     ]\n\u001B[1;32m     67\u001B[0m     \u001B[0;32mif\u001B[0m \u001B[0;32mnot\u001B[0m \u001B[0mresources\u001B[0m\u001B[0;34m:\u001B[0m\u001B[0;34m\u001B[0m\u001B[0;34m\u001B[0m\u001B[0m\n\u001B[0;32m---> 68\u001B[0;31m         \u001B[0;32mraise\u001B[0m \u001B[0mRuntimeError\u001B[0m\u001B[0;34m(\u001B[0m\u001B[0;34mf'No {resource} found with name {name}'\u001B[0m\u001B[0;34m)\u001B[0m\u001B[0;34m\u001B[0m\u001B[0;34m\u001B[0m\u001B[0m\n\u001B[0m\u001B[1;32m     69\u001B[0m     \u001B[0;32melif\u001B[0m \u001B[0mlen\u001B[0m\u001B[0;34m(\u001B[0m\u001B[0mresources\u001B[0m\u001B[0;34m)\u001B[0m \u001B[0;34m>\u001B[0m \u001B[0;36m1\u001B[0m\u001B[0;34m:\u001B[0m\u001B[0;34m\u001B[0m\u001B[0;34m\u001B[0m\u001B[0m\n\u001B[1;32m     70\u001B[0m         \u001B[0;32mraise\u001B[0m \u001B[0mRuntimeError\u001B[0m\u001B[0;34m(\u001B[0m\u001B[0;34mf'Found multiple {resource} with name {name}'\u001B[0m\u001B[0;34m)\u001B[0m\u001B[0;34m\u001B[0m\u001B[0;34m\u001B[0m\u001B[0m\n",
      "\u001B[0;31mRuntimeError\u001B[0m: No networks found with name adamcooper_uchicago_edu_OpenFlowTutorial_Net"
     ]
    }
   ],
   "source": [
    "import chi.network\n",
    "\n",
    "network = chi.network.get_network(network_name)\n",
    "network_id = network['id']\n",
    "\n",
    "print(f'Network ID: {network_id}')"
   ]
  },
  {
   "cell_type": "code",
   "execution_count": null,
   "metadata": {
    "pycharm": {
     "name": "#%%\n"
    }
   },
   "outputs": [],
   "source": [
    "subnet = chi.network.create_subnet(subnet_name, network_id)\n",
    "router = chi.network.create_router(router_name, gw_network_name='public')\n",
    "chi.network.add_subnet_to_router_by_name(router_name, subnet_name)"
   ]
  },
  {
   "cell_type": "markdown",
   "metadata": {
    "pycharm": {
     "name": "#%% md\n"
    }
   },
   "source": [
    "#### Start the Server"
   ]
  },
  {
   "cell_type": "code",
   "execution_count": null,
   "metadata": {
    "pycharm": {
     "name": "#%%\n"
    }
   },
   "outputs": [],
   "source": [
    "import chi.server\n",
    "\n",
    "# Create the server\n",
    "server = chi.server.create_server(server_name, \n",
    "                                  reservation_id=compute_reservation_id, \n",
    "                                  network_name=network_name, \n",
    "                                  image_name=image_name)\n",
    "# Wait until the server is active\n",
    "chi.server.wait_for_active(server.id)"
   ]
  },
  {
   "cell_type": "markdown",
   "metadata": {
    "pycharm": {
     "name": "#%% md\n"
    }
   },
   "source": [
    "#### Associate the Floating IP"
   ]
  },
  {
   "cell_type": "code",
   "execution_count": null,
   "metadata": {
    "pycharm": {
     "name": "#%%\n"
    }
   },
   "outputs": [],
   "source": [
    "floating_ip = chi.server.associate_floating_ip(server.id)\n",
    "\n",
    "print(f'Floating IP: {floating_ip}')"
   ]
  },
  {
   "cell_type": "markdown",
   "metadata": {
    "pycharm": {
     "name": "#%% md\n"
    }
   },
   "source": [
    "#### Delete Server"
   ]
  },
  {
   "cell_type": "code",
   "execution_count": null,
   "metadata": {
    "pycharm": {
     "name": "#%%\n"
    }
   },
   "outputs": [],
   "source": [
    "chi.server.delete_server(server.id)"
   ]
  },
  {
   "cell_type": "markdown",
   "metadata": {
    "pycharm": {
     "name": "#%% md\n"
    }
   },
   "source": [
    "#### De-configure Network"
   ]
  },
  {
   "cell_type": "code",
   "execution_count": null,
   "metadata": {
    "pycharm": {
     "name": "#%%\n"
    }
   },
   "outputs": [],
   "source": [
    "router_id = router['id']\n",
    "subnet_id = subnet['id']\n",
    "\n",
    "try:\n",
    "    result = chi.network.remove_subnet_from_router(router_id, subnet_id)\n",
    "except Exception as e:\n",
    "    print(f\"detach_router_by_name error: {str(e)}\")\n",
    "    pass\n",
    "\n",
    "try:\n",
    "    result = chi.network.delete_router(router_id)\n",
    "except Exception as e:\n",
    "    print(f\"delete_router_by_name error: {str(e)}\")\n",
    "    pass\n",
    "\n",
    "try:\n",
    "    result = chi.network.delete_subnet(subnet_id)\n",
    "except Exception as e:\n",
    "    print(f\"delete_subnet_by_name error: {str(e)}\")\n",
    "    pass\n",
    "\n",
    "try:\n",
    "    result = chi.network.delete_network(network_id)\n",
    "except Exception as e:\n",
    "    print(f\"delete_network_by_name error: {str(e)}\")\n",
    "    pass"
   ]
  },
  {
   "cell_type": "markdown",
   "metadata": {
    "pycharm": {
     "name": "#%% md\n"
    }
   },
   "source": [
    "#### Release Lease"
   ]
  },
  {
   "cell_type": "code",
   "execution_count": null,
   "metadata": {
    "pycharm": {
     "name": "#%%\n"
    }
   },
   "outputs": [],
   "source": [
    "chi.lease.delete_lease(lease['id'])"
   ]
  }
 ],
 "metadata": {
  "kernelspec": {
   "display_name": "Python 3 (ipykernel)",
   "language": "python",
   "name": "python3"
  },
  "language_info": {
   "codemirror_mode": {
    "name": "ipython",
    "version": 3
   },
   "file_extension": ".py",
   "mimetype": "text/x-python",
   "name": "python",
   "nbconvert_exporter": "python",
   "pygments_lexer": "ipython3",
   "version": "3.9.7"
  }
 },
 "nbformat": 4,
 "nbformat_minor": 4
}