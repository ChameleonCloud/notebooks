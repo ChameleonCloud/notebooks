{
 "cells": [
  {
   "cell_type": "markdown",
   "metadata": {},
   "source": [
    "## Tutorial: Create an OpenFlow Network and Servers\n",
    "\n",
    "This notebook demonstrates how to create isolated VLANs and attach servers.\n",
    "\n",
    "#### Modules \n",
    "\n",
    "- [Reserve a Mulitple Resources](../modules-python/reservations/reserve_multiple_resources.ipynb)\n",
    "- [Get Lease by Name](../modules-python/reservations/get_lease_by_name.ipynb)\n",
    "- [Get Reservation](../modules-python/reservations/get_reservations_from_lease.ipynb)\n",
    "- [Create Server](../modules-python/servers/create_server.ipynb)\n",
    "- [Delete Server](../modules-python/servers/delete_server.ipynb)\n",
    "- [Create Network](../modules-python/network/create_network.ipynb)\n",
    "- [Delete Network](../modules-python/network/delete_network.ipynb)\n",
    "- [Create Subnet](../modules-python/network/create_subnet.ipynb)\n",
    "- [Delete Subnet](../modules-python/network/delete_subnet.ipynb)\n",
    "\n",
    "#### Import Library\n",
    "\n",
    "```\n",
    "import chi\n",
    "from chi.server_api_examples import *\n",
    "from chi.reservation_api_examples import *\n",
    "from chi.networking_api_examples import *\n",
    "```\n",
    "\n",
    "\n"
   ]
  },
  {
   "cell_type": "markdown",
   "metadata": {},
   "source": [
    "## Tutorial: "
   ]
  },
  {
   "cell_type": "markdown",
   "metadata": {},
   "source": [
    "#### Configure the Environment"
   ]
  },
  {
   "cell_type": "code",
   "execution_count": 1,
   "metadata": {},
   "outputs": [],
   "source": [
    "import json\n",
    "import os\n",
    "import chi\n",
    "\n",
    "from chi.server_api_examples import *\n",
    "from chi.reservation_api_examples import *\n",
    "from chi.networking_api_examples import *\n",
    "\n",
    "#Config with your project and site\n",
    "chi.set('project_name', 'ExoGENI@Chameleon') # Replace with your project name\n",
    "chi.set('region_name', 'CHI@UC')     # Optional, defaults to 'CHI@UC'\n",
    "\n",
    "#Insert keypair name\n",
    "key_name = 'pruth-jupyter'  # Change to your keypair\n",
    "\n",
    "# Tip: Name resources with your username for easier identification\n",
    "username = os.getenv(\"USER\")\n",
    "server_name = username+'Server'\n",
    "network_name = username+'Net'\n",
    "subnet_name = username+'subnet'\n",
    "router_name = username+'Router'\n",
    "lease_name = username+'Lease'\n",
    "\n",
    "#Server attributes\n",
    "image_name='CC-CentOS7'\n",
    "flavor_name='baremetal'\n",
    "node_type=\"compute_skylake\"\n",
    "server_count=2\n",
    "physical_network=\"physnet1\"\n",
    "of_controller_ip=\"192.5.87.215\"\n",
    "of_controller_port = \"6653\"\n",
    "vswitch_name = username+\"SDN\""
   ]
  },
  {
   "cell_type": "markdown",
   "metadata": {},
   "source": [
    "#### Create a Lease"
   ]
  },
  {
   "cell_type": "code",
   "execution_count": 2,
   "metadata": {},
   "outputs": [
    {
     "data": {
      "text/plain": [
       "{'status': 'PENDING',\n",
       " 'user_id': 'f3a422ce5a4442e3a7a247ddfd98bfc3',\n",
       " 'name': 'pruthLease',\n",
       " 'end_date': '2020-07-24T16:37:00.000000',\n",
       " 'reservations': [{'status': 'pending',\n",
       "   'before_end': 'default',\n",
       "   'lease_id': 'de0d65ce-f1e7-4d8b-a8e5-af4e7a60e935',\n",
       "   'resource_id': '0d9cff25-1c75-489e-96ce-b4a893f5a972',\n",
       "   'max': 2,\n",
       "   'created_at': '2020-07-23 16:37:22',\n",
       "   'min': 2,\n",
       "   'updated_at': '2020-07-23 16:37:27',\n",
       "   'missing_resources': False,\n",
       "   'hypervisor_properties': '',\n",
       "   'on_start': 'default',\n",
       "   'resource_properties': '[\"==\", \"$node_type\", \"compute_skylake\"]',\n",
       "   'id': '073806a9-5be3-433c-bdd3-28d4f1e4f27a',\n",
       "   'resource_type': 'physical:host',\n",
       "   'resources_changed': False},\n",
       "  {'status': 'pending',\n",
       "   'lease_id': 'de0d65ce-f1e7-4d8b-a8e5-af4e7a60e935',\n",
       "   'resource_id': 'fff628cb-33af-4fd8-a86d-6063d1ef1e2a',\n",
       "   'created_at': '2020-07-23 16:37:29',\n",
       "   'updated_at': '2020-07-23 16:37:31',\n",
       "   'missing_resources': False,\n",
       "   'id': '4b6bb8a0-0d6b-436c-9f97-897bbc887375',\n",
       "   'resource_type': 'network',\n",
       "   'resources_changed': False},\n",
       "  {'status': 'pending',\n",
       "   'lease_id': 'de0d65ce-f1e7-4d8b-a8e5-af4e7a60e935',\n",
       "   'resource_id': '435472e3-ab8a-4f08-a859-128f1908ea6b',\n",
       "   'network_id': '44b38c44-2a42-4b6d-b129-6c8f1b2a1375',\n",
       "   'created_at': '2020-07-23 16:37:32',\n",
       "   'updated_at': '2020-07-23 16:37:33',\n",
       "   'required_floatingips': [],\n",
       "   'missing_resources': False,\n",
       "   'amount': 2,\n",
       "   'id': '85967402-0bc9-4476-800e-c3be79845923',\n",
       "   'resource_type': 'virtual:floatingip',\n",
       "   'resources_changed': False}],\n",
       " 'created_at': '2020-07-23 16:37:22',\n",
       " 'updated_at': '2020-07-23 16:37:33',\n",
       " 'events': [{'status': 'UNDONE',\n",
       "   'lease_id': 'de0d65ce-f1e7-4d8b-a8e5-af4e7a60e935',\n",
       "   'event_type': 'end_lease',\n",
       "   'created_at': '2020-07-23 16:37:33',\n",
       "   'updated_at': None,\n",
       "   'time': '2020-07-24T16:37:00.000000',\n",
       "   'id': '15a6b5b7-c442-4d03-83a1-980594ac6893'},\n",
       "  {'status': 'UNDONE',\n",
       "   'lease_id': 'de0d65ce-f1e7-4d8b-a8e5-af4e7a60e935',\n",
       "   'event_type': 'before_end_lease',\n",
       "   'created_at': '2020-07-23 16:37:33',\n",
       "   'updated_at': None,\n",
       "   'time': '2020-07-23T16:38:00.000000',\n",
       "   'id': '39f63cc6-6166-405c-a2cb-a8d6ac856fab'},\n",
       "  {'status': 'UNDONE',\n",
       "   'lease_id': 'de0d65ce-f1e7-4d8b-a8e5-af4e7a60e935',\n",
       "   'event_type': 'start_lease',\n",
       "   'created_at': '2020-07-23 16:37:33',\n",
       "   'updated_at': None,\n",
       "   'time': '2020-07-23T16:38:00.000000',\n",
       "   'id': 'dd3a8252-a7ca-47b5-b025-ea4c7c37dff6'}],\n",
       " 'id': 'de0d65ce-f1e7-4d8b-a8e5-af4e7a60e935',\n",
       " 'degraded': False,\n",
       " 'project_id': 'd9faac3973a847f1b718fa765fe312e2',\n",
       " 'start_date': '2020-07-23T16:38:00.000000',\n",
       " 'trust_id': 'ffcd702aa9db485999c61e42be5c9842'}"
      ]
     },
     "execution_count": 2,
     "metadata": {},
     "output_type": "execute_result"
    }
   ],
   "source": [
    "# Set start/end date for lease\n",
    "# Start one minute into future to avoid Blazar thinking lease is in past\n",
    "# due to rounding to closest minute.\n",
    "start_date = (datetime.now(tz=tz.tzutc()) + timedelta(minutes=1)).strftime(BLAZAR_TIME_FORMAT)\n",
    "end_date   = (datetime.now(tz=tz.tzutc()) + timedelta(days=1)).strftime(BLAZAR_TIME_FORMAT)\n",
    "\n",
    "# Build list of reservations (in this case there is only one reservation)\n",
    "reservation_list = []\n",
    "add_node_reservation(reservation_list, count=server_count, node_type=node_type)\n",
    "add_network_reservation(reservation_list, network_name=network_name, physical_network=physical_network,of_controller_ip=of_controller_ip, of_controller_port=of_controller_port, vswitch_name=vswitch_name)\n",
    "add_fip_reservation(reservation_list, count=2)\n",
    "\n",
    "# Create the lease\n",
    "chi.blazar().lease.create(name=lease_name, \n",
    "                            start=start_date,\n",
    "                            end=end_date,\n",
    "                            reservations=reservation_list, events=[])"
   ]
  },
  {
   "cell_type": "code",
   "execution_count": 3,
   "metadata": {},
   "outputs": [
    {
     "name": "stdout",
     "output_type": "stream",
     "text": [
      "{\n",
      "  \"status\": \"ACTIVE\",\n",
      "  \"user_id\": \"f3a422ce5a4442e3a7a247ddfd98bfc3\",\n",
      "  \"name\": \"pruthLease\",\n",
      "  \"end_date\": \"2020-07-24T16:37:00.000000\",\n",
      "  \"reservations\": [\n",
      "    {\n",
      "      \"status\": \"active\",\n",
      "      \"before_end\": \"default\",\n",
      "      \"lease_id\": \"de0d65ce-f1e7-4d8b-a8e5-af4e7a60e935\",\n",
      "      \"resource_id\": \"0d9cff25-1c75-489e-96ce-b4a893f5a972\",\n",
      "      \"max\": 2,\n",
      "      \"created_at\": \"2020-07-23 16:37:22\",\n",
      "      \"min\": 2,\n",
      "      \"updated_at\": \"2020-07-23 16:38:11\",\n",
      "      \"missing_resources\": false,\n",
      "      \"hypervisor_properties\": \"\",\n",
      "      \"on_start\": \"default\",\n",
      "      \"resource_properties\": \"[\\\"==\\\", \\\"$node_type\\\", \\\"compute_skylake\\\"]\",\n",
      "      \"id\": \"073806a9-5be3-433c-bdd3-28d4f1e4f27a\",\n",
      "      \"resource_type\": \"physical:host\",\n",
      "      \"resources_changed\": false\n",
      "    },\n",
      "    {\n",
      "      \"status\": \"active\",\n",
      "      \"lease_id\": \"de0d65ce-f1e7-4d8b-a8e5-af4e7a60e935\",\n",
      "      \"resource_id\": \"fff628cb-33af-4fd8-a86d-6063d1ef1e2a\",\n",
      "      \"created_at\": \"2020-07-23 16:37:29\",\n",
      "      \"updated_at\": \"2020-07-23 16:38:16\",\n",
      "      \"missing_resources\": false,\n",
      "      \"id\": \"4b6bb8a0-0d6b-436c-9f97-897bbc887375\",\n",
      "      \"resource_type\": \"network\",\n",
      "      \"resources_changed\": false\n",
      "    },\n",
      "    {\n",
      "      \"status\": \"active\",\n",
      "      \"lease_id\": \"de0d65ce-f1e7-4d8b-a8e5-af4e7a60e935\",\n",
      "      \"resource_id\": \"435472e3-ab8a-4f08-a859-128f1908ea6b\",\n",
      "      \"network_id\": \"44b38c44-2a42-4b6d-b129-6c8f1b2a1375\",\n",
      "      \"created_at\": \"2020-07-23 16:37:32\",\n",
      "      \"updated_at\": \"2020-07-23 16:38:21\",\n",
      "      \"required_floatingips\": [],\n",
      "      \"missing_resources\": false,\n",
      "      \"amount\": 2,\n",
      "      \"id\": \"85967402-0bc9-4476-800e-c3be79845923\",\n",
      "      \"resource_type\": \"virtual:floatingip\",\n",
      "      \"resources_changed\": false\n",
      "    }\n",
      "  ],\n",
      "  \"created_at\": \"2020-07-23 16:37:22\",\n",
      "  \"updated_at\": \"2020-07-23 16:38:21\",\n",
      "  \"events\": [\n",
      "    {\n",
      "      \"status\": \"UNDONE\",\n",
      "      \"lease_id\": \"de0d65ce-f1e7-4d8b-a8e5-af4e7a60e935\",\n",
      "      \"event_type\": \"end_lease\",\n",
      "      \"created_at\": \"2020-07-23 16:37:33\",\n",
      "      \"updated_at\": null,\n",
      "      \"time\": \"2020-07-24T16:37:00.000000\",\n",
      "      \"id\": \"15a6b5b7-c442-4d03-83a1-980594ac6893\"\n",
      "    },\n",
      "    {\n",
      "      \"status\": \"DONE\",\n",
      "      \"lease_id\": \"de0d65ce-f1e7-4d8b-a8e5-af4e7a60e935\",\n",
      "      \"event_type\": \"before_end_lease\",\n",
      "      \"created_at\": \"2020-07-23 16:37:33\",\n",
      "      \"updated_at\": \"2020-07-23 16:38:22\",\n",
      "      \"time\": \"2020-07-23T16:38:00.000000\",\n",
      "      \"id\": \"39f63cc6-6166-405c-a2cb-a8d6ac856fab\"\n",
      "    },\n",
      "    {\n",
      "      \"status\": \"DONE\",\n",
      "      \"lease_id\": \"de0d65ce-f1e7-4d8b-a8e5-af4e7a60e935\",\n",
      "      \"event_type\": \"start_lease\",\n",
      "      \"created_at\": \"2020-07-23 16:37:33\",\n",
      "      \"updated_at\": \"2020-07-23 16:38:21\",\n",
      "      \"time\": \"2020-07-23T16:38:00.000000\",\n",
      "      \"id\": \"dd3a8252-a7ca-47b5-b025-ea4c7c37dff6\"\n",
      "    }\n",
      "  ],\n",
      "  \"id\": \"de0d65ce-f1e7-4d8b-a8e5-af4e7a60e935\",\n",
      "  \"degraded\": false,\n",
      "  \"project_id\": \"d9faac3973a847f1b718fa765fe312e2\",\n",
      "  \"start_date\": \"2020-07-23T16:38:00.000000\",\n",
      "  \"trust_id\": \"ffcd702aa9db485999c61e42be5c9842\"\n",
      "}\n"
     ]
    }
   ],
   "source": [
    "#Get the lease by name\n",
    "lease = get_lease_by_name(lease_name)\n",
    "    \n",
    "#Print the lease info\n",
    "print(json.dumps(lease, indent=2))"
   ]
  },
  {
   "cell_type": "markdown",
   "metadata": {},
   "source": [
    "#### Get the Reservations"
   ]
  },
  {
   "cell_type": "code",
   "execution_count": 4,
   "metadata": {},
   "outputs": [
    {
     "name": "stdout",
     "output_type": "stream",
     "text": [
      "compute_reservation_id: 073806a9-5be3-433c-bdd3-28d4f1e4f27a\n",
      "network_reservation_id: 4b6bb8a0-0d6b-436c-9f97-897bbc887375\n",
      "floatingip_reservation_id: 85967402-0bc9-4476-800e-c3be79845923\n"
     ]
    }
   ],
   "source": [
    "#Get the lease by name\n",
    "lease = get_lease_by_name(lease_name)\n",
    "\n",
    "compute_reservation_id = list(filter(lambda reservation: reservation['resource_type'] == 'physical:host', lease['reservations']))[0]['id']\n",
    "network_reservation_id = list(filter(lambda reservation: reservation['resource_type'] == 'network', lease['reservations']))[0]['id']\n",
    "floatingip_reservation_id = list(filter(lambda reservation: reservation['resource_type'] == 'virtual:floatingip', lease['reservations']))[0]['id']\n",
    "\n",
    "print(\"compute_reservation_id: \" + compute_reservation_id)\n",
    "print(\"network_reservation_id: \" + network_reservation_id)\n",
    "print(\"floatingip_reservation_id: \" + floatingip_reservation_id)"
   ]
  },
  {
   "cell_type": "markdown",
   "metadata": {},
   "source": [
    "#### Configute the Network"
   ]
  },
  {
   "cell_type": "code",
   "execution_count": 5,
   "metadata": {},
   "outputs": [
    {
     "name": "stdout",
     "output_type": "stream",
     "text": [
      "Network ID: b5d8695f-c153-4cf1-946d-1bc93ec0c7c8\n"
     ]
    }
   ],
   "source": [
    "network = get_network_by_name(network_name)\n",
    "network_id = network['id']\n",
    "\n",
    "print('Network ID: ' + str(network_id))"
   ]
  },
  {
   "cell_type": "code",
   "execution_count": 6,
   "metadata": {},
   "outputs": [
    {
     "data": {
      "text/plain": [
       "{'network_id': 'b5d8695f-c153-4cf1-946d-1bc93ec0c7c8',\n",
       " 'tenant_id': 'd9faac3973a847f1b718fa765fe312e2',\n",
       " 'subnet_id': '0d8621dc-5591-418a-bbcc-1438d1e6b1d1',\n",
       " 'subnet_ids': ['0d8621dc-5591-418a-bbcc-1438d1e6b1d1'],\n",
       " 'port_id': 'f03a507a-786d-4a5e-8b11-aa37b782051d',\n",
       " 'id': '94ed8bf7-1d9d-410f-ae20-f5aab4aedda5'}"
      ]
     },
     "execution_count": 6,
     "metadata": {},
     "output_type": "execute_result"
    }
   ],
   "source": [
    "subnet = add_subnet(subnet_name, network_name)\n",
    "router = create_router(router_name, gw_network_name='public')\n",
    "attach_router_to_subnet(router_name=router_name, subnet_name=subnet_name)"
   ]
  },
  {
   "cell_type": "markdown",
   "metadata": {},
   "source": [
    "#### Start the Server"
   ]
  },
  {
   "cell_type": "code",
   "execution_count": 7,
   "metadata": {},
   "outputs": [],
   "source": [
    "#create the server\n",
    "server = create_server(server_name, \n",
    "                       reservation_id=compute_reservation_id, \n",
    "                       key_name=key_name, \n",
    "                       network_name=network_name, \n",
    "                       image_name=image_name, \n",
    "                       flavor_name=flavor_name)"
   ]
  },
  {
   "cell_type": "markdown",
   "metadata": {},
   "source": [
    "#### Associate the Floating IP   (TODO: need to find floating_ip from the reservation that was just made)"
   ]
  },
  {
   "cell_type": "code",
   "execution_count": 8,
   "metadata": {},
   "outputs": [
    {
     "name": "stdout",
     "output_type": "stream",
     "text": [
      "Floating IP: 192.5.87.218\n"
     ]
    }
   ],
   "source": [
    "floating_ip = associate_floating_ip(server_name)\n",
    "\n",
    "print('Floating IP: ' + str(floating_ip))"
   ]
  },
  {
   "cell_type": "markdown",
   "metadata": {},
   "source": [
    "#### Delete Server"
   ]
  },
  {
   "cell_type": "code",
   "execution_count": 9,
   "metadata": {},
   "outputs": [
    {
     "data": {
      "text/plain": [
       "()"
      ]
     },
     "execution_count": 9,
     "metadata": {},
     "output_type": "execute_result"
    }
   ],
   "source": [
    "delete_server_by_name(server_name)"
   ]
  },
  {
   "cell_type": "markdown",
   "metadata": {},
   "source": [
    "#### De-configure Network"
   ]
  },
  {
   "cell_type": "code",
   "execution_count": 10,
   "metadata": {},
   "outputs": [],
   "source": [
    "try:\n",
    "    result = detach_router_by_name(router_name=router_name, subnet_name=subnet_name)\n",
    "except Exception as e:\n",
    "    print(\"detach_router_by_name error:\" + str(e))\n",
    "    pass\n",
    "\n",
    "try:\n",
    "    result = delete_router_by_name(router_name)\n",
    "except Exception as e:\n",
    "    print(\"delete_router_by_name error: \" + str(e))\n",
    "    pass\n",
    "\n",
    "try:\n",
    "    result = delete_subnet_by_name(subnet_name)\n",
    "except Exception as e:\n",
    "    print(\"delete_subnet_by_name error: \" + str(e))\n",
    "    pass\n",
    "\n",
    "try:\n",
    "    result = delete_network_by_name(network_name)\n",
    "except Exception as e:\n",
    "    print(\"delete_network_by_name error: \" + str(e))\n",
    "    pass"
   ]
  },
  {
   "cell_type": "markdown",
   "metadata": {},
   "source": [
    "#### Release Lease"
   ]
  },
  {
   "cell_type": "code",
   "execution_count": 11,
   "metadata": {},
   "outputs": [
    {
     "name": "stdout",
     "output_type": "stream",
     "text": [
      "Deleted lease pruthLease with id de0d65ce-f1e7-4d8b-a8e5-af4e7a60e935\n"
     ]
    }
   ],
   "source": [
    "delete_lease_by_name(lease_name)"
   ]
  },
  {
   "cell_type": "code",
   "execution_count": null,
   "metadata": {},
   "outputs": [],
   "source": []
  }
 ],
 "metadata": {
  "kernelspec": {
   "display_name": "Python 3",
   "language": "python",
   "name": "python3"
  },
  "language_info": {
   "codemirror_mode": {
    "name": "ipython",
    "version": 3
   },
   "file_extension": ".py",
   "mimetype": "text/x-python",
   "name": "python",
   "nbconvert_exporter": "python",
   "pygments_lexer": "ipython3",
   "version": "3.7.6"
  }
 },
 "nbformat": 4,
 "nbformat_minor": 4
}
