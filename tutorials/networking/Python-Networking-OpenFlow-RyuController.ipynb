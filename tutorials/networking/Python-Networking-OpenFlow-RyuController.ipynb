{
 "cells": [
  {
   "cell_type": "markdown",
   "source": [
    "# Create a Ryu OpenFlow Controller"
   ],
   "metadata": {
    "collapsed": false,
    "pycharm": {
     "name": "#%% md\n"
    }
   }
  },
  {
   "cell_type": "code",
   "execution_count": null,
   "outputs": [],
   "source": [
    "import json\n",
    "import os\n",
    "import chi\n",
    "\n",
    "#Config with your project and site\n",
    "chi.set('project_name', 'chameleon')   # Replace with your project name\n",
    "chi.set('region_name', 'CHI@UC')       # Optional, defaults to 'CHI@UC'\n",
    "chi.use_site('CHI@UC')                 # Authenticate to CHI@UC site\n",
    "\n",
    "# Tip: Name resources with your username for easier identification\n",
    "username = os.getenv(\"USER\")\n",
    "prefix = username + \"_RyuControllerTutorial_\"\n",
    "server_name = prefix+'Server'\n",
    "lease_name = username+'Lease'\n",
    "\n",
    "#Server attributes\n",
    "image_name='CC-Ubuntu20.04'\n",
    "node_type=\"compute_skylake\"\n",
    "server_count=1\n",
    "network_name='sharednet1'"
   ],
   "metadata": {
    "collapsed": false,
    "pycharm": {
     "name": "#%%\n"
    }
   }
  },
  {
   "cell_type": "code",
   "execution_count": null,
   "outputs": [],
   "source": [
    "import chi.lease\n",
    "from datetime import datetime, timedelta\n",
    "from dateutil import tz\n",
    "\n",
    "BLAZAR_TIME_FORMAT = '%Y-%m-%d %H:%M'\n",
    "\n",
    "# Set start/end date for lease\n",
    "# Start one minute into future to avoid Blazar thinking lease is in past\n",
    "# due to rounding to closest minute.\n",
    "start_date = (datetime.now(tz=tz.tzutc()) + timedelta(minutes=1)).strftime(BLAZAR_TIME_FORMAT)\n",
    "end_date   = (datetime.now(tz=tz.tzutc()) + timedelta(days=1)).strftime(BLAZAR_TIME_FORMAT)\n",
    "\n",
    "# Build list of reservations (in this case there is only one reservation)\n",
    "reservation_list = []\n",
    "chi.lease.add_node_reservation(reservation_list, count=server_count, node_type=node_type)\n",
    "chi.lease.add_fip_reservation(reservation_list, count=server_count)\n",
    "\n",
    "# Create the lease\n",
    "lease = chi.lease.create_lease(lease_name,\n",
    "                               reservations=reservation_list,\n",
    "                               start_date=start_date,\n",
    "                               end_date=end_date)\n",
    "#Print the lease info\n",
    "print(json.dumps(lease, indent=2))"
   ],
   "metadata": {
    "collapsed": false,
    "pycharm": {
     "name": "#%%\n"
    }
   }
  },
  {
   "cell_type": "code",
   "execution_count": null,
   "outputs": [],
   "source": [
    "compute_reservation_id = [reservation for reservation in lease['reservations'] if reservation['resource_type'] == 'physical:host'][0]['id']\n",
    "floatingip_reservation_id = [reservation for reservation in lease['reservations'] if reservation['resource_type'] == 'virtual:floatingip'][0]['id']\n",
    "\n",
    "print(\"compute_reservation_id: \" + compute_reservation_id)\n",
    "print(\"floatingip_reservation_id: \" + floatingip_reservation_id)"
   ],
   "metadata": {
    "collapsed": false,
    "pycharm": {
     "name": "#%%\n"
    }
   }
  },
  {
   "cell_type": "code",
   "execution_count": null,
   "outputs": [],
   "source": [
    "import chi.server\n",
    "\n",
    "# Create the server\n",
    "server = chi.server.create_server(server_name,\n",
    "                                  reservation_id=compute_reservation_id,\n",
    "                                  network_name=network_name,\n",
    "                                  image_name=image_name)\n",
    "# Wait until the server is active\n",
    "chi.server.wait_for_active(server.id)"
   ],
   "metadata": {
    "collapsed": false,
    "pycharm": {
     "name": "#%%\n"
    }
   }
  },
  {
   "cell_type": "code",
   "execution_count": null,
   "outputs": [],
   "source": [
    "floating_ip = chi.server.associate_floating_ip(server.id)\n",
    "\n",
    "print(f'Floating IP: {floating_ip}')"
   ],
   "metadata": {
    "collapsed": false,
    "pycharm": {
     "name": "#%%\n"
    }
   }
  },
  {
   "cell_type": "code",
   "execution_count": null,
   "outputs": [],
   "source": [
    "ryu_app = 'simple_switch_13_custom_chameleon.py'\n",
    "ryu_port = '6653'\n",
    "mirror_port = ''\n",
    "\n",
    "script= '#!/bin/bash'   '\\n' \\\n",
    "    '{'   '\\n' \\\n",
    "    'yum install -y yum-utils device-mapper-persistent-data lvm2 vim'   '\\n' \\\n",
    "    'yum-config-manager --add-repo https://download.docker.com/linux/centos/docker-ce.repo'   '\\n' \\\n",
    "    'yum install -y docker-ce'   '\\n' \\\n",
    "    'systemctl start docker'   '\\n' \\\n",
    "    '   \\n' \\\n",
    "    r'RECIPE_REPO=\\\"https://github.com/RENCI-NRIG/exogeni-recipes.git\\\"'   '\\n' \\\n",
    "    'RECIPE_DIR=\\\"/opt/exogeni-recipes\\\"'   '\\n' \\\n",
    "    'RECIPE_APP=\\\"openflow-controller/docker\\\"'   '\\n' \\\n",
    "    'DOCKER_IMAGE=\\\"centos-ryu\\\"'   '\\n' \\\n",
    "    'DOCKER_CONTAINER_NAME=\\\"ryu-controller\\\"'   '\\n' \\\n",
    "    'OFP_TCP_LISTEN_PORT=\\\"'+ryu_port+'\\\"'   '\\n' \\\n",
    "    'RYU_APP=\\\"/opt/ryu_app/'+ryu_app+'\\\"'   '\\n' \\\n",
    "    'MIRROR_PORT='+mirror_port+   '\\n' \\\n",
    "    '   \\n' \\\n",
    "    'git clone  --no-checkout \\${RECIPE_REPO} \\${RECIPE_DIR}'   '\\n' \\\n",
    "    'cd \\${RECIPE_DIR} && git config core.sparsecheckout true'   '\\n' \\\n",
    "    'echo \\\"\\${RECIPE_APP}/*\\\" >> .git/info/sparse-checkout'   '\\n' \\\n",
    "    'git read-tree -m -u HEAD'   '\\n' \\\n",
    "    '   \\n' \\\n",
    "    'cd \\${RECIPE_DIR}/\\${RECIPE_APP}'   '\\n' \\\n",
    "    'docker volume create var_run_ryu'   '\\n' \\\n",
    "    'docker volume create var_log_ryu'   '\\n' \\\n",
    "    'docker volume create opt_ryu'   '\\n' \\\n",
    "    'docker volume create opt_ryu_chameleon'   '\\n' \\\n",
    "    \"sed -r -i \\'s/^(RYU_APP=.*)/#\\1/g\\' ryu_start.sh\"   '\\n' \\\n",
    "    \"sed -r -i \\'s/^(OFP_TCP_LISTEN_PORT=.*)/#\\1/g\\' ryu_start.sh\"   '\\n' \\\n",
    "    '   \\n' \\\n",
    "    'docker build -t \\${DOCKER_IMAGE} .'   '\\n' \\\n",
    "    '   \\n' \\\n",
    "    'docker run --rm -dit -p \\${OFP_TCP_LISTEN_PORT}:\\${OFP_TCP_LISTEN_PORT} -p 8080:8080 -v opt_ryu_chameleon:/opt/ryu_chameleon -v opt_ryu:/opt/ryu -v var_log_ryu:/var/log/ryu -v var_run_ryu:/var/run/ryu -e RYU_APP=\\${RYU_APP} -e OFP_TCP_LISTEN_PORT=\\${OFP_TCP_LISTEN_PORT}  --name=\\${DOCKER_CONTAINER_NAME} \\${DOCKER_IMAGE}'   '\\n' \\\n",
    "    '   \\n' \\\n",
    "    'echo done'   '\\n' \\\n",
    "    '   \\n' \\\n",
    "    '} > /tmp/boot.log 2>&1'   '\\n'"
   ],
   "metadata": {
    "collapsed": false,
    "pycharm": {
     "name": "#%%\n"
    }
   }
  },
  {
   "cell_type": "code",
   "execution_count": null,
   "outputs": [],
   "source": [
    "import paramiko\n",
    "#from scp import SCPClient, SCPException\n",
    "\n",
    "key = paramiko.RSAKey.from_private_key_file(\"/home/pruth/work/pruth-jupyter\")\n",
    "client = paramiko.SSHClient()\n",
    "client.load_system_host_keys()\n",
    "client.set_missing_host_key_policy(paramiko.MissingHostKeyPolicy())\n",
    "\n",
    "client.set_missing_host_key_policy(paramiko.AutoAddPolicy())\n",
    "client.connect(floating_ip, username='cc', pkey=key)\n",
    "\n",
    "stdin, stdout, stderr = client.exec_command('echo \\\"' + script + '\\\" > script.sh; chmod +x script.sh; sudo ./script.sh')\n",
    "print(stdout.read())\n",
    "print(stderr.read())\n",
    "\n",
    "client.close()\n",
    "print('done!')"
   ],
   "metadata": {
    "collapsed": false,
    "pycharm": {
     "name": "#%%\n"
    }
   }
  },
  {
   "cell_type": "code",
   "execution_count": null,
   "outputs": [],
   "source": [
    "chi.server.delete_server(server.id)\n",
    "chi.lease.delete_lease(lease['id'])"
   ],
   "metadata": {
    "collapsed": false,
    "pycharm": {
     "name": "#%%\n"
    }
   }
  }
 ],
 "metadata": {
  "kernelspec": {
   "display_name": "Python 3 (ipykernel)",
   "language": "python",
   "name": "python3"
  },
  "language_info": {
   "codemirror_mode": {
    "name": "ipython",
    "version": 3
   },
   "file_extension": ".py",
   "mimetype": "text/x-python",
   "name": "python",
   "nbconvert_exporter": "python",
   "pygments_lexer": "ipython3",
   "version": "3.9.7"
  }
 },
 "nbformat": 4,
 "nbformat_minor": 4
}