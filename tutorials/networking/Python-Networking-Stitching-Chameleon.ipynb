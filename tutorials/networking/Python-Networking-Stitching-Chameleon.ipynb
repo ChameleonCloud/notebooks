{
 "cells": [
  {
   "cell_type": "markdown",
   "source": [
    "## Tutorial: Stitching Networks between Chameleon Sites\n",
    "\n",
    "This notebook demonstrates how to use ExoGENI to stitch networks between Chameleon sites. It will walk through reserving and configuring stitchable networks on each Chameleon site and using the xoStitch tool to create a layer2 circuit between the networks. "
   ],
   "metadata": {
    "collapsed": false,
    "pycharm": {
     "name": "#%% md\n"
    }
   }
  },
  {
   "cell_type": "markdown",
   "source": [
    "## Tutorial: "
   ],
   "metadata": {
    "collapsed": false,
    "pycharm": {
     "name": "#%% md\n"
    }
   }
  },
  {
   "cell_type": "markdown",
   "source": [
    "#### Configure the Environment\n",
    "\n",
    "Import the chi example API calls, set the project name and region, and set various names and attributes to use in the tutorial. "
   ],
   "metadata": {
    "collapsed": false,
    "pycharm": {
     "name": "#%% md\n"
    }
   }
  },
  {
   "cell_type": "code",
   "execution_count": null,
   "outputs": [],
   "source": [
    "import json\n",
    "import os\n",
    "import chi\n",
    "\n",
    "#Config with your project and site\n",
    "chi.set('project_name', 'chameleon')   # Replace with your project name\n",
    "chi.use_site('CHI@UC')                 # Authenticate to CHI@UC site\n",
    "\n",
    "#GENI Pem file\n",
    "geni_pem_file = '/home/pruth/work/geni-pruth.pem'\n",
    "\n",
    "# Tip: Name resources with your username for easier identification\n",
    "username = os.getenv(\"USER\")\n",
    "prefix = username + \"_StitchingTutorial_\"\n",
    "server_name = prefix+'Server'\n",
    "network_name = prefix+'Net'\n",
    "subnet_name = prefix+'Subnet'\n",
    "router_name = prefix+'Router'\n",
    "lease_name = prefix+'Lease'\n",
    "\n",
    "\n",
    "#Server Config\n",
    "image_name='CC-Ubuntu20.04'\n",
    "node_type=\"compute_cascadelake_r\"\n",
    "server_count=1\n",
    "\n",
    "#Network Config\n",
    "#physical_network='exogeni'\n",
    "physical_network='physnet1'\n",
    "cidr='192.168.42.0/24'"
   ],
   "metadata": {
    "collapsed": false,
    "pycharm": {
     "name": "#%%\n"
    }
   }
  },
  {
   "cell_type": "markdown",
   "source": [
    "## Create Chicago Network and Server"
   ],
   "metadata": {
    "collapsed": false,
    "pycharm": {
     "name": "#%% md\n"
    }
   }
  },
  {
   "cell_type": "markdown",
   "source": [
    "#### Create a Lease at Chicago"
   ],
   "metadata": {
    "collapsed": false,
    "pycharm": {
     "name": "#%% md\n"
    }
   }
  },
  {
   "cell_type": "code",
   "execution_count": null,
   "outputs": [],
   "source": [
    "import chi.lease\n",
    "from datetime import datetime, timedelta\n",
    "from dateutil import tz\n",
    "\n",
    "BLAZAR_TIME_FORMAT = '%Y-%m-%d %H:%M'\n",
    "\n",
    "# Set start/end date for lease\n",
    "# Start one minute into future to avoid Blazar thinking lease is in past\n",
    "# due to rounding to closest minute.\n",
    "start_date = (datetime.now(tz=tz.tzutc()) + timedelta(minutes=1)).strftime(BLAZAR_TIME_FORMAT)\n",
    "end_date   = (datetime.now(tz=tz.tzutc()) + timedelta(days=1)).strftime(BLAZAR_TIME_FORMAT)\n",
    "\n",
    "# Build list of reservations (in this case there is only one reservation)\n",
    "reservation_list = []\n",
    "chi.lease.add_node_reservation(reservation_list, count=server_count, node_type=node_type)\n",
    "chi.lease.add_network_reservation(reservation_list, network_name=network_name, physical_network=physical_network)\n",
    "chi.lease.add_fip_reservation(reservation_list, count=1)\n",
    "\n",
    "# Create the lease\n",
    "uc_lease = chi.lease.create_lease(lease_name,\n",
    "                                  reservations=reservation_list,\n",
    "                                  start_date=start_date,\n",
    "                                  end_date=end_date)\n",
    "    \n",
    "#Print the lease info\n",
    "print(json.dumps(lease, indent=2))"
   ],
   "metadata": {
    "collapsed": false,
    "pycharm": {
     "name": "#%%\n"
    }
   }
  },
  {
   "cell_type": "markdown",
   "source": [
    "#### Get the Reservations\n",
    "\n",
    "Each lease contains one or more reservations. The individual reservation IDs are required to instantiate resources. You can [get the lease](../modules-python/reservations/get_lease_by_name.ipynb) and separate the reservation IDs for compute, network, and floating IPs using the technique below."
   ],
   "metadata": {
    "collapsed": false,
    "pycharm": {
     "name": "#%% md\n"
    }
   }
  },
  {
   "cell_type": "code",
   "execution_count": null,
   "outputs": [],
   "source": [
    "uc_compute_reservation_id = [reservation for reservation in uc_lease['reservations'] if reservation['resource_type'] == 'physical:host'][0]['id']\n",
    "uc_network_reservation_id = [reservation for reservation in uc_lease['reservations'] if reservation['resource_type'] == 'network'][0]['id']\n",
    "uc_floatingip_reservation_id = [reservation for reservation in uc_lease['reservations'] if reservation['resource_type'] == 'virtual:floatingip'][0]['id']\n",
    "\n",
    "print(f\"uc_compute_reservation_id: {uc_compute_reservation_id}\")\n",
    "print(f\"uc_network_reservation_id: {uc_network_reservation_id}\")\n",
    "print(f\"uc_floatingip_reservation_id: {uc_floatingip_reservation_id}\")"
   ],
   "metadata": {
    "collapsed": false,
    "pycharm": {
     "name": "#%%\n"
    }
   }
  },
  {
   "cell_type": "markdown",
   "source": [
    "#### Get the Network\n",
    "\n",
    "Getting the network is not required for the remainder of the tutorial. However, it is a good test to see if your network reservation has become active. The [get_network_by_name](../modules-python/network/get_network_by_name.ipynb) call will fail if a network with that name does not yet exits. It will also fail if a network with the same name already exists (likely from a previous run of this notebook)."
   ],
   "metadata": {
    "collapsed": false,
    "pycharm": {
     "name": "#%% md\n"
    }
   }
  },
  {
   "cell_type": "code",
   "execution_count": null,
   "outputs": [],
   "source": [
    "import chi.network\n",
    "\n",
    "#Get the network\n",
    "uc_network = chi.network.get_network(network_name)\n",
    "print(json.dumps(uc_network, indent=2))\n",
    "\n",
    "#Get the network ID\n",
    "uc_network_id = uc_network['id']\n",
    "print(f'Network ID: {uc_network_id}')\n",
    "\n",
    "#Get the VLAN tag (needed for ExoGENI stitching)\n",
    "uc_network_vlan = uc_network['provider:segmentation_id']\n",
    "print(f'uc_network_vlan: {uc_network_vlan}')"
   ],
   "metadata": {
    "collapsed": false,
    "pycharm": {
     "name": "#%%\n"
    }
   }
  },
  {
   "cell_type": "markdown",
   "source": [
    "#### Add a subnet to the reserved network"
   ],
   "metadata": {
    "collapsed": false,
    "pycharm": {
     "name": "#%% md\n"
    }
   }
  },
  {
   "cell_type": "code",
   "execution_count": null,
   "outputs": [],
   "source": [
    "uc_subnet = chi.network.create_subnet(subnet_name, uc_network_id, cidr=cidr)\n",
    "\n",
    "print(json.dumps(uc_subnet, indent=2))"
   ],
   "metadata": {
    "collapsed": false,
    "pycharm": {
     "name": "#%%\n"
    }
   }
  },
  {
   "cell_type": "markdown",
   "source": [
    "#### Add a Router"
   ],
   "metadata": {
    "collapsed": false,
    "pycharm": {
     "name": "#%% md\n"
    }
   }
  },
  {
   "cell_type": "code",
   "execution_count": null,
   "outputs": [],
   "source": [
    "uc_router = chi.network.create_router(router_name, gw_network_name='public')\n",
    "\n",
    "print(json.dumps(uc_router, indent=2))"
   ],
   "metadata": {
    "collapsed": false,
    "pycharm": {
     "name": "#%%\n"
    }
   }
  },
  {
   "cell_type": "markdown",
   "source": [
    "#### Attach the Router and Subnet"
   ],
   "metadata": {
    "collapsed": false,
    "pycharm": {
     "name": "#%% md\n"
    }
   }
  },
  {
   "cell_type": "code",
   "execution_count": null,
   "outputs": [],
   "source": [
    "chi.network.add_subnet_to_router_by_name(router_name, subnet_name)"
   ],
   "metadata": {
    "collapsed": false,
    "pycharm": {
     "name": "#%%\n"
    }
   }
  },
  {
   "cell_type": "markdown",
   "source": [
    "## Create TACC Network and Server"
   ],
   "metadata": {
    "collapsed": false,
    "pycharm": {
     "name": "#%% md\n"
    }
   }
  },
  {
   "cell_type": "markdown",
   "source": [
    "#### Create a Lease at TACC"
   ],
   "metadata": {
    "collapsed": false,
    "pycharm": {
     "name": "#%% md\n"
    }
   }
  },
  {
   "cell_type": "code",
   "execution_count": null,
   "outputs": [],
   "source": [
    "chi.set('region_name', 'CHI@TACC')     # Switch regions to TACC\n",
    "chi.use_site('CHI@TACC')               # Authenticate to CHI@TACC site\n",
    "\n",
    "# Set start/end date for lease\n",
    "# Start one minute into future to avoid Blazar thinking lease is in past\n",
    "# due to rounding to closest minute.\n",
    "start_date = (datetime.now(tz=tz.tzutc()) + timedelta(minutes=1)).strftime(BLAZAR_TIME_FORMAT)\n",
    "end_date   = (datetime.now(tz=tz.tzutc()) + timedelta(days=1)).strftime(BLAZAR_TIME_FORMAT)\n",
    "\n",
    "# Build list of reservations (in this case there is only one reservation)\n",
    "reservation_list = []\n",
    "chi.lease.add_node_reservation(reservation_list, count=server_count, node_type=node_type)\n",
    "chi.lease.add_network_reservation(reservation_list, network_name=network_name, physical_network=physical_network)\n",
    "chi.lease.add_fip_reservation(reservation_list, count=1)\n",
    "\n",
    "# Create the lease\n",
    "tacc_lease = chi.lease.create_lease(lease_name,\n",
    "                                    reservations=reservation_list,\n",
    "                                    start_date=start_date,\n",
    "                                    end_date=end_date)\n",
    "    \n",
    "#Print the lease info\n",
    "print(json.dumps(tacc_lease, indent=2))"
   ],
   "metadata": {
    "collapsed": false,
    "pycharm": {
     "name": "#%%\n"
    }
   }
  },
  {
   "cell_type": "markdown",
   "source": [
    "#### Get the Reservations\n",
    "\n",
    "Each lease contains one or more reservations. The individual reservation IDs are required to instantiate resources. You can [get the lease](../modules-python/reservations/get_lease_by_name.ipynb) and separate the reservation IDs for compute, network, and floating IPs using the technique below."
   ],
   "metadata": {
    "collapsed": false,
    "pycharm": {
     "name": "#%% md\n"
    }
   }
  },
  {
   "cell_type": "code",
   "execution_count": null,
   "outputs": [],
   "source": [
    "tacc_compute_reservation_id = [reservation for reservation in tacc_lease['reservations'] if reservation['resource_type'] == 'physical:host'][0]['id']\n",
    "tacc_network_reservation_id = [reservation for reservation in tacc_lease['reservations'] if reservation['resource_type'] == 'network'][0]['id']\n",
    "tacc_floatingip_reservation_id = [reservation for reservation in tacc_lease['reservations'] if reservation['resource_type'] == 'virtual:floatingip'][0]['id']\n",
    "\n",
    "print(f\"tacc_compute_reservation_id: {tacc_compute_reservation_id}\")\n",
    "print(f\"tacc_network_reservation_id: {tacc_network_reservation_id}\")\n",
    "print(f\"tacc_floatingip_reservation_id: {tacc_floatingip_reservation_id}\")"
   ],
   "metadata": {
    "collapsed": false,
    "pycharm": {
     "name": "#%%\n"
    }
   }
  },
  {
   "cell_type": "markdown",
   "source": [
    "#### Get the Network\n",
    "\n",
    "Getting the network is not required for the remainder of the tutorial. However, it is a good test to see if your network reservation has become active. The `get_network` call will fail if a network with that name does not yet exist. It will also fail if a network with the same name already exists (likely from a previous run of this notebook)."
   ],
   "metadata": {
    "collapsed": false,
    "pycharm": {
     "name": "#%% md\n"
    }
   }
  },
  {
   "cell_type": "code",
   "execution_count": null,
   "outputs": [],
   "source": [
    "import chi.network\n",
    "\n",
    "#Get the network\n",
    "tacc_network = chi.network.get_network(network_name)\n",
    "print(json.dumps(tacc_network, indent=2))\n",
    "\n",
    "#Get the network ID\n",
    "tacc_network_id = tacc_network['id']\n",
    "print(f'Network ID: {tacc_network_id}')\n",
    "\n",
    "#Get the VLAN tag (needed for ExoGENI stitching)\n",
    "tacc_network_vlan = tacc_network['provider:segmentation_id']\n",
    "print(f'tacc_network_vlan: {tacc_network_vlan}')"
   ],
   "metadata": {
    "collapsed": false,
    "pycharm": {
     "name": "#%%\n"
    }
   }
  },
  {
   "cell_type": "markdown",
   "source": [
    "#### Add a subnet to the reserved network"
   ],
   "metadata": {
    "collapsed": false,
    "pycharm": {
     "name": "#%% md\n"
    }
   }
  },
  {
   "cell_type": "code",
   "execution_count": null,
   "outputs": [],
   "source": [
    "tacc_subnet = chi.network.create_subnet(subnet_name, tacc_network_id, cidr=cidr)\n",
    "\n",
    "print(json.dumps(tacc_subnet, indent=2))"
   ],
   "metadata": {
    "collapsed": false,
    "pycharm": {
     "name": "#%%\n"
    }
   }
  },
  {
   "cell_type": "markdown",
   "source": [
    "#### Add a Router"
   ],
   "metadata": {
    "collapsed": false,
    "pycharm": {
     "name": "#%% md\n"
    }
   }
  },
  {
   "cell_type": "code",
   "execution_count": null,
   "outputs": [],
   "source": [
    "tacc_router = chi.network.create_router(router_name, gw_network_name='public')\n",
    "\n",
    "print(json.dumps(tacc_router, indent=2))"
   ],
   "metadata": {
    "collapsed": false,
    "pycharm": {
     "name": "#%%\n"
    }
   }
  },
  {
   "cell_type": "markdown",
   "source": [
    "#### Attach the Router and Subnet"
   ],
   "metadata": {
    "collapsed": false,
    "pycharm": {
     "name": "#%% md\n"
    }
   }
  },
  {
   "cell_type": "code",
   "execution_count": null,
   "outputs": [],
   "source": [
    "chi.network.add_subnet_to_router_by_name(router_name, subnet_name)"
   ],
   "metadata": {
    "collapsed": false,
    "pycharm": {
     "name": "#%%\n"
    }
   }
  },
  {
   "cell_type": "markdown",
   "source": [
    "## Start the Servers"
   ],
   "metadata": {
    "collapsed": false,
    "pycharm": {
     "name": "#%% md\n"
    }
   }
  },
  {
   "cell_type": "markdown",
   "source": [
    "#### Start the UC Server\n",
    "\n",
    "Use the compute_reservation_id to create the server."
   ],
   "metadata": {
    "collapsed": false,
    "pycharm": {
     "name": "#%% md\n"
    }
   }
  },
  {
   "cell_type": "code",
   "execution_count": null,
   "outputs": [],
   "source": [
    "chi.set('region_name', 'CHI@UC')\n",
    "chi.use_site('CHI@UC')\n",
    "import chi.server\n",
    "\n",
    "# Create the server\n",
    "uc_server = chi.server.create_server(server_name, \n",
    "                                     reservation_id=uc_compute_reservation_id, \n",
    "                                     network_name=network_name, \n",
    "                                  image_name=image_name)\n",
    "# Wait until the server is active\n",
    "chi.server.wait_for_active(uc_server.id)"
   ],
   "metadata": {
    "collapsed": false,
    "pycharm": {
     "name": "#%%\n"
    }
   }
  },
  {
   "cell_type": "markdown",
   "source": [
    "#### Associate the Floating IP"
   ],
   "metadata": {
    "collapsed": false,
    "pycharm": {
     "name": "#%% md\n"
    }
   }
  },
  {
   "cell_type": "code",
   "execution_count": null,
   "outputs": [],
   "source": [
    "floating_ip = chi.server.associate_floating_ip(uc_server.id)\n",
    "\n",
    "print(f'Floating IP: {floating_ip}')"
   ],
   "metadata": {
    "collapsed": false,
    "pycharm": {
     "name": "#%%\n"
    }
   }
  },
  {
   "cell_type": "markdown",
   "source": [
    "#### Start the TACC Server\n",
    "\n",
    "Use the compute_reservation_id to create the server."
   ],
   "metadata": {
    "collapsed": false,
    "pycharm": {
     "name": "#%% md\n"
    }
   }
  },
  {
   "cell_type": "code",
   "execution_count": null,
   "outputs": [],
   "source": [
    "chi.set('region_name', 'CHI@TACC')\n",
    "chi.use_site('CHI@TACC')\n",
    "\n",
    "# Create the server\n",
    "tacc_server = chi.server.create_server(server_name, \n",
    "                                  reservation_id=tacc_compute_reservation_id, \n",
    "                                  network_name=network_name, \n",
    "                                  image_name=image_name)\n",
    "# Wait until the server is active\n",
    "chi.server.wait_for_active(tacc_server.id)"
   ],
   "metadata": {
    "collapsed": false,
    "pycharm": {
     "name": "#%%\n"
    }
   }
  },
  {
   "cell_type": "markdown",
   "source": [
    "#### Associate the Floating IP"
   ],
   "metadata": {
    "collapsed": false,
    "pycharm": {
     "name": "#%% md\n"
    }
   }
  },
  {
   "cell_type": "code",
   "execution_count": null,
   "outputs": [],
   "source": [
    "floating_ip = chi.server.associate_floating_ip(tacc_server.id)\n",
    "\n",
    "print(f'Floating IP: {floating_ip}')"
   ],
   "metadata": {
    "collapsed": false,
    "pycharm": {
     "name": "#%%\n"
    }
   }
  },
  {
   "cell_type": "markdown",
   "source": [
    "## Stitch the Circuit using ExoGENI\n",
    "\n",
    "Note: The ExoGENI\n",
    "steps require a valid GENI certificate at the path specified and a public/private keypair in ~/.ssh (run ssh-keygen with default inputs)"
   ],
   "metadata": {
    "collapsed": false,
    "pycharm": {
     "name": "#%% md\n"
    }
   }
  },
  {
   "cell_type": "markdown",
   "source": [
    "#### Create the Circuit"
   ],
   "metadata": {
    "collapsed": false,
    "pycharm": {
     "name": "#%% md\n"
    }
   }
  },
  {
   "cell_type": "code",
   "execution_count": null,
   "outputs": [],
   "source": [
    "%%script env uc_vlan=\"$uc_network_vlan\" tacc_vlan=\"$tacc_network_vlan\" geni_pem=\"$geni_pem_file\" bash\n",
    "\n",
    "echo 'uc_vlan ' $uc_vlan ', tacc_vlan ' $tacc_vlan ', geni_pem ' $geni_pem\n",
    "xoStitch create -sp1 uc -vlan1 $uc_vlan -sp2 tacc -vlan2 $tacc_vlan -c $geni_pem"
   ],
   "metadata": {
    "collapsed": false,
    "pycharm": {
     "name": "#%%\n"
    }
   }
  },
  {
   "cell_type": "markdown",
   "source": [
    "#### Check the Status of the Circuit"
   ],
   "metadata": {
    "collapsed": false,
    "pycharm": {
     "name": "#%% md\n"
    }
   }
  },
  {
   "cell_type": "code",
   "execution_count": null,
   "outputs": [],
   "source": [
    "%%script env uc_vlan=\"$uc_network_vlan\" tacc_vlan=\"$tacc_network_vlan\" geni_pem=\"$geni_pem_file\" bash\n",
    "\n",
    "echo 'uc_vlan ' $uc_vlan ', tacc_vlan ' $tacc_vlan ', geni_pem ' $geni_pem\n",
    "xoStitch status -sp1 uc -vlan1 $uc_vlan -sp2 tacc -vlan2 $tacc_vlan -c $geni_pem"
   ],
   "metadata": {
    "collapsed": false,
    "pycharm": {
     "name": "#%%\n"
    }
   }
  },
  {
   "cell_type": "markdown",
   "source": [
    "## Clean Up Resources"
   ],
   "metadata": {
    "collapsed": false,
    "pycharm": {
     "name": "#%% md\n"
    }
   }
  },
  {
   "cell_type": "markdown",
   "source": [
    "### Delete Stitched Circuit using ExoGENI"
   ],
   "metadata": {
    "collapsed": false,
    "pycharm": {
     "name": "#%% md\n"
    }
   }
  },
  {
   "cell_type": "code",
   "execution_count": null,
   "outputs": [],
   "source": [
    "%%script env uc_vlan=\"$uc_network_vlan\" tacc_vlan=\"$tacc_network_vlan\" geni_pem=\"$geni_pem_file\" bash\n",
    "\n",
    "echo 'uc_vlan ' $uc_vlan ', tacc_vlan ' $tacc_vlan ', geni_pem ' $geni_pem\n",
    "xoStitch delete -sp1 uc -vlan1 $uc_vlan -sp2 tacc -vlan2 $tacc_vlan -c $geni_pem"
   ],
   "metadata": {
    "collapsed": false,
    "pycharm": {
     "name": "#%%\n"
    }
   }
  },
  {
   "cell_type": "markdown",
   "source": [
    "### Delete TACC Resources\n",
    "\n",
    "Delete the server"
   ],
   "metadata": {
    "collapsed": false,
    "pycharm": {
     "name": "#%% md\n"
    }
   }
  },
  {
   "cell_type": "code",
   "execution_count": null,
   "outputs": [],
   "source": [
    "chi.set('region_name', 'CHI@TACC')\n",
    "chi.use_site('CHI@TACC')"
   ],
   "metadata": {
    "collapsed": false,
    "pycharm": {
     "name": "#%%\n"
    }
   }
  },
  {
   "cell_type": "code",
   "execution_count": null,
   "outputs": [],
   "source": [
    "chi.server.delete_server(tacc_server.id)"
   ],
   "metadata": {
    "collapsed": false,
    "pycharm": {
     "name": "#%%\n"
    }
   }
  },
  {
   "cell_type": "markdown",
   "source": [
    "#### De-configure Network"
   ],
   "metadata": {
    "collapsed": false,
    "pycharm": {
     "name": "#%% md\n"
    }
   }
  },
  {
   "cell_type": "code",
   "execution_count": null,
   "outputs": [],
   "source": [
    "def de_configure_network(router, subnet, network_id):\n",
    "    router_id = router['id']\n",
    "    subnet_id = subnet['id']\n",
    "\n",
    "    try:\n",
    "        result = chi.network.remove_subnet_from_router(router_id, subnet_id)\n",
    "    except Exception as e:\n",
    "        print(f\"detach_router_by_name error: {str(e)}\")\n",
    "        pass\n",
    "\n",
    "    try:\n",
    "        result = chi.network.delete_router(router_id)\n",
    "    except Exception as e:\n",
    "        print(f\"delete_router_by_name error: {str(e)}\")\n",
    "        pass\n",
    "\n",
    "    try:\n",
    "        result = chi.network.delete_subnet(subnet_id)\n",
    "    except Exception as e:\n",
    "        print(f\"delete_subnet_by_name error: {str(e)}\")\n",
    "        pass\n",
    "\n",
    "    try:\n",
    "        result = chi.network.delete_network(network_id)\n",
    "    except Exception as e:\n",
    "        print(f\"delete_network_by_name error: {str(e)}\")\n",
    "        pass"
   ],
   "metadata": {
    "collapsed": false,
    "pycharm": {
     "name": "#%%\n"
    }
   }
  },
  {
   "cell_type": "code",
   "execution_count": null,
   "outputs": [],
   "source": [
    "de_configure_network(tacc_router, tacc_subnet, tacc_network_id)"
   ],
   "metadata": {
    "collapsed": false,
    "pycharm": {
     "name": "#%%\n"
    }
   }
  },
  {
   "cell_type": "markdown",
   "source": [
    "#### Release Lease"
   ],
   "metadata": {
    "collapsed": false,
    "pycharm": {
     "name": "#%% md\n"
    }
   }
  },
  {
   "cell_type": "code",
   "execution_count": null,
   "outputs": [],
   "source": [
    "chi.lease.delete_lease(tacc_lease['id'])"
   ],
   "metadata": {
    "collapsed": false,
    "pycharm": {
     "name": "#%%\n"
    }
   }
  },
  {
   "cell_type": "markdown",
   "source": [
    "### Delete UC Resources\n",
    "\n",
    "Delete the server."
   ],
   "metadata": {
    "collapsed": false,
    "pycharm": {
     "name": "#%% md\n"
    }
   }
  },
  {
   "cell_type": "code",
   "execution_count": null,
   "outputs": [],
   "source": [
    "chi.set('region_name', 'CHI@UC')\n",
    "chi.use_site('CHI@UC')"
   ],
   "metadata": {
    "collapsed": false,
    "pycharm": {
     "name": "#%%\n"
    }
   }
  },
  {
   "cell_type": "code",
   "execution_count": null,
   "outputs": [],
   "source": [
    "chi.server.delete_server(uc_server.id)"
   ],
   "metadata": {
    "collapsed": false,
    "pycharm": {
     "name": "#%%\n"
    }
   }
  },
  {
   "cell_type": "markdown",
   "source": [
    "#### De-configure Network"
   ],
   "metadata": {
    "collapsed": false,
    "pycharm": {
     "name": "#%% md\n"
    }
   }
  },
  {
   "cell_type": "code",
   "execution_count": null,
   "outputs": [],
   "source": [
    "de_configure_network(uc_router, uc_subnet, uc_network_id)"
   ],
   "metadata": {
    "collapsed": false,
    "pycharm": {
     "name": "#%%\n"
    }
   }
  },
  {
   "cell_type": "markdown",
   "source": [
    "#### Release Lease"
   ],
   "metadata": {
    "collapsed": false,
    "pycharm": {
     "name": "#%% md\n"
    }
   }
  },
  {
   "cell_type": "code",
   "execution_count": null,
   "outputs": [],
   "source": [
    "chi.lease.delete_lease(uc_lease['id'])"
   ],
   "metadata": {
    "collapsed": false,
    "pycharm": {
     "name": "#%%\n"
    }
   }
  }
 ],
 "metadata": {
  "kernelspec": {
   "display_name": "Python 3 (ipykernel)",
   "language": "python",
   "name": "python3"
  },
  "language_info": {
   "codemirror_mode": {
    "name": "ipython",
    "version": 3
   },
   "file_extension": ".py",
   "mimetype": "text/x-python",
   "name": "python",
   "nbconvert_exporter": "python",
   "pygments_lexer": "ipython3",
   "version": "3.9.7"
  }
 },
 "nbformat": 4,
 "nbformat_minor": 4
}