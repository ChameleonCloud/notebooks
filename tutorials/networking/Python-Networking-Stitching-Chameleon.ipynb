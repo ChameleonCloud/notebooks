{
 "cells": [
  {
   "cell_type": "markdown",
   "source": [
    "<div class=\"alert alert-info\">\n",
    "\n",
    "**Note:**    WARNING: This notebook uses a new, early release Chameleon python API. The notebook and API will likely be updated without notice. To request a new python feature, please create a help desk ticket. \n",
    "    \n",
    "\n",
    "</div>\n",
    "\n",
    "## Tutorial: Stitching Networks between Chameleon Sites\n",
    "\n",
    "This notebook demonstrates how to use ExoGENI to stitch networks between Chameleon sites. It will walk through reserving and configuring stitchable networks on each Chameleon site and using the xoStitch tool to create a layer2 circuit between the networks. \n",
    "\n",
    "#### Modules \n",
    "\n",
    "- [Reserve Mulitple Resources](../modules-python/reservations/reserve_multiple_resources.ipynb)\n",
    "- [Get Lease by Name](../modules-python/reservations/get_lease_by_name.ipynb)\n",
    "- [Get Reservation](../modules-python/reservations/get_reservations_from_lease.ipynb)\n",
    "- [Create Server](../modules-python/servers/create_server.ipynb)\n",
    "- [Delete Server](../modules-python/servers/delete_server.ipynb)\n",
    "- [Create Network](../modules-python/network/create_network.ipynb)\n",
    "- [Delete Network](../modules-python/network/delete_network.ipynb)\n",
    "- [Create Subnet](../modules-python/network/create_subnet.ipynb)\n",
    "- [Delete Subnet](../modules-python/network/delete_subnet.ipynb)\n",
    "- [Get Network by Name](../modules-python/network/get_network_by_name.ipynb)\n",
    "\n",
    "TODO: add the rest of the module links when they are ready\n",
    "\n",
    "#### Import Library\n",
    "\n",
    "```\n",
    "import chi\n",
    "from chi.server_api_examples import *\n",
    "from chi.reservation_api_examples import *\n",
    "from chi.networking_api_examples import *\n",
    "```\n",
    "\n",
    "\n"
   ],
   "metadata": {}
  },
  {
   "cell_type": "markdown",
   "source": [
    "## Tutorial: "
   ],
   "metadata": {}
  },
  {
   "cell_type": "markdown",
   "source": [
    "#### Configure the Environment\n",
    "\n",
    "Import the chi example API calls, set the project name and region, and set various names and attributes to use in the tutorial. "
   ],
   "metadata": {}
  },
  {
   "cell_type": "code",
   "execution_count": null,
   "source": [
    "import json\n",
    "import os\n",
    "import chi\n",
    "\n",
    "from chi.server_api_examples import *\n",
    "from chi.reservation_api_examples import *\n",
    "from chi.networking_api_examples import *\n",
    "\n",
    "#Config with your project\n",
    "chi.set('project_name', 'ExoGENI@Chameleon') # Replace with your project name\n",
    "\n",
    "#Insert keypair name\n",
    "key_name = 'pruth-jupyter'  # Change to your keypair\n",
    "\n",
    "#GENI Pem file\n",
    "geni_pem_file='/home/pruth/work/geni-pruth.pem'\n",
    "\n",
    "# Tip: Name resources with your username for easier identification\n",
    "username = os.getenv(\"USER\")+'8'\n",
    "server_name = username+'Server'\n",
    "network_name = username+'Net'\n",
    "subnet_name = username+'subnet'\n",
    "router_name = username+'Router'\n",
    "lease_name = username+'Lease'\n",
    "\n",
    "#Server Config\n",
    "image_name='CC-CentOS7'\n",
    "flavor_name='baremetal'\n",
    "node_type=\"compute_skylake\"\n",
    "server_count=2\n",
    "\n",
    "#Network Config\n",
    "physical_network='exogeni'\n",
    "cidr='192.168.42.0/24'"
   ],
   "outputs": [],
   "metadata": {}
  },
  {
   "cell_type": "markdown",
   "source": [
    "## Create Chicago Network and Server"
   ],
   "metadata": {}
  },
  {
   "cell_type": "markdown",
   "source": [
    "#### Create a Lease at Chicago"
   ],
   "metadata": {}
  },
  {
   "cell_type": "code",
   "execution_count": null,
   "source": [
    "#Set the region\n",
    "chi.set('region_name', 'CHI@UC')     # Optional, defaults to 'CHI@UC'\n",
    "\n",
    "# Set start/end date for lease\n",
    "# Start one minute into future to avoid Blazar thinking lease is in past\n",
    "# due to rounding to closest minute.\n",
    "start_date = (datetime.now(tz=tz.tzutc()) + timedelta(minutes=1)).strftime(BLAZAR_TIME_FORMAT)\n",
    "end_date   = (datetime.now(tz=tz.tzutc()) + timedelta(days=1)).strftime(BLAZAR_TIME_FORMAT)\n",
    "\n",
    "# Build list of reservations (in this case there is only one reservation)\n",
    "reservation_list = []\n",
    "#add_node_reservation(reservation_list, count=server_count, node_type=node_type)\n",
    "add_network_reservation(reservation_list, network_name=network_name, physical_network=physical_network)\n",
    "#add_fip_reservation(reservation_list, count=1)\n",
    "\n",
    "# Create the lease\n",
    "chi.blazar().lease.create(name=lease_name, \n",
    "                            start=start_date,\n",
    "                            end=end_date,\n",
    "                            reservations=reservation_list, events=[])\n",
    "\n",
    "#Get the lease by name\n",
    "uc_lease = get_lease_by_name(lease_name)\n",
    "    \n",
    "#Print the lease info\n",
    "print(json.dumps(uc_lease, indent=2))"
   ],
   "outputs": [],
   "metadata": {}
  },
  {
   "cell_type": "markdown",
   "source": [
    "#### Get the Reservations\n",
    "\n",
    "Each lease contains one or more reservations. The individual reservation IDs are required to instantiate resources. You can [get the lease](../modules-python/reservations/get_lease_by_name.ipynb) and separate the reservation IDs for compute, network, and floating IPs using the technique below."
   ],
   "metadata": {}
  },
  {
   "cell_type": "code",
   "execution_count": null,
   "source": [
    "#Get the lease by name\n",
    "uc_lease = get_lease_by_name(lease_name)\n",
    "\n",
    "uc_compute_reservation_id = list(filter(lambda reservation: reservation['resource_type'] == 'physical:host', uc_lease['reservations']))[0]['id']\n",
    "uc_network_reservation_id = list(filter(lambda reservation: reservation['resource_type'] == 'network', uc_lease['reservations']))[0]['id']\n",
    "uc_floatingip_reservation_id = list(filter(lambda reservation: reservation['resource_type'] == 'virtual:floatingip', uc_lease['reservations']))[0]['id']\n",
    "\n",
    "print(\"uc_compute_reservation_id: \" + uc_compute_reservation_id)\n",
    "print(\"uc_network_reservation_id: \" + uc_network_reservation_id)\n",
    "print(\"uc_floatingip_reservation_id: \" + uc_floatingip_reservation_id)"
   ],
   "outputs": [],
   "metadata": {}
  },
  {
   "cell_type": "markdown",
   "source": [
    "#### Get the Network\n",
    "\n",
    "Getting the network is not required for the remainder of the tutorial. However, it is a good test to see if your network reservation has become active. The [get_network_by_name](../modules-python/network/get_network_by_name.ipynb) call will fail if a network with that name does not yet exits. It will also fail if a network with the same name already exists (likely from a previous run of this notebook)."
   ],
   "metadata": {}
  },
  {
   "cell_type": "code",
   "execution_count": null,
   "source": [
    "chi.set('region_name', 'CHI@UC')  \n",
    "#Get the network\n",
    "network = get_network_by_name(network_name)\n",
    "print(json.dumps(network, indent=2))\n",
    "\n",
    "#Get the network ID\n",
    "network_id = network['id']\n",
    "print('Network ID: ' + str(network_id))\n",
    "\n",
    "#Get the VLAN tag (needed for ExoGENI stitching)\n",
    "uc_network_vlan = network['provider:segmentation_id']\n",
    "print('uc_network_vlan: ' + str(uc_network_vlan))\n"
   ],
   "outputs": [],
   "metadata": {}
  },
  {
   "cell_type": "markdown",
   "source": [
    "#### Add a subnet\n",
    "\n",
    "[Adds a subnet](../modules-python/network/add_subnet.ipynb) to the reserved network. "
   ],
   "metadata": {}
  },
  {
   "cell_type": "code",
   "execution_count": null,
   "source": [
    "subnet = add_subnet(subnet_name, network_name, cidr=cidr)\n",
    "\n",
    "print(json.dumps(subnet, indent=2))"
   ],
   "outputs": [],
   "metadata": {}
  },
  {
   "cell_type": "markdown",
   "source": [
    "#### Add a Router\n",
    "\n",
    "TODO: add links here"
   ],
   "metadata": {}
  },
  {
   "cell_type": "code",
   "execution_count": null,
   "source": [
    "router = create_router(router_name, gw_network_name='public')\n",
    "\n",
    "print(json.dumps(router, indent=2))"
   ],
   "outputs": [],
   "metadata": {}
  },
  {
   "cell_type": "markdown",
   "source": [
    "#### Attach the Router and Subnet\n",
    "\n",
    "TODO: Add links here"
   ],
   "metadata": {}
  },
  {
   "cell_type": "code",
   "execution_count": null,
   "source": [
    "attach_router_to_subnet(router_name=router_name, subnet_name=subnet_name)"
   ],
   "outputs": [],
   "metadata": {}
  },
  {
   "cell_type": "markdown",
   "source": [
    "## Create TACC Network and Server"
   ],
   "metadata": {}
  },
  {
   "cell_type": "markdown",
   "source": [
    "#### Create a Lease at TACC"
   ],
   "metadata": {}
  },
  {
   "cell_type": "code",
   "execution_count": null,
   "source": [
    "#Set the region\n",
    "chi.set('region_name', 'CHI@TACC')     # Optional, defaults to 'CHI@UC'\n",
    "\n",
    "# Set start/end date for lease\n",
    "# Start one minute into future to avoid Blazar thinking lease is in past\n",
    "# due to rounding to closest minute.\n",
    "start_date = (datetime.now(tz=tz.tzutc()) + timedelta(minutes=1)).strftime(BLAZAR_TIME_FORMAT)\n",
    "end_date   = (datetime.now(tz=tz.tzutc()) + timedelta(days=1)).strftime(BLAZAR_TIME_FORMAT)\n",
    "\n",
    "# Build list of reservations (in this case there is only one reservation)\n",
    "reservation_list = []\n",
    "add_node_reservation(reservation_list, count=server_count, node_type=node_type)\n",
    "add_network_reservation(reservation_list, network_name=network_name, physical_network=physical_network)\n",
    "add_fip_reservation(reservation_list, count=1)\n",
    "\n",
    "# Create the lease\n",
    "chi.blazar().lease.create(name=lease_name, \n",
    "                            start=start_date,\n",
    "                            end=end_date,\n",
    "                            reservations=reservation_list, events=[])\n",
    "\n",
    "#Get the lease by name\n",
    "tacc_lease = get_lease_by_name(lease_name)\n",
    "    \n",
    "#Print the lease info\n",
    "print(json.dumps(tacc_lease, indent=2))"
   ],
   "outputs": [],
   "metadata": {}
  },
  {
   "cell_type": "markdown",
   "source": [
    "#### Get the Reservations\n",
    "\n",
    "Each lease contains one or more reservations. The individual reservation IDs are required to instantiate resources. You can [get the lease](../modules-python/reservations/get_lease_by_name.ipynb) and separate the reservation IDs for compute, network, and floating IPs using the technique below."
   ],
   "metadata": {}
  },
  {
   "cell_type": "code",
   "execution_count": null,
   "source": [
    "#Get the lease by name\n",
    "tacc_lease = get_lease_by_name(lease_name)\n",
    "\n",
    "tacc_compute_reservation_id = list(filter(lambda reservation: reservation['resource_type'] == 'physical:host', tacc_lease['reservations']))[0]['id']\n",
    "tacc_network_reservation_id = list(filter(lambda reservation: reservation['resource_type'] == 'network', tacc_lease['reservations']))[0]['id']\n",
    "tacc_floatingip_reservation_id = list(filter(lambda reservation: reservation['resource_type'] == 'virtual:floatingip', tacc_lease['reservations']))[0]['id']\n",
    "\n",
    "print(\"tacc_compute_reservation_id: \" + tacc_compute_reservation_id)\n",
    "print(\"tacc_network_reservation_id: \" + tacc_network_reservation_id)\n",
    "print(\"tacc_floatingip_reservation_id: \" + tacc_floatingip_reservation_id)"
   ],
   "outputs": [],
   "metadata": {}
  },
  {
   "cell_type": "markdown",
   "source": [
    "#### Get the Network\n",
    "\n",
    "Getting the network is not required for the remainder of the tutorial. However, it is a good test to see if your network reservation has become active. The [get_network_by_name](../modules-python/network/get_network_by_name.ipynb) call will fail if a network with that name does not yet exits. It will also fail if a network with the same name already exists (likely from a previous run of this notebook)."
   ],
   "metadata": {}
  },
  {
   "cell_type": "code",
   "execution_count": null,
   "source": [
    "chi.set('region_name', 'CHI@TACC')  \n",
    "#Get the network\n",
    "network = get_network_by_name(network_name)\n",
    "print(json.dumps(network, indent=2))\n",
    "\n",
    "#Get the network ID\n",
    "network_id = network['id']\n",
    "print('Network ID: ' + str(network_id))\n",
    "\n",
    "#Get the VLAN tag (needed for ExoGENI stitching)\n",
    "tacc_network_vlan = network['provider:segmentation_id']\n",
    "print('tacc_network_vlan: ' + str(tacc_network_vlan))\n"
   ],
   "outputs": [],
   "metadata": {}
  },
  {
   "cell_type": "markdown",
   "source": [
    "#### Add a subnet\n",
    "\n",
    "[Adds a subnet](../modules-python/network/add_subnet.ipynb) to the reserved network. "
   ],
   "metadata": {}
  },
  {
   "cell_type": "code",
   "execution_count": null,
   "source": [
    "subnet = add_subnet(subnet_name, network_name, cidr=cidr)\n",
    "\n",
    "print(json.dumps(subnet, indent=2))"
   ],
   "outputs": [],
   "metadata": {}
  },
  {
   "cell_type": "markdown",
   "source": [
    "#### Add a Router\n",
    "\n",
    "TODO: add links here"
   ],
   "metadata": {}
  },
  {
   "cell_type": "code",
   "execution_count": null,
   "source": [
    "router = create_router(router_name, gw_network_name='public')\n",
    "\n",
    "print(json.dumps(router, indent=2))"
   ],
   "outputs": [],
   "metadata": {}
  },
  {
   "cell_type": "markdown",
   "source": [
    "#### Attach the Router and Subnet\n",
    "\n",
    "TODO: Add links here"
   ],
   "metadata": {}
  },
  {
   "cell_type": "code",
   "execution_count": null,
   "source": [
    "attach_router_to_subnet(router_name=router_name, subnet_name=subnet_name)"
   ],
   "outputs": [],
   "metadata": {}
  },
  {
   "cell_type": "markdown",
   "source": [
    "## Start the Servers"
   ],
   "metadata": {}
  },
  {
   "cell_type": "markdown",
   "source": [
    "#### Start the UC Server\n",
    "\n",
    "Use the compute_reservation_id to [create the server](../modules-python/servers/create_server.ipynb)."
   ],
   "metadata": {}
  },
  {
   "cell_type": "code",
   "execution_count": null,
   "source": [
    "chi.set('region_name', 'CHI@UC')  \n",
    "#create the server\n",
    "server = create_server(server_name, \n",
    "                       reservation_id=uc_compute_reservation_id, \n",
    "                       key_name=key_name, \n",
    "                       network_name=network_name, \n",
    "                       image_name=image_name, \n",
    "                       flavor_name=flavor_name)\n"
   ],
   "outputs": [],
   "metadata": {}
  },
  {
   "cell_type": "markdown",
   "source": [
    "#### Associate the Floating IP   \n",
    "TODO: need to find floating_ip from the reservation that was just made"
   ],
   "metadata": {}
  },
  {
   "cell_type": "code",
   "execution_count": null,
   "source": [
    "chi.set('region_name', 'CHI@UC')  \n",
    "floating_ip = associate_floating_ip(server_name)\n",
    "\n",
    "print('Floating IP: ' + str(floating_ip))"
   ],
   "outputs": [],
   "metadata": {}
  },
  {
   "cell_type": "markdown",
   "source": [
    "#### Start the TACC Server\n",
    "\n",
    "Use the compute_reservation_id to [create the server](../modules-python/servers/create_server.ipynb)."
   ],
   "metadata": {}
  },
  {
   "cell_type": "code",
   "execution_count": null,
   "source": [
    "chi.set('region_name', 'CHI@TACC')\n",
    "\n",
    "print(\"server_name \" + server_name)\n",
    "print(\"tacc_compute_reservation_id \" + tacc_compute_reservation_id)\n",
    "print(\"key_name \" + key_name) \n",
    "print(\"network_name \" + network_name)\n",
    "print(\"image_name \" + image_name)\n",
    "print(\"flavor_name \" + flavor_name)\n",
    "\n",
    "#create the server\n",
    "server = create_server(server_name, \n",
    "                       reservation_id=tacc_compute_reservation_id, \n",
    "                       key_name=key_name, \n",
    "                       network_name=network_name, \n",
    "                       image_name=image_name, \n",
    "                       flavor_name=flavor_name)\n"
   ],
   "outputs": [],
   "metadata": {}
  },
  {
   "cell_type": "markdown",
   "source": [
    "#### Associate the Floating IP   \n",
    "TODO: need to find floating_ip from the reservation that was just made"
   ],
   "metadata": {}
  },
  {
   "cell_type": "code",
   "execution_count": null,
   "source": [
    "chi.set('region_name', 'CHI@TACC')  \n",
    "\n",
    "floating_ip = associate_floating_ip(server_name)\n",
    "\n",
    "print('Floating IP: ' + str(floating_ip))"
   ],
   "outputs": [],
   "metadata": {}
  },
  {
   "cell_type": "markdown",
   "source": [
    "## Stitch the Circuit using ExoGENI\n",
    "\n",
    "Note: The ExoGENI\n",
    "steps require a valid GENI certificate at the path specified and a public/private keypair in ~/.ssh (run ssh-keygen with default inputs)"
   ],
   "metadata": {}
  },
  {
   "cell_type": "markdown",
   "source": [
    "#### Create the Circuit"
   ],
   "metadata": {}
  },
  {
   "cell_type": "code",
   "execution_count": null,
   "source": [
    "%%script env uc_vlan=\"$uc_network_vlan\" tacc_vlan=\"$tacc_network_vlan\" geni_pem=\"$geni_pem_file\" bash\n",
    "\n",
    "echo 'uc_vlan ' $uc_vlan ', tacc_vlan ' $tacc_vlan ', geni_pem ' $geni_pem\n",
    "xoStitch create -sp1 uc -vlan1 $uc_vlan -sp2 tacc -vlan2 $tacc_vlan -c $geni_pem"
   ],
   "outputs": [],
   "metadata": {}
  },
  {
   "cell_type": "markdown",
   "source": [
    "#### Check the Status of the Circuit"
   ],
   "metadata": {}
  },
  {
   "cell_type": "code",
   "execution_count": null,
   "source": [
    "%%script env uc_vlan=\"$uc_network_vlan\" tacc_vlan=\"$tacc_network_vlan\" geni_pem=\"$geni_pem_file\" bash\n",
    "\n",
    "echo 'uc_vlan ' $uc_vlan ', tacc_vlan ' $tacc_vlan ', geni_pem ' $geni_pem\n",
    "xoStitch status -sp1 uc -vlan1 $uc_vlan -sp2 tacc -vlan2 $tacc_vlan -c $geni_pem"
   ],
   "outputs": [],
   "metadata": {}
  },
  {
   "cell_type": "markdown",
   "source": [
    "## Clean Up Resources"
   ],
   "metadata": {}
  },
  {
   "cell_type": "markdown",
   "source": [
    "### Delete Stitched Circuit using ExoGENI"
   ],
   "metadata": {}
  },
  {
   "cell_type": "code",
   "execution_count": null,
   "source": [
    "%%script env uc_vlan=\"$uc_network_vlan\" tacc_vlan=\"$tacc_network_vlan\" geni_pem=\"$geni_pem_file\" bash\n",
    "\n",
    "echo 'uc_vlan ' $uc_vlan ', tacc_vlan ' $tacc_vlan ', geni_pem ' $geni_pem\n",
    "xoStitch delete -sp1 uc -vlan1 $uc_vlan -sp2 tacc -vlan2 $tacc_vlan -c $geni_pem"
   ],
   "outputs": [],
   "metadata": {}
  },
  {
   "cell_type": "markdown",
   "source": [
    "### Delete TACC Resources\n",
    "\n",
    "[Delete the server](../modules-python/servers/delete_server.ipynb) using its name."
   ],
   "metadata": {}
  },
  {
   "cell_type": "code",
   "execution_count": null,
   "source": [
    "chi.set('region_name', 'CHI@TACC')"
   ],
   "outputs": [],
   "metadata": {}
  },
  {
   "cell_type": "code",
   "execution_count": null,
   "source": [
    "delete_server_by_name(server_name)"
   ],
   "outputs": [],
   "metadata": {}
  },
  {
   "cell_type": "markdown",
   "source": [
    "#### De-configure Network\n",
    "TODO: break up into steps"
   ],
   "metadata": {}
  },
  {
   "cell_type": "code",
   "execution_count": null,
   "source": [
    "detach_router_by_name(router_name=router_name, subnet_name=subnet_name)"
   ],
   "outputs": [],
   "metadata": {}
  },
  {
   "cell_type": "code",
   "execution_count": null,
   "source": [
    "delete_router_by_name(router_name)"
   ],
   "outputs": [],
   "metadata": {}
  },
  {
   "cell_type": "code",
   "execution_count": null,
   "source": [
    "delete_subnet_by_name(subnet_name)"
   ],
   "outputs": [],
   "metadata": {}
  },
  {
   "cell_type": "code",
   "execution_count": null,
   "source": [
    "delete_network_by_name(network_name)"
   ],
   "outputs": [],
   "metadata": {}
  },
  {
   "cell_type": "markdown",
   "source": [
    "#### Release Lease"
   ],
   "metadata": {}
  },
  {
   "cell_type": "code",
   "execution_count": null,
   "source": [
    "delete_lease_by_name(lease_name)"
   ],
   "outputs": [],
   "metadata": {}
  },
  {
   "cell_type": "markdown",
   "source": [
    "### Delete UC Resources\n",
    "\n",
    "[Delete the server](../modules-python/servers/delete_server.ipynb) using its name."
   ],
   "metadata": {}
  },
  {
   "cell_type": "code",
   "execution_count": null,
   "source": [
    "chi.set('region_name', 'CHI@UC')"
   ],
   "outputs": [],
   "metadata": {}
  },
  {
   "cell_type": "code",
   "execution_count": null,
   "source": [
    "delete_server_by_name(server_name)"
   ],
   "outputs": [],
   "metadata": {}
  },
  {
   "cell_type": "markdown",
   "source": [
    "#### De-configure Network\n",
    "TODO: break up into steps"
   ],
   "metadata": {}
  },
  {
   "cell_type": "code",
   "execution_count": null,
   "source": [
    "detach_router_by_name(router_name=router_name, subnet_name=subnet_name)"
   ],
   "outputs": [],
   "metadata": {}
  },
  {
   "cell_type": "code",
   "execution_count": null,
   "source": [
    "delete_router_by_name(router_name)"
   ],
   "outputs": [],
   "metadata": {}
  },
  {
   "cell_type": "code",
   "execution_count": null,
   "source": [
    "delete_subnet_by_name(subnet_name)"
   ],
   "outputs": [],
   "metadata": {}
  },
  {
   "cell_type": "code",
   "execution_count": null,
   "source": [
    "delete_network_by_name(network_name)"
   ],
   "outputs": [],
   "metadata": {}
  },
  {
   "cell_type": "markdown",
   "source": [
    "#### Release Lease"
   ],
   "metadata": {}
  },
  {
   "cell_type": "code",
   "execution_count": null,
   "source": [
    "delete_lease_by_name(lease_name)"
   ],
   "outputs": [],
   "metadata": {}
  },
  {
   "cell_type": "code",
   "execution_count": null,
   "source": [],
   "outputs": [],
   "metadata": {}
  }
 ],
 "metadata": {
  "kernelspec": {
   "display_name": "Python 3",
   "language": "python",
   "name": "python3"
  },
  "language_info": {
   "codemirror_mode": {
    "name": "ipython",
    "version": 3
   },
   "file_extension": ".py",
   "mimetype": "text/x-python",
   "name": "python",
   "nbconvert_exporter": "python",
   "pygments_lexer": "ipython3",
   "version": "3.8.3"
  }
 },
 "nbformat": 4,
 "nbformat_minor": 4
}