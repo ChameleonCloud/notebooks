{
 "cells": [
  {
   "cell_type": "markdown",
   "source": [
    "## Stitching Networks between Chameleon and an ExoGENI Stitchport\n",
    "\n",
    "An example that can be used to stitch to an ExoGENI Stitchport"
   ],
   "metadata": {
    "collapsed": false,
    "pycharm": {
     "name": "#%% md\n"
    }
   }
  },
  {
   "cell_type": "markdown",
   "source": [
    "## Tutorial: "
   ],
   "metadata": {
    "collapsed": false,
    "pycharm": {
     "name": "#%% md\n"
    }
   }
  },
  {
   "cell_type": "markdown",
   "source": [
    "#### Configure the Environment\n",
    "\n",
    "Import the chi example API calls, set the project name and region, and set various names and attributes to use in the tutorial. "
   ],
   "metadata": {
    "collapsed": false,
    "pycharm": {
     "name": "#%% md\n"
    }
   }
  },
  {
   "cell_type": "code",
   "execution_count": null,
   "outputs": [],
   "source": [
    "import json\n",
    "import os\n",
    "import chi\n",
    "\n",
    "#Config with your project and site\n",
    "chi.set('project_name', 'chameleon')   # Replace with your project name\n",
    "chi.use_site('CHI@UC')                 # Authenticate to CHI@UC site\n",
    "\n",
    "#GENI Pem file\n",
    "geni_pem_file = '/home/pruth/work/geni-pruth.pem'\n",
    "\n",
    "# Tip: Name resources with your username for easier identification\n",
    "username = os.getenv(\"USER\")\n",
    "prefix = username + \"_ExoGENIStitchportTutorial_\"\n",
    "server_name = prefix+'Server'\n",
    "network_name = prefix+'Net'\n",
    "stitched_network_name = network_name+\"Stitched\"\n",
    "subnet_name = prefix+'Subnet'\n",
    "router_name = prefix+'Router'\n",
    "lease_name = prefix+'Lease'\n",
    "lease_name_network = prefix+'LeaseNet'\n",
    "lease_name_servers = prefix+'LeaseServers'\n",
    "lease_name_stitch = prefix+'LeaseStitch'\n",
    "\n",
    "\n",
    "#Server Config\n",
    "image_name = 'CC-Ubuntu20.04'\n",
    "node_type = \"compute_skylake\"\n",
    "server_count = 1\n",
    "\n",
    "#optionally set the OpenFlow controller (set ot None for non-OpenFlow swtich)\n",
    "of_controller_ip=None\n",
    "#of_controller_ip = \"192.5.87.215\"\n",
    "#of_controller_port = \"6653\"\n",
    "\n",
    "\n",
    "#Set the name of the VFC\n",
    "vswitch_name = \"pruthSDN\"\n",
    "\n",
    "#Stitchport URL\n",
    "stitchport_url = \"\"    # Your stitchport URL\n",
    "stitchport_vlan = \"\"   # Your stitchport VLAN"
   ],
   "metadata": {
    "collapsed": false,
    "pycharm": {
     "name": "#%%\n"
    }
   }
  },
  {
   "cell_type": "markdown",
   "source": [
    "## Create the Network (OpenFlow Optional)"
   ],
   "metadata": {
    "collapsed": false,
    "pycharm": {
     "name": "#%% md\n"
    }
   }
  },
  {
   "cell_type": "markdown",
   "source": [
    "#### Create a Lease at Chicago"
   ],
   "metadata": {
    "collapsed": false,
    "pycharm": {
     "name": "#%% md\n"
    }
   }
  },
  {
   "cell_type": "code",
   "execution_count": null,
   "outputs": [],
   "source": [
    "import chi.lease\n",
    "from datetime import datetime, timedelta\n",
    "from dateutil import tz\n",
    "\n",
    "BLAZAR_TIME_FORMAT = '%Y-%m-%d %H:%M'\n",
    "\n",
    "# Set start/end date for lease\n",
    "# Start one minute into future to avoid Blazar thinking lease is in past\n",
    "# due to rounding to closest minute.\n",
    "start_date = (datetime.now(tz=tz.tzutc()) + timedelta(minutes=1)).strftime(BLAZAR_TIME_FORMAT)\n",
    "end_date   = (datetime.now(tz=tz.tzutc()) + timedelta(days=1)).strftime(BLAZAR_TIME_FORMAT)\n",
    "\n",
    "# Build list of reservations (in this case there is only one reservation)\n",
    "reservation_list = []\n",
    "\n",
    "if of_controller_ip:\n",
    "    print(\"OpenFlow\")\n",
    "    chi.lease.add_network_reservation(reservation_list, \n",
    "                            network_name=network_name, \n",
    "                            physical_network='physnet1',\n",
    "                            of_controller_ip=of_controller_ip, \n",
    "                            of_controller_port=of_controller_port, \n",
    "                            vswitch_name=vswitch_name)\n",
    "else:\n",
    "    print(\"No OpenFlow\")\n",
    "    chi.lease.add_network_reservation(reservation_list, \n",
    "                            network_name=network_name, \n",
    "                            physical_network='physnet1',\n",
    "                            vswitch_name=vswitch_name)\n",
    "                           \n",
    "\n",
    "# Create the lease\n",
    "network_lease = chi.lease.create_lease(lease_name,\n",
    "                       reservations=reservation_list,\n",
    "                       start_date=start_date,\n",
    "                       end_date=end_date)\n",
    "\n",
    "network_lease = chi.lease.wait_for_active(network_lease['id'])\n",
    "    \n",
    "#Print the lease info\n",
    "print(json.dumps(network_lease, indent=2))"
   ],
   "metadata": {
    "collapsed": false,
    "pycharm": {
     "name": "#%%\n"
    }
   }
  },
  {
   "cell_type": "markdown",
   "source": [
    "#### Get the Nework Reservation\n",
    "\n",
    "Each lease contains one or more reservations. The individual reservation IDs are required to instantiate resources. You can get the leaseand separate the reservation IDs for compute, network, and floating IPs using the technique below."
   ],
   "metadata": {
    "collapsed": false,
    "pycharm": {
     "name": "#%% md\n"
    }
   }
  },
  {
   "cell_type": "code",
   "execution_count": null,
   "outputs": [],
   "source": [
    "network_reservation_id = [reservation for reservation in network_lease['reservations'] if reservation['resource_type'] == 'network'][0]['id']\n",
    "\n",
    "print(\"network_reservation_id: \" + network_reservation_id)"
   ],
   "metadata": {
    "collapsed": false,
    "pycharm": {
     "name": "#%%\n"
    }
   }
  },
  {
   "cell_type": "code",
   "execution_count": null,
   "outputs": [],
   "source": [
    "import chi.network\n",
    "\n",
    "#Get the network\n",
    "network = chi.network.get_network(network_name)\n",
    "\n",
    "#Get the network ID\n",
    "network_id = network['id']\n",
    "print(f'Network ID: {network_id}')\n",
    "\n",
    "#Get the VLAN tag (needed for ExoGENI stitching)\n",
    "network_vlan = network['provider:segmentation_id']\n",
    "print(f'network_vlan: {network_vlan}')"
   ],
   "metadata": {
    "collapsed": false,
    "pycharm": {
     "name": "#%%\n"
    }
   }
  },
  {
   "cell_type": "markdown",
   "source": [
    "#### Add a subnet\n",
    "\n",
    "Adds a subnet to the reserved network. "
   ],
   "metadata": {
    "collapsed": false,
    "pycharm": {
     "name": "#%% md\n"
    }
   }
  },
  {
   "cell_type": "code",
   "execution_count": null,
   "outputs": [],
   "source": [
    "subnet = chi.network.create_subnet(subnet_name, network_id)\n",
    "\n",
    "print(json.dumps(subnet, indent=2))"
   ],
   "metadata": {
    "collapsed": false,
    "pycharm": {
     "name": "#%%\n"
    }
   }
  },
  {
   "cell_type": "markdown",
   "source": [
    "#### Add a Router"
   ],
   "metadata": {
    "collapsed": false,
    "pycharm": {
     "name": "#%% md\n"
    }
   }
  },
  {
   "cell_type": "code",
   "execution_count": null,
   "outputs": [],
   "source": [
    "router = chi.network.create_router(router_name, gw_network_name='public')\n",
    "\n",
    "print(json.dumps(router, indent=2))"
   ],
   "metadata": {
    "collapsed": false,
    "pycharm": {
     "name": "#%%\n"
    }
   }
  },
  {
   "cell_type": "markdown",
   "source": [
    "#### Attach the Router and Subnet"
   ],
   "metadata": {
    "collapsed": false,
    "pycharm": {
     "name": "#%% md\n"
    }
   }
  },
  {
   "cell_type": "code",
   "execution_count": null,
   "outputs": [],
   "source": [
    "chi.network.add_subnet_to_router_by_name(router_name, subnet_name)"
   ],
   "metadata": {
    "collapsed": false,
    "pycharm": {
     "name": "#%%\n"
    }
   }
  },
  {
   "cell_type": "markdown",
   "source": [
    "#### Add a Circuit Stitched to ExoGENI"
   ],
   "metadata": {
    "collapsed": false,
    "pycharm": {
     "name": "#%% md\n"
    }
   }
  },
  {
   "cell_type": "code",
   "execution_count": null,
   "outputs": [],
   "source": [
    "# Set start/end date for lease\n",
    "# Start one minute into future to avoid Blazar thinking lease is in past\n",
    "# due to rounding to closest minute.\n",
    "start_date = (datetime.now(tz=tz.tzutc()) + timedelta(minutes=1)).strftime(BLAZAR_TIME_FORMAT)\n",
    "end_date   = (datetime.now(tz=tz.tzutc()) + timedelta(days=1)).strftime(BLAZAR_TIME_FORMAT)\n",
    "\n",
    "# Build list of reservations (in this case there is only one reservation)\n",
    "reservation_list = []\n",
    "\n",
    "chi.lease.add_network_reservation(reservation_list,\n",
    "                                  network_name=stitched_network_name, \n",
    "                                  physical_network='exogeni',\n",
    "                                  vswitch_name=vswitch_name)\n",
    "                           \n",
    "\n",
    "# Create the lease\n",
    "stitch_lease = chi.lease.create_lease(lease_name_stitch, \n",
    "                                               start_date=start_date,\n",
    "                                               end_date=end_date,\n",
    "                                               reservations=reservation_list)\n",
    "\n",
    "stitch_lease = chi.lease.wait_for_active(stitch_lease['id'])\n",
    "    \n",
    "#Print the lease info\n",
    "print(json.dumps(stitch_lease, indent=2))"
   ],
   "metadata": {
    "collapsed": false,
    "pycharm": {
     "name": "#%%\n"
    }
   }
  },
  {
   "cell_type": "markdown",
   "source": [
    "#### Get the Stitched Network Reservation and VLAN\n",
    "\n",
    "Each lease contains one or more reservations. The individual reservation IDs are required to instantiate resources. You can [get the lease](../modules-python/reservations/get_lease_by_name.ipynb) and separate the reservation IDs for compute, network, and floating IPs using the technique below."
   ],
   "metadata": {
    "collapsed": false,
    "pycharm": {
     "name": "#%% md\n"
    }
   }
  },
  {
   "cell_type": "code",
   "execution_count": null,
   "outputs": [],
   "source": [
    "stitch_reservation_id = [reservation for reservation in network_lease['reservations'] if reservation['resource_type'] == 'network'][0]['id']\n",
    "\n",
    "print(\"stitch_reservation_id: \" + stitch_reservation_id)\n",
    "\n",
    "#Get the network\n",
    "network = chi.network.get_network(stitched_network_name)\n",
    "\n",
    "#Get the network ID\n",
    "network_id = network['id']\n",
    "print(f'Network ID: {network_id}')\n",
    "\n",
    "#Get the VLAN tag (needed for ExoGENI stitching)\n",
    "exogeni_vlan = network['provider:segmentation_id']\n",
    "print(f'exogeni_vlan: {exogeni_vlan}')"
   ],
   "metadata": {
    "collapsed": false,
    "pycharm": {
     "name": "#%%\n"
    }
   }
  },
  {
   "cell_type": "markdown",
   "source": [
    "## Create the Servers"
   ],
   "metadata": {
    "collapsed": false,
    "pycharm": {
     "name": "#%% md\n"
    }
   }
  },
  {
   "cell_type": "code",
   "execution_count": null,
   "outputs": [],
   "source": [
    "# Set start/end date for lease\n",
    "# Start one minute into future to avoid Blazar thinking lease is in past\n",
    "# due to rounding to closest minute.\n",
    "start_date = (datetime.now(tz=tz.tzutc()) + timedelta(minutes=1)).strftime(BLAZAR_TIME_FORMAT)\n",
    "end_date   = (datetime.now(tz=tz.tzutc()) + timedelta(days=1)).strftime(BLAZAR_TIME_FORMAT)\n",
    "\n",
    "# Build list of reservations (in this case there is only one reservation)\n",
    "reservation_list = []\n",
    "chi.lease.add_node_reservation(reservation_list, count=server_count, node_type=node_type)\n",
    "chi.lease.add_fip_reservation(reservation_list, count=1)\n",
    "\n",
    "# Create the lease\n",
    "server_lease = chi.lease.create_lease(lease_name_servers, \n",
    "                                      start_date=start_date,\n",
    "                                      end_date=end_date,\n",
    "                                      reservations=reservation_list)\n",
    "\n",
    "chi.lease.wait_for_active(server_lease['id'])\n",
    "    \n",
    "#Print the lease info\n",
    "print(json.dumps(server_lease, indent=2))"
   ],
   "metadata": {
    "collapsed": false,
    "pycharm": {
     "name": "#%%\n"
    }
   }
  },
  {
   "cell_type": "code",
   "execution_count": null,
   "outputs": [],
   "source": [
    "compute_reservation_id = [reservation for reservation in server_lease['reservations'] if reservation['resource_type'] == 'physical:host'][0]['id']\n",
    "floatingip_reservation_id = [reservation for reservation in server_lease['reservations'] if reservation['resource_type'] == 'virtual:floatingip'][0]['id']\n",
    "\n",
    "print(f\"compute_reservation_id: {compute_reservation_id}\")\n",
    "print(f\"floatingip_reservation_id: {floatingip_reservation_id}\")"
   ],
   "metadata": {
    "collapsed": false,
    "pycharm": {
     "name": "#%%\n"
    }
   }
  },
  {
   "cell_type": "markdown",
   "source": [
    "#### Start the Server\n",
    "\n",
    "Use the compute_reservation_id to [create the server](../modules-python/servers/create_server.ipynb)."
   ],
   "metadata": {
    "collapsed": false,
    "pycharm": {
     "name": "#%% md\n"
    }
   }
  },
  {
   "cell_type": "code",
   "execution_count": null,
   "outputs": [],
   "source": [
    "# Create the server\n",
    "server = chi.server.create_server(server_name, \n",
    "                                  reservation_id=compute_reservation_id,\n",
    "                                  network_name=network_name, \n",
    "                                  image_name=image_name)\n",
    "\n",
    "chi.server.wait_for_active(server.id)"
   ],
   "metadata": {
    "collapsed": false,
    "pycharm": {
     "name": "#%%\n"
    }
   }
  },
  {
   "cell_type": "markdown",
   "source": [
    "#### Associate the Floating IP"
   ],
   "metadata": {
    "collapsed": false,
    "pycharm": {
     "name": "#%% md\n"
    }
   }
  },
  {
   "cell_type": "code",
   "execution_count": null,
   "outputs": [],
   "source": [
    "floating_ip = chi.server.associate_floating_ip(server.id)\n",
    "\n",
    "print(f'Floating IP: {floating_ip}')"
   ],
   "metadata": {
    "collapsed": false,
    "pycharm": {
     "name": "#%%\n"
    }
   }
  },
  {
   "cell_type": "markdown",
   "source": [
    "## Stitch the Circuit using ExoGENI\n",
    "\n",
    "Note: The ExoGENI\n",
    "steps require a valid GENI certificate at the path specified and a public/private keypair in ~/.ssh (run ssh-keygen with default inputs)"
   ],
   "metadata": {
    "collapsed": false,
    "pycharm": {
     "name": "#%% md\n"
    }
   }
  },
  {
   "cell_type": "markdown",
   "source": [
    "#### Create the Circuit\n"
   ],
   "metadata": {
    "collapsed": false,
    "pycharm": {
     "name": "#%% md\n"
    }
   }
  },
  {
   "cell_type": "code",
   "execution_count": null,
   "outputs": [],
   "source": [
    "%%script env chameleon_vlan=\"$exogeni_vlan\" stitchport_url=\"$stitchport_url\" stitchport_vlan=\"$stitchport_vlan\" geni_pem=\"$geni_pem_file\" bash\n",
    "\n",
    "echo 'chameleon_vlan ' $chameleon_vlan ', stitchport_url ' $stitchport_url ', stitchport_vlan ' $stitchport_vlan ', geni_pem ' $geni_pem\n",
    "xoStitch create -sp1 uc -vlan1 $chameleon_vlan -sp2 $stitchport_url -vlan2 $stitchport_vlan -c $geni_pem"
   ],
   "metadata": {
    "collapsed": false,
    "pycharm": {
     "name": "#%%\n"
    }
   }
  },
  {
   "cell_type": "markdown",
   "source": [
    "#### Check the Status of the Circuit"
   ],
   "metadata": {
    "collapsed": false,
    "pycharm": {
     "name": "#%% md\n"
    }
   }
  },
  {
   "cell_type": "code",
   "execution_count": null,
   "outputs": [],
   "source": [
    "%%script env chameleon_vlan=\"$exogeni_vlan\" stitchport_url=\"$stitchport_url\" stitchport_vlan=\"$stitchport_vlan\" geni_pem=\"$geni_pem_file\" bash\n",
    "\n",
    "echo 'chameleon_vlan ' $chameleon_vlan ', stitchport_url ' $stitchport_url ', stitchport_vlan ' $stitchport_vlan ', geni_pem ' $geni_pem\n",
    "xoStitch status -sp1 uc -vlan1 $chameleon_vlan -sp2 $stitchport_url -vlan2 $stitchport_vlan -c $geni_pem"
   ],
   "metadata": {
    "collapsed": false,
    "pycharm": {
     "name": "#%%\n"
    }
   }
  },
  {
   "cell_type": "markdown",
   "source": [
    "## Clean Up Resources"
   ],
   "metadata": {
    "collapsed": false,
    "pycharm": {
     "name": "#%% md\n"
    }
   }
  },
  {
   "cell_type": "markdown",
   "source": [
    "### Delete Stitched Circuit using ExoGENI"
   ],
   "metadata": {
    "collapsed": false,
    "pycharm": {
     "name": "#%% md\n"
    }
   }
  },
  {
   "cell_type": "code",
   "execution_count": null,
   "outputs": [],
   "source": [
    "%%script env chameleon_vlan=\"$exogeni_vlan\" stitchport_url=\"$stitchport_url\" stitchport_vlan=\"$stitchport_vlan\" geni_pem=\"$geni_pem_file\" bash\n",
    "\n",
    "echo 'chameleon_vlan ' $chameleon_vlan ', stitchport_url ' $stitchport_url ', stitchport_vlan ' $stitchport_vlan ', geni_pem ' $geni_pem\n",
    "xoStitch delete -sp1 uc -vlan1 $chameleon_vlan -sp2 $stitchport_url -vlan2 $stitchport_vlan -c $geni_pem"
   ],
   "metadata": {
    "collapsed": false,
    "pycharm": {
     "name": "#%%\n"
    }
   }
  },
  {
   "cell_type": "markdown",
   "source": [
    "### Delete Resources\n",
    "\n",
    "Delete the server."
   ],
   "metadata": {
    "collapsed": false,
    "pycharm": {
     "name": "#%% md\n"
    }
   }
  },
  {
   "cell_type": "code",
   "execution_count": null,
   "outputs": [],
   "source": [
    "chi.server.delete_server(server.id)"
   ],
   "metadata": {
    "collapsed": false,
    "pycharm": {
     "name": "#%%\n"
    }
   }
  },
  {
   "cell_type": "markdown",
   "source": [
    "#### De-configure Network"
   ],
   "metadata": {
    "collapsed": false,
    "pycharm": {
     "name": "#%% md\n"
    }
   }
  },
  {
   "cell_type": "code",
   "execution_count": null,
   "outputs": [],
   "source": [
    "router_id = router['id']\n",
    "subnet_id = subnet['id']\n",
    "\n",
    "try:\n",
    "    result = chi.network.remove_subnet_from_router(router_id, subnet_id)\n",
    "except Exception as e:\n",
    "    print(f\"detach_router_by_name error: {str(e)}\")\n",
    "    pass\n",
    "\n",
    "try:\n",
    "    result = chi.network.delete_router(router_id)\n",
    "except Exception as e:\n",
    "    print(f\"delete_router_by_name error: {str(e)}\")\n",
    "    pass\n",
    "\n",
    "try:\n",
    "    result = chi.network.delete_subnet(subnet_id)\n",
    "except Exception as e:\n",
    "    print(f\"delete_subnet_by_name error: {str(e)}\")\n",
    "    pass\n",
    "\n",
    "try:\n",
    "    result = chi.network.delete_network(network_id)\n",
    "except Exception as e:\n",
    "    print(f\"delete_network_by_name error: {str(e)}\")\n",
    "    pass"
   ],
   "metadata": {
    "collapsed": false,
    "pycharm": {
     "name": "#%%\n"
    }
   }
  },
  {
   "cell_type": "markdown",
   "source": [
    "#### Release Leases"
   ],
   "metadata": {
    "collapsed": false,
    "pycharm": {
     "name": "#%% md\n"
    }
   }
  },
  {
   "cell_type": "code",
   "execution_count": null,
   "outputs": [],
   "source": [
    "chi.lease.delete_lease(network_lease['id'])\n",
    "chi.lease.delete_lease(server_lease['id'])\n",
    "chi.lease.delete_lease(stitch_lease['id'])"
   ],
   "metadata": {
    "collapsed": false,
    "pycharm": {
     "name": "#%%\n"
    }
   }
  }
 ],
 "metadata": {
  "kernelspec": {
   "display_name": "Python 3 (ipykernel)",
   "language": "python",
   "name": "python3"
  },
  "language_info": {
   "codemirror_mode": {
    "name": "ipython",
    "version": 3
   },
   "file_extension": ".py",
   "mimetype": "text/x-python",
   "name": "python",
   "nbconvert_exporter": "python",
   "pygments_lexer": "ipython3",
   "version": "3.9.7"
  }
 },
 "nbformat": 4,
 "nbformat_minor": 4
}