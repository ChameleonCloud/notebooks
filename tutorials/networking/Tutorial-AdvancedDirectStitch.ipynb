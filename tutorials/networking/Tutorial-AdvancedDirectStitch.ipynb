{
 "cells": [
  {
   "cell_type": "markdown",
   "metadata": {},
   "source": [
    "<img src=\"Tutorial-DirectStitch-figs/Chameleon-FullColor-lg_4CCULFA.jpg\" >\n",
    "\n",
    "# Tutorial: Advanced uses of Chameleon DirectStitch Connections \n",
    "\n",
    "- **Estimated time**: ?? minutes\n",
    "- **Requirements**:\n",
    "\n",
    "     - This tutorial assumes you have a Chameleon account and basic experience logging into and using Chameleon (see: https://chameleoncloud.readthedocs.io/en/latest/getting-started/index.html)\n",
    "     - Understanding of Chameleon networks and isolated VLANs. (see: https://chameleoncloud.readthedocs.io/en/latest/technical/networks.html)\n",
    "     - Basic understanding of the CLI (see https://chameleoncloud.readthedocs.io/en/latest/technical/cli.html)\n",
    "     - Have a GENI account and SSL Certificate (see http://www.exogeni.net/2015/09/exogeni-getting-started-tutorial/)\n",
    "     - Have reviewed the basic DirectStitch tutorial (see https://jupyter.chameleoncloud.org/hub/user-redirect/lab/tree/git/notebooks/tutorials/networking/Tutorial-DirectStitch.ipynb)\n",
    "\n",
    "\n",
    "\n",
    "\n",
    "The Chameleon DirectStitch capability provides direct OSI Layer 2 networking connections between Chameleon resources and external facilities. Chameleon DirectStitch is similar services offered by public cloud providers such as AWS Direct Connect, Google Cloud Dedicated Interconnect, and Microsoft Azure ExpressRoute. The basic Chameleon DirectStitch tutorial shows how to create private networks that can be connected with external circuits to remote facilities (including networks in the other Chameleon site). \n",
    "\n",
    "Method presented in the basic tutorial is limited to a single externally stitched VLAN and it is difficult to modify the network independently from the compute nodes. The more advance method presented in this tutorial shows how separate management of the stitched links the compute nodes.  Separate management allows for multiple stitched links to be dynamically added and removed after the experiment has been instantiated. The flexibility  provided by this method makes it the recommended method for all DirectStitch experiments. \n"
   ]
  },
  {
   "cell_type": "markdown",
   "metadata": {},
   "source": [
    "During this tutorial we will:\n",
    "\n",
    "- Step 1: Create a Chameleon Isolated Network with compute hosts.\n",
    "- Step 2: Dynamically  add/remove DirectStitch connections.\n"
   ]
  },
  {
   "cell_type": "markdown",
   "metadata": {},
   "source": [
    "## Tutorial\n",
    "\n",
    "In this tutorial, you will use Chameleon DirectStitch ports to connect to connect an isolated tenant network to one or more external campus facilities or other resource on ExoGENI.\n"
   ]
  },
  {
   "cell_type": "markdown",
   "metadata": {},
   "source": [
    "### Set Variables"
   ]
  },
  {
   "cell_type": "code",
   "execution_count": null,
   "metadata": {},
   "outputs": [],
   "source": [
    "# Set up user's project (user's can be multiple ones, so there is no default currently)\n",
    "#export OS_PROJECT_NAME='ExoGENI@Chameleon'\n",
    "export OS_PROJECT_NAME=\"CH-816532\"\n",
    "export OS_PROJECT_DOMAIN_NAME=chameleon\n",
    "\n",
    "# Set chameleon keypair name and path to the private ssh key\n",
    "export SSH_KEY_NAME=${USER}-jupyter\n",
    "export SSH_PRIVATE_KEY=${HOME}/work/pruth-chameleon-jupyter\n",
    "\n",
    "export NETWORK_SUBNET=\"192.168.100.0/24\"\n",
    "\n",
    "export RESOURCE_PREFIX=\"$USER-test2-$(date +%b%d)\"\n",
    "\n",
    "export GENI_PEM_FILE=\"~/work/geni-pruth.pem\"\n",
    "\n",
    "echo $SSH_KEY_NAME"
   ]
  },
  {
   "cell_type": "markdown",
   "metadata": {},
   "source": [
    "## Step 1: Create a Local Chameleon Isolated Network\n",
    "\n",
    "The first step is to create an isolated network. This network will be the base network used by the compute nodes. The base network should be on the \"physnet1\" provided (i.e. is should not be an externally stitchable network).  However, it is important to include a \"VSwitchName\". Later you will use this name to add externally stitchable ports to the isolated network. Optionally, you can specify an OpenFlow controller and control the traffic flowing through this switch.\n",
    "\n",
    "<img src=\"Tutorial-DirectStitch-figs/AdvancedDirectStitch1.png\" width=\"500\">"
   ]
  },
  {
   "cell_type": "markdown",
   "metadata": {},
   "source": [
    "### Step 1a: Create the Network\n",
    "\n",
    "#### Set network resource names"
   ]
  },
  {
   "cell_type": "code",
   "execution_count": null,
   "metadata": {},
   "outputs": [],
   "source": [
    "LOCAL_NET_LEASE_NAME=${RESOURCE_PREFIX}\"-LocalNet\"\n",
    "\n",
    "# Set the names for the network, subnet, router, and switch. \n",
    "NETWORK_NAME=${RESOURCE_PREFIX}\"-Network\"\n",
    "SUBNET_NAME=${RESOURCE_PREFIX}\"-Subnet\"\n",
    "ROUTER_NAME=${RESOURCE_PREFIX}\"-Router\"\n",
    "\n",
    "PROVIDER='physnet1'\n",
    "SWITCH_NAME=${RESOURCE_PREFIX}'Switch'"
   ]
  },
  {
   "cell_type": "code",
   "execution_count": null,
   "metadata": {},
   "outputs": [],
   "source": [
    "# Create Lease for local network on the physnet1 provider with a unique VSwitchName\n",
    "blazar lease-create \\\n",
    "   --reservation resource_type=network,network_name=${NETWORK_NAME},network_description=\"VSwitchName=${SWITCH_NAME}\",resource_properties=\"[\\\"==\\\",\\\"\\$physical_network\\\",\\\"$PROVIDER\\\"]\" \\\n",
    "   ${LOCAL_NET_LEASE_NAME}"
   ]
  },
  {
   "cell_type": "markdown",
   "metadata": {},
   "source": [
    "#### Step 1b: Add a subnet and router to the network"
   ]
  },
  {
   "cell_type": "code",
   "execution_count": null,
   "metadata": {},
   "outputs": [],
   "source": [
    "echo Creating Subnet\n",
    "openstack subnet create --max-width 80 \\\n",
    "                        --subnet-range ${NETWORK_SUBNET} \\\n",
    "                        --dhcp \\\n",
    "                        --network ${NETWORK_NAME} \\\n",
    "                        ${SUBNET_NAME}\n",
    "                        \n",
    "echo Creating Router\n",
    "openstack router create --max-width 80 ${ROUTER_NAME}\n",
    "\n",
    "echo Linking router to subnet\n",
    "openstack router add subnet ${ROUTER_NAME} ${SUBNET_NAME}\n",
    "\n",
    "echo Linking router to external gateway\n",
    "openstack router set --external-gateway public ${ROUTER_NAME}\n",
    "\n",
    "echo Network ${NETWORK_NAME} is ready for nodes!"
   ]
  },
  {
   "cell_type": "markdown",
   "metadata": {},
   "source": [
    "#### Step 1c: Launch servers connected to the new network\n",
    "\n",
    "At this point your OpenFlow network is ready for compute nodes. You can add nodes using the CLI commands below or by any other method you are comfortable with. "
   ]
  },
  {
   "cell_type": "code",
   "execution_count": null,
   "metadata": {},
   "outputs": [],
   "source": [
    "START_DATE=`date -d \"+2 min\" +'%F %H:%M'`\n",
    "END_DATE=`date -d \"+1 day\" +'%F %H:%M'`\n",
    "\n",
    "\n",
    "NODE_TYPE=\"compute_haswell\"\n",
    "SERVER_LEASE_NAME=\"${RESOURCE_PREFIX}-Servers\" \n",
    "\n",
    "#MIN=2\n",
    "#MAX=2\n",
    "\n",
    "blazar lease-create \\\n",
    "      --physical-reservation min=${MIN},max=${MAX},resource_properties=\"[\\\"==\\\",\\\"\\$node_type\\\",\\\"compute_haswell\\\"]\" \\\n",
    "      --start-date \"${START_DATE}\" \\\n",
    "      --end-date \"${END_DATE}\" \\\n",
    "      ${SERVER_LEASE_NAME}\n",
    "\n",
    "# Get the reservation ID\n",
    "\n",
    "RESERVATION_ID=$(blazar lease-show  -f json ${SERVER_LEASE_NAME} | jq -r .reservations | jq -r .id)\n",
    "LEASE_ID=$(blazar lease-show  -f json ${SERVER_LEASE_NAME} | jq -r .id)\n"
   ]
  },
  {
   "cell_type": "code",
   "execution_count": null,
   "metadata": {},
   "outputs": [],
   "source": [
    "NODE_NAME=${RESOURCE_PREFIX}-node\n",
    "\n",
    "echo $SSH_KEY_NAME\n",
    "\n",
    "echo Creating servers... This will take several minutes! \n",
    "openstack server create --max-width 80 \\\n",
    "                        --flavor \"baremetal\" \\\n",
    "                        --image \"CC-CentOS7\" \\\n",
    "                        --key-name ${SSH_KEY_NAME} \\\n",
    "                        --hint reservation=${RESERVATION_ID} \\\n",
    "                        --security-group default  \\\n",
    "                        --nic net-id=${NETWORK_NAME} \\\n",
    "                        ${NODE_NAME}"
   ]
  },
  {
   "cell_type": "markdown",
   "metadata": {},
   "source": [
    "## Step 2: Add Stitched Links to the Existing Network Switch\n",
    "\n",
    "DirectStitch links are network that must be reserved using the reservation system.  When you create this reservation, you must specify the \"exogeni\" provider network to get an externally stitchable link. It is important to specify the \"VSwitchName\" of the base network you created in step 1. This will instruct Chameleon to add this new stitched link to the existing network. If you do not specify the name, the Chameleon will create a new isolated network as in the basic DirectStitch tutorial.\n",
    "\n",
    "<img src=\"Tutorial-DirectStitch-figs/AdvancedDirectStitch2.png\" width=\"500\">\n"
   ]
  },
  {
   "cell_type": "markdown",
   "metadata": {},
   "source": [
    "#### Step 2a: Create a lease for the DirectStitch network\n",
    "\n",
    "This step can be re-run with another network and reservation name in order to create multiple DirectStitch links connected to the same base network."
   ]
  },
  {
   "cell_type": "code",
   "execution_count": null,
   "metadata": {},
   "outputs": [],
   "source": [
    "START_DATE=`date -d \"+2 min\" +'%F %H:%M'`\n",
    "END_DATE=`date -d \"+1 day\" +'%F %H:%M'`\n",
    "\n",
    "STITCH_NETWORK_NAME=${RESOURCE_PREFIX}'-exogeni-stitch'\n",
    "STITCH_RESERVATION_NAME=${RESOURCE_PREFIX}'-exogeni-stitch'\n",
    "PROVIDER='exogeni'\n",
    "\n",
    "blazar lease-create \\\n",
    "   --reservation resource_type=\"network\",network_name=\"${STITCH_NETWORK_NAME}\",network_description=\"VSwitchName=${SWITCH_NAME}\",resource_properties=\"[\\\"==\\\",\\\"\\$physical_network\\\",\\\"$PROVIDER\\\"]\" \\\n",
    "   --start-date \"${START_DATE}\" \\\n",
    "   --end-date \"${END_DATE}\" \\\n",
    "   ${STITCH_RESERVATION_NAME}\n"
   ]
  },
  {
   "cell_type": "markdown",
   "metadata": {},
   "source": [
    "#### Step 2b: Get the DirectStitch VLAN Tag\n",
    "\n",
    "You will need to get the DirectStitch VLAN Tag in order to connect an external facility. If you add multiple DirectStitch ports to a single network, each port will have a unique VLAN tag that can be found using its specified network name.\n",
    "\n",
    "Note: this will not be successful until the network is created. You may need to re-run this command until the VLAN tag is found."
   ]
  },
  {
   "cell_type": "code",
   "execution_count": null,
   "metadata": {},
   "outputs": [],
   "source": [
    "DIRECTSTITCH_VLAN=`openstack network show -c provider:segmentation_id -f value ${STITCH_NETWORK_NAME}`\n",
    "echo DirectStitch VLAN: $DIRECTSTITCH_VLAN "
   ]
  },
  {
   "cell_type": "markdown",
   "metadata": {},
   "source": [
    "## Step 3: Use ExoGENI to Connect the Ports\n",
    "\n",
    "This can be accomplished  with 'xoStitch' tool or any other mechanism for requesting ExoGENI sllices. See the basic DirectStitch tutorial for details.\n"
   ]
  },
  {
   "cell_type": "markdown",
   "metadata": {},
   "source": [
    "## Step 4: Delete DirectStitch Links\n",
    "\n",
    "In order to delete DirectStitch ports simply delete the lease that created them. The method presented in this tutorial allows for DirectStitch ports be added and removed throughout the experiment."
   ]
  },
  {
   "cell_type": "code",
   "execution_count": null,
   "metadata": {},
   "outputs": [],
   "source": [
    "blazar lease-delete $STITCH_RESERVATION_NAME"
   ]
  }
 ],
 "metadata": {
  "kernelspec": {
   "display_name": "Bash",
   "language": "bash",
   "name": "bash"
  },
  "language_info": {
   "codemirror_mode": "shell",
   "file_extension": ".sh",
   "mimetype": "text/x-sh",
   "name": "bash"
  }
 },
 "nbformat": 4,
 "nbformat_minor": 4
}
