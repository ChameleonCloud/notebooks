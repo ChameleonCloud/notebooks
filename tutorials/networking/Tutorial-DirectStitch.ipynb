{
 "cells": [
  {
   "cell_type": "markdown",
   "metadata": {},
   "source": [
    "<img src=\"Tutorial-DirectStitch-figs/Chameleon-FullColor-lg_4CCULFA.jpg\" >\n",
    "\n",
    "# Tutorial: Using Chameleon DirectStitch Connections \n",
    "\n",
    "- **Estimated time**: ?? minutes\n",
    "- **Requirements**:\n",
    "\n",
    "     - This tutorial assumes you have a Chameleon account and basic experience logging into and using Chameleon (see: https://chameleoncloud.readthedocs.io/en/latest/getting-started/index.html)\n",
    "     - Understanding of Chameleon networks and isolated VLANs. (see: https://chameleoncloud.readthedocs.io/en/latest/technical/networks.html)\n",
    "     - Basic understanding of the CLI (see https://chameleoncloud.readthedocs.io/en/latest/technical/cli.html)\n",
    "     - Have a GENI account and SSL Certificate (see http://www.exogeni.net/2015/09/exogeni-getting-started-tutorial/)\n",
    "\n",
    "The Chameleon DirectStitch capability provides direct OSI Layer 2 networking connections between Chameleon resources and external facilities. Chameleon DirectStitch is similar services offered by public cloud providers such as AWS Direct Connect, Google Cloud Dedicated Interconnect, and Microsoft Azure ExpressRoute. "
   ]
  },
  {
   "cell_type": "markdown",
   "metadata": {},
   "source": [
    "\n",
    "\n",
    "During this tutorial we will:\n",
    "\n",
    "- Step 1: Create Chameleon Isolated Network(s) with DirectStitch Ports](#Step-1%3A-Do-something) \n",
    "- Step 2: Use ExoGENI to Connect the Ports](#Step-2%3A-Do-something-else)\n",
    "- Step 3: Run an Experiment using the Wide-area Layer 2 Connection](#Step-3%3A-Do-something-else)\n"
   ]
  },
  {
   "cell_type": "markdown",
   "metadata": {},
   "source": [
    "## Background: Direct Network Connections to Public Clouds\n",
    "\n",
    "Many public cloud providers have services for connecting campus and business IT facilites directly to cloud resources over OSI layer 2 connections. These connections can be more reliable, lower latency, higher bandwidth, and more secure. In addition, public cloud providers often provide discounts on data transfers made using dedicated infrastructure as opposed to comodity Internet. Although they are similar, each public cloud provider has its own interface and set of capabilities. \n",
    "\n",
    "Direct network connection services provided by common public clouds: \n",
    "\n",
    "- AWS Direct Connect: https://aws.amazon.com/directconnect/\n",
    "- Google Cloud Dedicated Interconnect: https://cloud.google.com/interconnect/docs/\n",
    "- Microsoft Azure ExpressRoute: https://docs.microsoft.com/en-us/azure/expressroute/expressroute-introduction\n",
    "    \n",
    "Internet2 has simplified access to many of these services through Cloud Connect (https://www.internet2.edu/products-services/advanced-networking/networking-for-cloud/) which is available to Internet2's member institutions.\n",
    "\n",
    "\n",
    "<img src=\"Tutorial-DirectStitch-figs/direct_connect_overview.png\" width=\"500\">\n",
    "\n",
    "\n",
    "An example can be seen in Amazons Direct Connect service illistrated in the figure above. Users can connect their campus router or firewall (i.e. \"customer network\") to various AWS peering points (i.e. \"AWS Direct Connect locations\").  At the same time users can connect their Virtual Private Cloud (VPC) and its EC2 nodes to the peering point and have traffic forwared directly between their campus and resources in the Amazon cloud.\n",
    " \n",
    "### Why use direct cloud network connections?\n",
    "\n",
    "There are several common production use cases for direct cloud network connetions:\n",
    "\n",
    "   - Extending Campus Infrastructure. With direct connections a campus infrastructure can be extended into the cloud while making it appear to be local (i.e. cloud resources using local capmus IP space). Your campus may already be doing this without you knowing.\n",
    "   - Cloud bursting. Dynamically extending campus infrastructure to the cloud during periods of peak demand. \n",
    "   - Network Performance: Dedicated direct connections can have high bandwidth and/or lower latency compared to comodity Internet.\n",
    "   - Security: Directly connected cloud resources are not exposed to traffic from the common IP address name space shared across the Internet. This can be used to create an increased layer of security for increasingly common friction free network paths used to transfer science data (e.g. ScienceDMZs).\n",
    "   \n",
    "Educational and research institutions can use direct connections to create sandboxes for real wide-area network eperiments:\n",
    "\n",
    "   - Network peering. Students can deploy BGP on isolated networks spread across the world. Researchers can experiements with alternative protocols and archetectures.\n",
    "   - Performance. Students and researchers can experiment with realistic wide-area network performance with increased control of the core  network.\n",
    "   - Non-TCP/IP protocols. Students and researchers can experiment with non-TCP/IP protocols in the real wide-area network. Note that this is not possile with all public cloud providers but it is possible with Chameleon. "
   ]
  },
  {
   "cell_type": "markdown",
   "metadata": {},
   "source": [
    "## Chameleon DirectStitch\n",
    "  \n",
    "Chameleon's DirectStitch capabilites enables direct OSI layer 2 connections and the associated wide-area networking experiments described in the previous section to a cloud that is more deeply programmable than then common public clouds. \n",
    "  \n",
    "<img src=\"Tutorial-DirectStitch-figs/ChameleonDirectStitch.png\" width=\"500\">\n",
    "  \n",
    "A Chameleon Isolated Tenant Network has similar properties to an Amazon VPC. Fudementally, it is a private network for connecting cloud nodes. Typically, each node is assigned a fixed IP on the private network though which they can communicate with other nodes on the network and uses a NAT router managed by the Chameleon's OpenStack system to commuicate with the public Internet. Optionally, nodes can be provide services on the pubic Internet by being assigned a floating IP that the NAT router forward to the specfic node.  \n",
    "\n",
    "Chameleon DirectStitch works by adding a port to the isolated network's switch that connects connects to Internet2's Advanced Layer 2 Service (AL2S) on a specific VLAN tag. The user can then use AL2S to connect a layer 2 circut between the Chameleon DirectStitch port and any other endpoint on AL2S.  \n",
    "\n",
    "The major limiation to using DirectStitch, as well as other public cloud direct network connection services, is that most users do not have direct access to a wide-area network circuit provider such as AL2S.  The solution for academic educators and reseachers is to use GENI as an intermediary to provision these circuits.   GENI users can use ExoGENI to provision circuits between GENI resources and other AL2S endpoints including isolated tenant networks on Chameleon and, in the near future, other public cloud direct connect locations enabled by Internet2 Cloud Connnect.\n",
    "\n",
    "For information about enabling connections to your campus facility contact the Chameleon or ExoGENI team. We are always interested in connecting more facilities and enabling more experiments.\n",
    "\n"
   ]
  },
  {
   "cell_type": "markdown",
   "metadata": {},
   "source": [
    "## Tutorial\n",
    "\n",
    "In this tutorial, you will use Chameleon DirectStitch ports to connect isolated tenant networks at each of the two Chameleon sites.  A similar process can be used to connect an isolated tenant network to your campus facility or other resource on ExoGEN.\n",
    "\n",
    "<img src=\"Tutorial-DirectStitch-figs/ChameleonDirectStitch-TACC2UC.png\" width=\"700\">\n",
    "\n",
    "\n",
    "### Variables you'll see/use in this Notebook\n",
    "\n",
    "  - `OS_PROJECT_NAME`: The name of the project you want to use.\n",
    "  - `UC_RESERVATION`: Reservation ID at UC.\n",
    "  - `TACC_RESERVATION`: Reservation ID at TACC.\n",
    "  - `SSH_KEY_NAME`: SSH key name as registered in Chameleon\n",
    "  - `SSH_PRIVATE_KEY`: Path to the corresponding private key in your Jupyter container.\n",
    "  - `NETWORK_SUBNET`: Private IP subnet that will span both Chameleon sites.\n",
    "  - `UC_ALLOCATION_START`: The start of the IP range assigned at the UC site.\n",
    "  - `UC_ALLOCATION_END`: The end of the IP range assigned at the UC site.\n",
    "  - `TACC_ALLOCATION_START`: The start of the IP range assigned at the TACC site.\n",
    "  - `TACC_ALLOCATION_END`: The start of the IP range assigned at the TACC site.\n",
    "  - `RESOURCE_PREFIX`: A begin string used to idenify resources provision. This includes your user ID so that your resources can be distinguised from those belonging to other tutorial particpants.\n",
    "  - `GENI_PEM_FILE`: The path to your GENI certificate file in you Jupyter container.\n",
    "  - `UC_DIRECTSTITCH_VLAN`: The VLAN using to attach to the DirectStitch port at UC.\n",
    "  - `TACC_DIRECTSTITCH_VLAN`: The VLAN using to attach to the DirectStitch port at TACC."
   ]
  },
  {
   "cell_type": "markdown",
   "metadata": {},
   "source": [
    "### Set Variables"
   ]
  },
  {
   "cell_type": "code",
   "execution_count": 1,
   "metadata": {},
   "outputs": [],
   "source": [
    "# Set up user's project (user's can be multiple ones, so there is no default currently)\n",
    "export OS_PROJECT_NAME='CH-816532'\n",
    "\n",
    "# Set chameleon keypair name and path to the private ssh key\n",
    "export SSH_KEY_NAME=${USERNAME}-jupyter\n",
    "export SSH_PRIVATE_KEY=${HOME}/work/pruth-chameleon-jupyter\n",
    "\n",
    "export NETWORK_SUBNET=\"192.168.100.0/24\"\n",
    "export UC_ALLOCATION_START=\"192.168.100.10\"\n",
    "export UC_ALLOCATION_END=\"192.168.100.19\"\n",
    "export TACC_ALLOCATION_START=\"192.168.100.20\"\n",
    "export TACC_ALLOCATION_END=\"192.168.100.29\"\n",
    "\n",
    "export RESOURCE_PREFIX=\"$USER-tutorial-$(date +%b%d)\"\n",
    "\n",
    "export GENI_PEM_FILE=\"~/work/geni-pruth.pem\"\n"
   ]
  },
  {
   "cell_type": "markdown",
   "metadata": {},
   "source": [
    "## Step 1: Create Chameleon Isolated Network(s) with DirectStitch Ports\n",
    "\n",
    "Creating a Chameleon DirectStitch port is as easy as creating an isolated VLAN but with an extra parameter requesting the port. Unlike local isolated VLANs, there are a limited number of Chameleon DirectStitch ports available. In order to share access to ports, Chameleon requires a DirectStitch reservation.\n",
    "\n",
    "In this step we will create a two Chameleon networks each with a DirectConnect port. One network will be at the UC (Chicago) while the other will be at TACC (Austin)."
   ]
  },
  {
   "cell_type": "markdown",
   "metadata": {},
   "source": [
    "### Step 1a: Create a Network a UC\n",
    "\n",
    "#### Set network resource names"
   ]
  },
  {
   "cell_type": "code",
   "execution_count": 2,
   "metadata": {},
   "outputs": [],
   "source": [
    "UC_RESERVATION_NAME=${RESOURCE_PREFIX}\"-UC\"\n",
    "\n",
    "# Set the names for the network, subnet, router, and switch. \n",
    "UC_NETWORK_NAME=${RESOURCE_PREFIX}\"-Network-UC\"\n",
    "UC_SUBNET_NAME=${RESOURCE_PREFIX}\"-Subnet-UC\"\n",
    "UC_ROUTER_NAME=${RESOURCE_PREFIX}\"-Router-UC\"\n",
    "\n"
   ]
  },
  {
   "cell_type": "markdown",
   "metadata": {},
   "source": [
    "#### Create the Network\n",
    "\n",
    "DirectStitch networks must be researved using the reservation system.  In this reservation, we  include a compute node that we will use later in the tutorial.  \n",
    "\n",
    "Note: that you can make separate reservations for nodes and networks."
   ]
  },
  {
   "cell_type": "code",
   "execution_count": 3,
   "metadata": {},
   "outputs": [
    {
     "name": "stdout",
     "output_type": "stream",
     "text": [
      "Creating network\n",
      "Matches: ('min=1,max=1', 'resource_properties', '[\"=\", \"$node_type\", \"compute_haswell\"]')\n",
      "Matches: ('min=1', 'max', '1')\n",
      "Matches: (None, 'min', '1')\n",
      "Matches: ('resource_type=virtual:floatingip,network_id=44b38c44-2a42-4b6d-b129-6c8f1b2a1375', 'amount', '1')\n",
      "Matches: ('resource_type=virtual:floatingip', 'network_id', '44b38c44-2a42-4b6d-b129-6c8f1b2a1375')\n",
      "Matches: (None, 'resource_type', 'virtual:floatingip')\n",
      "Matches: ('resource_type=network,network_name=pruth-tutorial-May30-Network-UC', 'resource_properties', '[\"==\",\"$physical_network\",\"exogeni\"]')\n",
      "Matches: ('resource_type=network', 'network_name', 'pruth-tutorial-May30-Network-UC')\n",
      "Matches: (None, 'resource_type', 'network')\n",
      "Created a new lease:\n",
      "+--------------+----------------------------------------------------------------------------+\n",
      "| Field        | Value                                                                      |\n",
      "+--------------+----------------------------------------------------------------------------+\n",
      "| created_at   | 2019-05-30 01:38:46                                                        |\n",
      "| degraded     | False                                                                      |\n",
      "| end_date     | 2019-05-31T01:38:00.000000                                                 |\n",
      "| events       | {                                                                          |\n",
      "|              |     \"status\": \"UNDONE\",                                                    |\n",
      "|              |     \"lease_id\": \"90d31c32-83d0-4ffb-bcce-158ec7e7e472\",                    |\n",
      "|              |     \"event_type\": \"start_lease\",                                           |\n",
      "|              |     \"created_at\": \"2019-05-30 01:39:00\",                                   |\n",
      "|              |     \"updated_at\": null,                                                    |\n",
      "|              |     \"time\": \"2019-05-30T01:40:00.000000\",                                  |\n",
      "|              |     \"id\": \"a27011c2-d261-4c2d-8c14-43e8823cddf9\"                           |\n",
      "|              | }                                                                          |\n",
      "|              | {                                                                          |\n",
      "|              |     \"status\": \"UNDONE\",                                                    |\n",
      "|              |     \"lease_id\": \"90d31c32-83d0-4ffb-bcce-158ec7e7e472\",                    |\n",
      "|              |     \"event_type\": \"end_lease\",                                             |\n",
      "|              |     \"created_at\": \"2019-05-30 01:39:00\",                                   |\n",
      "|              |     \"updated_at\": null,                                                    |\n",
      "|              |     \"time\": \"2019-05-31T01:38:00.000000\",                                  |\n",
      "|              |     \"id\": \"c9cf31c6-8a16-47e4-bfbc-057532f94fb4\"                           |\n",
      "|              | }                                                                          |\n",
      "|              | {                                                                          |\n",
      "|              |     \"status\": \"UNDONE\",                                                    |\n",
      "|              |     \"lease_id\": \"90d31c32-83d0-4ffb-bcce-158ec7e7e472\",                    |\n",
      "|              |     \"event_type\": \"before_end_lease\",                                      |\n",
      "|              |     \"created_at\": \"2019-05-30 01:39:00\",                                   |\n",
      "|              |     \"updated_at\": null,                                                    |\n",
      "|              |     \"time\": \"2019-05-30T01:40:00.000000\",                                  |\n",
      "|              |     \"id\": \"d1b26fcb-8a6c-4060-bfab-c369e79ed997\"                           |\n",
      "|              | }                                                                          |\n",
      "| id           | 90d31c32-83d0-4ffb-bcce-158ec7e7e472                                       |\n",
      "| name         | pruth-tutorial-May30-UC                                                    |\n",
      "| project_id   | d9faac3973a847f1b718fa765fe312e2                                           |\n",
      "| reservations | {                                                                          |\n",
      "|              |     \"status\": \"pending\",                                                   |\n",
      "|              |     \"lease_id\": \"90d31c32-83d0-4ffb-bcce-158ec7e7e472\",                    |\n",
      "|              |     \"resource_id\": \"c9b44549-3051-40a4-98cf-febfc4355c5f\",                 |\n",
      "|              |     \"created_at\": \"2019-05-30 01:38:57\",                                   |\n",
      "|              |     \"updated_at\": \"2019-05-30 01:39:00\",                                   |\n",
      "|              |     \"missing_resources\": false,                                            |\n",
      "|              |     \"id\": \"3293c2ff-14dc-479e-95ea-d383fdeb5ffa\",                          |\n",
      "|              |     \"resource_type\": \"network\",                                            |\n",
      "|              |     \"resources_changed\": false                                             |\n",
      "|              | }                                                                          |\n",
      "|              | {                                                                          |\n",
      "|              |     \"status\": \"pending\",                                                   |\n",
      "|              |     \"before_end\": \"default\",                                               |\n",
      "|              |     \"lease_id\": \"90d31c32-83d0-4ffb-bcce-158ec7e7e472\",                    |\n",
      "|              |     \"resource_id\": \"cbb354c8-5edb-4ad5-be4d-21f6fe3b3ab2\",                 |\n",
      "|              |     \"max\": 1,                                                              |\n",
      "|              |     \"created_at\": \"2019-05-30 01:38:46\",                                   |\n",
      "|              |     \"min\": 1,                                                              |\n",
      "|              |     \"updated_at\": \"2019-05-30 01:38:57\",                                   |\n",
      "|              |     \"missing_resources\": false,                                            |\n",
      "|              |     \"hypervisor_properties\": \"\",                                           |\n",
      "|              |     \"on_start\": \"default\",                                                 |\n",
      "|              |     \"resource_properties\": \"[\\\"=\\\", \\\"$node_type\\\", \\\"compute_haswell\\\"]\", |\n",
      "|              |     \"id\": \"8f0e846d-af51-422f-a2b4-d633af472cc0\",                          |\n",
      "|              |     \"resource_type\": \"physical:host\",                                      |\n",
      "|              |     \"resources_changed\": false                                             |\n",
      "|              | }                                                                          |\n",
      "|              | {                                                                          |\n",
      "|              |     \"status\": \"pending\",                                                   |\n",
      "|              |     \"lease_id\": \"90d31c32-83d0-4ffb-bcce-158ec7e7e472\",                    |\n",
      "|              |     \"resource_id\": \"cc8633db-5206-4cf9-9f37-a574713b26dc\",                 |\n",
      "|              |     \"network_id\": \"44b38c44-2a42-4b6d-b129-6c8f1b2a1375\",                  |\n",
      "|              |     \"created_at\": \"2019-05-30 01:38:57\",                                   |\n",
      "|              |     \"updated_at\": \"2019-05-30 01:38:57\",                                   |\n",
      "|              |     \"required_floatingips\": [],                                            |\n",
      "|              |     \"missing_resources\": false,                                            |\n",
      "|              |     \"amount\": 1,                                                           |\n",
      "|              |     \"id\": \"c5021256-7958-41c0-8e97-a7a9ba79925e\",                          |\n",
      "|              |     \"resource_type\": \"virtual:floatingip\",                                 |\n",
      "|              |     \"resources_changed\": false                                             |\n",
      "|              | }                                                                          |\n",
      "| start_date   | 2019-05-30T01:40:00.000000                                                 |\n",
      "| status       | PENDING                                                                    |\n",
      "| trust_id     | 1b9c833b1048463a811eaa9b3bdf7c73                                           |\n",
      "| updated_at   | 2019-05-30 01:39:00                                                        |\n",
      "| user_id      | f3a422ce5a4442e3a7a247ddfd98bfc3                                           |\n",
      "+--------------+----------------------------------------------------------------------------+\n",
      "UC_RESERVATION 90d31c32-83d0-4ffb-bcce-158ec7e7e472\n",
      "UC_NODE_RESERVATION 8f0e846d-af51-422f-a2b4-d633af472cc0\n"
     ]
    }
   ],
   "source": [
    "OS_REGION_NAME='CHI@UC'\n",
    "\n",
    "START_DATE=`date -d \"+2 min\" +'%F %H:%M'`\n",
    "END_DATE=`date -d \"+1 day\" +'%F %H:%M'`\n",
    "\n",
    "PUBLIC_NETWORK_ID=$(openstack network show public -c id -f value)\n",
    "\n",
    "echo Creating network ${EXOGENI_STITCH_NAME}\n",
    "blazar lease-create \\\n",
    "   --physical-reservation min=1,max=1,resource_properties='[\"=\", \"$node_type\", \"compute_haswell\"]' \\\n",
    "   --reservation resource_type=virtual:floatingip,network_id=${PUBLIC_NETWORK_ID},amount=1 \\\n",
    "   --reservation resource_type=\"network\",network_name=\"${UC_NETWORK_NAME}\",resource_properties='[\"==\",\"$physical_network\",\"exogeni\"]' \\\n",
    "   --start-date \"${START_DATE}\" \\\n",
    "   --end-date \"${END_DATE}\" \\\n",
    "   ${UC_RESERVATION_NAME}\n",
    "\n",
    "UC_RESERVATION=`blazar lease-show --format value -c id ${UC_RESERVATION_NAME}`\n",
    "echo UC_RESERVATION $UC_RESERVATION\n",
    "\n",
    "UC_NODE_RESERVATION=`blazar lease-show -json --format value -c reservations ${UC_RESERVATION_NAME} | jq -r 'select(.resource_type | contains(\"physical:host\")) | .id'`\n",
    "echo UC_NODE_RESERVATION $UC_NODE_RESERVATION\n"
   ]
  },
  {
   "cell_type": "markdown",
   "metadata": {},
   "source": [
    "#### Get the DirectStitch VLAN Tag\n",
    "\n",
    "Note: this will not be successful until the network is created. You may need to rerun this command until the VLAN tag is found."
   ]
  },
  {
   "cell_type": "code",
   "execution_count": 6,
   "metadata": {},
   "outputs": [
    {
     "name": "stdout",
     "output_type": "stream",
     "text": [
      "UC DirectStitch VLAN: 3293\n",
      "UC_FLOATING_IP 192.5.87.223\n"
     ]
    }
   ],
   "source": [
    "OS_REGION_NAME='CHI@UC'\n",
    "\n",
    "UC_DIRECTSTITCH_VLAN=`openstack network show -c provider:segmentation_id -f value ${UC_NETWORK_NAME}`\n",
    "echo UC DirectStitch VLAN: $UC_DIRECTSTITCH_VLAN \n",
    "\n",
    "UC_FLOATING_IP=`lease_list_floating_ips $UC_RESERVATION`\n",
    "echo UC_FLOATING_IP $UC_FLOATING_IP \n"
   ]
  },
  {
   "cell_type": "markdown",
   "metadata": {},
   "source": [
    "#### Step 1b: Add a subnet and router to the network"
   ]
  },
  {
   "cell_type": "code",
   "execution_count": 7,
   "metadata": {},
   "outputs": [
    {
     "name": "stdout",
     "output_type": "stream",
     "text": [
      "Creating Subnet\n",
      "BadRequestException: 400: Client Error for url: https://chi.uc.chameleoncloud.org:9696/v2.0/subnets, Invalid input for operation: Requested subnet with cidr: 192.168.100.0/24 for network: af8f013e-d034-455f-a269-c3aa5db5da40 overlaps with another subnet.\n",
      "Creating Router\n",
      "+-------------------------+----------------------------------------------------+\n",
      "| Field                   | Value                                              |\n",
      "+-------------------------+----------------------------------------------------+\n",
      "| admin_state_up          | UP                                                 |\n",
      "| availability_zone_hints |                                                    |\n",
      "| availability_zones      |                                                    |\n",
      "| created_at              | 2019-05-30T01:44:04Z                               |\n",
      "| description             |                                                    |\n",
      "| external_gateway_info   | None                                               |\n",
      "| flavor_id               | None                                               |\n",
      "| id                      | a7f7a485-9a74-4d40-9114-c327740e6c82               |\n",
      "| location                | Munch({'cloud': '', 'region_name': 'CHI@UC',       |\n",
      "|                         | 'zone': None, 'project': Munch({'id':              |\n",
      "|                         | 'd9faac3973a847f1b718fa765fe312e2', 'name':        |\n",
      "|                         | 'CH-816532', 'domain_id': None, 'domain_name':     |\n",
      "|                         | 'default'})})                                      |\n",
      "| name                    | pruth-tutorial-May30-Router-UC                     |\n",
      "| project_id              | d9faac3973a847f1b718fa765fe312e2                   |\n",
      "| revision_number         | 0                                                  |\n",
      "| routes                  |                                                    |\n",
      "| status                  | ACTIVE                                             |\n",
      "| tags                    |                                                    |\n",
      "| updated_at              | 2019-05-30T01:44:04Z                               |\n",
      "+-------------------------+----------------------------------------------------+\n",
      "Linking router to subnet\n",
      "More than one Router exists with the name 'pruth-tutorial-May30-Router-UC'.\n",
      "Linking router to external gateway\n",
      "More than one Router exists with the name 'pruth-tutorial-May30-Router-UC'.\n",
      "Network pruth-tutorial-May30-Network-UC is ready for nodes!\n"
     ]
    }
   ],
   "source": [
    "OS_REGION_NAME='CHI@UC'\n",
    "echo Creating Subnet\n",
    "openstack subnet create --max-width 80 \\\n",
    "                        --subnet-range ${NETWORK_SUBNET} \\\n",
    "                        --allocation-pool start=${UC_ALLOCATION_START},end=${UC_ALLOCATION_END} \\\n",
    "                        --dhcp \\\n",
    "                        --network ${UC_NETWORK_NAME} \\\n",
    "                        ${UC_SUBNET_NAME}\n",
    "                        \n",
    "echo Creating Router\n",
    "openstack router create --max-width 80 ${UC_ROUTER_NAME}\n",
    "\n",
    "echo Linking router to subnet\n",
    "openstack router add subnet ${UC_ROUTER_NAME} ${UC_SUBNET_NAME}\n",
    "\n",
    "echo Linking router to external gateway\n",
    "openstack router set --external-gateway public ${UC_ROUTER_NAME}\n",
    "\n",
    "echo Network ${UC_NETWORK_NAME} is ready for nodes!"
   ]
  },
  {
   "cell_type": "markdown",
   "metadata": {},
   "source": [
    "#### Step 1c: Launch servers connected to the new network\n",
    "\n",
    "At this point your OpenFlow network is ready for compute nodes. You can add nodes using the CLI commands below or by any other method you are comfortable with. "
   ]
  },
  {
   "cell_type": "code",
   "execution_count": 8,
   "metadata": {},
   "outputs": [
    {
     "name": "stdout",
     "output_type": "stream",
     "text": [
      "Creating servers... This will take several minutes!\n",
      "\n",
      "+-------------------------------------+----------------------------------------+\n",
      "| Field                               | Value                                  |\n",
      "+-------------------------------------+----------------------------------------+\n",
      "| OS-DCF:diskConfig                   | MANUAL                                 |\n",
      "| OS-EXT-AZ:availability_zone         | nova                                   |\n",
      "| OS-EXT-SRV-ATTR:host                | admin01-ironic                         |\n",
      "| OS-EXT-SRV-ATTR:hypervisor_hostname | 15a37657-65bb-4a39-8f2d-c308e7226651   |\n",
      "| OS-EXT-SRV-ATTR:instance_name       | instance-000087f2                      |\n",
      "| OS-EXT-STS:power_state              | Running                                |\n",
      "| OS-EXT-STS:task_state               | None                                   |\n",
      "| OS-EXT-STS:vm_state                 | active                                 |\n",
      "| OS-SRV-USG:launched_at              | 2019-05-30T01:52:20.000000             |\n",
      "| OS-SRV-USG:terminated_at            | None                                   |\n",
      "| accessIPv4                          |                                        |\n",
      "| accessIPv6                          |                                        |\n",
      "| addresses                           | pruth-tutorial-May30-Network-          |\n",
      "|                                     | UC=192.168.100.17                      |\n",
      "| adminPass                           | aQxHke9gyicA                           |\n",
      "| config_drive                        |                                        |\n",
      "| created                             | 2019-05-30T01:44:21Z                   |\n",
      "| flavor                              | baremetal (baremetal)                  |\n",
      "| hostId                              | 9eaf1659b196f668b38d32836aa4eb951bfc7d |\n",
      "|                                     | 54a30797819146c82d                     |\n",
      "| id                                  | 4d950818-a035-40f2-81ef-e557736e04ff   |\n",
      "| image                               | CC-CentOS7                             |\n",
      "|                                     | (48ddb2fa-84ca-4411-8047-5610f4ad20db) |\n",
      "| key_name                            | pruth-jupyter                          |\n",
      "| name                                | pruth-tutorial-May30-node              |\n",
      "| progress                            | 0                                      |\n",
      "| project_id                          | d9faac3973a847f1b718fa765fe312e2       |\n",
      "| properties                          |                                        |\n",
      "| security_groups                     | name='default'                         |\n",
      "| status                              | ACTIVE                                 |\n",
      "| updated                             | 2019-05-30T01:52:20Z                   |\n",
      "| user_id                             | f3a422ce5a4442e3a7a247ddfd98bfc3       |\n",
      "| volumes_attached                    |                                        |\n",
      "+-------------------------------------+----------------------------------------+\n"
     ]
    }
   ],
   "source": [
    "UC_NODE_NAME=${RESOURCE_PREFIX}-node\n",
    "\n",
    "OS_REGION_NAME='CHI@UC'\n",
    "echo Creating servers... This will take several minutes! \n",
    "openstack server create --max-width 80 \\\n",
    "                        --flavor \"baremetal\" \\\n",
    "                        --image \"CC-CentOS7\" \\\n",
    "                        --key-name ${SSH_KEY_NAME} \\\n",
    "                        --hint reservation=${UC_NODE_RESERVATION} \\\n",
    "                        --security-group default  \\\n",
    "                        --nic net-id=${UC_NETWORK_NAME} \\\n",
    "                        ${UC_NODE_NAME}"
   ]
  },
  {
   "cell_type": "code",
   "execution_count": 9,
   "metadata": {},
   "outputs": [
    {
     "name": "stdout",
     "output_type": "stream",
     "text": [
      "192.5.87.223\n"
     ]
    }
   ],
   "source": [
    "OS_REGION_NAME='CHI@UC'\n",
    "#Attach the floating IP address to the server\n",
    "echo $UC_FLOATING_IP \n",
    "openstack server add floating ip $UC_NODE_NAME $UC_FLOATING_IP "
   ]
  },
  {
   "cell_type": "markdown",
   "metadata": {},
   "source": [
    "### Create Network a TACC\n",
    "\n",
    "Repeat the steps but target the TACC Chameleon site"
   ]
  },
  {
   "cell_type": "code",
   "execution_count": 10,
   "metadata": {},
   "outputs": [],
   "source": [
    "OS_REGION_NAME='CHI@TACC'\n",
    "\n",
    "TACC_RESERVATION_NAME=${RESOURCE_PREFIX}\"-TACC\"\n",
    "\n",
    "# Set the names for the network, subnet, router, and switch. \n",
    "# See above about using identifiable names.  \n",
    "TACC_NETWORK_NAME=${RESOURCE_PREFIX}\"-Network-TACC\"\n",
    "TACC_SUBNET_NAME=${RESOURCE_PREFIX}\"-Subnet-TACC\"\n",
    "TACC_ROUTER_NAME=${RESOURCE_PREFIX}\"-Router-TACC\""
   ]
  },
  {
   "cell_type": "markdown",
   "metadata": {},
   "source": [
    "#### Create the Network"
   ]
  },
  {
   "cell_type": "code",
   "execution_count": 11,
   "metadata": {},
   "outputs": [
    {
     "name": "stdout",
     "output_type": "stream",
     "text": [
      "Creating network\n",
      "Matches: ('min=1,max=1', 'resource_properties', '[\"=\", \"$node_type\", \"compute_haswell\"]')\n",
      "Matches: ('min=1', 'max', '1')\n",
      "Matches: (None, 'min', '1')\n",
      "Matches: ('resource_type=virtual:floatingip,network_id=6189521e-06a0-4c43-b163-16cc11ce675b', 'amount', '1')\n",
      "Matches: ('resource_type=virtual:floatingip', 'network_id', '6189521e-06a0-4c43-b163-16cc11ce675b')\n",
      "Matches: (None, 'resource_type', 'virtual:floatingip')\n",
      "Matches: ('resource_type=network,network_name=pruth-tutorial-May30-Network-TACC', 'resource_properties', '[\"==\",\"$physical_network\",\"exogeni\"]')\n",
      "Matches: ('resource_type=network', 'network_name', 'pruth-tutorial-May30-Network-TACC')\n",
      "Matches: (None, 'resource_type', 'network')\n",
      "Created a new lease:\n",
      "+--------------+----------------------------------------------------------------------------+\n",
      "| Field        | Value                                                                      |\n",
      "+--------------+----------------------------------------------------------------------------+\n",
      "| created_at   | 2019-05-30 01:59:08                                                        |\n",
      "| degraded     | False                                                                      |\n",
      "| end_date     | 2019-05-31T01:59:00.000000                                                 |\n",
      "| events       | {                                                                          |\n",
      "|              |     \"status\": \"UNDONE\",                                                    |\n",
      "|              |     \"lease_id\": \"72fdd6ab-334e-458b-b2d5-3f16c1e768ab\",                    |\n",
      "|              |     \"event_type\": \"start_lease\",                                           |\n",
      "|              |     \"created_at\": \"2019-05-30 01:59:30\",                                   |\n",
      "|              |     \"updated_at\": null,                                                    |\n",
      "|              |     \"time\": \"2019-05-30T02:01:00.000000\",                                  |\n",
      "|              |     \"id\": \"02b7ef0f-692d-45aa-ad7d-ff6d910be45a\"                           |\n",
      "|              | }                                                                          |\n",
      "|              | {                                                                          |\n",
      "|              |     \"status\": \"UNDONE\",                                                    |\n",
      "|              |     \"lease_id\": \"72fdd6ab-334e-458b-b2d5-3f16c1e768ab\",                    |\n",
      "|              |     \"event_type\": \"before_end_lease\",                                      |\n",
      "|              |     \"created_at\": \"2019-05-30 01:59:30\",                                   |\n",
      "|              |     \"updated_at\": null,                                                    |\n",
      "|              |     \"time\": \"2019-05-30T02:01:00.000000\",                                  |\n",
      "|              |     \"id\": \"33d18f98-66a1-4823-b7be-ac33bb69cdde\"                           |\n",
      "|              | }                                                                          |\n",
      "|              | {                                                                          |\n",
      "|              |     \"status\": \"UNDONE\",                                                    |\n",
      "|              |     \"lease_id\": \"72fdd6ab-334e-458b-b2d5-3f16c1e768ab\",                    |\n",
      "|              |     \"event_type\": \"end_lease\",                                             |\n",
      "|              |     \"created_at\": \"2019-05-30 01:59:30\",                                   |\n",
      "|              |     \"updated_at\": null,                                                    |\n",
      "|              |     \"time\": \"2019-05-31T01:59:00.000000\",                                  |\n",
      "|              |     \"id\": \"9547ba2a-8bb8-4828-afc5-f16452ed2d88\"                           |\n",
      "|              | }                                                                          |\n",
      "| id           | 72fdd6ab-334e-458b-b2d5-3f16c1e768ab                                       |\n",
      "| name         | pruth-tutorial-May30-TACC                                                  |\n",
      "| project_id   | d9faac3973a847f1b718fa765fe312e2                                           |\n",
      "| reservations | {                                                                          |\n",
      "|              |     \"status\": \"pending\",                                                   |\n",
      "|              |     \"before_end\": \"default\",                                               |\n",
      "|              |     \"lease_id\": \"72fdd6ab-334e-458b-b2d5-3f16c1e768ab\",                    |\n",
      "|              |     \"resource_id\": \"7168cdd8-b970-4559-ad58-3f322070ab29\",                 |\n",
      "|              |     \"max\": 1,                                                              |\n",
      "|              |     \"created_at\": \"2019-05-30 01:59:08\",                                   |\n",
      "|              |     \"min\": 1,                                                              |\n",
      "|              |     \"updated_at\": \"2019-05-30 01:59:27\",                                   |\n",
      "|              |     \"missing_resources\": false,                                            |\n",
      "|              |     \"hypervisor_properties\": \"\",                                           |\n",
      "|              |     \"on_start\": \"default\",                                                 |\n",
      "|              |     \"resource_properties\": \"[\\\"=\\\", \\\"$node_type\\\", \\\"compute_haswell\\\"]\", |\n",
      "|              |     \"id\": \"053a957e-ced7-4647-af94-f34efa340df7\",                          |\n",
      "|              |     \"resource_type\": \"physical:host\",                                      |\n",
      "|              |     \"resources_changed\": false                                             |\n",
      "|              | }                                                                          |\n",
      "|              | {                                                                          |\n",
      "|              |     \"status\": \"pending\",                                                   |\n",
      "|              |     \"lease_id\": \"72fdd6ab-334e-458b-b2d5-3f16c1e768ab\",                    |\n",
      "|              |     \"resource_id\": \"4298e561-2f1d-428d-a91e-1f5aea9200ac\",                 |\n",
      "|              |     \"created_at\": \"2019-05-30 01:59:28\",                                   |\n",
      "|              |     \"updated_at\": \"2019-05-30 01:59:30\",                                   |\n",
      "|              |     \"missing_resources\": false,                                            |\n",
      "|              |     \"id\": \"19a38767-045a-4b5a-9a99-50e4c4ff7ff5\",                          |\n",
      "|              |     \"resource_type\": \"network\",                                            |\n",
      "|              |     \"resources_changed\": false                                             |\n",
      "|              | }                                                                          |\n",
      "|              | {                                                                          |\n",
      "|              |     \"status\": \"pending\",                                                   |\n",
      "|              |     \"lease_id\": \"72fdd6ab-334e-458b-b2d5-3f16c1e768ab\",                    |\n",
      "|              |     \"resource_id\": \"34895f66-bcd7-44ea-8d55-9eb31d202623\",                 |\n",
      "|              |     \"network_id\": \"6189521e-06a0-4c43-b163-16cc11ce675b\",                  |\n",
      "|              |     \"created_at\": \"2019-05-30 01:59:27\",                                   |\n",
      "|              |     \"updated_at\": \"2019-05-30 01:59:28\",                                   |\n",
      "|              |     \"required_floatingips\": [],                                            |\n",
      "|              |     \"missing_resources\": false,                                            |\n",
      "|              |     \"amount\": 1,                                                           |\n",
      "|              |     \"id\": \"fdf86a55-24cb-428d-83ee-904c7a2b8d98\",                          |\n",
      "|              |     \"resource_type\": \"virtual:floatingip\",                                 |\n",
      "|              |     \"resources_changed\": false                                             |\n",
      "|              | }                                                                          |\n",
      "| start_date   | 2019-05-30T02:01:00.000000                                                 |\n",
      "| status       | PENDING                                                                    |\n",
      "| trust_id     | 3cd0d76758b242ae815819e532b6bddb                                           |\n",
      "| updated_at   | 2019-05-30 01:59:30                                                        |\n",
      "| user_id      | f3a422ce5a4442e3a7a247ddfd98bfc3                                           |\n",
      "+--------------+----------------------------------------------------------------------------+\n",
      "TACC_RESERVATION 72fdd6ab-334e-458b-b2d5-3f16c1e768ab\n",
      "TACC_NODE_RESERVATION 053a957e-ced7-4647-af94-f34efa340df7\n"
     ]
    }
   ],
   "source": [
    "OS_REGION_NAME='CHI@TACC'\n",
    "\n",
    "START_DATE=`date -d \"+2 min\" +'%F %H:%M'`\n",
    "END_DATE=`date -d \"+1 day\" +'%F %H:%M'`\n",
    "\n",
    "PUBLIC_NETWORK_ID=$(openstack network show public -c id -f value)\n",
    "\n",
    "echo Creating network ${EXOGENI_STITCH_NAME}\n",
    "blazar lease-create \\\n",
    "   --physical-reservation min=1,max=1,resource_properties='[\"=\", \"$node_type\", \"compute_haswell\"]' \\\n",
    "   --reservation resource_type=virtual:floatingip,network_id=${PUBLIC_NETWORK_ID},amount=1 \\\n",
    "   --reservation resource_type=\"network\",network_name=\"${TACC_NETWORK_NAME}\",resource_properties='[\"==\",\"$physical_network\",\"exogeni\"]' \\\n",
    "   --start-date \"${START_DATE}\" \\\n",
    "   --end-date \"${END_DATE}\" \\\n",
    "   ${TACC_RESERVATION_NAME}\n",
    "\n",
    "TACC_RESERVATION=`blazar lease-show --format value -c id ${TACC_RESERVATION_NAME}`\n",
    "echo TACC_RESERVATION $TACC_RESERVATION\n",
    "\n",
    "TACC_NODE_RESERVATION=`blazar lease-show -json --format value -c reservations ${TACC_RESERVATION} | jq -r 'select(.resource_type | contains(\"physical:host\")) | .id'`\n",
    "echo TACC_NODE_RESERVATION $TACC_NODE_RESERVATION\n",
    "   \n",
    "   \n",
    "   "
   ]
  },
  {
   "cell_type": "markdown",
   "metadata": {},
   "source": [
    "#### Get the DirectStitch VLAN Tag\n",
    "\n",
    "Repeat until sucessful"
   ]
  },
  {
   "cell_type": "code",
   "execution_count": 12,
   "metadata": {},
   "outputs": [
    {
     "name": "stdout",
     "output_type": "stream",
     "text": [
      "TACC DirectStitch VLAN: 3505\n",
      "TACC_FLOATING_IP 129.114.109.236\n"
     ]
    }
   ],
   "source": [
    "OS_REGION_NAME='CHI@TACC'\n",
    "TACC_DIRECTSTITCH_VLAN=`openstack network show -c provider:segmentation_id -f value ${TACC_NETWORK_NAME}`\n",
    "echo TACC DirectStitch VLAN: $TACC_DIRECTSTITCH_VLAN \n",
    "\n",
    "TACC_FLOATING_IP=`lease_list_floating_ips $TACC_RESERVATION`\n",
    "echo TACC_FLOATING_IP $TACC_FLOATING_IP \n"
   ]
  },
  {
   "cell_type": "markdown",
   "metadata": {},
   "source": [
    "#### Add a subnet and router to the network"
   ]
  },
  {
   "cell_type": "code",
   "execution_count": 13,
   "metadata": {},
   "outputs": [
    {
     "name": "stdout",
     "output_type": "stream",
     "text": [
      "Creating Subnet\n",
      "+-------------------+----------------------------------------------------------+\n",
      "| Field             | Value                                                    |\n",
      "+-------------------+----------------------------------------------------------+\n",
      "| allocation_pools  | 192.168.100.20-192.168.100.29                            |\n",
      "| cidr              | 192.168.100.0/24                                         |\n",
      "| created_at        | 2019-05-30T02:03:36Z                                     |\n",
      "| description       |                                                          |\n",
      "| dns_nameservers   |                                                          |\n",
      "| enable_dhcp       | True                                                     |\n",
      "| gateway_ip        | 192.168.100.1                                            |\n",
      "| host_routes       |                                                          |\n",
      "| id                | a250768f-7442-4e0c-a334-a7fb4408c49d                     |\n",
      "| ip_version        | 4                                                        |\n",
      "| ipv6_address_mode | None                                                     |\n",
      "| ipv6_ra_mode      | None                                                     |\n",
      "| location          | Munch({'cloud': '', 'region_name': 'CHI@TACC', 'zone':   |\n",
      "|                   | None, 'project': Munch({'id':                            |\n",
      "|                   | 'd9faac3973a847f1b718fa765fe312e2', 'name': 'CH-816532', |\n",
      "|                   | 'domain_id': None, 'domain_name': 'default'})})          |\n",
      "| name              | pruth-tutorial-May30-Subnet-TACC                         |\n",
      "| network_id        | 780d0d64-feba-47b6-a89c-950fb6203751                     |\n",
      "| prefix_length     | None                                                     |\n",
      "| project_id        | d9faac3973a847f1b718fa765fe312e2                         |\n",
      "| revision_number   | 0                                                        |\n",
      "| segment_id        | None                                                     |\n",
      "| service_types     |                                                          |\n",
      "| subnetpool_id     | None                                                     |\n",
      "| tags              |                                                          |\n",
      "| updated_at        | 2019-05-30T02:03:36Z                                     |\n",
      "+-------------------+----------------------------------------------------------+\n",
      "Creating Router\n",
      "+-------------------------+----------------------------------------------------+\n",
      "| Field                   | Value                                              |\n",
      "+-------------------------+----------------------------------------------------+\n",
      "| admin_state_up          | UP                                                 |\n",
      "| availability_zone_hints |                                                    |\n",
      "| availability_zones      |                                                    |\n",
      "| created_at              | 2019-05-30T02:03:38Z                               |\n",
      "| description             |                                                    |\n",
      "| external_gateway_info   | None                                               |\n",
      "| flavor_id               | None                                               |\n",
      "| id                      | f9f20414-3568-411b-ae13-8a6134305e7c               |\n",
      "| location                | Munch({'cloud': '', 'region_name': 'CHI@TACC',     |\n",
      "|                         | 'zone': None, 'project': Munch({'id':              |\n",
      "|                         | 'd9faac3973a847f1b718fa765fe312e2', 'name':        |\n",
      "|                         | 'CH-816532', 'domain_id': None, 'domain_name':     |\n",
      "|                         | 'default'})})                                      |\n",
      "| name                    | pruth-tutorial-May30-Router-TACC                   |\n",
      "| project_id              | d9faac3973a847f1b718fa765fe312e2                   |\n",
      "| revision_number         | 0                                                  |\n",
      "| routes                  |                                                    |\n",
      "| status                  | ACTIVE                                             |\n",
      "| tags                    |                                                    |\n",
      "| updated_at              | 2019-05-30T02:03:38Z                               |\n",
      "+-------------------------+----------------------------------------------------+\n",
      "Linking router to subnet\n",
      "Linking router to external gateway\n",
      "Network pruth-tutorial-May30-Network-TACC is ready for nodes!\n"
     ]
    }
   ],
   "source": [
    "OS_REGION_NAME='CHI@TACC'\n",
    "echo Creating Subnet\n",
    "openstack subnet create --max-width 80 \\\n",
    "                        --subnet-range ${NETWORK_SUBNET} \\\n",
    "                        --allocation-pool start=${TACC_ALLOCATION_START},end=${TACC_ALLOCATION_END} \\\n",
    "                        --dhcp \\\n",
    "                        --network ${TACC_NETWORK_NAME} \\\n",
    "                        ${TACC_SUBNET_NAME}\n",
    "                        \n",
    "echo Creating Router\n",
    "openstack router create --max-width 80 ${TACC_ROUTER_NAME}\n",
    "\n",
    "echo Linking router to subnet\n",
    "openstack router add subnet ${TACC_ROUTER_NAME} ${TACC_SUBNET_NAME}\n",
    "\n",
    "echo Linking router to external gateway\n",
    "openstack router set --external-gateway public ${TACC_ROUTER_NAME}\n",
    "\n",
    "echo Network ${TACC_NETWORK_NAME} is ready for nodes!"
   ]
  },
  {
   "cell_type": "markdown",
   "metadata": {},
   "source": [
    "#### Launch servers connected to the new network\n",
    "\n",
    "At this point your OpenFlow network is ready for compute nodes. You can add nodes using the CLI commands below or by any other method you are comfortable with. "
   ]
  },
  {
   "cell_type": "code",
   "execution_count": 14,
   "metadata": {},
   "outputs": [
    {
     "name": "stdout",
     "output_type": "stream",
     "text": [
      "TACC_RESERVATION 72fdd6ab-334e-458b-b2d5-3f16c1e768ab\n",
      "Creating servers... This will take several minutes!\n",
      "+-------------------------------------+----------------------------------------+\n",
      "| Field                               | Value                                  |\n",
      "+-------------------------------------+----------------------------------------+\n",
      "| OS-DCF:diskConfig                   | MANUAL                                 |\n",
      "| OS-EXT-AZ:availability_zone         |                                        |\n",
      "| OS-EXT-SRV-ATTR:host                | None                                   |\n",
      "| OS-EXT-SRV-ATTR:hypervisor_hostname | None                                   |\n",
      "| OS-EXT-SRV-ATTR:instance_name       |                                        |\n",
      "| OS-EXT-STS:power_state              | NOSTATE                                |\n",
      "| OS-EXT-STS:task_state               | scheduling                             |\n",
      "| OS-EXT-STS:vm_state                 | building                               |\n",
      "| OS-SRV-USG:launched_at              | None                                   |\n",
      "| OS-SRV-USG:terminated_at            | None                                   |\n",
      "| accessIPv4                          |                                        |\n",
      "| accessIPv6                          |                                        |\n",
      "| addresses                           |                                        |\n",
      "| adminPass                           | cNYatYt7hvMA                           |\n",
      "| config_drive                        |                                        |\n",
      "| created                             | 2019-05-30T02:03:55Z                   |\n",
      "| flavor                              | baremetal (baremetal)                  |\n",
      "| hostId                              |                                        |\n",
      "| id                                  | d6189bd1-a846-474b-aa2c-f7f998cf899a   |\n",
      "| image                               | CC-CentOS7                             |\n",
      "|                                     | (19389c03-6c1e-438f-9fe4-31d6ea143204) |\n",
      "| key_name                            | pruth-jupyter                          |\n",
      "| name                                | pruth-tutorial-May30-node              |\n",
      "| progress                            | 0                                      |\n",
      "| project_id                          | d9faac3973a847f1b718fa765fe312e2       |\n",
      "| properties                          |                                        |\n",
      "| security_groups                     | name='fe2105f7-6d00-467a-bfea-8116286c |\n",
      "|                                     | 7139'                                  |\n",
      "| status                              | BUILD                                  |\n",
      "| updated                             | 2019-05-30T02:03:55Z                   |\n",
      "| user_id                             | f3a422ce5a4442e3a7a247ddfd98bfc3       |\n",
      "| volumes_attached                    |                                        |\n",
      "+-------------------------------------+----------------------------------------+\n"
     ]
    }
   ],
   "source": [
    "echo TACC_RESERVATION $TACC_RESERVATION\n",
    "\n",
    "TACC_NODE_NAME=${RESOURCE_PREFIX}-node\n",
    "\n",
    "OS_REGION_NAME='CHI@TACC'\n",
    "echo Creating servers... This will take several minutes! \n",
    "openstack server create --max-width 80 \\\n",
    "                        --flavor \"baremetal\" \\\n",
    "                        --image \"CC-CentOS7\" \\\n",
    "                        --key-name ${SSH_KEY_NAME} \\\n",
    "                        --hint reservation=${TACC_NODE_RESERVATION} \\\n",
    "                        --security-group default  \\\n",
    "                        --nic net-id=${TACC_NETWORK_NAME} \\\n",
    "                        ${TACC_NODE_NAME}\n"
   ]
  },
  {
   "cell_type": "code",
   "execution_count": 20,
   "metadata": {},
   "outputs": [
    {
     "name": "stdout",
     "output_type": "stream",
     "text": [
      "129.114.109.236\n"
     ]
    }
   ],
   "source": [
    "OS_REGION_NAME='CHI@TACC'\n",
    "\n",
    "#Attach the floating IP address to the server\n",
    "echo $TACC_FLOATING_IP \n",
    "openstack server add floating ip $TACC_NODE_NAME $TACC_FLOATING_IP "
   ]
  },
  {
   "cell_type": "markdown",
   "metadata": {},
   "source": [
    "## Step 2: Use ExoGENI to Connect the Ports\n"
   ]
  },
  {
   "cell_type": "code",
   "execution_count": 19,
   "metadata": {},
   "outputs": [
    {
     "name": "stdout",
     "output_type": "stream",
     "text": [
      "UC DirectStitch VLAN: 3293\n",
      "TACC DirectStitch VLAN: 3505\n",
      "Opening certificate ~/work/geni-pruth.pem and key ~/work/geni-pruth.pem\n",
      "Exception in thread \"main\" org.renci.ahab.libtransport.util.UtilTransportException: SSHAccessTokenFileFactory unable to load user public ssh key /home/pruth/.ssh/id_rsa.pub\n",
      "\tat org.renci.ahab.libtransport.util.SSHAccessTokenFileFactory.<init>(SSHAccessTokenFileFactory.java:39)\n",
      "\tat org.renci.xostitch.XoStitch.buildContext(XoStitch.java:307)\n",
      "\tat org.renci.xostitch.XoStitch.main(XoStitch.java:271)\n"
     ]
    },
    {
     "ename": "",
     "evalue": "1",
     "execution_count": 19,
     "output_type": "error",
     "traceback": []
    }
   ],
   "source": [
    "echo UC DirectStitch VLAN:   $UC_DIRECTSTITCH_VLAN\n",
    "echo TACC DirectStitch VLAN: $TACC_DIRECTSTITCH_VLAN\n",
    "xoStitch create -sp1 uc -vlan1 $UC_DIRECTSTITCH_VLAN -sp2 tacc -vlan2 $TACC_DIRECTSTITCH_VLAN -c $GENI_PEM_FILE"
   ]
  },
  {
   "cell_type": "markdown",
   "metadata": {},
   "source": [
    "## Step 3: Run Experiments\n"
   ]
  },
  {
   "cell_type": "markdown",
   "metadata": {},
   "source": [
    "## Experiment with the DirectStitch Connection\n",
    "\n",
    "Add a floating IP to the nodes and ssh to them in separate windows."
   ]
  },
  {
   "cell_type": "markdown",
   "metadata": {},
   "source": [
    "- Ping from one node to the other using the fixed IPs. What is the RTT?\n",
    "- Use traceroute find the path between the nodes. How many hops do you see if you use the fixed IPs? How many hops uing the floating IP? \n",
    "- Use iperf3 to test the bandwidth between the nodes. Set the MTU to use jumbo frames. Does the bandwidth change?"
   ]
  },
  {
   "cell_type": "markdown",
   "metadata": {},
   "source": [
    "## Other Useful Commands"
   ]
  },
  {
   "cell_type": "code",
   "execution_count": null,
   "metadata": {},
   "outputs": [],
   "source": [
    "#Get the status of the ExoGENI circuit\n",
    "xoStitch status -sp1 uc -vlan1 $UC_DIRECTSTITCH_VLAN -sp2 tacc -vlan2 $TACC_DIRECTSTITCH_VLAN -c $GENI_PEM_FILE\n"
   ]
  },
  {
   "cell_type": "code",
   "execution_count": null,
   "metadata": {},
   "outputs": [],
   "source": [
    "#Delete the ExoGENI circuit\n",
    "xoStitch delete -sp1 uc -vlan1 $UC_DIRECTSTITCH_VLAN -sp2 tacc -vlan2 $TACC_DIRECTSTITCH_VLAN -c $GENI_PEM_FILE\n"
   ]
  },
  {
   "cell_type": "markdown",
   "metadata": {},
   "source": [
    "### Clean Up!"
   ]
  },
  {
   "cell_type": "code",
   "execution_count": null,
   "metadata": {},
   "outputs": [],
   "source": [
    "OS_REGION_NAME='CHI@UC'\n",
    "openstack server delete --wait ${UC_NODE_NAME}\n",
    "blazar lease-delete $UC_RESERVATION"
   ]
  },
  {
   "cell_type": "code",
   "execution_count": null,
   "metadata": {},
   "outputs": [],
   "source": [
    "OS_REGION_NAME='CHI@TACC'\n",
    "openstack server delete --wait ${TACC_NODE_NAME}\n",
    "blazar lease-delete $TACC_RESERVATION"
   ]
  },
  {
   "cell_type": "code",
   "execution_count": null,
   "metadata": {},
   "outputs": [],
   "source": [
    "#Delete the ExoGENI circuit\n",
    "xoStitch delete -sp1 uc -vlan1 $UC_DIRECTSTITCH_VLAN -sp2 tacc -vlan2 $TACC_DIRECTSTITCH_VLAN -c $GENI_PEM_FILE\n"
   ]
  }
 ],
 "metadata": {
  "kernelspec": {
   "display_name": "Bash",
   "language": "bash",
   "name": "bash"
  },
  "language_info": {
   "codemirror_mode": "shell",
   "file_extension": ".sh",
   "mimetype": "text/x-sh",
   "name": "bash"
  }
 },
 "nbformat": 4,
 "nbformat_minor": 2
}
