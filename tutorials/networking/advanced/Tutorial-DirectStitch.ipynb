{
 "cells": [
  {
   "cell_type": "markdown",
   "metadata": {},
   "source": [
    "<img src=\"Tutorial-DirectStitch-figs/Chameleon-FullColor-lg_4CCULFA.jpg\" >\n",
    "\n",
    "# Tutorial: Using Chameleon DirectStitch Connections \n",
    "\n",
    "- **Estimated time**: ?? minutes\n",
    "- **Requirements**:\n",
    "\n",
    "     - This tutorial assumes you have a Chameleon account and basic experience logging into and using Chameleon (see: https://chameleoncloud.readthedocs.io/en/latest/getting-started/index.html)\n",
    "     - Understanding of Chameleon networks and isolated VLANs. (see: https://chameleoncloud.readthedocs.io/en/latest/technical/networks.html)\n",
    "     - Basic understanding of the CLI (see https://chameleoncloud.readthedocs.io/en/latest/technical/cli.html)\n",
    "     - Have a GENI account and SSL Certificate (see http://www.exogeni.net/2015/09/exogeni-getting-started-tutorial/)\n",
    "\n",
    "The Chameleon DirectStitch capability provides direct OSI Layer 2 networking connections between Chameleon resources and external facilities. Chameleon DirectStitch is similar services offered by public cloud providers such as AWS Direct Connect, Google Cloud Dedicated Interconnect, and Microsoft Azure ExpressRoute. "
   ]
  },
  {
   "cell_type": "markdown",
   "metadata": {},
   "source": [
    "\n",
    "\n",
    "During this tutorial we will:\n",
    "\n",
    "- Step 1: Create Chameleon Isolated Network(s) with DirectStitch Ports](#Step-1%3A-Do-something) \n",
    "- Step 2: Use ExoGENI to Connect the Ports](#Step-2%3A-Do-something-else)\n",
    "- Step 3: Run an Experiment using the Wide-area Layer 2 Connection](#Step-3%3A-Do-something-else)\n"
   ]
  },
  {
   "cell_type": "markdown",
   "metadata": {},
   "source": [
    "## Background: Direct Network Connections to Public Clouds\n",
    "\n",
    "Many public cloud providers have services for connecting campus and business IT facilites directly to cloud resources over OSI layer 2 connections. These connections can be more reliable, lower latency, higher bandwidth, and more secure. In addition, public cloud providers often provide discounts on data transfers made using dedicated infrastructure as opposed to comodity Internet. Although they are similar, each public cloud provider has its own interface and set of capabilities. \n",
    "\n",
    "Direct network connection services provided by common public clouds: \n",
    "\n",
    "- AWS Direct Connect: https://aws.amazon.com/directconnect/\n",
    "- Google Cloud Dedicated Interconnect: https://cloud.google.com/interconnect/docs/\n",
    "- Microsoft Azure ExpressRoute: https://docs.microsoft.com/en-us/azure/expressroute/expressroute-introduction\n",
    "    \n",
    "Internet2 has simplified access to many of these services through Cloud Connect (https://www.internet2.edu/products-services/advanced-networking/networking-for-cloud/) which is available to Internet2's member institutions.\n",
    "\n",
    "\n",
    "<img src=\"Tutorial-DirectStitch-figs/direct_connect_overview.png\" width=\"500\">\n",
    "\n",
    "\n",
    "An example can be seen in Amazons Direct Connect service illistrated in the figure above. Users can connect their campus router or firewall (i.e. \"customer network\") to various AWS peering points (i.e. \"AWS Direct Connect locations\").  At the same time users can connect their Virtual Private Cloud (VPC) and its EC2 nodes to the peering point and have traffic forwared directly between their campus and resources in the Amazon cloud.\n",
    " \n",
    "### Why use direct cloud network connections?\n",
    "\n",
    "There are several common production use cases for direct cloud network connetions:\n",
    "\n",
    "   - Extending Campus Infrastructure. With direct connections a campus infrastructure can be extended into the cloud while making it appear to be local (i.e. cloud resources using local capmus IP space). Your campus may already be doing this without you knowing.\n",
    "   - Cloud bursting. Dynamically extending campus infrastructure to the cloud during periods of peak demand. \n",
    "   - Network Performance: Dedicated direct connections can have high bandwidth and/or lower latency compared to comodity Internet.\n",
    "   - Security: Directly connected cloud resources are not exposed to traffic from the common IP address name space shared across the Internet. This can be used to create an increased layer of security for increasingly common friction free network paths used to transfer science data (e.g. ScienceDMZs).\n",
    "   \n",
    "Educational and research institutions can use direct connections to create sandboxes for real wide-area network eperiments:\n",
    "\n",
    "   - Network peering. Students can deploy BGP on isolated networks spread across the world. Researchers can experiements with alternative protocols and archetectures.\n",
    "   - Performance. Students and researchers can experiment with realistic wide-area network performance with increased control of the core  network.\n",
    "   - Non-TCP/IP protocols. Students and researchers can experiment with non-TCP/IP protocols in the real wide-area network. Note that this is not possile with all public cloud providers but it is possible with Chameleon. "
   ]
  },
  {
   "cell_type": "markdown",
   "metadata": {},
   "source": [
    "## Chameleon DirectStitch\n",
    "  \n",
    "Chameleon's DirectStitch capabilites enables direct OSI layer 2 connections and the associated wide-area networking experiments described in the previous section to a cloud that is more deeply programmable than then common public clouds. \n",
    "  \n",
    "<img src=\"Tutorial-DirectStitch-figs/ChameleonDirectStitch.png\" width=\"500\">\n",
    "  \n",
    "A Chameleon Isolated Tenant Network has similar properties to an Amazon VPC. Fudementally, it is a private network for connecting cloud nodes. Typically, each node is assigned a fixed IP on the private network though which they can communicate with other nodes on the network and uses a NAT router managed by the Chameleon's OpenStack system to commuicate with the public Internet. Optionally, nodes can be provide services on the pubic Internet by being assigned a floating IP that the NAT router forward to the specfic node.  \n",
    "\n",
    "Chameleon DirectStitch works by adding a port to the isolated network's switch that connects connects to Internet2's Advanced Layer 2 Service (AL2S) on a specific VLAN tag. The user can then use AL2S to connect a layer 2 circut between the Chameleon DirectStitch port and any other endpoint on AL2S.  \n",
    "\n",
    "The major limiation to using DirectStitch, as well as other public cloud direct network connection services, is that most users do not have direct access to a wide-area network circuit provider such as AL2S.  The solution for academic educators and reseachers is to use GENI as an intermediary to provision these circuits.   GENI users can use ExoGENI to provision circuits between GENI resources and other AL2S endpoints including isolated tenant networks on Chameleon and, in the near future, other public cloud direct connect locations enabled by Internet2 Cloud Connnect.\n",
    "\n",
    "For information about enabling connections to your campus facility contact the Chameleon or ExoGENI team. We are always interested in connecting more facilities and enabling more experiments.\n",
    "\n"
   ]
  },
  {
   "cell_type": "markdown",
   "metadata": {},
   "source": [
    "## Tutorial\n",
    "\n",
    "In this tutorial, you will use Chameleon DirectStitch ports to connect isolated tenant networks at each of the two Chameleon sites.  A similar process can be used to connect an isolated tenant network to your campus facility or other resource on ExoGEN.\n",
    "\n",
    "<img src=\"Tutorial-DirectStitch-figs/ChameleonDirectStitch-TACC2UC.png\" width=\"700\">\n",
    "\n",
    "\n",
    "### Variables you'll see/use in this Notebook\n",
    "\n",
    "  - `OS_PROJECT_NAME`: The name of the project you want to use.\n",
    "  - `UC_RESERVATION`: Reservation ID at UC.\n",
    "  - `TACC_RESERVATION`: Reservation ID at TACC.\n",
    "  - `SSH_KEY_NAME`: SSH key name as registered in Chameleon\n",
    "  - `SSH_PRIVATE_KEY`: Path to the corresponding private key in your Jupyter container.\n",
    "  - `NETWORK_SUBNET`: Private IP subnet that will span both Chameleon sites.\n",
    "  - `UC_ALLOCATION_START`: The start of the IP range assigned at the UC site.\n",
    "  - `UC_ALLOCATION_END`: The end of the IP range assigned at the UC site.\n",
    "  - `TACC_ALLOCATION_START`: The start of the IP range assigned at the TACC site.\n",
    "  - `TACC_ALLOCATION_END`: The start of the IP range assigned at the TACC site.\n",
    "  - `RESOURCE_PREFIX`: A begin string used to idenify resources provision. This includes your user ID so that your resources can be distinguised from those belonging to other tutorial particpants.\n",
    "  - `GENI_PEM_FILE`: The path to your GENI certificate file in you Jupyter container.\n",
    "  - `UC_DIRECTSTITCH_VLAN`: The VLAN using to attach to the DirectStitch port at UC.\n",
    "  - `TACC_DIRECTSTITCH_VLAN`: The VLAN using to attach to the DirectStitch port at TACC."
   ]
  },
  {
   "cell_type": "markdown",
   "metadata": {},
   "source": [
    "### Set Variables"
   ]
  },
  {
   "cell_type": "code",
   "execution_count": null,
   "metadata": {},
   "outputs": [],
   "source": [
    "# Set up user's project (user's can be multiple ones, so there is no default currently)\n",
    "export OS_PROJECT_NAME='CH-816532'\n",
    "\n",
    "# Set chameleon keypair name and path to the private ssh key\n",
    "export SSH_KEY_NAME=${USERNAME}-jupyter\n",
    "export SSH_PRIVATE_KEY=${HOME}/work/pruth-chameleon-jupyter\n",
    "\n",
    "export NETWORK_SUBNET=\"192.168.100.0/24\"\n",
    "export UC_ALLOCATION_START=\"192.168.100.10\"\n",
    "export UC_ALLOCATION_END=\"192.168.100.19\"\n",
    "export TACC_ALLOCATION_START=\"192.168.100.20\"\n",
    "export TACC_ALLOCATION_END=\"192.168.100.29\"\n",
    "\n",
    "export RESOURCE_PREFIX=\"$USER-tutorial-$(date +%b%d)-1\"\n",
    "\n",
    "export GENI_PEM_FILE=\"~/work/geni-pruth.pem\"\n"
   ]
  },
  {
   "cell_type": "markdown",
   "metadata": {},
   "source": [
    "## Step 1: Create Chameleon Isolated Network(s) with DirectStitch Ports\n",
    "\n",
    "Creating a Chameleon DirectStitch port is as easy as creating an isolated VLAN but with an extra parameter requesting the port. Unlike local isolated VLANs, there are a limited number of Chameleon DirectStitch ports available. In order to share access to ports, Chameleon requires a DirectStitch reservation.\n",
    "\n",
    "In this step we will create a two Chameleon networks each with a DirectConnect port. One network will be at the UC (Chicago) while the other will be at TACC (Austin)."
   ]
  },
  {
   "cell_type": "markdown",
   "metadata": {},
   "source": [
    "### Step 1a: Create a Network a UC\n",
    "\n",
    "#### Set network resource names"
   ]
  },
  {
   "cell_type": "code",
   "execution_count": null,
   "metadata": {},
   "outputs": [],
   "source": [
    "# Set the names for the network, subnet, router, and switch. \n",
    "\n",
    "UC_NETWORK_NAME=${RESOURCE_PREFIX}\"-Network-UC\"\n",
    "UC_SUBNET_NAME=${RESOURCE_PREFIX}\"-Subnet-UC\"\n",
    "UC_ROUTER_NAME=${RESOURCE_PREFIX}\"-Router-UC\""
   ]
  },
  {
   "cell_type": "markdown",
   "metadata": {},
   "source": [
    "#### Create the Network\n",
    "\n",
    "DirectStitch networks must be researved using the reservation system.  In this reservation, we  include a compute node that we will use later in the tutorial.  \n",
    "\n",
    "Note: that you can make separate reservations for nodes and networks."
   ]
  },
  {
   "cell_type": "code",
   "execution_count": null,
   "metadata": {},
   "outputs": [],
   "source": [
    "OS_REGION_NAME='CHI@UC'\n",
    "\n",
    "START_DATE=`date -d \"+2 min\" +'%F %H:%M'`\n",
    "END_DATE=`date -d \"+1 day\" +'%F %H:%M'`\n",
    "\n",
    "echo Creating network ${EXOGENI_STITCH_NAME}\n",
    "blazar lease-create \\\n",
    "   --physical-reservation min=1,max=1,resource_properties='[\"=\", \"$node_type\", \"compute_haswell\"]' \\\n",
    "   --reservation resource_type=\"network\",network_name=\"${UC_NETWORK_NAME}\",resource_properties='[\"==\",\"$physical_network\",\"exogeni\"]' \\\n",
    "   --start-date \"${START_DATE}\" \\\n",
    "   --end-date \"${END_DATE}\" \\\n",
    "   --print-empty \\\n",
    "   ${UC_NETWORK_NAME}\n",
    "\n",
    "UC_RESERVATION=`blazar lease-show -json --format value -c reservations ${UC_NETWORK_NAME} | jq -r 'select(.resource_type | contains(\"physical:host\")) | .id'`\n",
    "echo UC_RESERVATION $UC_RESERVATION\n"
   ]
  },
  {
   "cell_type": "markdown",
   "metadata": {},
   "source": [
    "#### Get the DirectStitch VLAN Tag\n",
    "\n",
    "Note: this will not be successful until the network is created. You may need to rerun this command until the VLAN tag is found."
   ]
  },
  {
   "cell_type": "code",
   "execution_count": null,
   "metadata": {},
   "outputs": [],
   "source": [
    "OS_REGION_NAME='CHI@UC'\n",
    "\n",
    "UC_DIRECTSTITCH_VLAN=`openstack network show -c provider:segmentation_id -f value ${UC_NETWORK_NAME}`\n",
    "echo UC DirectStitch VLAN: $UC_DIRECTSTITCH_VLAN "
   ]
  },
  {
   "cell_type": "markdown",
   "metadata": {},
   "source": [
    "#### Step 1b: Add a subnet and router to the network"
   ]
  },
  {
   "cell_type": "code",
   "execution_count": null,
   "metadata": {},
   "outputs": [],
   "source": [
    "OS_REGION_NAME='CHI@UC'\n",
    "echo Creating Subnet\n",
    "openstack subnet create --max-width 80 \\\n",
    "                        --subnet-range ${NETWORK_SUBNET} \\\n",
    "                        --allocation-pool start=${UC_ALLOCATION_START},end=${UC_ALLOCATION_END} \\\n",
    "                        --dhcp \\\n",
    "                        --network ${UC_NETWORK_NAME} \\\n",
    "                        ${UC_SUBNET_NAME}\n",
    "                        \n",
    "echo Creating Router\n",
    "openstack router create --max-width 80 ${UC_ROUTER_NAME}\n",
    "\n",
    "echo Linking router to subnet\n",
    "openstack router add subnet ${UC_ROUTER_NAME} ${UC_SUBNET_NAME}\n",
    "\n",
    "echo Linking router to external gateway\n",
    "openstack router set --external-gateway public ${UC_ROUTER_NAME}\n",
    "\n",
    "echo Network ${UC_NETWORK_NAME} is ready for nodes!"
   ]
  },
  {
   "cell_type": "markdown",
   "metadata": {},
   "source": [
    "#### Step 1c: Launch servers connected to the new network\n",
    "\n",
    "At this point your OpenFlow network is ready for compute nodes. You can add nodes using the CLI commands below or by any other method you are comfortable with. "
   ]
  },
  {
   "cell_type": "code",
   "execution_count": null,
   "metadata": {},
   "outputs": [],
   "source": [
    "#UC_RESERVATION='b92840af-a74e-4dc6-af86-74cc5dcd2878'\n",
    "echo UC_RESERVATION $UC_RESERVATION"
   ]
  },
  {
   "cell_type": "code",
   "execution_count": null,
   "metadata": {},
   "outputs": [],
   "source": [
    "OS_REGION_NAME='CHI@UC'\n",
    "echo Creating servers... This will take several minutes! \n",
    "openstack server create --max-width 80 \\\n",
    "                        --flavor \"baremetal\" \\\n",
    "                        --image \"CC-CentOS7\" \\\n",
    "                        --key-name ${SSH_KEY_NAME} \\\n",
    "                        --hint reservation=${UC_RESERVATION} \\\n",
    "                        --security-group default  \\\n",
    "                        --nic net-id=${UC_NETWORK_NAME} \\\n",
    "                        --min 1 \\\n",
    "                        --max 1 \\\n",
    "                        ${RESOURCE_PREFIX}-node"
   ]
  },
  {
   "cell_type": "markdown",
   "metadata": {},
   "source": [
    "### Create Network a TACC\n",
    "\n",
    "Repeat the steps but target the TACC Chameleon site"
   ]
  },
  {
   "cell_type": "code",
   "execution_count": null,
   "metadata": {},
   "outputs": [],
   "source": [
    "OS_REGION_NAME='CHI@TACC'\n",
    "# Set the names for the network, subnet, router, and switch. \n",
    "# See above about using identifiable names.  \n",
    "# Note that switch name cannot include the '-' character.\n",
    "TACC_NETWORK_NAME=${RESOURCE_PREFIX}\"-Network-TACC\"\n",
    "TACC_SUBNET_NAME=${RESOURCE_PREFIX}\"-Subnet-TACC\"\n",
    "TACC_ROUTER_NAME=${RESOURCE_PREFIX}\"-Router-TACC\""
   ]
  },
  {
   "cell_type": "markdown",
   "metadata": {},
   "source": [
    "#### Create the Network"
   ]
  },
  {
   "cell_type": "code",
   "execution_count": null,
   "metadata": {},
   "outputs": [],
   "source": [
    "OS_REGION_NAME='CHI@TACC'\n",
    "\n",
    "START_DATE=`date -d \"+2 min\" +'%F %H:%M'`\n",
    "END_DATE=`date -d \"+1 day\" +'%F %H:%M'`\n",
    "\n",
    "echo Creating network ${EXOGENI_STITCH_NAME}\n",
    "blazar lease-create \\\n",
    "   --physical-reservation min=1,max=1,resource_properties='[\"=\", \"$node_type\", \"compute_haswell\"]' \\\n",
    "   --reservation resource_type=\"network\",network_name=\"${TACC_NETWORK_NAME}\",resource_properties='[\"==\",\"$physical_network\",\"exogeni\"]' \\\n",
    "   --start-date \"${START_DATE}\" \\\n",
    "   --end-date \"${END_DATE}\" \\\n",
    "   --print-empty \\\n",
    "   ${TACC_NETWORK_NAME}\n",
    "   \n",
    "TACC_RESERVATION=`blazar lease-show -json --format value -c reservations ${TACC_NETWORK_NAME} | jq -r 'select(.resource_type | contains(\"physical:host\")) | .id'`\n",
    "echo TACC_RESERVATION $TACC_RESERVATION\n",
    "   "
   ]
  },
  {
   "cell_type": "markdown",
   "metadata": {},
   "source": [
    "#### Get the DirectStitch VLAN Tag\n",
    "\n",
    "Repeat until sucessful"
   ]
  },
  {
   "cell_type": "code",
   "execution_count": null,
   "metadata": {},
   "outputs": [],
   "source": [
    "OS_REGION_NAME='CHI@TACC'\n",
    "TACC_DIRECTSTITCH_VLAN=`openstack network show -c provider:segmentation_id -f value ${TACC_NETWORK_NAME}`\n",
    "echo TACC DirectStitch VLAN: $TACC_DIRECTSTITCH_VLAN "
   ]
  },
  {
   "cell_type": "markdown",
   "metadata": {},
   "source": [
    "#### Add a subnet and router to the network"
   ]
  },
  {
   "cell_type": "code",
   "execution_count": null,
   "metadata": {},
   "outputs": [],
   "source": [
    "OS_REGION_NAME='CHI@TACC'\n",
    "echo Creating Subnet\n",
    "openstack subnet create --max-width 80 \\\n",
    "                        --subnet-range ${NETWORK_SUBNET} \\\n",
    "                        --allocation-pool start=${TACC_ALLOCATION_START},end=${TACC_ALLOCATION_END} \\\n",
    "                        --dhcp \\\n",
    "                        --network ${TACC_NETWORK_NAME} \\\n",
    "                        ${TACC_SUBNET_NAME}\n",
    "                        \n",
    "echo Creating Router\n",
    "openstack router create --max-width 80 ${TACC_ROUTER_NAME}\n",
    "\n",
    "echo Linking router to subnet\n",
    "openstack router add subnet ${TACC_ROUTER_NAME} ${TACC_SUBNET_NAME}\n",
    "\n",
    "echo Linking router to external gateway\n",
    "openstack router set --external-gateway public ${TACC_ROUTER_NAME}\n",
    "\n",
    "echo Network ${TACC_NETWORK_NAME} is ready for nodes!"
   ]
  },
  {
   "cell_type": "markdown",
   "metadata": {},
   "source": [
    "#### Launch servers connected to the new network\n",
    "\n",
    "At this point your OpenFlow network is ready for compute nodes. You can add nodes using the CLI commands below or by any other method you are comfortable with. "
   ]
  },
  {
   "cell_type": "code",
   "execution_count": null,
   "metadata": {},
   "outputs": [],
   "source": [
    "echo TACC_RESERVATION $TACC_RESERVATION\n",
    "\n",
    "OS_REGION_NAME='CHI@TACC'\n",
    "echo Creating servers... This will take several minutes! \n",
    "openstack server create --max-width 80 \\\n",
    "                        --flavor \"baremetal\" \\\n",
    "                        --image \"CC-CentOS7\" \\\n",
    "                        --key-name ${SSH_KEY_NAME} \\\n",
    "                        --hint reservation=${TACC_RESERVATION} \\\n",
    "                        --security-group default  \\\n",
    "                        --nic net-id=${TACC_NETWORK_NAME} \\\n",
    "                        --min 1 \\\n",
    "                        --max 1 \\\n",
    "                        ${RESOURCE_PREFIX}-node\n"
   ]
  },
  {
   "cell_type": "markdown",
   "metadata": {},
   "source": [
    "## Step 2: Use ExoGENI to Connect the Ports\n"
   ]
  },
  {
   "cell_type": "code",
   "execution_count": null,
   "metadata": {},
   "outputs": [],
   "source": [
    "echo UC DirectStitch VLAN:   $UC_DIRECTSTITCH_VLAN\n",
    "echo TACC DirectStitch VLAN: $TACC_DIRECTSTITCH_VLAN\n",
    "xoStitch create -sp1 uc -vlan1 $UC_DIRECTSTITCH_VLAN -sp2 tacc -vlan2 $TACC_DIRECTSTITCH_VLAN -c $GENI_PEM_FILE"
   ]
  },
  {
   "cell_type": "markdown",
   "metadata": {},
   "source": [
    "## Experiment with the DirectStitch Connection\n",
    "\n",
    "Add a floating IP to the nodes and ssh to them in separate windows.\n",
    "\n",
    "- Ping the fixed IPs. What is the RTT?\n",
    "- Use traceroute find the path between the nodes. How many hops do you see?\n",
    "- Use iperf3 to test the bandwidth between the nodes. How "
   ]
  },
  {
   "cell_type": "markdown",
   "metadata": {},
   "source": [
    "## Other Useful Commands"
   ]
  },
  {
   "cell_type": "code",
   "execution_count": null,
   "metadata": {},
   "outputs": [],
   "source": [
    "#Get the status of the ExoGENI circuit\n",
    "xoStitch status -sp1 uc -vlan1 $UC_DIRECTSTITCH_VLAN -sp2 tacc -vlan2 $TACC_DIRECTSTITCH_VLAN -c $GENI_PEM_FILE\n"
   ]
  },
  {
   "cell_type": "code",
   "execution_count": null,
   "metadata": {},
   "outputs": [],
   "source": [
    "#Delete the ExoGENI circuit\n",
    "xoStitch delete -sp1 uc -vlan1 $UC_DIRECTSTITCH_VLAN -sp2 tacc -vlan2 $TACC_DIRECTSTITCH_VLAN -c $GENI_PEM_FILE\n"
   ]
  },
  {
   "cell_type": "markdown",
   "metadata": {},
   "source": [
    "## Recap\n",
    "\n",
    "During this tutorial you have learned how to create isolated tenant networks that include DirectStitch ports to ExoGENI and have connected the ports together using ExoGENI.\n",
    "\n",
    "### Further reading\n",
    "\n",
    "- [Link to additional Chameleon documentation]()\n",
    "- [One on each line]()\n",
    "\n",
    "### Outputs\n",
    "\n",
    "Here are some output variables you may want to use in other tutorials:"
   ]
  },
  {
   "cell_type": "code",
   "execution_count": null,
   "metadata": {},
   "outputs": [],
   "source": [
    "# Variables derived from some parameters might be nice to \n",
    "# \"expand\" for users so they can see the full value. Useful\n",
    "# particularly if another tutorial requires having an\n",
    "# instance name, or UUID, or something, to start with.\n",
    "cat <<EOF\n",
    "VARIABLE_B=\"$VARIABLE_B\"\n",
    "EOF"
   ]
  },
  {
   "cell_type": "code",
   "execution_count": null,
   "metadata": {},
   "outputs": [],
   "source": []
  }
 ],
 "metadata": {
  "kernelspec": {
   "display_name": "Bash",
   "language": "bash",
   "name": "bash"
  },
  "language_info": {
   "codemirror_mode": "shell",
   "file_extension": ".sh",
   "mimetype": "text/x-sh",
   "name": "bash"
  }
 },
 "nbformat": 4,
 "nbformat_minor": 2
}
