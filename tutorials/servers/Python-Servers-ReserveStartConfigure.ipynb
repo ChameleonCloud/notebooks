{
 "cells": [
  {
   "cell_type": "markdown",
   "metadata": {},
   "source": [
    "   \n",
    "<div class=\"alert alert-info\">\n",
    "\n",
    "**Note:**    WARNING: This notebook uses a new, early release Chameleon python API. The notebook and API will likely be updated without notice. To request a new python feature, please create a help desk ticket. \n",
    "    \n",
    "\n",
    "</div>"
   ]
  },
  {
   "cell_type": "markdown",
   "metadata": {},
   "source": [
    "   \n",
    "## Reserve and Start a Server\n",
    "\n",
    "Reserve and Start a Server\n",
    "\n",
    "#### Modules \n",
    "\n",
    "- [Reserve Mulitple Resources](../modules-python/reservations/reserve_multiple_resources.ipynb)\n",
    "- [Get Lease by Name](../modules-python/reservations/get_lease_by_name.ipynb)\n",
    "- [Get Reservation](../modules-python/reservations/get_reservations_from_lease.ipynb)\n",
    "- [Create Server](../modules-python/servers/create_server.ipynb)\n",
    "- [Delete Server](../modules-python/servers/delete_server.ipynb)\n",
    "\n",
    "TODO: add the rest of the module links when they are ready\n",
    "\n",
    "#### Import Library\n",
    "\n",
    "```\n",
    "import chi\n",
    "from chi.server_api_examples import *\n",
    "from chi.reservation_api_examples import *\n",
    "from chi.networking_api_examples import *\n",
    "```"
   ]
  },
  {
   "cell_type": "markdown",
   "metadata": {},
   "source": [
    "## Tutorial: "
   ]
  },
  {
   "cell_type": "markdown",
   "metadata": {},
   "source": [
    "#### Configure the Environment\n",
    "\n",
    "Import the chi example API calls, set the project name and region, and set various names and attributes to use in the tutorial. "
   ]
  },
  {
   "cell_type": "code",
   "execution_count": 1,
   "metadata": {},
   "outputs": [],
   "source": [
    "import json\n",
    "import os\n",
    "import chi\n",
    "\n",
    "from chi.server_api_examples import *\n",
    "from chi.reservation_api_examples import *\n",
    "from chi.networking_api_examples import *\n",
    "\n",
    "#Config with your project\n",
    "chi.set('project_name', 'CICI SAFE') # Replace with your project name\n",
    "\n",
    "#Set the region\n",
    "chi.set('region_name', 'CHI@TACC')     # Optional, defaults to 'CHI@UC'\n",
    "\n",
    "#Insert keypair name\n",
    "key_name = 'pruth-jupyter'  # Change to your keypair\n",
    "key_path = '/home/pruth/work/pruth-jupyter' #path to your private key\n",
    "\n",
    "# Tip: Name resources with your username for easier identification\n",
    "username = os.getenv(\"USER\")\n",
    "server_name = username+'Server'\n",
    "network_name = 'sharednet1'\n",
    "stitched_network_name = network_name+\"Stitched\"\n",
    "lease_name_servers = username+'LeaseServers'\n",
    "\n",
    "\n",
    "#Server Config\n",
    "image_name='CC-CentOS7'\n",
    "flavor_name='baremetal'\n",
    "node_type=\"compute_haswell\"\n",
    "server_count=1\n"
   ]
  },
  {
   "cell_type": "markdown",
   "metadata": {},
   "source": [
    "## Create the Servers"
   ]
  },
  {
   "cell_type": "code",
   "execution_count": 2,
   "metadata": {},
   "outputs": [
    {
     "name": "stdout",
     "output_type": "stream",
     "text": [
      "{\n",
      "  \"status\": \"PENDING\",\n",
      "  \"user_id\": \"f3a422ce5a4442e3a7a247ddfd98bfc3\",\n",
      "  \"name\": \"pruthLeaseServers\",\n",
      "  \"end_date\": \"2020-09-01T18:37:00.000000\",\n",
      "  \"reservations\": [\n",
      "    {\n",
      "      \"status\": \"pending\",\n",
      "      \"lease_id\": \"220eb49b-85d7-4806-a0f6-1e11eba51361\",\n",
      "      \"resource_id\": \"14f6d59c-f511-4ac6-88fd-ee5e2d18aee0\",\n",
      "      \"network_id\": \"6189521e-06a0-4c43-b163-16cc11ce675b\",\n",
      "      \"created_at\": \"2020-08-31 18:37:57\",\n",
      "      \"updated_at\": \"2020-08-31 18:37:58\",\n",
      "      \"required_floatingips\": [],\n",
      "      \"missing_resources\": false,\n",
      "      \"amount\": 1,\n",
      "      \"id\": \"326a7731-0558-4450-b21b-adcbdcfba7d7\",\n",
      "      \"resource_type\": \"virtual:floatingip\",\n",
      "      \"resources_changed\": false\n",
      "    },\n",
      "    {\n",
      "      \"status\": \"pending\",\n",
      "      \"before_end\": \"default\",\n",
      "      \"lease_id\": \"220eb49b-85d7-4806-a0f6-1e11eba51361\",\n",
      "      \"resource_id\": \"d46118c6-83a2-415d-a7fa-7d4e56159434\",\n",
      "      \"max\": 1,\n",
      "      \"created_at\": \"2020-08-31 18:37:43\",\n",
      "      \"min\": 1,\n",
      "      \"updated_at\": \"2020-08-31 18:37:57\",\n",
      "      \"missing_resources\": false,\n",
      "      \"hypervisor_properties\": \"\",\n",
      "      \"on_start\": \"default\",\n",
      "      \"resource_properties\": \"[\\\"==\\\", \\\"$node_type\\\", \\\"compute_haswell\\\"]\",\n",
      "      \"id\": \"b87db0f3-c8bb-4d1c-a000-933cfb68f62e\",\n",
      "      \"resource_type\": \"physical:host\",\n",
      "      \"resources_changed\": false\n",
      "    }\n",
      "  ],\n",
      "  \"created_at\": \"2020-08-31 18:37:43\",\n",
      "  \"updated_at\": \"2020-08-31 18:37:58\",\n",
      "  \"events\": [\n",
      "    {\n",
      "      \"status\": \"UNDONE\",\n",
      "      \"lease_id\": \"220eb49b-85d7-4806-a0f6-1e11eba51361\",\n",
      "      \"event_type\": \"before_end_lease\",\n",
      "      \"created_at\": \"2020-08-31 18:37:58\",\n",
      "      \"updated_at\": null,\n",
      "      \"time\": \"2020-08-31T18:38:00.000000\",\n",
      "      \"id\": \"286724cc-4510-4f80-9722-0a10f00013de\"\n",
      "    },\n",
      "    {\n",
      "      \"status\": \"UNDONE\",\n",
      "      \"lease_id\": \"220eb49b-85d7-4806-a0f6-1e11eba51361\",\n",
      "      \"event_type\": \"end_lease\",\n",
      "      \"created_at\": \"2020-08-31 18:37:58\",\n",
      "      \"updated_at\": null,\n",
      "      \"time\": \"2020-09-01T18:37:00.000000\",\n",
      "      \"id\": \"53388569-060d-438e-ab79-e1e9b7339ae6\"\n",
      "    },\n",
      "    {\n",
      "      \"status\": \"UNDONE\",\n",
      "      \"lease_id\": \"220eb49b-85d7-4806-a0f6-1e11eba51361\",\n",
      "      \"event_type\": \"start_lease\",\n",
      "      \"created_at\": \"2020-08-31 18:37:58\",\n",
      "      \"updated_at\": null,\n",
      "      \"time\": \"2020-08-31T18:38:00.000000\",\n",
      "      \"id\": \"d337ba68-aee3-4d4d-859e-400325abdad5\"\n",
      "    }\n",
      "  ],\n",
      "  \"id\": \"220eb49b-85d7-4806-a0f6-1e11eba51361\",\n",
      "  \"degraded\": false,\n",
      "  \"project_id\": \"5f0b4b2dc12248c7bf7e2c8812ec4daa\",\n",
      "  \"start_date\": \"2020-08-31T18:38:00.000000\",\n",
      "  \"trust_id\": \"fa951a77d965452bae93c72ac42e2df0\"\n",
      "}\n"
     ]
    }
   ],
   "source": [
    "# Set start/end date for lease\n",
    "# Start one minute into future to avoid Blazar thinking lease is in past\n",
    "# due to rounding to closest minute.\n",
    "start_date = (datetime.now(tz=tz.tzutc()) + timedelta(minutes=1)).strftime(BLAZAR_TIME_FORMAT)\n",
    "end_date   = (datetime.now(tz=tz.tzutc()) + timedelta(days=1)).strftime(BLAZAR_TIME_FORMAT)\n",
    "\n",
    "# Build list of reservations (in this case there is only one reservation)\n",
    "reservation_list = []\n",
    "add_node_reservation(reservation_list, count=server_count, node_type=node_type)\n",
    "add_fip_reservation(reservation_list, count=1)\n",
    "\n",
    "# Create the lease\n",
    "chi.blazar().lease.create(name=lease_name_servers, \n",
    "                            start=start_date,\n",
    "                            end=end_date,\n",
    "                            reservations=reservation_list, events=[])\n",
    "\n",
    "#Get the lease by name\n",
    "server_lease = get_lease_by_name(lease_name_servers)\n",
    "    \n",
    "#Print the lease info\n",
    "print(json.dumps(server_lease, indent=2))"
   ]
  },
  {
   "cell_type": "code",
   "execution_count": 3,
   "metadata": {},
   "outputs": [
    {
     "name": "stdout",
     "output_type": "stream",
     "text": [
      "compute_reservation_id: b87db0f3-c8bb-4d1c-a000-933cfb68f62e\n",
      "floatingip_reservation_id: 326a7731-0558-4450-b21b-adcbdcfba7d7\n"
     ]
    }
   ],
   "source": [
    "#Get the lease by name\n",
    "server_lease = get_lease_by_name(lease_name_servers)\n",
    "\n",
    "compute_reservation_id = list(filter(lambda reservation: reservation['resource_type'] == 'physical:host', server_lease['reservations']))[0]['id']\n",
    "floatingip_reservation_id = list(filter(lambda reservation: reservation['resource_type'] == 'virtual:floatingip', server_lease['reservations']))[0]['id']\n",
    "\n",
    "print(\"compute_reservation_id: \" + compute_reservation_id)\n",
    "print(\"floatingip_reservation_id: \" + floatingip_reservation_id)"
   ]
  },
  {
   "cell_type": "markdown",
   "metadata": {},
   "source": [
    "#### Start the Server\n",
    "\n",
    "Use the compute_reservation_id to [create the server](../modules-python/servers/create_server.ipynb)."
   ]
  },
  {
   "cell_type": "code",
   "execution_count": 4,
   "metadata": {},
   "outputs": [],
   "source": [
    "#create the server\n",
    "server = create_server(server_name, \n",
    "                       reservation_id=compute_reservation_id, \n",
    "                       key_name=key_name, \n",
    "                       network_name=network_name, \n",
    "                       image_name=image_name, \n",
    "                       flavor_name=flavor_name)\n"
   ]
  },
  {
   "cell_type": "markdown",
   "metadata": {},
   "source": [
    "#### Associate the Floating IP   \n",
    "TODO: need to find floating_ip from the reservation that was just made"
   ]
  },
  {
   "cell_type": "code",
   "execution_count": 5,
   "metadata": {},
   "outputs": [
    {
     "name": "stdout",
     "output_type": "stream",
     "text": [
      "Floating IP: 129.114.109.225\n"
     ]
    }
   ],
   "source": [
    "floating_ip = associate_floating_ip(server_name)\n",
    "\n",
    "print('Floating IP: ' + str(floating_ip))"
   ]
  },
  {
   "cell_type": "markdown",
   "metadata": {},
   "source": [
    "#### Configure Server"
   ]
  },
  {
   "cell_type": "code",
   "execution_count": 6,
   "metadata": {},
   "outputs": [],
   "source": [
    "script= '#!/bin/bash'   '\\n' \\\n",
    "    '{'   '\\n' \\\n",
    "    'yum install -y vim'   '\\n' \\\n",
    "    'echo Add Config Script Here!'  '\\n' \\\n",
    "    '} > /tmp/boot.log 2>&1'   '\\n' "
   ]
  },
  {
   "cell_type": "code",
   "execution_count": 9,
   "metadata": {},
   "outputs": [
    {
     "name": "stdout",
     "output_type": "stream",
     "text": [
      "stdout: b''\n",
      "stderr: b''\n",
      "done!\n"
     ]
    }
   ],
   "source": [
    "import paramiko \n",
    "\n",
    "key = paramiko.RSAKey.from_private_key_file(key_path)\n",
    "client = paramiko.SSHClient()\n",
    "client.load_system_host_keys()\n",
    "client.set_missing_host_key_policy(paramiko.MissingHostKeyPolicy())\n",
    "\n",
    "client.set_missing_host_key_policy(paramiko.AutoAddPolicy())\n",
    "client.connect(floating_ip,username='cc',pkey = key)\n",
    "\n",
    "stdin, stdout, stderr = client.exec_command('echo \\\"' + script + '\\\" > script.sh; chmod +x script.sh; sudo ./script.sh')\n",
    "print ('stdout: ' + str(stdout.read()))\n",
    "print ('stderr: ' + str(stderr.read()))\n",
    "\n",
    "client.close()\n",
    "print ('done!')"
   ]
  },
  {
   "cell_type": "markdown",
   "metadata": {},
   "source": [
    "## Clean Up Resources"
   ]
  },
  {
   "cell_type": "markdown",
   "metadata": {},
   "source": [
    "### Delete Resources\n",
    "\n",
    "[Delete the server](../modules-python/servers/delete_server.ipynb) using its name."
   ]
  },
  {
   "cell_type": "code",
   "execution_count": 10,
   "metadata": {},
   "outputs": [
    {
     "data": {
      "text/plain": [
       "()"
      ]
     },
     "execution_count": 10,
     "metadata": {},
     "output_type": "execute_result"
    }
   ],
   "source": [
    "delete_server_by_name(server_name)"
   ]
  },
  {
   "cell_type": "markdown",
   "metadata": {},
   "source": [
    "#### Release Leases"
   ]
  },
  {
   "cell_type": "code",
   "execution_count": 11,
   "metadata": {},
   "outputs": [
    {
     "name": "stdout",
     "output_type": "stream",
     "text": [
      "Deleted lease pruthLeaseServers with id e65e6fb6-2a9b-4ba5-a551-c084f04bad1c\n"
     ]
    }
   ],
   "source": [
    "delete_lease_by_name(lease_name_servers)"
   ]
  },
  {
   "cell_type": "code",
   "execution_count": null,
   "metadata": {},
   "outputs": [],
   "source": []
  }
 ],
 "metadata": {
  "kernelspec": {
   "display_name": "Python 3",
   "language": "python",
   "name": "python3"
  },
  "language_info": {
   "codemirror_mode": {
    "name": "ipython",
    "version": 3
   },
   "file_extension": ".py",
   "mimetype": "text/x-python",
   "name": "python",
   "nbconvert_exporter": "python",
   "pygments_lexer": "ipython3",
   "version": "3.8.3"
  }
 },
 "nbformat": 4,
 "nbformat_minor": 4
}
